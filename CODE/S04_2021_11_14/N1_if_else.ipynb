{
 "cells": [
  {
   "cell_type": "code",
   "execution_count": null,
   "id": "e4ff8365",
   "metadata": {},
   "outputs": [],
   "source": [
    "# WAP to  input a string and print middle character\n",
    "# if the length of string is even print middle two characters\n",
    "# use slicing"
   ]
  },
  {
   "cell_type": "code",
   "execution_count": 1,
   "id": "79cea1d8",
   "metadata": {},
   "outputs": [
    {
     "name": "stdout",
     "output_type": "stream",
     "text": [
      "b\n",
      "\n"
     ]
    }
   ],
   "source": [
    "s = \"abcde\"\n",
    "print(s[1:2])\n",
    "print(s[1:1])"
   ]
  },
  {
   "cell_type": "code",
   "execution_count": 28,
   "id": "5ba469fd",
   "metadata": {},
   "outputs": [
    {
     "name": "stdout",
     "output_type": "stream",
     "text": [
      "2 3\n",
      "c\n"
     ]
    }
   ],
   "source": [
    "s = \"abcde\"\n",
    "#    01234\n",
    "\n",
    "# 5/2 -> 2\n",
    "# (5-1)/2 -> 2\n",
    "\n",
    "\n",
    "# 012345  : 2 -> 4\n",
    "# 6/2 -> 3\n",
    "# (6-1)/2 -> 2\n",
    "start = (len(s) - 1)//2\n",
    "end = len(s)//2 + 1\n",
    "print(start, end)\n",
    "print(s[start:end])"
   ]
  },
  {
   "cell_type": "code",
   "execution_count": 27,
   "id": "d989eb4e",
   "metadata": {},
   "outputs": [
    {
     "name": "stdout",
     "output_type": "stream",
     "text": [
      "enter a string: abcde\n",
      "2 3\n",
      "c\n"
     ]
    }
   ],
   "source": [
    "s = input(\"enter a string: \")\n",
    "start = (len(s) - 1)//2\n",
    "end = len(s)//2 + 1\n",
    "print(start, end)\n",
    "print(s[start:end])"
   ]
  },
  {
   "cell_type": "code",
   "execution_count": 26,
   "id": "acdf27d3",
   "metadata": {},
   "outputs": [
    {
     "name": "stdout",
     "output_type": "stream",
     "text": [
      "\n"
     ]
    }
   ],
   "source": []
  },
  {
   "cell_type": "code",
   "execution_count": 15,
   "id": "79f2659a",
   "metadata": {},
   "outputs": [
    {
     "name": "stdout",
     "output_type": "stream",
     "text": [
      "abcd\n",
      "c\n"
     ]
    }
   ],
   "source": [
    "# abhijeet\n",
    "a = input()\n",
    "b = len(a)\n",
    "c = b // 2\n",
    "print(a[c])"
   ]
  },
  {
   "cell_type": "code",
   "execution_count": null,
   "id": "f4f876e2",
   "metadata": {},
   "outputs": [],
   "source": []
  },
  {
   "cell_type": "code",
   "execution_count": null,
   "id": "88d5558e",
   "metadata": {},
   "outputs": [],
   "source": [
    "# WAP to  input a string and print a random character from that string"
   ]
  },
  {
   "cell_type": "code",
   "execution_count": 30,
   "id": "919f0ed6",
   "metadata": {},
   "outputs": [
    {
     "name": "stdout",
     "output_type": "stream",
     "text": [
      "acdss\n",
      "d\n"
     ]
    }
   ],
   "source": [
    "# satish\n",
    "import random\n",
    "b=input()\n",
    "print(random.choice(b))\n"
   ]
  },
  {
   "cell_type": "code",
   "execution_count": 32,
   "id": "91a94021",
   "metadata": {},
   "outputs": [
    {
     "name": "stdout",
     "output_type": "stream",
     "text": [
      "Enter a string: fsdf\n",
      "f\n"
     ]
    }
   ],
   "source": [
    "# Priyanshu\n",
    "import random\n",
    "st = input(\"Enter a string: \")\n",
    "i = random.randrange(len(st))\n",
    "print(st[i])"
   ]
  },
  {
   "cell_type": "code",
   "execution_count": null,
   "id": "c2ed5b12",
   "metadata": {},
   "outputs": [],
   "source": []
  },
  {
   "cell_type": "code",
   "execution_count": null,
   "id": "fc76fc19",
   "metadata": {},
   "outputs": [],
   "source": [
    "# WAP to print a random alphabet (upper or lowercase)"
   ]
  },
  {
   "cell_type": "code",
   "execution_count": null,
   "id": "c816b5e6",
   "metadata": {},
   "outputs": [],
   "source": [
    "# harini\n",
    "import string \n",
    "import random\n",
    "s=string.ascii_letters\n",
    "print(random.choice(s))"
   ]
  },
  {
   "cell_type": "code",
   "execution_count": null,
   "id": "589db392",
   "metadata": {},
   "outputs": [],
   "source": [
    "# Priyanshu\n",
    "# For general alphabet generator\n",
    "import random\n",
    "import string\n",
    "random.choice(string.ascii_letters)"
   ]
  },
  {
   "cell_type": "code",
   "execution_count": 77,
   "id": "bad84ae3",
   "metadata": {},
   "outputs": [
    {
     "name": "stdout",
     "output_type": "stream",
     "text": [
      "e\n"
     ]
    }
   ],
   "source": [
    "s = \"abcdefghijk......ABCD...\"\n",
    "random.choice(s)\n",
    "\n",
    "\n",
    "i = random.randint(ord(\"A\"), ord(\"Z\"))\n",
    "j = random.randint(ord(\"a\"), ord(\"z\"))    \n",
    "i = chr(i)\n",
    "j = chr(j)\n",
    "print(random.choice( i+j ))"
   ]
  },
  {
   "cell_type": "code",
   "execution_count": 33,
   "id": "f59fd9dd",
   "metadata": {},
   "outputs": [
    {
     "name": "stdout",
     "output_type": "stream",
     "text": [
      "['Formatter', 'Template', '_ChainMap', '_TemplateMetaclass', '__all__', '__builtins__', '__cached__', '__doc__', '__file__', '__loader__', '__name__', '__package__', '__spec__', '_re', '_sentinel_dict', '_string', 'ascii_letters', 'ascii_lowercase', 'ascii_uppercase', 'capwords', 'digits', 'hexdigits', 'octdigits', 'printable', 'punctuation', 'whitespace']\n"
     ]
    }
   ],
   "source": [
    "import string\n",
    "print(dir(string))"
   ]
  },
  {
   "cell_type": "code",
   "execution_count": null,
   "id": "1d82d3bc",
   "metadata": {},
   "outputs": [],
   "source": []
  },
  {
   "cell_type": "code",
   "execution_count": null,
   "id": "1feeb1d4",
   "metadata": {},
   "outputs": [],
   "source": []
  },
  {
   "cell_type": "markdown",
   "id": "b0ad9845",
   "metadata": {},
   "source": [
    "### logical operators"
   ]
  },
  {
   "cell_type": "code",
   "execution_count": null,
   "id": "8678c82e",
   "metadata": {},
   "outputs": [],
   "source": [
    "# and, or , not\n",
    "# &&   ||   !"
   ]
  },
  {
   "cell_type": "code",
   "execution_count": 62,
   "id": "e81c4be9",
   "metadata": {},
   "outputs": [
    {
     "name": "stdout",
     "output_type": "stream",
     "text": [
      "-999\n",
      "False\n"
     ]
    }
   ],
   "source": [
    "i = int(input())\n",
    "print(i > 0 and i < 100) # 1 - 99"
   ]
  },
  {
   "cell_type": "code",
   "execution_count": 69,
   "id": "1378ae5c",
   "metadata": {},
   "outputs": [
    {
     "name": "stdout",
     "output_type": "stream",
     "text": [
      "3\n",
      "True\n"
     ]
    }
   ],
   "source": [
    "i = int(input())\n",
    "print( 0 < i < 100) # 1 - 99"
   ]
  },
  {
   "cell_type": "code",
   "execution_count": 72,
   "id": "6c1e1bcc",
   "metadata": {},
   "outputs": [
    {
     "name": "stdout",
     "output_type": "stream",
     "text": [
      "1000\n",
      "True\n"
     ]
    }
   ],
   "source": [
    "i = int(input())\n",
    "print( not 0 < i < 100) # 1 - 99"
   ]
  },
  {
   "cell_type": "code",
   "execution_count": 65,
   "id": "ff5f2e27",
   "metadata": {},
   "outputs": [
    {
     "name": "stdout",
     "output_type": "stream",
     "text": [
      "9000\n",
      "True\n"
     ]
    }
   ],
   "source": [
    "i = int(input())\n",
    "print(  not (i > 0 and i < 100) ) # not in range 1 - 99"
   ]
  },
  {
   "cell_type": "code",
   "execution_count": 68,
   "id": "eb74dad2",
   "metadata": {},
   "outputs": [
    {
     "name": "stdout",
     "output_type": "stream",
     "text": [
      "-99\n",
      "True\n"
     ]
    }
   ],
   "source": [
    "i = int(input())\n",
    "print(  i <= 0 or i >= 100)  # not in range 1 - 99"
   ]
  },
  {
   "cell_type": "code",
   "execution_count": null,
   "id": "70488e92",
   "metadata": {},
   "outputs": [],
   "source": []
  },
  {
   "cell_type": "code",
   "execution_count": 75,
   "id": "9bf7f8b9",
   "metadata": {},
   "outputs": [
    {
     "name": "stdout",
     "output_type": "stream",
     "text": [
      "\n"
     ]
    },
    {
     "ename": "ValueError",
     "evalue": "invalid literal for int() with base 10: ''",
     "output_type": "error",
     "traceback": [
      "\u001b[1;31m---------------------------------------------------------------------------\u001b[0m",
      "\u001b[1;31mValueError\u001b[0m                                Traceback (most recent call last)",
      "\u001b[1;32mC:\\Users\\LEANGA~1\\AppData\\Local\\Temp/ipykernel_12880/3000631155.py\u001b[0m in \u001b[0;36m<module>\u001b[1;34m\u001b[0m\n\u001b[0;32m      1\u001b[0m \u001b[0ms\u001b[0m \u001b[1;33m=\u001b[0m \u001b[0minput\u001b[0m\u001b[1;33m(\u001b[0m\u001b[1;33m)\u001b[0m\u001b[1;33m\u001b[0m\u001b[1;33m\u001b[0m\u001b[0m\n\u001b[1;32m----> 2\u001b[1;33m \u001b[0mi\u001b[0m \u001b[1;33m=\u001b[0m \u001b[0mint\u001b[0m\u001b[1;33m(\u001b[0m\u001b[0ms\u001b[0m\u001b[1;33m)\u001b[0m\u001b[1;33m\u001b[0m\u001b[1;33m\u001b[0m\u001b[0m\n\u001b[0m\u001b[0;32m      3\u001b[0m \u001b[1;33m\u001b[0m\u001b[0m\n\u001b[0;32m      4\u001b[0m \u001b[0mprint\u001b[0m\u001b[1;33m(\u001b[0m\u001b[0mbool\u001b[0m\u001b[1;33m(\u001b[0m\u001b[0ms\u001b[0m\u001b[1;33m)\u001b[0m\u001b[1;33m)\u001b[0m\u001b[1;33m\u001b[0m\u001b[1;33m\u001b[0m\u001b[0m\n\u001b[0;32m      5\u001b[0m \u001b[0mprint\u001b[0m\u001b[1;33m(\u001b[0m\u001b[0mbool\u001b[0m\u001b[1;33m(\u001b[0m\u001b[0mi\u001b[0m\u001b[1;33m)\u001b[0m\u001b[1;33m)\u001b[0m\u001b[1;33m\u001b[0m\u001b[1;33m\u001b[0m\u001b[0m\n",
      "\u001b[1;31mValueError\u001b[0m: invalid literal for int() with base 10: ''"
     ]
    }
   ],
   "source": [
    "s = input()\n",
    "i = int(s)\n",
    "\n",
    "print(bool(s))\n",
    "print(bool(i))"
   ]
  },
  {
   "cell_type": "markdown",
   "id": "de7d5014",
   "metadata": {},
   "source": [
    "### relational operators"
   ]
  },
  {
   "cell_type": "code",
   "execution_count": null,
   "id": "da44a79d",
   "metadata": {},
   "outputs": [],
   "source": [
    ">, < , == , !="
   ]
  },
  {
   "cell_type": "code",
   "execution_count": null,
   "id": "d3d2afc2",
   "metadata": {},
   "outputs": [],
   "source": []
  },
  {
   "cell_type": "code",
   "execution_count": null,
   "id": "5731ca7a",
   "metadata": {},
   "outputs": [],
   "source": []
  },
  {
   "cell_type": "markdown",
   "id": "5b5cbb80",
   "metadata": {},
   "source": [
    "### If statement"
   ]
  },
  {
   "cell_type": "code",
   "execution_count": null,
   "id": "35edcdf6",
   "metadata": {},
   "outputs": [],
   "source": [
    "if <condition>:\n",
    "    code\n",
    "    ...\n",
    "    \n",
    "condition is anything that can be converted or treated as boolean"
   ]
  },
  {
   "cell_type": "code",
   "execution_count": null,
   "id": "1de46582",
   "metadata": {},
   "outputs": [],
   "source": [
    "# many programming languages use a notion of braces {}\n",
    "# this is not available in python\n",
    "if ....:\n",
    "{\n",
    "print('')\n",
    "                print(123)\n",
    "}"
   ]
  },
  {
   "cell_type": "code",
   "execution_count": 81,
   "id": "6780afcb",
   "metadata": {},
   "outputs": [
    {
     "name": "stdout",
     "output_type": "stream",
     "text": [
      "Enter a number:3\n",
      "Enter a number:1\n",
      "3\n"
     ]
    }
   ],
   "source": [
    "# WAP to input two numbers and print the larger one\n",
    "n1 = int(input(\"Enter a number:\"))\n",
    "n2 = int(input(\"Enter a number:\"))\n",
    "\n",
    "l = n1\n",
    "if n2 > l:\n",
    "    l = n2\n",
    "    \n",
    "print(l)"
   ]
  },
  {
   "cell_type": "markdown",
   "id": "5fcddf60",
   "metadata": {},
   "source": [
    "### If-else statement"
   ]
  },
  {
   "cell_type": "code",
   "execution_count": 83,
   "id": "c1e549e0",
   "metadata": {},
   "outputs": [
    {
     "name": "stdout",
     "output_type": "stream",
     "text": [
      "11\n",
      "odd\n"
     ]
    }
   ],
   "source": [
    "# WAP to input a number and print whethher it is even or  odd\n",
    "\n",
    "n = int(input())\n",
    "\n",
    "if n%2 == 0:\n",
    "    print(\"even\")\n",
    "else:\n",
    "    print(\"odd\")"
   ]
  },
  {
   "cell_type": "code",
   "execution_count": 86,
   "id": "651c8e74",
   "metadata": {},
   "outputs": [
    {
     "name": "stdout",
     "output_type": "stream",
     "text": [
      "Enter a number:4\n",
      "Enter a number:5\n",
      "5\n"
     ]
    }
   ],
   "source": [
    "# WAP to input two numbers and print the larger one\n",
    "n1 = int(input(\"Enter a number:\"))\n",
    "n2 = int(input(\"Enter a number:\"))\n",
    "\n",
    "if n2 > n1:\n",
    "    print(n2)\n",
    "else:\n",
    "    print(n1)"
   ]
  },
  {
   "cell_type": "code",
   "execution_count": 91,
   "id": "4176ec30",
   "metadata": {},
   "outputs": [
    {
     "name": "stdout",
     "output_type": "stream",
     "text": [
      " \n",
      "False\n"
     ]
    }
   ],
   "source": [
    "# WAP to input a string\n",
    "#  tell if it contains an integer or not\n",
    "\n",
    "n=input()\n",
    "if n.isdigit():\n",
    "    ..# convert to  integer\n",
    "else:\n",
    "    print(\"not integer\")\n",
    "    ...# eexit\n",
    "    \n"
   ]
  },
  {
   "cell_type": "code",
   "execution_count": null,
   "id": "1bc26355",
   "metadata": {},
   "outputs": [],
   "source": []
  },
  {
   "cell_type": "code",
   "execution_count": null,
   "id": "214a9e82",
   "metadata": {},
   "outputs": [],
   "source": [
    "# WAP to input two numbers and print the larger one\n",
    "n1 = input(\"Enter a number:\")\n",
    "n2 = input(\"Enter a number:\")\n",
    "if n1.isdigit() and n2.isdigit():\n",
    "    a=int(n1)\n",
    "    b=int(n2)\n",
    "    if n2 > n1:\n",
    "        print(n2)\n",
    "    else:\n",
    "        print(n1)\n",
    "else: \n",
    "    exit()"
   ]
  },
  {
   "cell_type": "code",
   "execution_count": null,
   "id": "5add3880",
   "metadata": {},
   "outputs": [],
   "source": []
  },
  {
   "cell_type": "markdown",
   "id": "64603f1d",
   "metadata": {},
   "source": [
    "### if-elif-else statement"
   ]
  },
  {
   "cell_type": "code",
   "execution_count": null,
   "id": "c5ca7225",
   "metadata": {},
   "outputs": [],
   "source": [
    "if <condition>:\n",
    "    ....\n",
    "elif <condition>:\n",
    "    ...\n",
    "    \n",
    "elif ....\n",
    "\n",
    "\n",
    "else: # optional\n",
    "    ...."
   ]
  },
  {
   "cell_type": "code",
   "execution_count": 94,
   "id": "c81adbd3",
   "metadata": {},
   "outputs": [
    {
     "name": "stdout",
     "output_type": "stream",
     "text": [
      "0\n",
      "zero\n"
     ]
    }
   ],
   "source": [
    "# WAP to input a number and print whether it's positive, negative or zero\n",
    "n = int(input())\n",
    "\n",
    "if n == 0:\n",
    "    print(\"zero\")\n",
    "elif n > 0:\n",
    "    print(\"positive\")\n",
    "else:\n",
    "    print(\"negative\")"
   ]
  },
  {
   "cell_type": "code",
   "execution_count": 97,
   "id": "85b7aef9",
   "metadata": {},
   "outputs": [
    {
     "name": "stdout",
     "output_type": "stream",
     "text": [
      "1st: 3\n",
      "2nd: 3\n",
      "3rd: 2\n",
      "3\n"
     ]
    }
   ],
   "source": [
    "# WAP to input 3 numbers and print largest\n",
    "n1 = int(input(\"1st: \"))\n",
    "n2 = int(input(\"2nd: \"))\n",
    "n3 = int(input(\"3rd: \"))\n",
    "\n",
    "if n1>=n2 and n1>=n3:\n",
    "    print(n1)\n",
    "    # ..\n",
    "elif n1<=n2 and n3<=n2:\n",
    "    print(n2)\n",
    "else:\n",
    "    print(n3)\n"
   ]
  },
  {
   "cell_type": "code",
   "execution_count": 101,
   "id": "81898a9c",
   "metadata": {},
   "outputs": [
    {
     "name": "stdout",
     "output_type": "stream",
     "text": [
      "1st: 1\n",
      "2nd: 2\n",
      "3rd: 3\n",
      "3\n"
     ]
    }
   ],
   "source": [
    "n1 = int(input(\"1st: \"))\n",
    "n2 = int(input(\"2nd: \"))\n",
    "n3 = int(input(\"3rd: \"))\n",
    "\n",
    "l = n1\n",
    "if n2 > l:\n",
    "    l = n2\n",
    "    \n",
    "if n3 > l:\n",
    "    l =  n3\n",
    "    \n",
    "print(l)"
   ]
  },
  {
   "cell_type": "code",
   "execution_count": 102,
   "id": "0f140f54",
   "metadata": {},
   "outputs": [
    {
     "name": "stdout",
     "output_type": "stream",
     "text": [
      "1st: 3\n",
      "2nd: 4\n",
      "3rd: 2\n",
      "4\n"
     ]
    }
   ],
   "source": [
    "n1 = int(input(\"1st: \"))\n",
    "n2 = int(input(\"2nd: \"))\n",
    "n3 = int(input(\"3rd: \"))\n",
    "\n",
    "if n1 >= n2:\n",
    "    if n1 > n3:\n",
    "        print(n1)\n",
    "    else:\n",
    "        print(n3)\n",
    "else:\n",
    "    if n2 >= n3:\n",
    "        print(n2)\n",
    "    else:\n",
    "        print(n3)"
   ]
  },
  {
   "cell_type": "code",
   "execution_count": null,
   "id": "25fae503",
   "metadata": {},
   "outputs": [],
   "source": []
  },
  {
   "cell_type": "code",
   "execution_count": null,
   "id": "6954ac22",
   "metadata": {},
   "outputs": [],
   "source": [
    "# WAP to input a character and print if it is a vowel or not.\n",
    "n=input(\"IS VOWEL:\")\n",
    "if(n=='a' or n=='e' or n=='i' or n=='o' or n=='u' or n=='A' or n=='E' or n=='I' or n=='O' or n=='U'):\n",
    "    print(\"Yes\")\n",
    "else:\n",
    "    print(\"No\")\n"
   ]
  },
  {
   "cell_type": "code",
   "execution_count": 105,
   "id": "0313d771",
   "metadata": {},
   "outputs": [
    {
     "name": "stdout",
     "output_type": "stream",
     "text": [
      "IS VOWEL:t\n",
      "No\n"
     ]
    }
   ],
   "source": [
    "# WAP to input a character and print if it is a vowel or not.\n",
    "n=input(\"IS VOWEL:\")\n",
    "if n.lower() in 'aeiou':\n",
    "    print(\"Yes\")\n",
    "else:\n",
    "    print(\"No\")\n"
   ]
  },
  {
   "cell_type": "code",
   "execution_count": null,
   "id": "ea32b4ac",
   "metadata": {},
   "outputs": [],
   "source": []
  },
  {
   "cell_type": "code",
   "execution_count": null,
   "id": "5e84acf7",
   "metadata": {},
   "outputs": [],
   "source": [
    "#  single line if else statement\n",
    "# like ternary operator  ?: of other  languages\n",
    "\n",
    "# <condition> ? <value1> : <value2>\n",
    "\n",
    "<value1> if <condition> else <value2>\n",
    "\n"
   ]
  },
  {
   "cell_type": "code",
   "execution_count": 107,
   "id": "60752fdc",
   "metadata": {},
   "outputs": [
    {
     "name": "stdout",
     "output_type": "stream",
     "text": [
      "abc\n",
      "pqr\n"
     ]
    }
   ],
   "source": [
    "print(\"abc\" if 10 >2 else  \"pqr\")\n",
    "print(\"abc\" if 10 > 20 else  \"pqr\")"
   ]
  },
  {
   "cell_type": "code",
   "execution_count": null,
   "id": "81c24302",
   "metadata": {},
   "outputs": [],
   "source": [
    "n  = int(input())\n"
   ]
  },
  {
   "cell_type": "code",
   "execution_count": null,
   "id": "a35067c3",
   "metadata": {},
   "outputs": [],
   "source": [
    "st = input(\"Enter a character: \")\n",
    "vowel = 'aeiou'\n",
    "if st.lower() in vowel:\n",
    "    print(\"It is a vowel\")\n",
    "else:\n",
    "    print(\"It is not a vowel\")\n"
   ]
  },
  {
   "cell_type": "code",
   "execution_count": null,
   "id": "ed980ec4",
   "metadata": {},
   "outputs": [],
   "source": [
    "# WAP to input a string and check if it is a pallindrome.\n",
    "# abc != cba No\n",
    "# aba == aba  Yes\n",
    "\n",
    "st = input(\"Enter a character: \")\n",
    "rev_st = st[::-1]\n",
    "\n",
    "if st == rev_st:\n",
    "    print(\"It is a palindrome\")\n",
    "else:\n",
    "    print(\"It is not a palindrome\")\n",
    "    \n",
    "    \n",
    "n=input()\n",
    "if(n==n[::-1]):\n",
    "    print(\"Palindrome\")\n",
    "else:\n",
    "    print(\"Not a Palindrome\")\n",
    "\n"
   ]
  },
  {
   "cell_type": "code",
   "execution_count": null,
   "id": "db280a31",
   "metadata": {},
   "outputs": [],
   "source": [
    "a = 10\n",
    "a = \"abcd\""
   ]
  },
  {
   "cell_type": "code",
   "execution_count": 113,
   "id": "72850281",
   "metadata": {},
   "outputs": [
    {
     "name": "stdout",
     "output_type": "stream",
     "text": [
      "Enter a number:4\n",
      "Enter a number:5\n",
      "enter an operation(+,-,*,/): fd\n",
      "invalid operator fd\n"
     ]
    }
   ],
   "source": [
    "n1 = int(input(\"Enter a number:\"))\n",
    "n2 = int(input(\"Enter a number:\"))\n",
    "\n",
    "\n",
    "op = input(\"enter an operation(+,-,*,/): \")\n",
    "\n",
    "if op == \"+\":\n",
    "    print(n1+n2)\n",
    "elif op == \"-\":\n",
    "    print(n1-n2)\n",
    "elif op == \"*\":\n",
    "    print(n1*n2)\n",
    "elif op == \"/\":\n",
    "    print(n1/n2)\n",
    "else:\n",
    "    print(f\"invalid operator {op}\")"
   ]
  },
  {
   "cell_type": "code",
   "execution_count": null,
   "id": "2423ed9d",
   "metadata": {},
   "outputs": [],
   "source": []
  }
 ],
 "metadata": {
  "kernelspec": {
   "display_name": "Python 3",
   "language": "python",
   "name": "python3"
  },
  "language_info": {
   "codemirror_mode": {
    "name": "ipython",
    "version": 3
   },
   "file_extension": ".py",
   "mimetype": "text/x-python",
   "name": "python",
   "nbconvert_exporter": "python",
   "pygments_lexer": "ipython3",
   "version": "3.8.8"
  }
 },
 "nbformat": 4,
 "nbformat_minor": 5
}
