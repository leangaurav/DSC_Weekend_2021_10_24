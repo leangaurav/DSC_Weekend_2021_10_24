{
 "cells": [
  {
   "cell_type": "markdown",
   "id": "2eef2339",
   "metadata": {},
   "source": [
    "## File handling"
   ]
  },
  {
   "cell_type": "markdown",
   "id": "a703ce09",
   "metadata": {},
   "source": [
    "- open a file\n",
    "- operations: read/write data\n",
    "- close the file"
   ]
  },
  {
   "cell_type": "markdown",
   "id": "c6dc7b57",
   "metadata": {},
   "source": [
    "Files are managed by OS.\n",
    "A program has to request the Os for any kind of operations."
   ]
  },
  {
   "cell_type": "code",
   "execution_count": 8,
   "id": "fc8a3645",
   "metadata": {},
   "outputs": [
    {
     "name": "stdout",
     "output_type": "stream",
     "text": [
      "<_io.TextIOWrapper name='file1.txt' mode='w' encoding='cp1252'>\n",
      "['_CHUNK_SIZE', '__class__', '__del__', '__delattr__', '__dict__', '__dir__', '__doc__', '__enter__', '__eq__', '__exit__', '__format__', '__ge__', '__getattribute__', '__gt__', '__hash__', '__init__', '__init_subclass__', '__iter__', '__le__', '__lt__', '__ne__', '__new__', '__next__', '__reduce__', '__reduce_ex__', '__repr__', '__setattr__', '__sizeof__', '__str__', '__subclasshook__', '_checkClosed', '_checkReadable', '_checkSeekable', '_checkWritable', '_finalizing', 'buffer', 'close', 'closed', 'detach', 'encoding', 'errors', 'fileno', 'flush', 'isatty', 'line_buffering', 'mode', 'name', 'newlines', 'read', 'readable', 'readline', 'readlines', 'reconfigure', 'seek', 'seekable', 'tell', 'truncate', 'writable', 'write', 'write_through', 'writelines']\n",
      "closed False\n",
      "closed True\n"
     ]
    }
   ],
   "source": [
    "f = open('file1.txt', 'w')\n",
    "print(f)\n",
    "print(dir(f))\n",
    "print(\"closed\", f.closed)\n",
    "f.close()\n",
    "print(\"closed\", f.closed)"
   ]
  },
  {
   "cell_type": "code",
   "execution_count": null,
   "id": "0c0492ed",
   "metadata": {},
   "outputs": [],
   "source": [
    "- w: write\n",
    "- r: read\n",
    "- a: append"
   ]
  },
  {
   "cell_type": "code",
   "execution_count": 10,
   "id": "997512cc",
   "metadata": {},
   "outputs": [],
   "source": [
    "# write using print\n",
    "f = open('file2.txt', 'w')\n",
    "print(\"123\", file=f)\n",
    "print(\"abcd\", file=f)\n",
    "f.close()"
   ]
  },
  {
   "cell_type": "code",
   "execution_count": 11,
   "id": "c74a21a9",
   "metadata": {},
   "outputs": [],
   "source": [
    "# append using print\n",
    "f = open('file2.txt', 'a')\n",
    "print(123, True, 1.5, \"abcd\", file=f)\n",
    "f.close()"
   ]
  },
  {
   "cell_type": "code",
   "execution_count": null,
   "id": "ea2e83c8",
   "metadata": {},
   "outputs": [],
   "source": []
  },
  {
   "cell_type": "code",
   "execution_count": 14,
   "id": "72318560",
   "metadata": {},
   "outputs": [
    {
     "name": "stdout",
     "output_type": "stream",
     "text": [
      "1\n",
      "2\n",
      "3\n",
      "4\n"
     ]
    }
   ],
   "source": [
    "# flush\n",
    "f = open('file2.txt', 'a')\n",
    "print(1, file=f)\n",
    "input(\"1\")\n",
    "print(2, file=f, flush=True)\n",
    "input(\"2\")\n",
    "print(3, file=f)\n",
    "input(\"3\")\n",
    "print(4, file=f)\n",
    "f.flush()\n",
    "input(\"4\")\n",
    "f.close()"
   ]
  },
  {
   "cell_type": "code",
   "execution_count": null,
   "id": "c9c788ec",
   "metadata": {},
   "outputs": [],
   "source": []
  },
  {
   "cell_type": "code",
   "execution_count": 15,
   "id": "91d81a77",
   "metadata": {},
   "outputs": [],
   "source": [
    "# append using write function\n",
    "f = open('file3.txt', 'a')\n",
    "f.write(\"abcd\")\n",
    "f.close()"
   ]
  },
  {
   "cell_type": "code",
   "execution_count": 16,
   "id": "30aa2d21",
   "metadata": {},
   "outputs": [],
   "source": [
    "f = open('file3.txt', 'a')\n",
    "f.write(str(3))\n",
    "f.write(\"abcd\")\n",
    "f.write(\"\\n\")\n",
    "f.write(\"pqr\")\n",
    "f.close()"
   ]
  },
  {
   "cell_type": "code",
   "execution_count": 17,
   "id": "36b6c954",
   "metadata": {},
   "outputs": [
    {
     "name": "stdout",
     "output_type": "stream",
     "text": [
      "Enter a number: 2\n"
     ]
    }
   ],
   "source": [
    "# enter a number.. and print it's table\n",
    "\n",
    "# 2x1 = 2\n",
    "# 2X2 = 4\n",
    "#...\n",
    "# 2X10 = 20\n",
    "\n",
    "f = open('file1.txt', 'w')\n",
    "b=int(input(\"Enter a number: \"))\n",
    "for a in range(1,11):\n",
    "    c=a*b\n",
    "    print(b,'X',a,'=',c, file=f)\n",
    "f.close()\n"
   ]
  },
  {
   "cell_type": "code",
   "execution_count": null,
   "id": "831ba799",
   "metadata": {},
   "outputs": [],
   "source": []
  },
  {
   "cell_type": "code",
   "execution_count": 18,
   "id": "cf2f7347",
   "metadata": {},
   "outputs": [],
   "source": [
    "file_name = r\"D:\\DATA\\Desktop\\tutort\\DSC_Weekend_2021_10_24\\CODE\\S12_2021_12_18\\file_5.txt\"\n",
    "f = open(file_name, 'w')\n",
    "f.close()"
   ]
  },
  {
   "cell_type": "code",
   "execution_count": null,
   "id": "25be0b61",
   "metadata": {},
   "outputs": [],
   "source": []
  },
  {
   "cell_type": "code",
   "execution_count": null,
   "id": "adc36567",
   "metadata": {},
   "outputs": [],
   "source": []
  },
  {
   "cell_type": "code",
   "execution_count": null,
   "id": "62b3af7b",
   "metadata": {},
   "outputs": [],
   "source": [
    "# reading from a file"
   ]
  },
  {
   "cell_type": "code",
   "execution_count": 20,
   "id": "8d8bec21",
   "metadata": {},
   "outputs": [
    {
     "name": "stdout",
     "output_type": "stream",
     "text": [
      "line 1.\n",
      "line 2.\n",
      "this is a longer line\n",
      "last one\n",
      "\n",
      "'line 1.\\nline 2.\\nthis is a longer line\\nlast one'\n"
     ]
    }
   ],
   "source": [
    "f = open('file4.txt', 'r')\n",
    "data = f.read()\n",
    "f.close()\n",
    "print(data)\n",
    "\n",
    "print()\n",
    "print(repr(data))"
   ]
  },
  {
   "cell_type": "code",
   "execution_count": 21,
   "id": "952d5851",
   "metadata": {},
   "outputs": [
    {
     "name": "stdout",
     "output_type": "stream",
     "text": [
      "line 1.\n",
      "li\n"
     ]
    }
   ],
   "source": [
    "f = open('file4.txt', 'r')\n",
    "data = f.read(10)\n",
    "f.close()\n",
    "print(data)\n"
   ]
  },
  {
   "cell_type": "code",
   "execution_count": 24,
   "id": "4fbdfb22",
   "metadata": {},
   "outputs": [
    {
     "name": "stdout",
     "output_type": "stream",
     "text": [
      "line 1.\n",
      "line 2.\n",
      "this is a longer line\n",
      "last one"
     ]
    }
   ],
   "source": [
    "f = open('file4.txt', 'r')\n",
    "\n",
    "while True:\n",
    "    data = f.read(10)\n",
    "    if data == '':\n",
    "        break\n",
    "    print(data, end='')\n",
    "\n",
    "f.close()\n"
   ]
  },
  {
   "cell_type": "code",
   "execution_count": 25,
   "id": "27064dff",
   "metadata": {},
   "outputs": [
    {
     "name": "stdout",
     "output_type": "stream",
     "text": [
      "Initial:  0\n",
      "after read:  11 'line 1.\\nli'\n",
      "after read:  22 'ne 2.\\nthis'\n",
      "after read:  32 ' is a long'\n",
      "after read:  43 'er line\\nla'\n",
      "after read:  49 'st one'\n",
      "End:  49\n"
     ]
    }
   ],
   "source": [
    "# file pointers/markers\n",
    "f = open('file4.txt', 'r')\n",
    "\n",
    "print(\"Initial: \", f.tell())\n",
    "while True:\n",
    "    data = f.read(10)\n",
    "    if data == '':\n",
    "        break\n",
    "    print(\"after read: \", f.tell(), repr(data))\n",
    "\n",
    "\n",
    "print(\"End: \", f.tell())\n",
    "f.close()\n"
   ]
  },
  {
   "cell_type": "code",
   "execution_count": null,
   "id": "aa841c68",
   "metadata": {},
   "outputs": [],
   "source": []
  },
  {
   "cell_type": "code",
   "execution_count": null,
   "id": "38b3dffd",
   "metadata": {},
   "outputs": [],
   "source": []
  },
  {
   "cell_type": "code",
   "execution_count": 27,
   "id": "0d7a1754",
   "metadata": {},
   "outputs": [
    {
     "name": "stdout",
     "output_type": "stream",
     "text": [
      "'line 1.\\nline 2.\\nthis is a longer line\\nlast one'\n",
      "''\n"
     ]
    }
   ],
   "source": [
    "f = open('file4.txt', 'r')\n",
    "data = f.read()\n",
    "print(repr(data))\n",
    "\n",
    "data = f.read()\n",
    "print(repr(data))\n",
    "\n",
    "f.close()\n"
   ]
  },
  {
   "cell_type": "code",
   "execution_count": 34,
   "id": "dc01f2f0",
   "metadata": {},
   "outputs": [
    {
     "name": "stdout",
     "output_type": "stream",
     "text": [
      "'line 1.\\nline 2.\\nthis is a longer line\\nlast one'\n",
      "'line 1.\\nline 2.\\nthis is a longer line\\nlast one'\n",
      "'is is a longer line\\nlast one'\n",
      "''\n"
     ]
    }
   ],
   "source": [
    "f = open('file4.txt', 'r')\n",
    "data = f.read()\n",
    "print(repr(data))\n",
    "\n",
    "f.seek(0)\n",
    "data = f.read()\n",
    "print(repr(data))\n",
    "\n",
    "f.seek(20)\n",
    "data = f.read()\n",
    "print(repr(data))\n",
    "\n",
    "f.seek(200)\n",
    "data = f.read()\n",
    "print(repr(data))\n",
    "\n",
    "f.close()"
   ]
  },
  {
   "cell_type": "code",
   "execution_count": 35,
   "id": "c3515b7a",
   "metadata": {},
   "outputs": [
    {
     "name": "stdout",
     "output_type": "stream",
     "text": [
      "line 1.\n",
      "line 2.\n",
      "this is a longer line\n",
      "last one"
     ]
    }
   ],
   "source": [
    "f = open('file4.txt', 'r')\n",
    "\n",
    "while True:\n",
    "    data = f.readline()\n",
    "    if data == '':\n",
    "        break\n",
    "    print(data, end='')\n",
    "\n",
    "f.close()\n"
   ]
  },
  {
   "cell_type": "code",
   "execution_count": 37,
   "id": "c42e15e7",
   "metadata": {},
   "outputs": [
    {
     "name": "stdout",
     "output_type": "stream",
     "text": [
      "['line 1.\\n', 'line 2.\\n', 'this is a longer line\\n', 'last one']\n"
     ]
    }
   ],
   "source": [
    "f = open('file4.txt', 'r')\n",
    "\n",
    "\n",
    "data = f.readlines()\n",
    "print(data)\n",
    "\n",
    "f.close()"
   ]
  },
  {
   "cell_type": "code",
   "execution_count": 39,
   "id": "a752eb81",
   "metadata": {},
   "outputs": [
    {
     "name": "stdout",
     "output_type": "stream",
     "text": [
      "line 1.\n",
      "\n",
      "line 2.\n",
      "\n",
      "this is a longer line\n",
      "\n",
      "last one\n"
     ]
    }
   ],
   "source": [
    "f = open('file4.txt', 'r')\n",
    "for line in f:\n",
    "    print(line)\n",
    "f.close()"
   ]
  },
  {
   "cell_type": "code",
   "execution_count": 45,
   "id": "eac8a43a",
   "metadata": {},
   "outputs": [
    {
     "name": "stdout",
     "output_type": "stream",
     "text": [
      "line 1.\n",
      "\n",
      "line 2.\n",
      "\n",
      "this is a longer line\n",
      "\n",
      "last one\n",
      "False\n",
      "True\n"
     ]
    }
   ],
   "source": [
    "# context manager\n",
    "# with <some operation to allocate resource> as <object>:\n",
    "#   code\n",
    "    \n",
    "    \n",
    "\n",
    "with open('file4.txt', 'r') as f:\n",
    "    for line in f:\n",
    "        print(line)\n",
    "    print(f.closed)\n",
    "\n",
    "print(f.closed)"
   ]
  },
  {
   "cell_type": "code",
   "execution_count": 46,
   "id": "46db38f7",
   "metadata": {},
   "outputs": [
    {
     "name": "stdout",
     "output_type": "stream",
     "text": [
      "line 1.\n",
      "\n",
      "line 2.\n",
      "\n",
      "this is a longer line\n",
      "\n",
      "last one\n",
      "False False\n",
      "False True\n",
      "True True\n"
     ]
    }
   ],
   "source": [
    "\n",
    "\n",
    "with open('file4.txt', 'r') as f1:\n",
    "    with open('file4.txt', 'r') as f2:\n",
    "        for line in f1:\n",
    "            print(line)\n",
    "        print(f1.closed, f2.closed)\n",
    "    print(f1.closed, f2.closed)\n",
    "\n",
    "print(f1.closed, f2.closed)"
   ]
  },
  {
   "cell_type": "code",
   "execution_count": null,
   "id": "453341dc",
   "metadata": {},
   "outputs": [],
   "source": []
  },
  {
   "cell_type": "code",
   "execution_count": null,
   "id": "4ffbae76",
   "metadata": {},
   "outputs": [],
   "source": [
    "# WAS that takes a file name as command line arg.. and prints the content of that file on screen\n",
    "# cat.py\n",
    "# cat.py fil1.txt"
   ]
  },
  {
   "cell_type": "code",
   "execution_count": null,
   "id": "a8818c43",
   "metadata": {},
   "outputs": [],
   "source": [
    "# WAS that takes two file names as command line arg.. and creates a copy of the first file with second file name\n",
    "# copy.py\n",
    "# copy.py file1.txt file2.txt\n",
    "\n",
    "import sys\n",
    "\n",
    "if len(sys.argv) != 3:\n",
    "    print(\"Invalid input.\\n Usage: copy.py <file1> <file2\")\n",
    "    exit(-1)\n",
    "\n",
    "file_from = sys.argv[1]\n",
    "file_to = sys.argv[2]\n",
    "\n",
    "with open(file_from, 'r') as f1:\n",
    "    with open(file_to, 'r') as f2:\n",
    "    f2.write(f1.read())\n",
    "\n"
   ]
  },
  {
   "cell_type": "code",
   "execution_count": 48,
   "id": "444c4060",
   "metadata": {},
   "outputs": [],
   "source": [
    "f = open('test.csv', 'w')\n",
    "print(\"One\", \"Two\", file = f, sep=',')\n",
    "print(\"1\", \"2\", file = f, sep=',')\n",
    "print(\"10\", \"20\", file = f, sep=',')\n",
    "f.close()"
   ]
  }
 ],
 "metadata": {
  "kernelspec": {
   "display_name": "Python 3",
   "language": "python",
   "name": "python3"
  },
  "language_info": {
   "codemirror_mode": {
    "name": "ipython",
    "version": 3
   },
   "file_extension": ".py",
   "mimetype": "text/x-python",
   "name": "python",
   "nbconvert_exporter": "python",
   "pygments_lexer": "ipython3",
   "version": "3.8.8"
  }
 },
 "nbformat": 4,
 "nbformat_minor": 5
}
