{
 "cells": [
  {
   "cell_type": "markdown",
   "id": "aa02f700",
   "metadata": {},
   "source": [
    "## Regex"
   ]
  },
  {
   "cell_type": "code",
   "execution_count": null,
   "id": "92b20920",
   "metadata": {},
   "outputs": [],
   "source": []
  },
  {
   "cell_type": "code",
   "execution_count": 1,
   "id": "ed8be7a9",
   "metadata": {},
   "outputs": [
    {
     "name": "stdout",
     "output_type": "stream",
     "text": [
      "abc\n",
      "apq\n",
      "a1\n"
     ]
    }
   ],
   "source": [
    "# usernames starting with alphabet 'A'\n",
    "\n",
    "\n",
    "users = ['abc', 'pqr', 'apq', 'xyz', 'a1', 'b9', '1a']\n",
    "\n",
    "for u in users:\n",
    "    if u.startswith('a'):\n",
    "        print(u)"
   ]
  },
  {
   "cell_type": "code",
   "execution_count": 2,
   "id": "a948012d",
   "metadata": {},
   "outputs": [
    {
     "name": "stdout",
     "output_type": "stream",
     "text": [
      "abc\n",
      "apq\n",
      "a1\n"
     ]
    }
   ],
   "source": [
    "# usernames starting with alphabet 'A' and atleast 3 chars long\n",
    "\n",
    "users = ['abc', 'pqrs', 'apq', 'xyz', 'a1', 'b9', '1a']\n",
    "\n",
    "for u in users:\n",
    "    if u.startswith('a') and len(u) >= 3:\n",
    "        print(u)"
   ]
  },
  {
   "cell_type": "code",
   "execution_count": null,
   "id": "5b379ccf",
   "metadata": {},
   "outputs": [],
   "source": [
    "# usernames starting with alphabets only and atleast 3 chars long\n",
    "\n",
    "users = ['abc', 'pqrs', 'apq', 'xyz', 'a1', 'b9', '1a']\n",
    "\n",
    "for u in users:\n",
    "    if u[0].isalpha() and len(u) >= 3:\n",
    "        print(u)"
   ]
  },
  {
   "cell_type": "code",
   "execution_count": null,
   "id": "a80f50e0",
   "metadata": {},
   "outputs": [],
   "source": [
    "# usernames starting with alphabets only and atleast 3 chars long, shouldn't contain any numbers\n",
    "\n",
    "users = ['abc', 'pqrs', 'apq', 'xyz', 'a1', 'b9', '1a']\n",
    "\n",
    "for u in users:\n",
    "    if u[0].isalpha() and len(u) >= 3 and not u.isnumeric():\n",
    "        print(u)"
   ]
  },
  {
   "cell_type": "code",
   "execution_count": null,
   "id": "c8a12420",
   "metadata": {},
   "outputs": [],
   "source": []
  },
  {
   "cell_type": "code",
   "execution_count": null,
   "id": "4094878d",
   "metadata": {},
   "outputs": [],
   "source": []
  },
  {
   "cell_type": "code",
   "execution_count": 4,
   "id": "7a3761d9",
   "metadata": {},
   "outputs": [],
   "source": [
    "import re"
   ]
  },
  {
   "cell_type": "code",
   "execution_count": 5,
   "id": "38b31144",
   "metadata": {},
   "outputs": [
    {
     "name": "stdout",
     "output_type": "stream",
     "text": [
      "['A', 'ASCII', 'DEBUG', 'DOTALL', 'I', 'IGNORECASE', 'L', 'LOCALE', 'M', 'MULTILINE', 'Match', 'Pattern', 'RegexFlag', 'S', 'Scanner', 'T', 'TEMPLATE', 'U', 'UNICODE', 'VERBOSE', 'X', '_MAXCACHE', '__all__', '__builtins__', '__cached__', '__doc__', '__file__', '__loader__', '__name__', '__package__', '__spec__', '__version__', '_cache', '_compile', '_compile_repl', '_expand', '_locale', '_pickle', '_special_chars_map', '_subx', 'compile', 'copyreg', 'enum', 'error', 'escape', 'findall', 'finditer', 'fullmatch', 'functools', 'match', 'purge', 'search', 'split', 'sre_compile', 'sre_parse', 'sub', 'subn', 'template']\n"
     ]
    }
   ],
   "source": [
    "print(dir(re))"
   ]
  },
  {
   "cell_type": "code",
   "execution_count": 6,
   "id": "1742a356",
   "metadata": {},
   "outputs": [
    {
     "name": "stdout",
     "output_type": "stream",
     "text": [
      "<re.Match object; span=(0, 1), match='a'>\n",
      "None\n",
      "<re.Match object; span=(0, 1), match='a'>\n",
      "None\n",
      "<re.Match object; span=(0, 1), match='a'>\n",
      "None\n",
      "None\n"
     ]
    }
   ],
   "source": [
    "\n",
    "\n",
    "\n",
    "users = ['abc', 'pqr', 'apq', 'xyz', 'a1', 'b9', '1a']\n",
    "\n",
    "for u in users:\n",
    "    print(re.match('a', u))"
   ]
  },
  {
   "cell_type": "code",
   "execution_count": 8,
   "id": "df883253",
   "metadata": {},
   "outputs": [
    {
     "name": "stdout",
     "output_type": "stream",
     "text": [
      "<re.Match object; span=(0, 3), match='abc'>\n",
      "None\n",
      "<re.Match object; span=(0, 3), match='apq'>\n",
      "None\n",
      "None\n",
      "None\n",
      "None\n"
     ]
    }
   ],
   "source": [
    "# usernames starting with alphabet 'A' and exactly 3 chars long\n",
    "\n",
    "users = ['abc', 'pqrs', 'apqcd', 'xyz', 'a1', 'b9', '1a']\n",
    "\n",
    "for u in users:\n",
    "    print(re.match('a..', u))"
   ]
  },
  {
   "cell_type": "code",
   "execution_count": 15,
   "id": "ac55db10",
   "metadata": {},
   "outputs": [
    {
     "name": "stdout",
     "output_type": "stream",
     "text": [
      "<re.Match object; span=(0, 3), match='abc'>\n",
      "None\n",
      "None\n",
      "None\n",
      "None\n",
      "None\n",
      "None\n"
     ]
    }
   ],
   "source": [
    "# Anchor Tags\n",
    "# - ^ -> start of string\n",
    "# - $ -> end of string\n",
    "# usernames starting with alphabet 'A' and exactly 3 chars long\n",
    "\n",
    "users = ['abc', 'pqrs', 'apqcd', 'xayz', 'a1', 'b9', '1a']\n",
    "\n",
    "for u in users:\n",
    "    print(re.match('a..$', u))"
   ]
  },
  {
   "cell_type": "code",
   "execution_count": 13,
   "id": "b942b2dd",
   "metadata": {},
   "outputs": [
    {
     "name": "stdout",
     "output_type": "stream",
     "text": [
      "<re.Match object; span=(0, 3), match='abc'>\n",
      "None\n",
      "None\n",
      "None\n",
      "None\n",
      "None\n",
      "None\n"
     ]
    }
   ],
   "source": [
    "# usernames starting with alphabet 'A' and exactly 3 chars long\n",
    "\n",
    "users = ['abc', 'pqrs', 'apqcd', 'xayz', 'a1', 'b9', '1a']\n",
    "\n",
    "for u in users:\n",
    "    print(re.search('^a..$', u))"
   ]
  },
  {
   "cell_type": "code",
   "execution_count": null,
   "id": "81da67b1",
   "metadata": {},
   "outputs": [],
   "source": [
    "# Repetition\n",
    "# - * : 0-n\n",
    "# - + : 1-n\n",
    "# - ? : 0-1\n",
    "# - {m,n} : atleast m and atmost n times\n",
    "#   {m}   : exactly m rep\n",
    "#   {m, } : atleast m rep\n",
    "#   {,n}  : atmost n rep\n"
   ]
  },
  {
   "cell_type": "code",
   "execution_count": 16,
   "id": "504491d1",
   "metadata": {},
   "outputs": [
    {
     "name": "stdout",
     "output_type": "stream",
     "text": [
      "<re.Match object; span=(0, 3), match='abc'>\n",
      "None\n",
      "<re.Match object; span=(0, 5), match='apqcd'>\n",
      "None\n",
      "None\n",
      "None\n",
      "None\n"
     ]
    }
   ],
   "source": [
    "# usernames starting with alphabet 'A' and atleast 3 chars long\n",
    "\n",
    "users = ['abc', 'pqrs', 'apqcd', 'xayz', 'a1', 'b9', '1a']\n",
    "\n",
    "for u in users:\n",
    "    print(re.search('^a...*', u))"
   ]
  },
  {
   "cell_type": "code",
   "execution_count": 17,
   "id": "bd4ae64f",
   "metadata": {},
   "outputs": [
    {
     "name": "stdout",
     "output_type": "stream",
     "text": [
      "<re.Match object; span=(0, 3), match='abc'>\n",
      "None\n",
      "<re.Match object; span=(0, 5), match='apqcd'>\n",
      "None\n",
      "None\n",
      "None\n",
      "None\n"
     ]
    }
   ],
   "source": [
    "# usernames starting with alphabet 'A' and atleast 3 chars long\n",
    "\n",
    "users = ['abc', 'pqrs', 'apqcd', 'xayz', 'a1', 'b9', '1a']\n",
    "\n",
    "for u in users:\n",
    "    print(re.search('^a..+', u))"
   ]
  },
  {
   "cell_type": "code",
   "execution_count": 20,
   "id": "86915ed2",
   "metadata": {},
   "outputs": [
    {
     "name": "stdout",
     "output_type": "stream",
     "text": [
      "<re.Match object; span=(0, 3), match='abc'>\n",
      "None\n",
      "<re.Match object; span=(0, 5), match='apqcd'>\n",
      "None\n",
      "None\n",
      "None\n",
      "None\n",
      "None\n"
     ]
    }
   ],
   "source": [
    "# usernames starting with alphabet 'A' and 3-5 chars long\n",
    "\n",
    "users = ['abc', 'pqrs', 'apqcd', 'abcdef', 'xayz', 'a1', 'b9', '1a']\n",
    "\n",
    "for u in users:\n",
    "    #print(re.search('^a.{2,4}', u))\n",
    "    print(re.search('^a.{2,4}$', u))"
   ]
  },
  {
   "cell_type": "code",
   "execution_count": null,
   "id": "c7bcf9eb",
   "metadata": {},
   "outputs": [],
   "source": []
  },
  {
   "cell_type": "code",
   "execution_count": null,
   "id": "900a8a33",
   "metadata": {},
   "outputs": [],
   "source": [
    "# \\d : a digit\n",
    "# \\s: whitespace characters\n",
    "# \\w: alphanumeric\n",
    "# []: search set\n",
    "#  [ab] : the characte is exactly a or b\n",
    "#  [123] : one of 1, 2 3\n",
    "#  [a-z]: match alphabets from a-z\n",
    "#  [a-zA-Z]: matches capital and small alphabets\n",
    "#  [0-6]: match digits from 0-6\n",
    "#  [1-5a-z#$]: matches any nummber from 1-5 or small alphabets or # or $ symbol\n",
    "\n",
    "#  [^0-6] : match anything other than 0-6"
   ]
  },
  {
   "cell_type": "code",
   "execution_count": 22,
   "id": "19e040c7",
   "metadata": {},
   "outputs": [
    {
     "name": "stdout",
     "output_type": "stream",
     "text": [
      "None\n",
      "None\n",
      "None\n",
      "None\n",
      "None\n",
      "<re.Match object; span=(0, 2), match='a1'>\n",
      "<re.Match object; span=(0, 5), match='bdf39'>\n",
      "None\n"
     ]
    }
   ],
   "source": [
    "# usernames starting with alphabet and ending with a number\n",
    "\n",
    "users = ['abc', 'pqrs', 'apqcd', 'abcdef', 'xayz', 'a1', 'bdf39', '1a']\n",
    "\n",
    "for u in users:\n",
    "    print(re.search('^[a-zA-Z].*\\d$', u))"
   ]
  },
  {
   "cell_type": "code",
   "execution_count": 26,
   "id": "06674ad1",
   "metadata": {},
   "outputs": [
    {
     "name": "stdout",
     "output_type": "stream",
     "text": [
      "<re.Match object; span=(0, 13), match='+91 123456789'>\n",
      "<re.Match object; span=(0, 10), match='+91 122234'>\n",
      "None\n",
      "None\n"
     ]
    }
   ],
   "source": [
    "#Phone number : +country code (1 or 2 digits), space\n",
    "#    there will be a number of 4-10 characters\n",
    "    \n",
    "#    +91 1111111111\n",
    "#    +1 11111111111\n",
    "#    +1 1111\n",
    "\n",
    "\n",
    "import re\n",
    "numbers = ['+91 123456789', '+91 122234', '+1234', '+91 12345678912345']\n",
    "\n",
    "for u in numbers:\n",
    "    print(re.search('^\\+\\d{1,2} \\d{4,10}$', u))"
   ]
  },
  {
   "cell_type": "code",
   "execution_count": null,
   "id": "9f687a38",
   "metadata": {},
   "outputs": [],
   "source": [
    "# () capture groups: pattern specified in () is extracted"
   ]
  },
  {
   "cell_type": "code",
   "execution_count": 45,
   "id": "b20546ea",
   "metadata": {},
   "outputs": [
    {
     "name": "stdout",
     "output_type": "stream",
     "text": [
      "<re.Match object; span=(0, 30), match='my phone no. is +91 123456789.'> ('+91 123456789',)\n",
      "<re.Match object; span=(0, 25), match='this +91 122234 is my no.'> ('+91 122234',)\n",
      "None\n",
      "<re.Match object; span=(0, 15), match='this +91 122234'> ('+91 122234',)\n",
      "None\n"
     ]
    }
   ],
   "source": [
    "# \\b: word boundary\n",
    "# Extract phone number from a string\n",
    "\n",
    "\n",
    "import re\n",
    "numbers = ['my phone no. is +91 123456789.', 'this +91 122234 is my no.', 'this +91 123456789123 is my no.', 'this +91 122234',\n",
    "          'this+91 123456789123 is my no.']\n",
    "\n",
    "for u in numbers:\n",
    "    m = re.search(r'.*[ ,.?](\\+\\d{1,2} \\d{4,10})\\b.*', u)\n",
    "    if m:\n",
    "        print(m, m.groups())\n",
    "    else:\n",
    "        print(None)"
   ]
  },
  {
   "cell_type": "code",
   "execution_count": 47,
   "id": "632e2b0a",
   "metadata": {},
   "outputs": [
    {
     "name": "stdout",
     "output_type": "stream",
     "text": [
      "<re.Match object; span=(0, 30), match='my phone no. is +91 123456789.'> ('+91', '123456789')\n",
      "<re.Match object; span=(0, 25), match='this +91 122234 is my no.'> ('+91', '122234')\n",
      "None\n",
      "<re.Match object; span=(0, 15), match='this +91 122234'> ('+91', '122234')\n",
      "None\n"
     ]
    }
   ],
   "source": [
    "import re\n",
    "numbers = ['my phone no. is +91 123456789.', 'this +91 122234 is my no.', 'this +91 123456789123 is my no.', 'this +91 122234',\n",
    "          'this+91 123456789123 is my no.']\n",
    "\n",
    "for u in numbers:\n",
    "    m = re.search(r'.*[ ,.?](\\+\\d{1,2}) (\\d{4,10}\\b).*', u)\n",
    "    if m:\n",
    "        print(m, m.groups())\n",
    "    else:\n",
    "        print(None)"
   ]
  },
  {
   "cell_type": "code",
   "execution_count": 48,
   "id": "51272210",
   "metadata": {},
   "outputs": [
    {
     "name": "stdout",
     "output_type": "stream",
     "text": [
      "<re.Match object; span=(0, 30), match='my phone no. is +91 123456789.'> ()\n",
      "<re.Match object; span=(0, 25), match='this +91 122234 is my no.'> ()\n",
      "None\n",
      "<re.Match object; span=(0, 15), match='this +91 122234'> ()\n",
      "None\n"
     ]
    }
   ],
   "source": [
    "import re\n",
    "numbers = ['my phone no. is +91 123456789.', 'this +91 122234 is my no.', 'this +91 123456789123 is my no.', 'this +91 122234',\n",
    "          'this+91 123456789123 is my no.']\n",
    "\n",
    "for u in numbers:\n",
    "    m = re.search(r'.*[ ,.?]\\+\\d{1,2} \\d{4,10}\\b.*', u)\n",
    "    if m:\n",
    "        print(m, m.groups())\n",
    "    else:\n",
    "        print(None)"
   ]
  },
  {
   "cell_type": "code",
   "execution_count": 56,
   "id": "7a95b0d7",
   "metadata": {},
   "outputs": [
    {
     "name": "stdout",
     "output_type": "stream",
     "text": [
      "<re.Match object; span=(0, 7), match='abc 123'> ('',)\n",
      "<re.Match object; span=(0, 14), match='  1ab#$c2 pqr3'> (' pqr',)\n"
     ]
    }
   ],
   "source": [
    "# WAR to capture a string which is bounded by two numbers. first occurence\n",
    "# \"abc 123\" -> \"\"\n",
    "# \"  1ab#$c2 pqr3\" -> \"abc\"\n",
    "\n",
    "s = [\"abc 123\", \"  1ab#$c2 pqr3\"]\n",
    "\n",
    "for v in s:\n",
    "    m = re.search(r'.*\\d(.*)\\d.*', v)\n",
    "    if m:\n",
    "        print(m, m.groups())\n",
    "    else:\n",
    "        print(None)"
   ]
  },
  {
   "cell_type": "code",
   "execution_count": 57,
   "id": "de637214",
   "metadata": {},
   "outputs": [
    {
     "name": "stdout",
     "output_type": "stream",
     "text": [
      "<re.Match object; span=(0, 7), match='abc 123'> ('2',)\n",
      "<re.Match object; span=(0, 14), match='  1ab#$c2 pqr3'> ('ab#$c2 pqr',)\n"
     ]
    }
   ],
   "source": [
    "# WAR to capture a string which is bounded by two numbers. first occurence\n",
    "# \"abc 123\" -> \"\"\n",
    "# \"  1ab#$c2 pqr3\" -> \"abc\"\n",
    "\n",
    "s = [\"abc 123\", \"  1ab#$c2 pqr3\"]\n",
    "\n",
    "for v in s:\n",
    "    m = re.search(r'.*?\\d(.*)\\d.*', v)\n",
    "    if m:\n",
    "        print(m, m.groups())\n",
    "    else:\n",
    "        print(None)"
   ]
  },
  {
   "cell_type": "code",
   "execution_count": 58,
   "id": "c0f6c742",
   "metadata": {},
   "outputs": [
    {
     "name": "stdout",
     "output_type": "stream",
     "text": [
      "<re.Match object; span=(0, 7), match='abc 123'> ('',)\n",
      "<re.Match object; span=(0, 14), match='  1ab#$c2 pqr3'> ('ab#$c',)\n"
     ]
    }
   ],
   "source": [
    "# WAR to capture a string which is bounded by two numbers. first occurence\n",
    "# \"abc 123\" -> \"\"\n",
    "# \"  1ab#$c2 pqr3\" -> \"abc\"\n",
    "\n",
    "s = [\"abc 123\", \"  1ab#$c2 pqr3\"]\n",
    "\n",
    "for v in s:\n",
    "    m = re.search(r'.*?\\d(.*?)\\d.*', v)\n",
    "    if m:\n",
    "        print(m, m.groups())\n",
    "    else:\n",
    "        print(None)"
   ]
  },
  {
   "cell_type": "code",
   "execution_count": 62,
   "id": "93a2479c",
   "metadata": {},
   "outputs": [
    {
     "name": "stdout",
     "output_type": "stream",
     "text": [
      "[('+', '123'), ('-', '123'), ('-', '1'), ('+', '1')]\n"
     ]
    }
   ],
   "source": [
    "#  WAR to match integers in a string\n",
    "\n",
    "s = \"numbers: +123, -123, -1, +1, #123, 56\"\n",
    "\n",
    "print(re.findall(\"(\\+|-)(\\d+)\", s))\n",
    "\n"
   ]
  },
  {
   "cell_type": "code",
   "execution_count": 72,
   "id": "36363e5e",
   "metadata": {},
   "outputs": [
    {
     "name": "stdout",
     "output_type": "stream",
     "text": [
      "<re.Match object; span=(9, 13), match='+123'> ('+', '123')\n",
      "<re.Match object; span=(15, 19), match='-123'> ('-', '123')\n",
      "<re.Match object; span=(21, 23), match='-1'> ('-', '1')\n",
      "<re.Match object; span=(25, 27), match='+1'> ('+', '1')\n"
     ]
    }
   ],
   "source": [
    "#  WAR to match integers in a string\n",
    "\n",
    "s = \"numbers: +123, -123, -1, +1, #123, 56, +, -\"\n",
    "\n",
    "for m in re.finditer(\"(\\+|-)(\\d+)\", s):\n",
    "    print(m, m.groups())\n"
   ]
  },
  {
   "cell_type": "code",
   "execution_count": 69,
   "id": "434fbfdb",
   "metadata": {},
   "outputs": [
    {
     "name": "stdout",
     "output_type": "stream",
     "text": [
      "<re.Match object; span=(9, 10), match='+'> (None,)\n",
      "<re.Match object; span=(15, 19), match='-123'> ('123',)\n",
      "<re.Match object; span=(21, 23), match='-1'> ('1',)\n",
      "<re.Match object; span=(25, 26), match='+'> (None,)\n",
      "<re.Match object; span=(39, 40), match='+'> (None,)\n"
     ]
    }
   ],
   "source": [
    "s = \"numbers: +123, -123, -1, +1, #123, 56, +, -\"\n",
    "\n",
    "for m in re.finditer(\"\\+|-(\\d+)\", s):\n",
    "    print(m, m.groups())\n"
   ]
  },
  {
   "cell_type": "code",
   "execution_count": 71,
   "id": "1319327a",
   "metadata": {},
   "outputs": [
    {
     "name": "stdout",
     "output_type": "stream",
     "text": [
      "<re.Match object; span=(9, 13), match='+123'> ('123',)\n",
      "<re.Match object; span=(15, 19), match='-123'> ('123',)\n",
      "<re.Match object; span=(21, 23), match='-1'> ('1',)\n",
      "<re.Match object; span=(25, 27), match='+1'> ('1',)\n"
     ]
    }
   ],
   "source": [
    "#  WAR to match integers in a string\n",
    "\n",
    "s = \"numbers: +123, -123, -1, +1, #123, 56, +, -\"\n",
    "\n",
    "for m in re.finditer(\"(?:\\+|-)(\\d+)\", s):\n",
    "    print(m, m.groups())\n"
   ]
  },
  {
   "cell_type": "code",
   "execution_count": 73,
   "id": "ae392131",
   "metadata": {},
   "outputs": [
    {
     "name": "stdout",
     "output_type": "stream",
     "text": [
      "<re.Match object; span=(9, 13), match='+123'> ('123',)\n",
      "<re.Match object; span=(15, 19), match='-123'> ('123',)\n",
      "<re.Match object; span=(21, 23), match='-1'> ('1',)\n",
      "<re.Match object; span=(25, 27), match='+1'> ('1',)\n",
      "<re.Match object; span=(30, 33), match='123'> ('123',)\n",
      "<re.Match object; span=(35, 37), match='56'> ('56',)\n"
     ]
    }
   ],
   "source": [
    "#  WAR to match integers in a string\n",
    "\n",
    "s = \"numbers: +123, -123, -1, +1, #123, 56, +, -\"\n",
    "\n",
    "for m in re.finditer(\"(?:\\+|-)?(\\d+)\", s):\n",
    "    print(m, m.groups())\n"
   ]
  },
  {
   "cell_type": "code",
   "execution_count": 87,
   "id": "0fb7425c",
   "metadata": {},
   "outputs": [
    {
     "name": "stdout",
     "output_type": "stream",
     "text": [
      "<re.Match object; span=(9, 13), match='+123'> ('123', None)\n",
      "<re.Match object; span=(15, 19), match='-123'> ('123', None)\n",
      "<re.Match object; span=(21, 23), match='-1'> ('1', None)\n",
      "<re.Match object; span=(25, 27), match='+1'> ('1', None)\n",
      "<re.Match object; span=(34, 37), match=' 56'> (None, '56')\n"
     ]
    }
   ],
   "source": [
    "#  WAR to match integers in a string\n",
    "\n",
    "s = \"numbers: +123, -123, -1, +1, #123, 56, +, -\"\n",
    "\n",
    "for m in re.finditer(r\"(?:\\+|-)(\\d+)|\\s(\\d+)\", s):\n",
    "    print(m, m.groups())\n"
   ]
  },
  {
   "cell_type": "code",
   "execution_count": 108,
   "id": "7e632c5b",
   "metadata": {},
   "outputs": [
    {
     "name": "stdout",
     "output_type": "stream",
     "text": [
      "<re.Match object; span=(0, 14), match='<abc>tag<\\\\abc>'> ('abc',)\n",
      "<re.Match object; span=(15, 44), match='<a1>this <\\\\a2> <a1>this <\\\\a1>'> ('a1',)\n"
     ]
    }
   ],
   "source": [
    "#  xml tag\n",
    "\n",
    "s = r\"<abc>tag<\\abc> <a1>this <\\a2> <a1>this <\\a1>\"\n",
    "\n",
    "\n",
    "for m in re.finditer(r'<(\\w+)>.*?<\\\\\\1>', s):\n",
    "    print(m, m.groups() if m else None)"
   ]
  },
  {
   "cell_type": "code",
   "execution_count": null,
   "id": "c1f05ea6",
   "metadata": {},
   "outputs": [],
   "source": [
    "# var regularExpression = /^(?=.*[0-9])(?=.*[!@#$%^&*])[a-zA-Z0-9!@#$%^&*]{6,16}$/;\n"
   ]
  }
 ],
 "metadata": {
  "kernelspec": {
   "display_name": "Python 3",
   "language": "python",
   "name": "python3"
  },
  "language_info": {
   "codemirror_mode": {
    "name": "ipython",
    "version": 3
   },
   "file_extension": ".py",
   "mimetype": "text/x-python",
   "name": "python",
   "nbconvert_exporter": "python",
   "pygments_lexer": "ipython3",
   "version": "3.8.8"
  }
 },
 "nbformat": 4,
 "nbformat_minor": 5
}
