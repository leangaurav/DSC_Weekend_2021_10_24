{
 "cells": [
  {
   "cell_type": "markdown",
   "id": "e2fbb9a7",
   "metadata": {},
   "source": [
    "### Loops"
   ]
  },
  {
   "cell_type": "code",
   "execution_count": null,
   "id": "84c19f9b",
   "metadata": {},
   "outputs": [],
   "source": [
    "1\n",
    "2\n",
    "if :\n",
    "    3\n",
    "else:\n",
    "    4\n",
    "5\n",
    "6"
   ]
  },
  {
   "cell_type": "code",
   "execution_count": null,
   "id": "65f6aa65",
   "metadata": {},
   "outputs": [],
   "source": []
  },
  {
   "cell_type": "code",
   "execution_count": null,
   "id": "c15af2d2",
   "metadata": {},
   "outputs": [],
   "source": [
    "# WHile loop\n",
    "while <condition>:\n",
    "    ...\n",
    "    ...\n",
    "\n",
    "# 0-n times"
   ]
  },
  {
   "cell_type": "code",
   "execution_count": null,
   "id": "7c23d308",
   "metadata": {},
   "outputs": [],
   "source": [
    "1\n",
    "2\n",
    "while <condition>:\n",
    "    3\n",
    "    4\n",
    "5\n",
    "6"
   ]
  },
  {
   "cell_type": "code",
   "execution_count": 4,
   "id": "cd9dbda5",
   "metadata": {},
   "outputs": [
    {
     "name": "stdout",
     "output_type": "stream",
     "text": [
      "1\n",
      "2\n",
      "3\n",
      "4\n",
      "5\n",
      "6\n",
      "7\n",
      "8\n",
      "9\n",
      "10\n",
      "11\n",
      "12\n",
      "13\n",
      "14\n",
      "15\n",
      "16\n",
      "17\n",
      "18\n",
      "19\n",
      "20\n"
     ]
    },
    {
     "ename": "KeyboardInterrupt",
     "evalue": "",
     "output_type": "error",
     "traceback": [
      "\u001b[1;31m---------------------------------------------------------------------------\u001b[0m",
      "\u001b[1;31mKeyboardInterrupt\u001b[0m                         Traceback (most recent call last)",
      "\u001b[1;32mC:\\Users\\LEANGA~1\\AppData\\Local\\Temp/ipykernel_344/3485845794.py\u001b[0m in \u001b[0;36m<module>\u001b[1;34m\u001b[0m\n\u001b[0;32m      6\u001b[0m     \u001b[0mi\u001b[0m \u001b[1;33m+=\u001b[0m \u001b[1;36m1\u001b[0m\u001b[1;33m\u001b[0m\u001b[1;33m\u001b[0m\u001b[0m\n\u001b[0;32m      7\u001b[0m     \u001b[0mprint\u001b[0m\u001b[1;33m(\u001b[0m\u001b[0mi\u001b[0m\u001b[1;33m)\u001b[0m\u001b[1;33m\u001b[0m\u001b[1;33m\u001b[0m\u001b[0m\n\u001b[1;32m----> 8\u001b[1;33m     \u001b[0mtime\u001b[0m\u001b[1;33m.\u001b[0m\u001b[0msleep\u001b[0m\u001b[1;33m(\u001b[0m\u001b[1;36m1\u001b[0m\u001b[1;33m)\u001b[0m\u001b[1;33m\u001b[0m\u001b[1;33m\u001b[0m\u001b[0m\n\u001b[0m",
      "\u001b[1;31mKeyboardInterrupt\u001b[0m: "
     ]
    }
   ],
   "source": [
    "import time\n",
    "i = 0\n",
    "\n",
    "# infinite loop\n",
    "while True:\n",
    "    i += 1\n",
    "    print(i)\n",
    "    time.sleep(1)"
   ]
  },
  {
   "cell_type": "code",
   "execution_count": 12,
   "id": "0efb3b0e",
   "metadata": {},
   "outputs": [
    {
     "name": "stdout",
     "output_type": "stream",
     "text": [
      "1\n",
      "2\n",
      "3\n",
      "4\n",
      "5\n",
      "6\n",
      "7\n",
      "8\n",
      "9\n",
      "10\n",
      "11\n"
     ]
    }
   ],
   "source": [
    "import time\n",
    "i = 0\n",
    "\n",
    "# repeat 10 time\n",
    "while i <= 10:\n",
    "    i += 1\n",
    "    print(i)"
   ]
  },
  {
   "cell_type": "code",
   "execution_count": 6,
   "id": "0c9c213d",
   "metadata": {},
   "outputs": [
    {
     "name": "stdout",
     "output_type": "stream",
     "text": [
      "0\n",
      "1\n",
      "2\n",
      "3\n",
      "4\n",
      "5\n",
      "6\n",
      "7\n",
      "8\n",
      "9\n",
      "10\n"
     ]
    }
   ],
   "source": [
    "import time\n",
    "i = 0\n",
    "\n",
    "# repeat 10 time\n",
    "while i <= 10:\n",
    "    print(i)\n",
    "    i += 1\n",
    "    time.sleep(0.1)"
   ]
  },
  {
   "cell_type": "code",
   "execution_count": 3,
   "id": "1a025a2b",
   "metadata": {},
   "outputs": [
    {
     "name": "stdout",
     "output_type": "stream",
     "text": [
      "1\n"
     ]
    }
   ],
   "source": [
    "print(1)"
   ]
  },
  {
   "cell_type": "code",
   "execution_count": null,
   "id": "421d90a3",
   "metadata": {},
   "outputs": [],
   "source": []
  },
  {
   "cell_type": "code",
   "execution_count": 4,
   "id": "8a803f52",
   "metadata": {},
   "outputs": [
    {
     "name": "stdout",
     "output_type": "stream",
     "text": [
      "10\n",
      "9\n",
      "8\n",
      "7\n",
      "6\n",
      "5\n",
      "4\n",
      "3\n",
      "2\n",
      "1\n"
     ]
    }
   ],
   "source": [
    "# print numbers from 10 to 1\n",
    "import time\n",
    "i = 10\n",
    "\n",
    "while  i > 0:\n",
    "    print(i)\n",
    "    i -= 1"
   ]
  },
  {
   "cell_type": "code",
   "execution_count": 7,
   "id": "ef2a3118",
   "metadata": {},
   "outputs": [
    {
     "name": "stdout",
     "output_type": "stream",
     "text": [
      "10\n",
      "9\n",
      "8\n",
      "7\n",
      "6\n",
      "5\n",
      "4\n",
      "3\n",
      "2\n",
      "1\n"
     ]
    }
   ],
   "source": [
    "import time\n",
    "i = 10\n",
    "\n",
    "# infinite loop\n",
    "while i>0: \n",
    "    print(i)\n",
    "    i=i-1\n"
   ]
  },
  {
   "cell_type": "code",
   "execution_count": null,
   "id": "47486cbc",
   "metadata": {},
   "outputs": [],
   "source": []
  },
  {
   "cell_type": "code",
   "execution_count": 10,
   "id": "590e465e",
   "metadata": {},
   "outputs": [
    {
     "name": "stdout",
     "output_type": "stream",
     "text": [
      "enter N:5\n",
      "15\n"
     ]
    }
   ],
   "source": [
    "# sum numbers from 1-n\n",
    "\n",
    "n = int(input(\"enter N:\"))\n",
    "\n",
    "s = 0\n",
    "i = 1\n",
    "while i <= n:\n",
    "    s += i\n",
    "    i += 1\n",
    "\n",
    "print(s)\n",
    "\n",
    "# N = 5\n",
    "# i 1 2 3 4  5   6\n",
    "# s 1 3 6 10 15"
   ]
  },
  {
   "cell_type": "code",
   "execution_count": null,
   "id": "afc5d396",
   "metadata": {},
   "outputs": [],
   "source": []
  },
  {
   "cell_type": "code",
   "execution_count": 13,
   "id": "be7fe50f",
   "metadata": {},
   "outputs": [
    {
     "name": "stdout",
     "output_type": "stream",
     "text": [
      "12 3\n",
      "1 32\n",
      "0 321\n"
     ]
    }
   ],
   "source": [
    "n = 123\n",
    "m = 0\n",
    "\n",
    "m = m * 10 + n%10\n",
    "n = n//10\n",
    "print(n, m)\n",
    "\n",
    "\n",
    "m = m * 10 + n%10\n",
    "n = n//10\n",
    "print(n, m)\n",
    "\n",
    "\n",
    "m = m * 10 + n%10\n",
    "n = n//10\n",
    "print(n, m)"
   ]
  },
  {
   "cell_type": "code",
   "execution_count": 21,
   "id": "a4259ed1",
   "metadata": {},
   "outputs": [
    {
     "name": "stdout",
     "output_type": "stream",
     "text": [
      "Enter a number:1234\n",
      "number is not a pallindrome\n"
     ]
    }
   ],
   "source": [
    "# check if number is pallindrom\n",
    "\n",
    "n = int(input(\"Enter a number:\"))\n",
    "\n",
    "temp = n\n",
    "m = 0\n",
    "while n > 0:\n",
    "    m = m * 10 + n%10\n",
    "    n = n//10\n",
    "\n",
    "if m == temp:\n",
    "    print(\"number is pallindrome\")\n",
    "else:\n",
    "    print(\"number is not a pallindrome\")"
   ]
  },
  {
   "cell_type": "code",
   "execution_count": 23,
   "id": "f6bf1cff",
   "metadata": {},
   "outputs": [
    {
     "name": "stdout",
     "output_type": "stream",
     "text": [
      "Enter a number:12321\n",
      "number is pallindrome\n"
     ]
    }
   ],
   "source": [
    "# check if number is pallindrome\n",
    "\n",
    "n = int(input(\"Enter a number:\"))\n",
    "\n",
    "m =  str(n)\n",
    "if m == m[::-1]:\n",
    "    print(\"number is pallindrome\")\n",
    "else:\n",
    "    print(\"number is not a pallindrome\")"
   ]
  },
  {
   "cell_type": "code",
   "execution_count": null,
   "id": "80f2b1aa",
   "metadata": {},
   "outputs": [],
   "source": []
  },
  {
   "cell_type": "code",
   "execution_count": null,
   "id": "772c0fbe",
   "metadata": {},
   "outputs": [],
   "source": []
  },
  {
   "cell_type": "markdown",
   "id": "d53c7987",
   "metadata": {},
   "source": [
    "### for loop\n",
    "- always works with iterables/sequences"
   ]
  },
  {
   "cell_type": "code",
   "execution_count": null,
   "id": "b6c2ec5f",
   "metadata": {},
   "outputs": [],
   "source": [
    "for <var> in <seq>:\n",
    "    ...\n",
    "    ..."
   ]
  },
  {
   "cell_type": "code",
   "execution_count": 24,
   "id": "1bfa6da8",
   "metadata": {},
   "outputs": [
    {
     "name": "stdout",
     "output_type": "stream",
     "text": [
      "a\n",
      "b\n",
      "c\n",
      "d\n"
     ]
    }
   ],
   "source": [
    "s = \"abcd\"\n",
    "\n",
    "for c in s:\n",
    "    print(c)"
   ]
  },
  {
   "cell_type": "code",
   "execution_count": 26,
   "id": "350031c2",
   "metadata": {},
   "outputs": [
    {
     "name": "stdout",
     "output_type": "stream",
     "text": [
      "a\n",
      "b\n",
      "c\n",
      "d\n"
     ]
    }
   ],
   "source": [
    "s = \"abcd\"\n",
    "\n",
    "i = 0\n",
    "while i < len(s):\n",
    "    print(s[i])\n",
    "    i += 1"
   ]
  },
  {
   "cell_type": "code",
   "execution_count": 30,
   "id": "d692b1ce",
   "metadata": {},
   "outputs": [
    {
     "name": "stdout",
     "output_type": "stream",
     "text": [
      "d\n",
      "c\n",
      "b\n",
      "a\n"
     ]
    }
   ],
   "source": [
    "# print in reverse order\n",
    "s = \"abcd\"\n",
    "\n",
    "i = len(s) - 1\n",
    "while i >= 0:\n",
    "    print(s[i])\n",
    "    i -= 1\n"
   ]
  },
  {
   "cell_type": "code",
   "execution_count": 34,
   "id": "ec755b45",
   "metadata": {},
   "outputs": [
    {
     "name": "stdout",
     "output_type": "stream",
     "text": [
      "d\n",
      "c\n",
      "b\n",
      "a\n"
     ]
    }
   ],
   "source": [
    "s = \"abcd\"\n",
    "\n",
    "i = 0\n",
    "while i < len(s):\n",
    "    print(s[len(s) - i - 1])\n",
    "    i = i + 1"
   ]
  },
  {
   "cell_type": "code",
   "execution_count": 32,
   "id": "4630338d",
   "metadata": {},
   "outputs": [
    {
     "name": "stdout",
     "output_type": "stream",
     "text": [
      "d\n",
      "c\n",
      "b\n",
      "a\n"
     ]
    }
   ],
   "source": [
    "s = \"abcd\"\n",
    "\n",
    "i = 1\n",
    "while i <= len(s):\n",
    "    print(s[-i])\n",
    "    i = i + 1"
   ]
  },
  {
   "cell_type": "code",
   "execution_count": null,
   "id": "9530fd6d",
   "metadata": {},
   "outputs": [],
   "source": []
  },
  {
   "cell_type": "code",
   "execution_count": 33,
   "id": "44c7c552",
   "metadata": {},
   "outputs": [
    {
     "name": "stdout",
     "output_type": "stream",
     "text": [
      "d\n",
      "c\n",
      "b\n",
      "a\n"
     ]
    }
   ],
   "source": [
    "s = \"abcd\"\n",
    "s1 = s[::-1]\n",
    "i = 0\n",
    "while i < len(s1):\n",
    "    print(s1[i])\n",
    "    i += 1\n"
   ]
  },
  {
   "cell_type": "code",
   "execution_count": null,
   "id": "5651fa58",
   "metadata": {},
   "outputs": [],
   "source": []
  },
  {
   "cell_type": "code",
   "execution_count": 35,
   "id": "c9265f7e",
   "metadata": {},
   "outputs": [
    {
     "name": "stdout",
     "output_type": "stream",
     "text": [
      "d\n",
      "c\n",
      "b\n",
      "a\n"
     ]
    }
   ],
   "source": [
    "s = \"abcd\"\n",
    "\n",
    "for c in s[::-1]:\n",
    "    print(c)"
   ]
  },
  {
   "cell_type": "code",
   "execution_count": 36,
   "id": "96d8fc1c",
   "metadata": {},
   "outputs": [
    {
     "name": "stdout",
     "output_type": "stream",
     "text": [
      "d\n",
      "c\n",
      "b\n",
      "a\n"
     ]
    }
   ],
   "source": [
    "s = \"abcd\"\n",
    "\n",
    "for c in reversed(s):\n",
    "    print(c)"
   ]
  },
  {
   "cell_type": "code",
   "execution_count": null,
   "id": "8d104745",
   "metadata": {},
   "outputs": [],
   "source": [
    "s = \"abcd\"\n",
    "\n",
    "for c in s[1:]:\n",
    "    print(c)"
   ]
  },
  {
   "cell_type": "code",
   "execution_count": 40,
   "id": "dceb89f6",
   "metadata": {},
   "outputs": [
    {
     "name": "stdout",
     "output_type": "stream",
     "text": [
      "a\n",
      "b\n",
      "c\n"
     ]
    }
   ],
   "source": [
    "import itertools  as it\n",
    "\n",
    "s = \"abcd\"\n",
    "\n",
    "for c in it.islice(s, 3):\n",
    "    print(c)"
   ]
  },
  {
   "cell_type": "code",
   "execution_count": 41,
   "id": "172f6fd0",
   "metadata": {},
   "outputs": [
    {
     "name": "stdout",
     "output_type": "stream",
     "text": [
      "b\n",
      "c\n",
      "d\n"
     ]
    }
   ],
   "source": [
    "import itertools  as it\n",
    "\n",
    "s = \"abcd\"\n",
    "\n",
    "for c in it.islice(s, 1,5):\n",
    "    print(c)"
   ]
  },
  {
   "cell_type": "code",
   "execution_count": 42,
   "id": "94476455",
   "metadata": {},
   "outputs": [
    {
     "name": "stdout",
     "output_type": "stream",
     "text": [
      "b\n",
      "c\n",
      "d\n"
     ]
    }
   ],
   "source": [
    "import itertools  as it\n",
    "\n",
    "s = \"abcd\"\n",
    "\n",
    "for c in it.islice(s, 1,None):\n",
    "    print(c)"
   ]
  },
  {
   "cell_type": "code",
   "execution_count": 43,
   "id": "6cd03c94",
   "metadata": {},
   "outputs": [
    {
     "name": "stdout",
     "output_type": "stream",
     "text": [
      "b\n",
      "d\n"
     ]
    }
   ],
   "source": [
    "import itertools  as it\n",
    "\n",
    "s = \"abcd\"\n",
    "\n",
    "for c in it.islice(s, 1,None,2):\n",
    "    print(c)"
   ]
  },
  {
   "cell_type": "code",
   "execution_count": null,
   "id": "f4338178",
   "metadata": {},
   "outputs": [],
   "source": [
    "\n",
    "std::vector<int> v;\n",
    "        \n",
    "for (auto it = v.begin(); it != v.end(); it = it.next()) {\n",
    "    \n",
    "}"
   ]
  },
  {
   "cell_type": "code",
   "execution_count": null,
   "id": "a08f12f4",
   "metadata": {},
   "outputs": [],
   "source": []
  },
  {
   "cell_type": "code",
   "execution_count": 38,
   "id": "375b059c",
   "metadata": {},
   "outputs": [
    {
     "name": "stdout",
     "output_type": "stream",
     "text": [
      "<reversed object at 0x00000238787470A0>\n"
     ]
    }
   ],
   "source": [
    "s = \"abcd\"\n",
    "r = reversed(s)\n",
    "print(r)"
   ]
  },
  {
   "cell_type": "code",
   "execution_count": null,
   "id": "58cac776",
   "metadata": {},
   "outputs": [],
   "source": []
  },
  {
   "cell_type": "markdown",
   "id": "d5059943",
   "metadata": {},
   "source": [
    "### range()"
   ]
  },
  {
   "cell_type": "code",
   "execution_count": 45,
   "id": "f3b27e4d",
   "metadata": {},
   "outputs": [
    {
     "name": "stdout",
     "output_type": "stream",
     "text": [
      "range(0, 10)\n",
      "['__bool__', '__class__', '__contains__', '__delattr__', '__dir__', '__doc__', '__eq__', '__format__', '__ge__', '__getattribute__', '__getitem__', '__gt__', '__hash__', '__init__', '__init_subclass__', '__iter__', '__le__', '__len__', '__lt__', '__ne__', '__new__', '__reduce__', '__reduce_ex__', '__repr__', '__reversed__', '__setattr__', '__sizeof__', '__str__', '__subclasshook__', 'count', 'index', 'start', 'step', 'stop']\n"
     ]
    }
   ],
   "source": [
    "r = range(10)\n",
    "print(r)\n",
    "\n",
    "print(dir(r))"
   ]
  },
  {
   "cell_type": "code",
   "execution_count": 47,
   "id": "4baf286f",
   "metadata": {},
   "outputs": [
    {
     "name": "stdout",
     "output_type": "stream",
     "text": [
      "0\n",
      "1\n",
      "2\n",
      "3\n",
      "4\n"
     ]
    }
   ],
   "source": [
    "for i in range(5):\n",
    "    print(i)"
   ]
  },
  {
   "cell_type": "code",
   "execution_count": 48,
   "id": "1952fb29",
   "metadata": {},
   "outputs": [
    {
     "name": "stdout",
     "output_type": "stream",
     "text": [
      "5\n",
      "6\n",
      "7\n",
      "8\n",
      "9\n"
     ]
    }
   ],
   "source": [
    "for i in range(5,10):\n",
    "    print(i)"
   ]
  },
  {
   "cell_type": "code",
   "execution_count": 49,
   "id": "6ad58b28",
   "metadata": {},
   "outputs": [
    {
     "name": "stdout",
     "output_type": "stream",
     "text": [
      "5\n",
      "7\n",
      "9\n"
     ]
    }
   ],
   "source": [
    "for i in range(5,10, 2):\n",
    "    print(i)"
   ]
  },
  {
   "cell_type": "code",
   "execution_count": 50,
   "id": "d82d2fff",
   "metadata": {},
   "outputs": [
    {
     "name": "stdout",
     "output_type": "stream",
     "text": [
      "0\n",
      "1\n",
      "2\n",
      "3\n",
      "4\n"
     ]
    }
   ],
   "source": [
    "for i in range(5):\n",
    "    print(i)\n",
    "    if i %2 == 0:\n",
    "        i = i + 1\n",
    "    else:\n",
    "        i = i + 2"
   ]
  },
  {
   "cell_type": "code",
   "execution_count": 51,
   "id": "7a79e21f",
   "metadata": {},
   "outputs": [
    {
     "name": "stdout",
     "output_type": "stream",
     "text": [
      "10\n",
      "9\n",
      "8\n",
      "7\n",
      "6\n"
     ]
    }
   ],
   "source": [
    "for k in range(10,5,-1):\n",
    "    print(k)"
   ]
  },
  {
   "cell_type": "code",
   "execution_count": 53,
   "id": "911be6a5",
   "metadata": {},
   "outputs": [
    {
     "name": "stdout",
     "output_type": "stream",
     "text": [
      "b\n",
      "d\n"
     ]
    }
   ],
   "source": [
    "s = \"abcd\"\n",
    "\n",
    "for i in range(1,len(s),2):\n",
    "    print(s[i])"
   ]
  },
  {
   "cell_type": "code",
   "execution_count": null,
   "id": "d2293d09",
   "metadata": {},
   "outputs": [],
   "source": []
  },
  {
   "cell_type": "code",
   "execution_count": null,
   "id": "fd68bbef",
   "metadata": {},
   "outputs": [],
   "source": []
  },
  {
   "cell_type": "code",
   "execution_count": 3,
   "id": "6e3520ef",
   "metadata": {},
   "outputs": [
    {
     "ename": "KeyboardInterrupt",
     "evalue": "Interrupted by user",
     "output_type": "error",
     "traceback": [
      "\u001b[1;31m---------------------------------------------------------------------------\u001b[0m",
      "\u001b[1;31mKeyboardInterrupt\u001b[0m                         Traceback (most recent call last)",
      "\u001b[1;32mC:\\Users\\LEANGA~1\\AppData\\Local\\Temp/ipykernel_19552/1290019835.py\u001b[0m in \u001b[0;36m<module>\u001b[1;34m\u001b[0m\n\u001b[1;32m----> 1\u001b[1;33m \u001b[0minput\u001b[0m\u001b[1;33m(\u001b[0m\u001b[1;33m)\u001b[0m\u001b[1;33m\u001b[0m\u001b[1;33m\u001b[0m\u001b[0m\n\u001b[0m",
      "\u001b[1;32m~\\AppData\\Roaming\\Python\\Python38\\site-packages\\ipykernel\\kernelbase.py\u001b[0m in \u001b[0;36mraw_input\u001b[1;34m(self, prompt)\u001b[0m\n\u001b[0;32m    979\u001b[0m                 \u001b[1;34m\"raw_input was called, but this frontend does not support input requests.\"\u001b[0m\u001b[1;33m\u001b[0m\u001b[1;33m\u001b[0m\u001b[0m\n\u001b[0;32m    980\u001b[0m             )\n\u001b[1;32m--> 981\u001b[1;33m         return self._input_request(\n\u001b[0m\u001b[0;32m    982\u001b[0m             \u001b[0mstr\u001b[0m\u001b[1;33m(\u001b[0m\u001b[0mprompt\u001b[0m\u001b[1;33m)\u001b[0m\u001b[1;33m,\u001b[0m\u001b[1;33m\u001b[0m\u001b[1;33m\u001b[0m\u001b[0m\n\u001b[0;32m    983\u001b[0m             \u001b[0mself\u001b[0m\u001b[1;33m.\u001b[0m\u001b[0m_parent_ident\u001b[0m\u001b[1;33m[\u001b[0m\u001b[1;34m\"shell\"\u001b[0m\u001b[1;33m]\u001b[0m\u001b[1;33m,\u001b[0m\u001b[1;33m\u001b[0m\u001b[1;33m\u001b[0m\u001b[0m\n",
      "\u001b[1;32m~\\AppData\\Roaming\\Python\\Python38\\site-packages\\ipykernel\\kernelbase.py\u001b[0m in \u001b[0;36m_input_request\u001b[1;34m(self, prompt, ident, parent, password)\u001b[0m\n\u001b[0;32m   1024\u001b[0m             \u001b[1;32mexcept\u001b[0m \u001b[0mKeyboardInterrupt\u001b[0m\u001b[1;33m:\u001b[0m\u001b[1;33m\u001b[0m\u001b[1;33m\u001b[0m\u001b[0m\n\u001b[0;32m   1025\u001b[0m                 \u001b[1;31m# re-raise KeyboardInterrupt, to truncate traceback\u001b[0m\u001b[1;33m\u001b[0m\u001b[1;33m\u001b[0m\u001b[1;33m\u001b[0m\u001b[0m\n\u001b[1;32m-> 1026\u001b[1;33m                 \u001b[1;32mraise\u001b[0m \u001b[0mKeyboardInterrupt\u001b[0m\u001b[1;33m(\u001b[0m\u001b[1;34m\"Interrupted by user\"\u001b[0m\u001b[1;33m)\u001b[0m \u001b[1;32mfrom\u001b[0m \u001b[1;32mNone\u001b[0m\u001b[1;33m\u001b[0m\u001b[1;33m\u001b[0m\u001b[0m\n\u001b[0m\u001b[0;32m   1027\u001b[0m             \u001b[1;32mexcept\u001b[0m \u001b[0mException\u001b[0m\u001b[1;33m:\u001b[0m\u001b[1;33m\u001b[0m\u001b[1;33m\u001b[0m\u001b[0m\n\u001b[0;32m   1028\u001b[0m                 \u001b[0mself\u001b[0m\u001b[1;33m.\u001b[0m\u001b[0mlog\u001b[0m\u001b[1;33m.\u001b[0m\u001b[0mwarning\u001b[0m\u001b[1;33m(\u001b[0m\u001b[1;34m\"Invalid Message:\"\u001b[0m\u001b[1;33m,\u001b[0m \u001b[0mexc_info\u001b[0m\u001b[1;33m=\u001b[0m\u001b[1;32mTrue\u001b[0m\u001b[1;33m)\u001b[0m\u001b[1;33m\u001b[0m\u001b[1;33m\u001b[0m\u001b[0m\n",
      "\u001b[1;31mKeyboardInterrupt\u001b[0m: Interrupted by user"
     ]
    }
   ],
   "source": [
    "input()"
   ]
  },
  {
   "cell_type": "code",
   "execution_count": 2,
   "id": "dc02cc6d",
   "metadata": {},
   "outputs": [
    {
     "name": "stdout",
     "output_type": "stream",
     "text": [
      "5\n"
     ]
    },
    {
     "data": {
      "text/plain": [
       "'5'"
      ]
     },
     "execution_count": 2,
     "metadata": {},
     "output_type": "execute_result"
    }
   ],
   "source": [
    "input()"
   ]
  },
  {
   "cell_type": "code",
   "execution_count": null,
   "id": "5b243426",
   "metadata": {},
   "outputs": [],
   "source": []
  },
  {
   "cell_type": "code",
   "execution_count": null,
   "id": "ae7c98c8",
   "metadata": {},
   "outputs": [],
   "source": [
    "# WAP to input a string and print all chracters which are not alphabets\n"
   ]
  },
  {
   "cell_type": "code",
   "execution_count": 57,
   "id": "86e5d6d4",
   "metadata": {},
   "outputs": [
    {
     "name": "stdout",
     "output_type": "stream",
     "text": [
      "'1'\n",
      "'2'\n",
      "'3'\n",
      "' '\n",
      "' '\n",
      "' '\n",
      "','\n"
     ]
    }
   ],
   "source": [
    "s=\"harini123 s r ,\"\n",
    "for i in s:\n",
    "    if not i.isalpha():\n",
    "        print(f\"'{i}'\")\n"
   ]
  },
  {
   "cell_type": "code",
   "execution_count": null,
   "id": "2cce4bad",
   "metadata": {},
   "outputs": [],
   "source": []
  },
  {
   "cell_type": "code",
   "execution_count": 59,
   "id": "7995f4a4",
   "metadata": {},
   "outputs": [
    {
     "name": "stdout",
     "output_type": "stream",
     "text": [
      "123 ,*ab\n",
      "1\n",
      "2\n",
      "3\n"
     ]
    }
   ],
   "source": [
    "s=input()\n",
    "for c in s:\n",
    "    if c.isdigit():\n",
    "        print(c)\n"
   ]
  },
  {
   "cell_type": "code",
   "execution_count": null,
   "id": "bbc4fba7",
   "metadata": {},
   "outputs": [],
   "source": []
  },
  {
   "cell_type": "code",
   "execution_count": null,
   "id": "93950fa7",
   "metadata": {},
   "outputs": [],
   "source": [
    "# WAP to input a string and count the number of whitespace characters in the string\n",
    "# s = \"abc\\tpq 12 3\"\n",
    "# Count = 3"
   ]
  },
  {
   "cell_type": "code",
   "execution_count": null,
   "id": "c22956f3",
   "metadata": {},
   "outputs": [],
   "source": [
    "s = \"abc  212\"\n",
    "\n",
    "i = 0\n",
    "\n",
    "for c in s:\n",
    "    if c.isspace():\n",
    "        i = i + 1\n",
    "\n",
    "print(i)\n"
   ]
  },
  {
   "cell_type": "code",
   "execution_count": 62,
   "id": "c47fd337",
   "metadata": {},
   "outputs": [
    {
     "name": "stdout",
     "output_type": "stream",
     "text": [
      "3\n"
     ]
    }
   ],
   "source": [
    "s = \"abc\\tgc gb ds\"\n",
    "\n",
    "count = 0\n",
    "for i in s:\n",
    "    if(i.isspace()):\n",
    "        count=count+1\n",
    "\n",
    "print(count)\n"
   ]
  },
  {
   "cell_type": "code",
   "execution_count": null,
   "id": "7755c46d",
   "metadata": {},
   "outputs": [],
   "source": []
  },
  {
   "cell_type": "code",
   "execution_count": null,
   "id": "c47c2b36",
   "metadata": {},
   "outputs": [],
   "source": []
  },
  {
   "cell_type": "code",
   "execution_count": null,
   "id": "5e65abd9",
   "metadata": {},
   "outputs": [],
   "source": []
  },
  {
   "cell_type": "markdown",
   "id": "7d0ed176",
   "metadata": {},
   "source": [
    "### Break and continue\n",
    "- break and continue can only be used inside loops in python"
   ]
  },
  {
   "cell_type": "code",
   "execution_count": 65,
   "id": "3d0651e4",
   "metadata": {},
   "outputs": [
    {
     "name": "stdout",
     "output_type": "stream",
     "text": [
      "0\n",
      "1\n",
      "2\n",
      "3\n",
      "4\n",
      "5\n",
      "6\n",
      "7\n",
      "8\n",
      "9\n"
     ]
    }
   ],
   "source": [
    "for i in range(10):\n",
    "    print(i)"
   ]
  },
  {
   "cell_type": "code",
   "execution_count": 69,
   "id": "3f8fd63c",
   "metadata": {},
   "outputs": [],
   "source": [
    "for i in range(10):\n",
    "    if i%5 == 0:\n",
    "        break\n",
    "    print(i)"
   ]
  },
  {
   "cell_type": "code",
   "execution_count": 73,
   "id": "7addffe7",
   "metadata": {},
   "outputs": [
    {
     "name": "stdout",
     "output_type": "stream",
     "text": [
      "1\n",
      "2\n",
      "3\n",
      "afer loop\n"
     ]
    }
   ],
   "source": [
    "for i in range(1, 10):\n",
    "    if i%5 == 0:\n",
    "        break\n",
    "    elif i > 3:\n",
    "        break\n",
    "    print(i)\n",
    "    \n",
    "print(\"afer loop\")"
   ]
  },
  {
   "cell_type": "code",
   "execution_count": null,
   "id": "6aeab2a7",
   "metadata": {},
   "outputs": [],
   "source": []
  },
  {
   "cell_type": "code",
   "execution_count": null,
   "id": "50727451",
   "metadata": {},
   "outputs": [],
   "source": []
  },
  {
   "cell_type": "code",
   "execution_count": 68,
   "id": "11aa8f9c",
   "metadata": {},
   "outputs": [
    {
     "ename": "SyntaxError",
     "evalue": "'break' outside loop (Temp/ipykernel_19552/1804308914.py, line 3)",
     "output_type": "error",
     "traceback": [
      "\u001b[1;36m  File \u001b[1;32m\"C:\\Users\\LEANGA~1\\AppData\\Local\\Temp/ipykernel_19552/1804308914.py\"\u001b[1;36m, line \u001b[1;32m3\u001b[0m\n\u001b[1;33m    break\u001b[0m\n\u001b[1;37m    ^\u001b[0m\n\u001b[1;31mSyntaxError\u001b[0m\u001b[1;31m:\u001b[0m 'break' outside loop\n"
     ]
    }
   ],
   "source": [
    "if True:\n",
    "    print(1)\n",
    "    break"
   ]
  },
  {
   "cell_type": "code",
   "execution_count": null,
   "id": "deebbeb7",
   "metadata": {},
   "outputs": [],
   "source": []
  },
  {
   "cell_type": "markdown",
   "id": "1e6746a6",
   "metadata": {},
   "source": [
    "### continue"
   ]
  },
  {
   "cell_type": "code",
   "execution_count": 79,
   "id": "e92cc0c6",
   "metadata": {},
   "outputs": [
    {
     "name": "stdout",
     "output_type": "stream",
     "text": [
      "1\n",
      "3\n",
      "5\n",
      "7\n",
      "9\n"
     ]
    }
   ],
   "source": [
    "for i in range(10):\n",
    "    if i % 2 == 0:\n",
    "        continue\n",
    "    print(i)"
   ]
  },
  {
   "cell_type": "code",
   "execution_count": 81,
   "id": "9b45427b",
   "metadata": {},
   "outputs": [
    {
     "name": "stdout",
     "output_type": "stream",
     "text": [
      "0\n",
      "1\n",
      "2\n",
      "3\n",
      "4\n",
      "5\n",
      "6\n",
      "7\n",
      "8\n",
      "9\n"
     ]
    }
   ],
   "source": [
    "for i in range(10):\n",
    "    print(i)\n",
    "    if i % 2 == 0:\n",
    "        continue"
   ]
  },
  {
   "cell_type": "code",
   "execution_count": null,
   "id": "e8270edb",
   "metadata": {},
   "outputs": [],
   "source": []
  },
  {
   "cell_type": "code",
   "execution_count": null,
   "id": "ddefa1c1",
   "metadata": {},
   "outputs": [],
   "source": [
    "# WAP to check if string is a pallindrome or not"
   ]
  },
  {
   "cell_type": "code",
   "execution_count": 77,
   "id": "4cf6a9de",
   "metadata": {},
   "outputs": [
    {
     "name": "stdout",
     "output_type": "stream",
     "text": [
      "enter a string: abcdcba\n",
      "is pallindrom\n"
     ]
    }
   ],
   "source": [
    "s = input(\"enter a string: \")\n",
    "\n",
    "is_pallindrom = True\n",
    "\n",
    "i = 0\n",
    "j = len(s) - 1\n",
    "\n",
    "while i < j:\n",
    "    if s[i] != s[j]:\n",
    "        is_pallindrom = False\n",
    "        break\n",
    "    \n",
    "    i += 1\n",
    "    j -= 1\n",
    "    \n",
    "if is_pallindrom:\n",
    "    print(\"is pallindrom\")\n",
    "else:\n",
    "    print(\"is not pallindrom\")\n",
    "    \n",
    "# abcde\n",
    "# abcba\n",
    "# abcdba\n",
    "\n",
    "# i = 0 ; i += 1\n",
    "# j = len(s) - 1 ; j -= 1\n",
    "\n",
    "# i < j"
   ]
  },
  {
   "cell_type": "code",
   "execution_count": null,
   "id": "32bf19f5",
   "metadata": {},
   "outputs": [],
   "source": [
    "# WAP to input numbers from user and keep adding them. If the user enters something else then stop and print the final sum"
   ]
  },
  {
   "cell_type": "code",
   "execution_count": null,
   "id": "be5d07cf",
   "metadata": {},
   "outputs": [],
   "source": [
    "s=0\n",
    "while True:\n",
    "    n=input()\n",
    "    if not n.isdigit():\n",
    "        break\n",
    "    s=s+int(n)\n",
    "print(s)"
   ]
  },
  {
   "cell_type": "code",
   "execution_count": null,
   "id": "8aa6e29f",
   "metadata": {},
   "outputs": [],
   "source": []
  },
  {
   "cell_type": "code",
   "execution_count": null,
   "id": "b7ec5a5e",
   "metadata": {},
   "outputs": [],
   "source": []
  },
  {
   "cell_type": "code",
   "execution_count": null,
   "id": "9147c543",
   "metadata": {},
   "outputs": [],
   "source": [
    "# WAP to print even numbers from 1-n"
   ]
  },
  {
   "cell_type": "code",
   "execution_count": null,
   "id": "23053dbe",
   "metadata": {},
   "outputs": [],
   "source": [
    "#method 1\n",
    "# From satish kumar to Everyone 11:16 AM\n",
    "a=int(input())\n",
    "for c in range(a):\n",
    "    if (c%2==0):\n",
    "        print(c)\n",
    "\n",
    "# From Harini S R to Everyone 11:17 AM\n",
    "#method 2\n",
    "i=1\n",
    "while i<10:\n",
    "    if(i%2==0):\n",
    "        print(i)\n",
    "    i=i+1\n",
    "\n",
    "# From Abhijeet Gawande to Everyone 11:18 AM\n",
    "s = int(input())\n",
    "\n",
    "i = 0\n",
    "\n",
    "while i < s:\n",
    "    if(i%2 == 0):\n",
    "        print(i)\n",
    "    i = i + 1\n",
    "\n",
    "# From Harini S R to Everyone 11:19 AM\n",
    "#method 3\n",
    "d=range(1,10)\n",
    "for i in d:\n",
    "    if(i%2==0):\n",
    "        print(i)\n",
    "\n",
    "#Method 2 Abhijeet\n",
    "s = int(input())\n",
    "i = 0\n",
    "for c in range(0,s,2):\n",
    "    print(c)\n",
    "\n",
    "# suvil\n",
    "n = int(input())\n",
    "i = 1\n",
    "while i <= n:\n",
    "    print(i*2)\n",
    "    i = i + 1\n"
   ]
  },
  {
   "cell_type": "code",
   "execution_count": null,
   "id": "5a3abfbf",
   "metadata": {},
   "outputs": [],
   "source": []
  },
  {
   "cell_type": "code",
   "execution_count": null,
   "id": "8ad3d60f",
   "metadata": {},
   "outputs": [],
   "source": [
    "# WAP to input x and y and print x to the power y.\n",
    "# Without using builtin function and ** operator. write the logic yourself\n",
    "\n",
    "# x = 2\n",
    "# y = 3\n",
    "# x**y = 8\n",
    "\n",
    "\n",
    "multiply x.. y times to itself\n",
    "\n",
    "2 *2 *2 *2 *2.. n times\n",
    "\n",
    "2 *2  ..\n",
    "   4  ...\n",
    "      8* ...\n",
    "         16* ...\n",
    "\n",
    "var to store the producet\n"
   ]
  },
  {
   "cell_type": "code",
   "execution_count": null,
   "id": "b5f32577",
   "metadata": {},
   "outputs": [],
   "source": [
    "s = int(input())\n",
    "a = int(input())\n",
    "\n",
    "i = 1\n",
    "\n",
    "while i < a:\n",
    "    s = s * s\n",
    "    i = i + 1\n",
    "    \n",
    "print(s)"
   ]
  },
  {
   "cell_type": "code",
   "execution_count": null,
   "id": "6f699bc1",
   "metadata": {},
   "outputs": [],
   "source": [
    "s = int(input())\n",
    "a = int(input())\n",
    "\n",
    "x = s\n",
    "\n",
    "for c in range(1,a):\n",
    "    s = x * s\n",
    "    \n",
    "print(s)\n"
   ]
  },
  {
   "cell_type": "code",
   "execution_count": 88,
   "id": "d1b7bd5d",
   "metadata": {},
   "outputs": [
    {
     "name": "stdout",
     "output_type": "stream",
     "text": [
      "12\n",
      "4\n",
      "20736\n"
     ]
    }
   ],
   "source": [
    "x = int(input())\n",
    "y = int(input())\n",
    "\n",
    "p = 1\n",
    "\n",
    "for _ in range(y):\n",
    "    p = p * x\n",
    "    \n",
    "print(p)\n"
   ]
  },
  {
   "cell_type": "code",
   "execution_count": null,
   "id": "86cc42fa",
   "metadata": {},
   "outputs": [],
   "source": [
    "x=2\n",
    "y=3\n",
    "d=1\n",
    "for i in range(0,y):\n",
    "    d=x*d\n",
    "\n",
    "print(d)\n"
   ]
  },
  {
   "cell_type": "code",
   "execution_count": null,
   "id": "8a8248c0",
   "metadata": {},
   "outputs": [],
   "source": []
  },
  {
   "cell_type": "code",
   "execution_count": null,
   "id": "08e8301e",
   "metadata": {},
   "outputs": [],
   "source": []
  },
  {
   "cell_type": "code",
   "execution_count": 85,
   "id": "0e72b9d4",
   "metadata": {},
   "outputs": [
    {
     "name": "stdout",
     "output_type": "stream",
     "text": [
      "1\n",
      "2\n",
      "3\n",
      "f\n",
      "6\n"
     ]
    }
   ],
   "source": [
    "i = 0\n",
    "\n",
    "while True:\n",
    "    s = input()\n",
    "    if s.isdigit():\n",
    "        r = int(s)\n",
    "        i = i + r\n",
    "    else:\n",
    "        print(i)\n",
    "        break\n",
    "        "
   ]
  }
 ],
 "metadata": {
  "kernelspec": {
   "display_name": "Python 3",
   "language": "python",
   "name": "python3"
  },
  "language_info": {
   "codemirror_mode": {
    "name": "ipython",
    "version": 3
   },
   "file_extension": ".py",
   "mimetype": "text/x-python",
   "name": "python",
   "nbconvert_exporter": "python",
   "pygments_lexer": "ipython3",
   "version": "3.8.8"
  }
 },
 "nbformat": 4,
 "nbformat_minor": 5
}
