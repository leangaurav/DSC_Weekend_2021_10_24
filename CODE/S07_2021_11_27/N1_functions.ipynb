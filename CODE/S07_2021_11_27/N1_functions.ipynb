{
 "cells": [
  {
   "cell_type": "markdown",
   "id": "d4e3033c",
   "metadata": {},
   "source": [
    "## Functions"
   ]
  },
  {
   "cell_type": "code",
   "execution_count": null,
   "id": "1097fc68",
   "metadata": {},
   "outputs": [],
   "source": [
    "- functions typically have a name\n",
    "- arguments (0-n)\n",
    "- code/logic\n",
    "- may contain some return statements\n",
    "\n",
    "Advantage:\n",
    "- reusable\n",
    "- break down complex logic into smaller manageable chunks of related logic\n",
    "- reduce lines of code"
   ]
  },
  {
   "cell_type": "code",
   "execution_count": null,
   "id": "a5ad2e0b",
   "metadata": {},
   "outputs": [],
   "source": [
    "- Named piece of code"
   ]
  },
  {
   "cell_type": "code",
   "execution_count": 2,
   "id": "5a3068f9",
   "metadata": {},
   "outputs": [
    {
     "name": "stdout",
     "output_type": "stream",
     "text": [
      "enter P:10\n",
      "enter R:2\n",
      "enter T:2\n",
      "SI:  0.4\n",
      "enter P:333\n",
      "enter R:3\n",
      "enter T:3\n",
      "SI:  29.97\n"
     ]
    }
   ],
   "source": [
    "# WAP to input P, R, T and print simple interest\n",
    "\n",
    "\n",
    "p = float(input(\"Enter P:\"))\n",
    "r = float(input(\"Enter R:\"))\n",
    "t = float(input(\"Enter T:\"))\n",
    "\n",
    "si = (p*r*t)/100\n",
    "\n",
    "print(\"SI: \", si)\n",
    "\n",
    "\n",
    "p = float(input(\"enter P:\"))\n",
    "r = float(input(\"enter R:\"))\n",
    "t = float(input(\"enter T:\"))\n",
    "\n",
    "si = (p*r*t)/100\n",
    "\n",
    "print(\"SI: \", si)"
   ]
  },
  {
   "cell_type": "code",
   "execution_count": null,
   "id": "86488a0b",
   "metadata": {},
   "outputs": [],
   "source": []
  },
  {
   "cell_type": "code",
   "execution_count": 20,
   "id": "71c3afba",
   "metadata": {},
   "outputs": [],
   "source": [
    "## SI v1\n",
    "# function definition\n",
    "def calc_si():\n",
    "    p = float(input(\"Enter P:\"))\n",
    "    r = float(input(\"Enter R:\"))\n",
    "    t = float(input(\"Enter T:\"))\n",
    "\n",
    "    si = (p*r*t)/100\n",
    "\n",
    "    print(\"SI: \", si)\n",
    "    \n",
    "# calc_si(1,2)"
   ]
  },
  {
   "cell_type": "code",
   "execution_count": 6,
   "id": "c74c14b8",
   "metadata": {},
   "outputs": [
    {
     "name": "stdout",
     "output_type": "stream",
     "text": [
      "['In', 'Out', '_', '_4', '__', '___', '__builtin__', '__builtins__', '__doc__', '__loader__', '__name__', '__package__', '__spec__', '_dh', '_i', '_i1', '_i2', '_i3', '_i4', '_i5', '_i6', '_ih', '_ii', '_iii', '_oh', 'calc_si', 'exit', 'get_ipython', 'p', 'quit', 'r', 'si', 't']\n"
     ]
    }
   ],
   "source": [
    "print(dir())"
   ]
  },
  {
   "cell_type": "code",
   "execution_count": 7,
   "id": "352a7b24",
   "metadata": {},
   "outputs": [
    {
     "name": "stdout",
     "output_type": "stream",
     "text": [
      "<function calc_si at 0x0000022FA3C9AE50>\n"
     ]
    }
   ],
   "source": [
    "print(calc_si)"
   ]
  },
  {
   "cell_type": "code",
   "execution_count": 10,
   "id": "85b4fe34",
   "metadata": {},
   "outputs": [
    {
     "name": "stdout",
     "output_type": "stream",
     "text": [
      "Enter P:10\n",
      "Enter R:2\n",
      "Enter T:1\n",
      "SI:  0.2\n"
     ]
    }
   ],
   "source": [
    "calc_si() # calling/invoking"
   ]
  },
  {
   "cell_type": "code",
   "execution_count": null,
   "id": "79819b72",
   "metadata": {},
   "outputs": [],
   "source": []
  },
  {
   "cell_type": "code",
   "execution_count": 11,
   "id": "1b460601",
   "metadata": {},
   "outputs": [
    {
     "name": "stdout",
     "output_type": "stream",
     "text": [
      "I'm the second f1\n"
     ]
    }
   ],
   "source": [
    "# python doesn't support function overloading\n",
    "def f1():\n",
    "    print(\"I'm the first f1\")\n",
    "    \n",
    "def f1():\n",
    "    print(\"I'm the second f1\")\n",
    "\n",
    "f1()"
   ]
  },
  {
   "cell_type": "code",
   "execution_count": null,
   "id": "82b20415",
   "metadata": {},
   "outputs": [],
   "source": [
    "s = 10\n",
    "s = 10.5\n",
    "print(s)"
   ]
  },
  {
   "cell_type": "code",
   "execution_count": null,
   "id": "dcfce632",
   "metadata": {},
   "outputs": [],
   "source": []
  },
  {
   "cell_type": "code",
   "execution_count": 12,
   "id": "ff58e1db",
   "metadata": {},
   "outputs": [
    {
     "ename": "NameError",
     "evalue": "name 'f2' is not defined",
     "output_type": "error",
     "traceback": [
      "\u001b[1;31m---------------------------------------------------------------------------\u001b[0m",
      "\u001b[1;31mNameError\u001b[0m                                 Traceback (most recent call last)",
      "\u001b[1;32mC:\\Users\\LEANGA~1\\AppData\\Local\\Temp/ipykernel_18252/3549315859.py\u001b[0m in \u001b[0;36m<module>\u001b[1;34m\u001b[0m\n\u001b[1;32m----> 1\u001b[1;33m \u001b[0mf2\u001b[0m\u001b[1;33m(\u001b[0m\u001b[1;33m)\u001b[0m\u001b[1;33m\u001b[0m\u001b[1;33m\u001b[0m\u001b[0m\n\u001b[0m\u001b[0;32m      2\u001b[0m \u001b[1;33m\u001b[0m\u001b[0m\n\u001b[0;32m      3\u001b[0m \u001b[1;32mdef\u001b[0m \u001b[0mf2\u001b[0m\u001b[1;33m(\u001b[0m\u001b[1;33m)\u001b[0m\u001b[1;33m:\u001b[0m\u001b[1;33m\u001b[0m\u001b[1;33m\u001b[0m\u001b[0m\n\u001b[0;32m      4\u001b[0m     \u001b[0mprint\u001b[0m\u001b[1;33m(\u001b[0m\u001b[1;34m\"F2\"\u001b[0m\u001b[1;33m)\u001b[0m\u001b[1;33m\u001b[0m\u001b[1;33m\u001b[0m\u001b[0m\n",
      "\u001b[1;31mNameError\u001b[0m: name 'f2' is not defined"
     ]
    }
   ],
   "source": [
    "f2()\n",
    "\n",
    "def f2():\n",
    "    print(\"F2\")"
   ]
  },
  {
   "cell_type": "code",
   "execution_count": 13,
   "id": "062b5f08",
   "metadata": {},
   "outputs": [
    {
     "name": "stdout",
     "output_type": "stream",
     "text": [
      "f1\n",
      "F2\n"
     ]
    }
   ],
   "source": [
    "def f1():\n",
    "    print(\"f1\")\n",
    "    f2()\n",
    "\n",
    "def f2():\n",
    "    print(\"F2\")\n",
    "\n",
    "f1()"
   ]
  },
  {
   "cell_type": "code",
   "execution_count": null,
   "id": "6eb77a48",
   "metadata": {},
   "outputs": [],
   "source": []
  },
  {
   "cell_type": "code",
   "execution_count": 17,
   "id": "342ab284",
   "metadata": {},
   "outputs": [
    {
     "data": {
      "text/plain": [
       "10000"
      ]
     },
     "execution_count": 17,
     "metadata": {},
     "output_type": "execute_result"
    }
   ],
   "source": [
    "pow(10**2,2)"
   ]
  },
  {
   "cell_type": "code",
   "execution_count": 16,
   "id": "05f26089",
   "metadata": {},
   "outputs": [
    {
     "name": "stdout",
     "output_type": "stream",
     "text": [
      "9\n"
     ]
    },
    {
     "data": {
      "text/plain": [
       "81"
      ]
     },
     "execution_count": 16,
     "metadata": {},
     "output_type": "execute_result"
    }
   ],
   "source": [
    "b = int(input())\n",
    "pow(b, 2)"
   ]
  },
  {
   "cell_type": "markdown",
   "id": "3a17e379",
   "metadata": {},
   "source": [
    "### Function Arguments"
   ]
  },
  {
   "cell_type": "code",
   "execution_count": 21,
   "id": "c0d7071e",
   "metadata": {},
   "outputs": [
    {
     "name": "stdout",
     "output_type": "stream",
     "text": [
      "Enter P:111\n",
      "Enter R:2\n",
      "Enter T:2\n",
      "SI:  4.44\n",
      "SI:  40.0\n"
     ]
    }
   ],
   "source": [
    "## SI v2\n",
    "# function definition\n",
    "def calc_si(p, r, t):\n",
    "    si = (p*r*t)/100\n",
    "    print(\"SI: \", si)\n",
    "    \n",
    "a = float(input(\"Enter P:\"))\n",
    "b = float(input(\"Enter R:\"))\n",
    "t = float(input(\"Enter T:\"))\n",
    "\n",
    "calc_si(a,b,t)\n",
    "calc_si(1000,b,2)"
   ]
  },
  {
   "cell_type": "code",
   "execution_count": null,
   "id": "8b6af640",
   "metadata": {},
   "outputs": [],
   "source": []
  },
  {
   "cell_type": "code",
   "execution_count": null,
   "id": "3d639668",
   "metadata": {},
   "outputs": [],
   "source": [
    "# WAF c_to_f() that takes temp in Celcius as argument and prints temperatur in Farenheit\n",
    "# F = 9/5C + 32\n",
    "\n",
    "# hari\n",
    "def c_to_f(c):\n",
    "    f = ((9/5)*c)+32\n",
    "    print(f)\n",
    "c=float(input(\"Enter C: \"))\n",
    "c_to_f(c)\n",
    "c_to_f(35)\n",
    "\n",
    "# satish\n",
    "def c_tof(c):\n",
    "    print(\"Fahrenheit\", c* (9/5)+32)\n",
    "\n",
    "c=int(input(\"enter Celsius\"))\n",
    "c_tof(c)\n"
   ]
  },
  {
   "cell_type": "code",
   "execution_count": null,
   "id": "789f157a",
   "metadata": {},
   "outputs": [],
   "source": []
  },
  {
   "cell_type": "markdown",
   "id": "d44d18f6",
   "metadata": {},
   "source": [
    "### return value of a function\n",
    "- by default  all functions return a None\n",
    "- if a function contains return statement which gets executed, then that value is returned from the function. "
   ]
  },
  {
   "cell_type": "code",
   "execution_count": 23,
   "id": "7a458597",
   "metadata": {},
   "outputs": [
    {
     "name": "stdout",
     "output_type": "stream",
     "text": [
      "100\n"
     ]
    }
   ],
   "source": [
    "r = pow(10,2)\n",
    "print(r)"
   ]
  },
  {
   "cell_type": "code",
   "execution_count": 25,
   "id": "308b941a",
   "metadata": {},
   "outputs": [],
   "source": [
    "r = pow(10,2)"
   ]
  },
  {
   "cell_type": "code",
   "execution_count": 32,
   "id": "5fc243aa",
   "metadata": {},
   "outputs": [
    {
     "name": "stdout",
     "output_type": "stream",
     "text": [
      "20.0\n",
      "120.0\n"
     ]
    }
   ],
   "source": [
    "## SI v3\n",
    "# function definition\n",
    "def calc_si(p, r, t):\n",
    "    si = (p*r*t)/100\n",
    "    return si\n",
    "    \n",
    "\n",
    "si = calc_si(100,20,1)\n",
    "print(si)\n",
    "\n",
    "a = 100 + calc_si(100,20,1)\n",
    "print(a)"
   ]
  },
  {
   "cell_type": "code",
   "execution_count": 27,
   "id": "c6886bdd",
   "metadata": {},
   "outputs": [
    {
     "name": "stdout",
     "output_type": "stream",
     "text": [
      "abc\n"
     ]
    }
   ],
   "source": [
    "def f1():\n",
    "    print(\"abc\")\n",
    "    \n",
    "r = f1()"
   ]
  },
  {
   "cell_type": "code",
   "execution_count": 28,
   "id": "7782c4df",
   "metadata": {},
   "outputs": [
    {
     "name": "stdout",
     "output_type": "stream",
     "text": [
      "abc\n",
      "None\n"
     ]
    }
   ],
   "source": [
    "def f1():\n",
    "    print(\"abc\")\n",
    "    \n",
    "r = f1()\n",
    "print(r)"
   ]
  },
  {
   "cell_type": "code",
   "execution_count": 29,
   "id": "77e8d580",
   "metadata": {},
   "outputs": [
    {
     "name": "stdout",
     "output_type": "stream",
     "text": [
      "abc\n",
      "10\n"
     ]
    }
   ],
   "source": [
    "def f1():\n",
    "    print(\"abc\")\n",
    "    return 10\n",
    "    \n",
    "r = f1()\n",
    "print(r)"
   ]
  },
  {
   "cell_type": "code",
   "execution_count": 30,
   "id": "2c9b7d80",
   "metadata": {},
   "outputs": [
    {
     "name": "stdout",
     "output_type": "stream",
     "text": [
      "abc\n",
      "(10, 'abcd')\n"
     ]
    }
   ],
   "source": [
    "def f1():\n",
    "    print(\"abc\")\n",
    "    return 10,\"abcd\"\n",
    "    \n",
    "r = f1()\n",
    "print(r)"
   ]
  },
  {
   "cell_type": "code",
   "execution_count": 33,
   "id": "e45da502",
   "metadata": {},
   "outputs": [
    {
     "name": "stdout",
     "output_type": "stream",
     "text": [
      "118.0\n"
     ]
    }
   ],
   "source": [
    "## SI v4\n",
    "# function definition\n",
    "def calc_si(p, r, t):\n",
    "    si = (p*r*t)/100\n",
    "    return si\n",
    "    \n",
    "def calc_amount(p,r,t):\n",
    "    return p + calc_si(p,r,t)\n",
    "\n",
    "print(calc_amount(100,2,9))"
   ]
  },
  {
   "cell_type": "code",
   "execution_count": null,
   "id": "76552982",
   "metadata": {},
   "outputs": [],
   "source": []
  },
  {
   "cell_type": "code",
   "execution_count": 34,
   "id": "ce675b49",
   "metadata": {},
   "outputs": [
    {
     "name": "stdout",
     "output_type": "stream",
     "text": [
      "10\n"
     ]
    }
   ],
   "source": [
    "def f1():\n",
    "    return 10\n",
    "    return 20\n",
    "\n",
    "print(f1())"
   ]
  },
  {
   "cell_type": "code",
   "execution_count": null,
   "id": "54626a78",
   "metadata": {},
   "outputs": [],
   "source": [
    "def f1(n):\n",
    "    if n == 1:\n",
    "        return 10\n",
    "    \n",
    "    return 20\n",
    "\n",
    "print(f1(10))\n",
    "print(f1(1))"
   ]
  },
  {
   "cell_type": "code",
   "execution_count": 35,
   "id": "17cd01d5",
   "metadata": {},
   "outputs": [
    {
     "name": "stdout",
     "output_type": "stream",
     "text": [
      "10\n",
      "20\n",
      "None\n"
     ]
    }
   ],
   "source": [
    "def f1(n):\n",
    "    if n == 1:\n",
    "        return 10\n",
    "    elif n == 2:\n",
    "        return 20\n",
    "\n",
    "print(f1(1))\n",
    "print(f1(2))\n",
    "print(f1(3))"
   ]
  },
  {
   "cell_type": "code",
   "execution_count": 36,
   "id": "50ae3b20",
   "metadata": {},
   "outputs": [
    {
     "name": "stdout",
     "output_type": "stream",
     "text": [
      "10\n",
      "20\n",
      "None\n"
     ]
    }
   ],
   "source": [
    "def f1(n):\n",
    "    if n == 1:\n",
    "        return 10\n",
    "    elif n == 2:\n",
    "        return 20\n",
    "    return None\n",
    "\n",
    "print(f1(1))\n",
    "print(f1(2))\n",
    "print(f1(3))"
   ]
  },
  {
   "cell_type": "code",
   "execution_count": 43,
   "id": "718fe372",
   "metadata": {},
   "outputs": [
    {
     "name": "stdout",
     "output_type": "stream",
     "text": [
      "Help on function f1 in module __main__:\n",
      "\n",
      "f1(x)\n",
      "    This is a function for showing doc strings\n",
      "\n"
     ]
    }
   ],
   "source": [
    "# doc string\n",
    "def f1(x):\n",
    "    \"This is a function for showing doc strings\"\n",
    "    print(\"f1\", x)\n",
    "    \n",
    "help(f1)"
   ]
  },
  {
   "cell_type": "code",
   "execution_count": 46,
   "id": "dcb52ad0",
   "metadata": {},
   "outputs": [
    {
     "name": "stdout",
     "output_type": "stream",
     "text": [
      "Help on function f1 in module __main__:\n",
      "\n",
      "f1(x)\n",
      "\n"
     ]
    }
   ],
   "source": [
    "def f1(x):\n",
    "    print(\"f1\", x)\n",
    "    \"\"\"\n",
    "    This is a function for showing doc strings\n",
    "    \"\"\"\n",
    "    \n",
    "help(f1)"
   ]
  },
  {
   "cell_type": "code",
   "execution_count": 44,
   "id": "0106738e",
   "metadata": {},
   "outputs": [
    {
     "data": {
      "text/plain": [
       "'Automatically created module for IPython interactive environment'"
      ]
     },
     "execution_count": 44,
     "metadata": {},
     "output_type": "execute_result"
    }
   ],
   "source": [
    "__doc__"
   ]
  },
  {
   "cell_type": "code",
   "execution_count": 48,
   "id": "b16a5a91",
   "metadata": {},
   "outputs": [
    {
     "name": "stdout",
     "output_type": "stream",
     "text": [
      "This is a function for showing doc strings\n"
     ]
    }
   ],
   "source": [
    "def f1(x):\n",
    "    \"This is a function for showing doc strings\"\n",
    "    print(\"f1\", x)\n",
    "print(f1.__doc__)"
   ]
  },
  {
   "cell_type": "code",
   "execution_count": 49,
   "id": "fed4544f",
   "metadata": {},
   "outputs": [
    {
     "name": "stdout",
     "output_type": "stream",
     "text": [
      "Equivalent to base**exp with 2 arguments or base**exp % mod with 3 arguments\n",
      "\n",
      "Some types, such as ints, are able to use a more efficient algorithm when\n",
      "invoked using the three argument form.\n"
     ]
    }
   ],
   "source": [
    "print(pow.__doc__)"
   ]
  },
  {
   "cell_type": "code",
   "execution_count": 51,
   "id": "d4a66633",
   "metadata": {},
   "outputs": [
    {
     "name": "stdout",
     "output_type": "stream",
     "text": [
      "Help on built-in function pow in module builtins:\n",
      "\n",
      "pow(base, exp, mod=None)\n",
      "    Equivalent to base**exp with 2 arguments or base**exp % mod with 3 arguments\n",
      "    \n",
      "    Some types, such as ints, are able to use a more efficient algorithm when\n",
      "    invoked using the three argument form.\n",
      "\n"
     ]
    }
   ],
   "source": [
    "help(pow)"
   ]
  },
  {
   "cell_type": "code",
   "execution_count": null,
   "id": "62cf8903",
   "metadata": {},
   "outputs": [],
   "source": [
    "\n",
    "\n",
    "\"\"\"\n",
    "this is a normal documentation etc.\n",
    "\"\"\""
   ]
  },
  {
   "cell_type": "code",
   "execution_count": null,
   "id": "108b128e",
   "metadata": {},
   "outputs": [],
   "source": [
    "\"\"\"\n",
    "Select * from abc\n",
    "where name like \"pq\"\n",
    "ordder by ..\n",
    "\"\"\""
   ]
  },
  {
   "cell_type": "code",
   "execution_count": null,
   "id": "e85217e8",
   "metadata": {},
   "outputs": [],
   "source": [
    "\"Select * from abc where name like \"pq\" ordder by .. \"\n",
    "\n",
    "\"\"\"Select * from abc where name like \"pq\" ordder by .. \"\"\""
   ]
  },
  {
   "cell_type": "code",
   "execution_count": null,
   "id": "97a12001",
   "metadata": {},
   "outputs": [],
   "source": [
    "\"SELECt...\""
   ]
  },
  {
   "cell_type": "code",
   "execution_count": null,
   "id": "f823baa9",
   "metadata": {},
   "outputs": [],
   "source": []
  },
  {
   "cell_type": "code",
   "execution_count": 58,
   "id": "55edd80c",
   "metadata": {},
   "outputs": [
    {
     "name": "stdout",
     "output_type": "stream",
     "text": [
      "6.0\n",
      "2.0\n"
     ]
    }
   ],
   "source": [
    "### Default arguments in a function\n",
    "# for a parameter to have a default value, all parameters on it's right should also have a default value\n",
    "\n",
    "def calc_si(p, r, t=1): # t has a default value of 1\n",
    "    return p*r*t / 100\n",
    "\n",
    "print(calc_si(100,2,3))\n",
    "print(calc_si(100,2))"
   ]
  },
  {
   "cell_type": "code",
   "execution_count": 59,
   "id": "89e5eb60",
   "metadata": {},
   "outputs": [
    {
     "ename": "SyntaxError",
     "evalue": "non-default argument follows default argument (Temp/ipykernel_18252/2829827243.py, line 1)",
     "output_type": "error",
     "traceback": [
      "\u001b[1;36m  File \u001b[1;32m\"C:\\Users\\LEANGA~1\\AppData\\Local\\Temp/ipykernel_18252/2829827243.py\"\u001b[1;36m, line \u001b[1;32m1\u001b[0m\n\u001b[1;33m    def calc_si(p, r=1, t): # t has a default value of 1\u001b[0m\n\u001b[1;37m                ^\u001b[0m\n\u001b[1;31mSyntaxError\u001b[0m\u001b[1;31m:\u001b[0m non-default argument follows default argument\n"
     ]
    }
   ],
   "source": [
    "\n",
    "def calc_si(p, r=1, t): # t has a default value of 1\n",
    "    return p*r*t / 100\n",
    "\n",
    "print(calc_si(100,2,3))\n",
    "print(calc_si(100,2))"
   ]
  },
  {
   "cell_type": "code",
   "execution_count": 61,
   "id": "2ffc2c0a",
   "metadata": {},
   "outputs": [
    {
     "name": "stdout",
     "output_type": "stream",
     "text": [
      "6.0\n",
      "4.0\n",
      "2.0\n"
     ]
    }
   ],
   "source": [
    "\n",
    "def calc_si(p, r=1, t=2): # t has a default value of 1\n",
    "    return p*r*t / 100\n",
    "\n",
    "print(calc_si(100,2,3))\n",
    "print(calc_si(100,2))\n",
    "print(calc_si(100))"
   ]
  },
  {
   "cell_type": "code",
   "execution_count": null,
   "id": "4f0310c8",
   "metadata": {},
   "outputs": [],
   "source": []
  },
  {
   "cell_type": "code",
   "execution_count": 57,
   "id": "1d6070fc",
   "metadata": {},
   "outputs": [
    {
     "ename": "TypeError",
     "evalue": "f1() takes 2 positional arguments but 3 were given",
     "output_type": "error",
     "traceback": [
      "\u001b[1;31m---------------------------------------------------------------------------\u001b[0m",
      "\u001b[1;31mTypeError\u001b[0m                                 Traceback (most recent call last)",
      "\u001b[1;32mC:\\Users\\LEANGA~1\\AppData\\Local\\Temp/ipykernel_18252/3212165701.py\u001b[0m in \u001b[0;36m<module>\u001b[1;34m\u001b[0m\n\u001b[0;32m      3\u001b[0m \u001b[1;33m\u001b[0m\u001b[0m\n\u001b[0;32m      4\u001b[0m \u001b[0mf1\u001b[0m\u001b[1;33m(\u001b[0m\u001b[1;36m10\u001b[0m\u001b[1;33m,\u001b[0m\u001b[1;36m20\u001b[0m\u001b[1;33m)\u001b[0m\u001b[1;33m\u001b[0m\u001b[1;33m\u001b[0m\u001b[0m\n\u001b[1;32m----> 5\u001b[1;33m \u001b[0mf1\u001b[0m\u001b[1;33m(\u001b[0m\u001b[1;36m10\u001b[0m\u001b[1;33m,\u001b[0m\u001b[1;36m2\u001b[0m\u001b[1;33m,\u001b[0m\u001b[1;36m3\u001b[0m\u001b[1;33m)\u001b[0m\u001b[1;33m\u001b[0m\u001b[1;33m\u001b[0m\u001b[0m\n\u001b[0m",
      "\u001b[1;31mTypeError\u001b[0m: f1() takes 2 positional arguments but 3 were given"
     ]
    }
   ],
   "source": [
    "def f1(a,b):\n",
    "    pass # pass is used to tell no logic is there\n",
    "    \n",
    "f1(10,20)\n",
    "f1(10,2,3)"
   ]
  },
  {
   "cell_type": "code",
   "execution_count": null,
   "id": "b6717ef3",
   "metadata": {},
   "outputs": [],
   "source": []
  },
  {
   "cell_type": "code",
   "execution_count": 64,
   "id": "92b6b83a",
   "metadata": {},
   "outputs": [
    {
     "name": "stdout",
     "output_type": "stream",
     "text": [
      "[1, 2, 10]\n",
      "[1, 2, 10]\n",
      "[10]\n",
      "[5, 6, 10]\n",
      "[5, 6, 10]\n",
      "[10, 10]\n",
      "[10, 10, 10]\n"
     ]
    }
   ],
   "source": [
    "\n",
    "def test(a = []):\n",
    "    a.append(10)\n",
    "    print(a)\n",
    "    \n",
    "\n",
    "a1 = [1,2]\n",
    "test(a1)\n",
    "print(a1)\n",
    "\n",
    "test()\n",
    "\n",
    "a2 = [5,6]\n",
    "test(a2)\n",
    "print(a2)\n",
    "\n",
    "test()\n",
    "test()"
   ]
  },
  {
   "cell_type": "code",
   "execution_count": 67,
   "id": "f1b4567a",
   "metadata": {},
   "outputs": [
    {
     "name": "stdout",
     "output_type": "stream",
     "text": [
      "[1, 2, 10]\n",
      "[1, 2, 10]\n",
      "[10]\n",
      "[5, 6, 10]\n",
      "[5, 6, 10]\n",
      "[10]\n",
      "[10]\n"
     ]
    }
   ],
   "source": [
    "\n",
    "def test(a = None):\n",
    "    if a is None:\n",
    "        a = []\n",
    "    a.append(10)\n",
    "    print(a)\n",
    "    \n",
    "\n",
    "a1 = [1,2]\n",
    "test(a1)\n",
    "print(a1)\n",
    "\n",
    "test()\n",
    "\n",
    "a2 = [5,6]\n",
    "test(a2)\n",
    "print(a2)\n",
    "\n",
    "test()\n",
    "test()"
   ]
  },
  {
   "cell_type": "code",
   "execution_count": 65,
   "id": "75de9343",
   "metadata": {},
   "outputs": [
    {
     "name": "stdout",
     "output_type": "stream",
     "text": [
      "[10, 20]\n",
      "[1, 2]\n",
      "[10, 20]\n",
      "[10, 20]\n",
      "[5, 6]\n",
      "[10, 20]\n",
      "[10, 20]\n"
     ]
    }
   ],
   "source": [
    "\n",
    "def test(a = []):\n",
    "    a = [10,20]\n",
    "    print(a)\n",
    "    \n",
    "\n",
    "a1 = [1,2]\n",
    "test(a1)\n",
    "print(a1)\n",
    "\n",
    "test()\n",
    "\n",
    "a2 = [5,6]\n",
    "test(a2)\n",
    "print(a2)\n",
    "\n",
    "test()\n",
    "test()"
   ]
  },
  {
   "cell_type": "code",
   "execution_count": null,
   "id": "b3f4ebcc",
   "metadata": {},
   "outputs": [],
   "source": []
  },
  {
   "cell_type": "markdown",
   "id": "08137561",
   "metadata": {},
   "source": [
    "### scope\n"
   ]
  },
  {
   "cell_type": "code",
   "execution_count": 71,
   "id": "3c7bdc65",
   "metadata": {},
   "outputs": [
    {
     "name": "stdout",
     "output_type": "stream",
     "text": [
      "10\n"
     ]
    },
    {
     "ename": "NameError",
     "evalue": "name 'bb' is not defined",
     "output_type": "error",
     "traceback": [
      "\u001b[1;31m---------------------------------------------------------------------------\u001b[0m",
      "\u001b[1;31mNameError\u001b[0m                                 Traceback (most recent call last)",
      "\u001b[1;32mC:\\Users\\LEANGA~1\\AppData\\Local\\Temp/ipykernel_18252/760818332.py\u001b[0m in \u001b[0;36m<module>\u001b[1;34m\u001b[0m\n\u001b[0;32m      5\u001b[0m     \u001b[0mprint\u001b[0m\u001b[1;33m(\u001b[0m\u001b[0mbb\u001b[0m\u001b[1;33m)\u001b[0m\u001b[1;33m\u001b[0m\u001b[1;33m\u001b[0m\u001b[0m\n\u001b[0;32m      6\u001b[0m \u001b[1;33m\u001b[0m\u001b[0m\n\u001b[1;32m----> 7\u001b[1;33m \u001b[0mf\u001b[0m\u001b[1;33m(\u001b[0m\u001b[1;33m)\u001b[0m\u001b[1;33m\u001b[0m\u001b[1;33m\u001b[0m\u001b[0m\n\u001b[0m",
      "\u001b[1;32mC:\\Users\\LEANGA~1\\AppData\\Local\\Temp/ipykernel_18252/760818332.py\u001b[0m in \u001b[0;36mf\u001b[1;34m()\u001b[0m\n\u001b[0;32m      3\u001b[0m \u001b[1;32mdef\u001b[0m \u001b[0mf\u001b[0m\u001b[1;33m(\u001b[0m\u001b[1;33m)\u001b[0m\u001b[1;33m:\u001b[0m\u001b[1;33m\u001b[0m\u001b[1;33m\u001b[0m\u001b[0m\n\u001b[0;32m      4\u001b[0m     \u001b[0mprint\u001b[0m\u001b[1;33m(\u001b[0m\u001b[0ma\u001b[0m\u001b[1;33m)\u001b[0m\u001b[1;33m\u001b[0m\u001b[1;33m\u001b[0m\u001b[0m\n\u001b[1;32m----> 5\u001b[1;33m     \u001b[0mprint\u001b[0m\u001b[1;33m(\u001b[0m\u001b[0mbb\u001b[0m\u001b[1;33m)\u001b[0m\u001b[1;33m\u001b[0m\u001b[1;33m\u001b[0m\u001b[0m\n\u001b[0m\u001b[0;32m      6\u001b[0m \u001b[1;33m\u001b[0m\u001b[0m\n\u001b[0;32m      7\u001b[0m \u001b[0mf\u001b[0m\u001b[1;33m(\u001b[0m\u001b[1;33m)\u001b[0m\u001b[1;33m\u001b[0m\u001b[1;33m\u001b[0m\u001b[0m\n",
      "\u001b[1;31mNameError\u001b[0m: name 'bb' is not defined"
     ]
    }
   ],
   "source": [
    "\n",
    "a = 10\n",
    "\n",
    "def f():\n",
    "    print(a)\n",
    "    print(bb)\n",
    "    \n",
    "f()"
   ]
  },
  {
   "cell_type": "code",
   "execution_count": 69,
   "id": "91b56b94",
   "metadata": {},
   "outputs": [
    {
     "name": "stdout",
     "output_type": "stream",
     "text": [
      "100\n"
     ]
    }
   ],
   "source": [
    "a = 10\n",
    "\n",
    "def f():\n",
    "    a = 100\n",
    "    print(a)\n",
    "    \n",
    "f()"
   ]
  },
  {
   "cell_type": "code",
   "execution_count": 72,
   "id": "8bddb363",
   "metadata": {},
   "outputs": [
    {
     "name": "stdout",
     "output_type": "stream",
     "text": [
      "before 10\n",
      "100\n",
      "after 10\n"
     ]
    }
   ],
   "source": [
    "a = 10 # global a\n",
    "\n",
    "def f():\n",
    "    a = 100 # this function scope: or is available only inside the function\n",
    "    print(a)\n",
    "\n",
    "print(\"before\", a)\n",
    "f()\n",
    "print(\"after\", a)"
   ]
  },
  {
   "cell_type": "code",
   "execution_count": 74,
   "id": "c8503e90",
   "metadata": {},
   "outputs": [
    {
     "name": "stdout",
     "output_type": "stream",
     "text": [
      "before 10\n",
      "100\n",
      "after 100\n"
     ]
    }
   ],
   "source": [
    "a = 10 # global a\n",
    "\n",
    "def f():\n",
    "    global a # do not create a local copy of 'a'\n",
    "    a = 100\n",
    "    print(a)\n",
    "\n",
    "print(\"before\", a)\n",
    "f()\n",
    "print(\"after\", a)"
   ]
  },
  {
   "cell_type": "code",
   "execution_count": 76,
   "id": "fe77d8ef",
   "metadata": {},
   "outputs": [
    {
     "ename": "UnboundLocalError",
     "evalue": "local variable 'a' referenced before assignment",
     "output_type": "error",
     "traceback": [
      "\u001b[1;31m---------------------------------------------------------------------------\u001b[0m",
      "\u001b[1;31mUnboundLocalError\u001b[0m                         Traceback (most recent call last)",
      "\u001b[1;32mC:\\Users\\LEANGA~1\\AppData\\Local\\Temp/ipykernel_18252/4174342862.py\u001b[0m in \u001b[0;36m<module>\u001b[1;34m\u001b[0m\n\u001b[0;32m      5\u001b[0m     \u001b[0mprint\u001b[0m\u001b[1;33m(\u001b[0m\u001b[0ma\u001b[0m\u001b[1;33m)\u001b[0m\u001b[1;33m\u001b[0m\u001b[1;33m\u001b[0m\u001b[0m\n\u001b[0;32m      6\u001b[0m \u001b[1;33m\u001b[0m\u001b[0m\n\u001b[1;32m----> 7\u001b[1;33m \u001b[0mincrease\u001b[0m\u001b[1;33m(\u001b[0m\u001b[1;33m)\u001b[0m\u001b[1;33m\u001b[0m\u001b[1;33m\u001b[0m\u001b[0m\n\u001b[0m",
      "\u001b[1;32mC:\\Users\\LEANGA~1\\AppData\\Local\\Temp/ipykernel_18252/4174342862.py\u001b[0m in \u001b[0;36mincrease\u001b[1;34m()\u001b[0m\n\u001b[0;32m      2\u001b[0m \u001b[1;33m\u001b[0m\u001b[0m\n\u001b[0;32m      3\u001b[0m \u001b[1;32mdef\u001b[0m \u001b[0mincrease\u001b[0m\u001b[1;33m(\u001b[0m\u001b[1;33m)\u001b[0m\u001b[1;33m:\u001b[0m\u001b[1;33m\u001b[0m\u001b[1;33m\u001b[0m\u001b[0m\n\u001b[1;32m----> 4\u001b[1;33m     \u001b[0ma\u001b[0m \u001b[1;33m=\u001b[0m \u001b[0ma\u001b[0m \u001b[1;33m+\u001b[0m \u001b[1;36m1\u001b[0m\u001b[1;33m\u001b[0m\u001b[1;33m\u001b[0m\u001b[0m\n\u001b[0m\u001b[0;32m      5\u001b[0m     \u001b[0mprint\u001b[0m\u001b[1;33m(\u001b[0m\u001b[0ma\u001b[0m\u001b[1;33m)\u001b[0m\u001b[1;33m\u001b[0m\u001b[1;33m\u001b[0m\u001b[0m\n\u001b[0;32m      6\u001b[0m \u001b[1;33m\u001b[0m\u001b[0m\n",
      "\u001b[1;31mUnboundLocalError\u001b[0m: local variable 'a' referenced before assignment"
     ]
    }
   ],
   "source": [
    "a = 10 # global a\n",
    "\n",
    "def increase():\n",
    "    a = a + 1\n",
    "    print(a)\n",
    "\n",
    "increase()"
   ]
  },
  {
   "cell_type": "code",
   "execution_count": 80,
   "id": "d592b7aa",
   "metadata": {},
   "outputs": [
    {
     "name": "stdout",
     "output_type": "stream",
     "text": [
      "11\n",
      "11\n",
      "12\n",
      "12\n"
     ]
    }
   ],
   "source": [
    "a = 10 # global a\n",
    "\n",
    "def increase():\n",
    "    global a, b\n",
    "    a = a + 1\n",
    "    print(a)\n",
    "\n",
    "increase()\n",
    "print(a)\n",
    "\n",
    "increase()\n",
    "print(a)"
   ]
  },
  {
   "cell_type": "code",
   "execution_count": 90,
   "id": "2ad7c953",
   "metadata": {},
   "outputs": [
    {
     "name": "stdout",
     "output_type": "stream",
     "text": [
      "['__builtins__', '__cached__', '__doc__', '__file__', '__loader__', '__name__', '__package__', '__path__', '__spec__']\n"
     ]
    }
   ],
   "source": [
    "import scripts1\n",
    "\n",
    "print(dir(scripts))"
   ]
  },
  {
   "cell_type": "code",
   "execution_count": 96,
   "id": "c1624eb0",
   "metadata": {},
   "outputs": [
    {
     "name": "stdout",
     "output_type": "stream",
     "text": [
      "['__builtins__', '__cached__', '__doc__', '__file__', '__loader__', '__name__', '__package__', '__spec__', 'test']\n"
     ]
    },
    {
     "data": {
      "text/plain": [
       "30"
      ]
     },
     "execution_count": 96,
     "metadata": {},
     "output_type": "execute_result"
    }
   ],
   "source": [
    "from scripts1 import s2_module\n",
    "print(dir(s2_module))\n",
    "s2_module.test(10,20)"
   ]
  },
  {
   "cell_type": "code",
   "execution_count": 82,
   "id": "d7c72e77",
   "metadata": {},
   "outputs": [
    {
     "name": "stdout",
     "output_type": "stream",
     "text": [
      "['D:\\\\DATA\\\\Desktop\\\\tutort\\\\DSC_Weekend_2021_10_24\\\\CODE\\\\S07_2021_11_27', 'C:\\\\ProgramData\\\\Anaconda3\\\\python38.zip', 'C:\\\\ProgramData\\\\Anaconda3\\\\DLLs', 'C:\\\\ProgramData\\\\Anaconda3\\\\lib', 'C:\\\\ProgramData\\\\Anaconda3', '', 'C:\\\\Users\\\\leangaurav\\\\AppData\\\\Roaming\\\\Python\\\\Python38\\\\site-packages', 'C:\\\\ProgramData\\\\Anaconda3\\\\lib\\\\site-packages', 'C:\\\\ProgramData\\\\Anaconda3\\\\lib\\\\site-packages\\\\locket-0.2.1-py3.8.egg', 'C:\\\\ProgramData\\\\Anaconda3\\\\lib\\\\site-packages\\\\win32', 'C:\\\\ProgramData\\\\Anaconda3\\\\lib\\\\site-packages\\\\win32\\\\lib', 'C:\\\\ProgramData\\\\Anaconda3\\\\lib\\\\site-packages\\\\Pythonwin', 'C:\\\\Users\\\\leangaurav\\\\AppData\\\\Roaming\\\\Python\\\\Python38\\\\site-packages\\\\IPython\\\\extensions', 'C:\\\\Users\\\\leangaurav\\\\.ipython']\n"
     ]
    }
   ],
   "source": [
    "import sys\n",
    "print(sys.path)"
   ]
  }
 ],
 "metadata": {
  "kernelspec": {
   "display_name": "Python 3",
   "language": "python",
   "name": "python3"
  },
  "language_info": {
   "codemirror_mode": {
    "name": "ipython",
    "version": 3
   },
   "file_extension": ".py",
   "mimetype": "text/x-python",
   "name": "python",
   "nbconvert_exporter": "python",
   "pygments_lexer": "ipython3",
   "version": "3.8.8"
  }
 },
 "nbformat": 4,
 "nbformat_minor": 5
}
