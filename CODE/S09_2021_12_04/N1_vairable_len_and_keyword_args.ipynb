{
 "cells": [
  {
   "cell_type": "markdown",
   "id": "c22fc71e",
   "metadata": {},
   "source": [
    "## Function Arguments"
   ]
  },
  {
   "cell_type": "code",
   "execution_count": 2,
   "id": "27df9123",
   "metadata": {},
   "outputs": [
    {
     "name": "stdout",
     "output_type": "stream",
     "text": [
      "10 20\n",
      "10 100\n"
     ]
    }
   ],
   "source": [
    "def funct(a,b=100):\n",
    "    print(a,b)\n",
    "    \n",
    "funct(10,20)\n",
    "funct(10)"
   ]
  },
  {
   "cell_type": "code",
   "execution_count": null,
   "id": "d8d080c2",
   "metadata": {},
   "outputs": [],
   "source": []
  },
  {
   "cell_type": "code",
   "execution_count": null,
   "id": "d5a1279e",
   "metadata": {},
   "outputs": [],
   "source": [
    "# variable length args\n",
    "- var len arguments should come after positional arguments\n",
    "- there can be only one var. len. arg. parameter in a function"
   ]
  },
  {
   "cell_type": "code",
   "execution_count": 4,
   "id": "6de0401d",
   "metadata": {},
   "outputs": [
    {
     "name": "stdout",
     "output_type": "stream",
     "text": [
      "<class 'tuple'>\n",
      "1 2 3\n"
     ]
    }
   ],
   "source": [
    "a = 1,2,3\n",
    "print(type(a))\n",
    "\n",
    "a1,a2,a3 = a\n",
    "print(a1, a2, a3)"
   ]
  },
  {
   "cell_type": "code",
   "execution_count": 5,
   "id": "c1804973",
   "metadata": {},
   "outputs": [
    {
     "name": "stdout",
     "output_type": "stream",
     "text": [
      "\n",
      "1\n",
      "1 2\n",
      "1 2 3 4 5 afdsf\n"
     ]
    }
   ],
   "source": [
    "print()\n",
    "print(1)\n",
    "print(1,2)\n",
    "print(1,2,3,4,5,\"afdsf\")"
   ]
  },
  {
   "cell_type": "code",
   "execution_count": 12,
   "id": "19c35e4e",
   "metadata": {},
   "outputs": [
    {
     "name": "stdout",
     "output_type": "stream",
     "text": [
      "1 2 ()\n",
      "1 2 (3,)\n",
      "1 2 (3, 4, 5, True, 'abcd')\n"
     ]
    }
   ],
   "source": [
    "def funct(a,b, *c):\n",
    "    print(a, b, c)\n",
    "    \n",
    "funct(1,2)\n",
    "funct(1,2, 3)\n",
    "funct(1,2, 3, 4, 5, True, \"abcd\")"
   ]
  },
  {
   "cell_type": "code",
   "execution_count": 13,
   "id": "3066e4ee",
   "metadata": {},
   "outputs": [
    {
     "ename": "SyntaxError",
     "evalue": "invalid syntax (Temp/ipykernel_6784/2934237791.py, line 1)",
     "output_type": "error",
     "traceback": [
      "\u001b[1;36m  File \u001b[1;32m\"C:\\Users\\LEANGA~1\\AppData\\Local\\Temp/ipykernel_6784/2934237791.py\"\u001b[1;36m, line \u001b[1;32m1\u001b[0m\n\u001b[1;33m    def funct(a,b, *c, *d):\u001b[0m\n\u001b[1;37m                       ^\u001b[0m\n\u001b[1;31mSyntaxError\u001b[0m\u001b[1;31m:\u001b[0m invalid syntax\n"
     ]
    }
   ],
   "source": [
    "def funct(a,b, *c, *d):\n",
    "    print(a, b, c)\n",
    "    \n",
    "funct(1,2)\n",
    "funct(1,2, 3)\n",
    "funct(1,2, 3, 4, 5, True, \"abcd\")"
   ]
  },
  {
   "cell_type": "code",
   "execution_count": 14,
   "id": "8c8a0f7e",
   "metadata": {},
   "outputs": [
    {
     "ename": "TypeError",
     "evalue": "funct() missing 2 required positional arguments: 'a' and 'b'",
     "output_type": "error",
     "traceback": [
      "\u001b[1;31m---------------------------------------------------------------------------\u001b[0m",
      "\u001b[1;31mTypeError\u001b[0m                                 Traceback (most recent call last)",
      "\u001b[1;32mC:\\Users\\LEANGA~1\\AppData\\Local\\Temp/ipykernel_6784/2013105055.py\u001b[0m in \u001b[0;36m<module>\u001b[1;34m\u001b[0m\n\u001b[0;32m      2\u001b[0m     \u001b[0mprint\u001b[0m\u001b[1;33m(\u001b[0m\u001b[0ma\u001b[0m\u001b[1;33m,\u001b[0m \u001b[0mb\u001b[0m\u001b[1;33m,\u001b[0m \u001b[0mc\u001b[0m\u001b[1;33m)\u001b[0m\u001b[1;33m\u001b[0m\u001b[1;33m\u001b[0m\u001b[0m\n\u001b[0;32m      3\u001b[0m \u001b[1;33m\u001b[0m\u001b[0m\n\u001b[1;32m----> 4\u001b[1;33m \u001b[0mfunct\u001b[0m\u001b[1;33m(\u001b[0m\u001b[1;33m)\u001b[0m\u001b[1;33m\u001b[0m\u001b[1;33m\u001b[0m\u001b[0m\n\u001b[0m",
      "\u001b[1;31mTypeError\u001b[0m: funct() missing 2 required positional arguments: 'a' and 'b'"
     ]
    }
   ],
   "source": [
    "def funct(a,b, *c):\n",
    "    print(a, b, c)\n",
    "    \n",
    "funct()"
   ]
  },
  {
   "cell_type": "code",
   "execution_count": 19,
   "id": "3f5c1b4d",
   "metadata": {},
   "outputs": [
    {
     "name": "stdout",
     "output_type": "stream",
     "text": [
      "1 2 (10, 20, 30)\n"
     ]
    }
   ],
   "source": [
    "def funct(*c,a,b):\n",
    "    print(a, b, c)\n",
    "    \n",
    "# funct(10,20, 30)\n",
    "funct(10,20, 30, a=1, b=2)"
   ]
  },
  {
   "cell_type": "code",
   "execution_count": 20,
   "id": "3d901a9e",
   "metadata": {},
   "outputs": [
    {
     "name": "stdout",
     "output_type": "stream",
     "text": [
      "10 20 (1, 2, 3)\n",
      "1 2 (1, 2, 3)\n"
     ]
    }
   ],
   "source": [
    "def funct(*c,a=10,b=20):\n",
    "    print(a, b, c)\n",
    "    \n",
    "funct(1,2,3)\n",
    "funct(1,2,3, a=1, b=2) # using keyword args while calling"
   ]
  },
  {
   "cell_type": "code",
   "execution_count": null,
   "id": "5d96d2a8",
   "metadata": {},
   "outputs": [],
   "source": []
  },
  {
   "cell_type": "code",
   "execution_count": null,
   "id": "efbddcaf",
   "metadata": {},
   "outputs": [],
   "source": []
  },
  {
   "cell_type": "code",
   "execution_count": null,
   "id": "dbeed23b",
   "metadata": {},
   "outputs": [],
   "source": [
    "# keyword arguments"
   ]
  },
  {
   "cell_type": "code",
   "execution_count": 21,
   "id": "41192495",
   "metadata": {},
   "outputs": [],
   "source": [
    "d ={1:2, \"a\":3}\n",
    "# in dict. key can be any immutable datatype\n",
    "\n",
    "#  for kwd. args. the key should always be a proper identifier name"
   ]
  },
  {
   "cell_type": "code",
   "execution_count": 25,
   "id": "55e32f40",
   "metadata": {},
   "outputs": [
    {
     "name": "stdout",
     "output_type": "stream",
     "text": [
      "{}\n",
      "{'a': 20}\n",
      "{'a': 10, 'b': 20}\n"
     ]
    }
   ],
   "source": [
    "def funct(**k):\n",
    "    print(k)\n",
    "    \n",
    "funct()\n",
    "funct(a=20)\n",
    "funct(a=10,b=20)\n",
    "# funct(a=10,b=20, 1=2) # doesn't  work"
   ]
  },
  {
   "cell_type": "code",
   "execution_count": null,
   "id": "55c38c8b",
   "metadata": {},
   "outputs": [],
   "source": []
  },
  {
   "cell_type": "code",
   "execution_count": null,
   "id": "b8a54d37",
   "metadata": {},
   "outputs": [],
   "source": [
    "# passing tuples and dict values to functions"
   ]
  },
  {
   "cell_type": "code",
   "execution_count": 31,
   "id": "080cf27d",
   "metadata": {},
   "outputs": [
    {
     "name": "stdout",
     "output_type": "stream",
     "text": [
      "1 2 3 4\n",
      "1 2 3 4\n",
      "1 2 3 4\n"
     ]
    }
   ],
   "source": [
    "a = [1,2,3]\n",
    "\n",
    "\n",
    "def funct(a,b,c,d):\n",
    "    print(a,b,c,d)\n",
    "    \n",
    "funct(1,2,3,4)\n",
    "funct(*a,4)\n",
    "funct(a[0], a[1], a[2], 4)"
   ]
  },
  {
   "cell_type": "code",
   "execution_count": 33,
   "id": "e6144aaa",
   "metadata": {},
   "outputs": [
    {
     "name": "stdout",
     "output_type": "stream",
     "text": [
      "1 2 3\n"
     ]
    },
    {
     "ename": "TypeError",
     "evalue": "f2() takes 3 positional arguments but 4 were given",
     "output_type": "error",
     "traceback": [
      "\u001b[1;31m---------------------------------------------------------------------------\u001b[0m",
      "\u001b[1;31mTypeError\u001b[0m                                 Traceback (most recent call last)",
      "\u001b[1;32mC:\\Users\\LEANGA~1\\AppData\\Local\\Temp/ipykernel_6784/1090873767.py\u001b[0m in \u001b[0;36m<module>\u001b[1;34m\u001b[0m\n\u001b[0;32m      6\u001b[0m \u001b[1;33m\u001b[0m\u001b[0m\n\u001b[0;32m      7\u001b[0m \u001b[0mf2\u001b[0m\u001b[1;33m(\u001b[0m\u001b[1;33m*\u001b[0m\u001b[0mf1\u001b[0m\u001b[1;33m(\u001b[0m\u001b[1;33m)\u001b[0m\u001b[1;33m)\u001b[0m\u001b[1;33m\u001b[0m\u001b[1;33m\u001b[0m\u001b[0m\n\u001b[1;32m----> 8\u001b[1;33m \u001b[0mf2\u001b[0m\u001b[1;33m(\u001b[0m\u001b[1;36m10\u001b[0m\u001b[1;33m,\u001b[0m\u001b[1;33m*\u001b[0m\u001b[0mf1\u001b[0m\u001b[1;33m(\u001b[0m\u001b[1;33m)\u001b[0m\u001b[1;33m)\u001b[0m\u001b[1;33m\u001b[0m\u001b[1;33m\u001b[0m\u001b[0m\n\u001b[0m",
      "\u001b[1;31mTypeError\u001b[0m: f2() takes 3 positional arguments but 4 were given"
     ]
    }
   ],
   "source": [
    "def f1():\n",
    "    return 1,2,3\n",
    "\n",
    "def f2(a,b,c):\n",
    "    print(a,b,c)\n",
    "\n",
    "f2(*f1())\n",
    "f2(10,*f1())"
   ]
  },
  {
   "cell_type": "code",
   "execution_count": null,
   "id": "9de7224e",
   "metadata": {},
   "outputs": [],
   "source": []
  },
  {
   "cell_type": "code",
   "execution_count": 36,
   "id": "7e90be07",
   "metadata": {},
   "outputs": [
    {
     "name": "stdout",
     "output_type": "stream",
     "text": [
      "{'a': 1, 'b': 2}\n",
      "{'a': 1, 'b': 2}\n"
     ]
    }
   ],
   "source": [
    "d = dict(a=1, b=2)\n",
    "print(d)\n",
    "a = {'a':1, 'b':2}\n",
    "print(a)"
   ]
  },
  {
   "cell_type": "code",
   "execution_count": 40,
   "id": "450e5205",
   "metadata": {},
   "outputs": [
    {
     "name": "stdout",
     "output_type": "stream",
     "text": [
      "1 2 3\n",
      "1 2 3\n",
      "1 2 3\n"
     ]
    }
   ],
   "source": [
    "a = {'a':1, 'b':2, 'c':3}\n",
    "\n",
    "\n",
    "def funct(a,b,c):\n",
    "    print(a,b,c)\n",
    "    \n",
    "funct(1,2,3)\n",
    "funct(**a)\n",
    "funct(a=a['a'], b=a['b'], c=a['c'])"
   ]
  },
  {
   "cell_type": "code",
   "execution_count": 41,
   "id": "59e9d1aa",
   "metadata": {},
   "outputs": [
    {
     "name": "stdout",
     "output_type": "stream",
     "text": [
      "1 2 3\n"
     ]
    },
    {
     "ename": "TypeError",
     "evalue": "funct() got an unexpected keyword argument 'd'",
     "output_type": "error",
     "traceback": [
      "\u001b[1;31m---------------------------------------------------------------------------\u001b[0m",
      "\u001b[1;31mTypeError\u001b[0m                                 Traceback (most recent call last)",
      "\u001b[1;32mC:\\Users\\LEANGA~1\\AppData\\Local\\Temp/ipykernel_6784/3005455536.py\u001b[0m in \u001b[0;36m<module>\u001b[1;34m\u001b[0m\n\u001b[0;32m      6\u001b[0m \u001b[1;33m\u001b[0m\u001b[0m\n\u001b[0;32m      7\u001b[0m \u001b[0mfunct\u001b[0m\u001b[1;33m(\u001b[0m\u001b[1;36m1\u001b[0m\u001b[1;33m,\u001b[0m\u001b[1;36m2\u001b[0m\u001b[1;33m,\u001b[0m\u001b[1;36m3\u001b[0m\u001b[1;33m)\u001b[0m\u001b[1;33m\u001b[0m\u001b[1;33m\u001b[0m\u001b[0m\n\u001b[1;32m----> 8\u001b[1;33m \u001b[0mfunct\u001b[0m\u001b[1;33m(\u001b[0m\u001b[1;33m**\u001b[0m\u001b[0ma\u001b[0m\u001b[1;33m)\u001b[0m\u001b[1;33m\u001b[0m\u001b[1;33m\u001b[0m\u001b[0m\n\u001b[0m\u001b[0;32m      9\u001b[0m \u001b[0mfunct\u001b[0m\u001b[1;33m(\u001b[0m\u001b[0ma\u001b[0m\u001b[1;33m=\u001b[0m\u001b[0ma\u001b[0m\u001b[1;33m[\u001b[0m\u001b[1;34m'a'\u001b[0m\u001b[1;33m]\u001b[0m\u001b[1;33m,\u001b[0m \u001b[0mb\u001b[0m\u001b[1;33m=\u001b[0m\u001b[0ma\u001b[0m\u001b[1;33m[\u001b[0m\u001b[1;34m'b'\u001b[0m\u001b[1;33m]\u001b[0m\u001b[1;33m,\u001b[0m \u001b[0mc\u001b[0m\u001b[1;33m=\u001b[0m\u001b[0ma\u001b[0m\u001b[1;33m[\u001b[0m\u001b[1;34m'c'\u001b[0m\u001b[1;33m]\u001b[0m\u001b[1;33m)\u001b[0m\u001b[1;33m\u001b[0m\u001b[1;33m\u001b[0m\u001b[0m\n",
      "\u001b[1;31mTypeError\u001b[0m: funct() got an unexpected keyword argument 'd'"
     ]
    }
   ],
   "source": [
    "a = {'a':1, 'b':2, 'c':3, 'd':4}\n",
    "\n",
    "\n",
    "def funct(a,b,c):\n",
    "    print(a,b,c)\n",
    "    \n",
    "funct(1,2,3)\n",
    "funct(**a)\n",
    "funct(a=a['a'], b=a['b'], c=a['c'])"
   ]
  },
  {
   "cell_type": "code",
   "execution_count": 45,
   "id": "d185bb93",
   "metadata": {},
   "outputs": [
    {
     "name": "stdout",
     "output_type": "stream",
     "text": [
      "1 2 3 4\n"
     ]
    },
    {
     "ename": "TypeError",
     "evalue": "funct() got multiple values for argument 'a'",
     "output_type": "error",
     "traceback": [
      "\u001b[1;31m---------------------------------------------------------------------------\u001b[0m",
      "\u001b[1;31mTypeError\u001b[0m                                 Traceback (most recent call last)",
      "\u001b[1;32mC:\\Users\\LEANGA~1\\AppData\\Local\\Temp/ipykernel_6784/2577839755.py\u001b[0m in \u001b[0;36m<module>\u001b[1;34m\u001b[0m\n\u001b[0;32m      7\u001b[0m \u001b[0mfunct\u001b[0m\u001b[1;33m(\u001b[0m\u001b[1;33m**\u001b[0m\u001b[0ma\u001b[0m\u001b[1;33m,\u001b[0m \u001b[0md\u001b[0m\u001b[1;33m=\u001b[0m\u001b[1;36m4\u001b[0m\u001b[1;33m)\u001b[0m\u001b[1;33m\u001b[0m\u001b[1;33m\u001b[0m\u001b[0m\n\u001b[0;32m      8\u001b[0m \u001b[1;33m\u001b[0m\u001b[0m\n\u001b[1;32m----> 9\u001b[1;33m \u001b[0mfunct\u001b[0m\u001b[1;33m(\u001b[0m\u001b[1;36m1\u001b[0m\u001b[1;33m,\u001b[0m \u001b[1;33m**\u001b[0m\u001b[0ma\u001b[0m\u001b[1;33m)\u001b[0m\u001b[1;33m\u001b[0m\u001b[1;33m\u001b[0m\u001b[0m\n\u001b[0m",
      "\u001b[1;31mTypeError\u001b[0m: funct() got multiple values for argument 'a'"
     ]
    }
   ],
   "source": [
    "a = {'a':1, 'b':2, 'c':3}\n",
    "\n",
    "\n",
    "def funct(a,b,c,d):\n",
    "    print(a,b,c, d)\n",
    "    \n",
    "funct(**a, d=4)\n",
    "\n",
    "funct(1, **a)\n"
   ]
  },
  {
   "cell_type": "code",
   "execution_count": 51,
   "id": "13837217",
   "metadata": {},
   "outputs": [
    {
     "name": "stdout",
     "output_type": "stream",
     "text": [
      "1 4 3 2\n",
      "1 2 4 3\n"
     ]
    }
   ],
   "source": [
    "a = {'a':1, 'b':2, 'c':3}\n",
    "\n",
    "\n",
    "def funct(a,b,c,d):\n",
    "    print(a,b,c, d)\n",
    "    \n",
    "funct(a=1,d=2,c=3,b=4)\n",
    "# funct(1,2,d=3,b=4)\n",
    "funct(1,2,d=3,c=4)\n",
    "# funct(a=1,b=2,3,4) # syntax error"
   ]
  },
  {
   "cell_type": "code",
   "execution_count": 46,
   "id": "7e2d8f7f",
   "metadata": {},
   "outputs": [
    {
     "ename": "SyntaxError",
     "evalue": "positional argument follows keyword argument unpacking (Temp/ipykernel_6784/68581235.py, line 7)",
     "output_type": "error",
     "traceback": [
      "\u001b[1;36m  File \u001b[1;32m\"C:\\Users\\LEANGA~1\\AppData\\Local\\Temp/ipykernel_6784/68581235.py\"\u001b[1;36m, line \u001b[1;32m7\u001b[0m\n\u001b[1;33m    funct(**a, 4)\u001b[0m\n\u001b[1;37m               ^\u001b[0m\n\u001b[1;31mSyntaxError\u001b[0m\u001b[1;31m:\u001b[0m positional argument follows keyword argument unpacking\n"
     ]
    }
   ],
   "source": [
    "a = {'a':1, 'b':2, 'c':3}\n",
    "\n",
    "\n",
    "def funct(a,b,c,d):\n",
    "    print(a,b,c, d)\n",
    "    \n",
    "funct(**a, 4)"
   ]
  },
  {
   "cell_type": "code",
   "execution_count": null,
   "id": "20ac9b52",
   "metadata": {},
   "outputs": [],
   "source": []
  },
  {
   "cell_type": "code",
   "execution_count": null,
   "id": "b4c2ebd2",
   "metadata": {},
   "outputs": [],
   "source": []
  },
  {
   "cell_type": "code",
   "execution_count": null,
   "id": "7ac3b85b",
   "metadata": {},
   "outputs": [],
   "source": [
    "# combinations of var len and kwd args"
   ]
  },
  {
   "cell_type": "code",
   "execution_count": 62,
   "id": "73b27d14",
   "metadata": {},
   "outputs": [
    {
     "name": "stdout",
     "output_type": "stream",
     "text": [
      "1 2 () {} 10\n",
      "1 2 (3,) {} 10\n",
      "1 2 (3,) {} 20\n",
      "1 2 () {} 20\n",
      "1 2 () {'aa': 10, 'ab': 40} 10\n",
      "2 1 () {'aa': 10, 'ab': 40} 10\n"
     ]
    }
   ],
   "source": [
    "def f(a,b,*args,c=10, **kwargs):\n",
    "    print(a,b,args, kwargs, c)\n",
    "    \n",
    "    \n",
    "f(1,2)\n",
    "f(1,2,3)\n",
    "f(1,2,3,c=20)\n",
    "f(a=1,c=20,b=2)\n",
    "f(1,2,aa=10,ab =40)\n",
    "\n",
    "f(b=1,a=2,aa=10,ab =40)"
   ]
  },
  {
   "cell_type": "code",
   "execution_count": 64,
   "id": "5f55feff",
   "metadata": {},
   "outputs": [
    {
     "name": "stdout",
     "output_type": "stream",
     "text": [
      "1 2 () {} 10\n",
      "1 2 () {} 3\n"
     ]
    }
   ],
   "source": [
    "def f(a,b,c=10,*args, **kwargs):\n",
    "    print(a,b,args, kwargs, c)\n",
    "    \n",
    "    \n",
    "f(1,2)\n",
    "f(1,2,3)"
   ]
  },
  {
   "cell_type": "code",
   "execution_count": 68,
   "id": "1d420b70",
   "metadata": {},
   "outputs": [
    {
     "name": "stdout",
     "output_type": "stream",
     "text": [
      "100\n",
      "4\n"
     ]
    }
   ],
   "source": [
    "from functools import partial\n",
    "\n",
    "p = partial(pow,exp=2)\n",
    "\n",
    "print(p(10))\n",
    "print(p(2))"
   ]
  },
  {
   "cell_type": "code",
   "execution_count": 70,
   "id": "c163de63",
   "metadata": {},
   "outputs": [
    {
     "name": "stdout",
     "output_type": "stream",
     "text": [
      "[0, 1, 8, 27, 64]\n"
     ]
    }
   ],
   "source": [
    "m = map( partial(pow, exp=3), range(5))\n",
    "print(list(m))"
   ]
  },
  {
   "cell_type": "code",
   "execution_count": null,
   "id": "e64d4753",
   "metadata": {},
   "outputs": [],
   "source": [
    "m = map( partial(pow, exp=3), range(5))\n",
    "print(list(m))"
   ]
  }
 ],
 "metadata": {
  "kernelspec": {
   "display_name": "Python 3",
   "language": "python",
   "name": "python3"
  },
  "language_info": {
   "codemirror_mode": {
    "name": "ipython",
    "version": 3
   },
   "file_extension": ".py",
   "mimetype": "text/x-python",
   "name": "python",
   "nbconvert_exporter": "python",
   "pygments_lexer": "ipython3",
   "version": "3.8.8"
  }
 },
 "nbformat": 4,
 "nbformat_minor": 5
}
