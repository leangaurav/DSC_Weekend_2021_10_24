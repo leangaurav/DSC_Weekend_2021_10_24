{
 "cells": [
  {
   "cell_type": "markdown",
   "id": "cddfeb95",
   "metadata": {},
   "source": [
    "## Higher order functions"
   ]
  },
  {
   "cell_type": "code",
   "execution_count": null,
   "id": "1dbdaeec",
   "metadata": {},
   "outputs": [],
   "source": []
  },
  {
   "cell_type": "code",
   "execution_count": 1,
   "id": "a81f39c3",
   "metadata": {},
   "outputs": [
    {
     "name": "stdout",
     "output_type": "stream",
     "text": [
      "I am f1\n"
     ]
    }
   ],
   "source": [
    "def f1():\n",
    "    print(\"I am f1\")\n",
    "    \n",
    "f1()"
   ]
  },
  {
   "cell_type": "code",
   "execution_count": 3,
   "id": "4a242bbd",
   "metadata": {},
   "outputs": [
    {
     "name": "stdout",
     "output_type": "stream",
     "text": [
      "<function f1 at 0x000001DBAAD39F70>\n"
     ]
    }
   ],
   "source": [
    "def f1():\n",
    "    print(\"I am f1\")\n",
    "    \n",
    "print(f1)"
   ]
  },
  {
   "cell_type": "code",
   "execution_count": 4,
   "id": "13a14637",
   "metadata": {},
   "outputs": [
    {
     "name": "stdout",
     "output_type": "stream",
     "text": [
      "I am f1\n",
      "None\n"
     ]
    }
   ],
   "source": [
    "def f1():\n",
    "    print(\"I am f1\")\n",
    "    \n",
    "print(f1())"
   ]
  },
  {
   "cell_type": "code",
   "execution_count": null,
   "id": "0673f192",
   "metadata": {},
   "outputs": [],
   "source": []
  },
  {
   "cell_type": "code",
   "execution_count": 6,
   "id": "d4db27eb",
   "metadata": {},
   "outputs": [
    {
     "name": "stdout",
     "output_type": "stream",
     "text": [
      "I am f1\n",
      "None\n"
     ]
    }
   ],
   "source": [
    "def f1():\n",
    "    print(\"I am f1\")\n",
    "    \n",
    "f = f1()\n",
    "print(f)"
   ]
  },
  {
   "cell_type": "code",
   "execution_count": 7,
   "id": "cca4208a",
   "metadata": {},
   "outputs": [
    {
     "name": "stdout",
     "output_type": "stream",
     "text": [
      "<function f1 at 0x000001DBAAD390D0>\n"
     ]
    }
   ],
   "source": [
    "def f1():\n",
    "    print(\"I am f1\")\n",
    "    \n",
    "f = f1\n",
    "print(f)"
   ]
  },
  {
   "cell_type": "code",
   "execution_count": null,
   "id": "a400c81f",
   "metadata": {},
   "outputs": [],
   "source": []
  },
  {
   "cell_type": "code",
   "execution_count": null,
   "id": "08a65138",
   "metadata": {},
   "outputs": [],
   "source": [
    "# passing functions as arguemnts"
   ]
  },
  {
   "cell_type": "code",
   "execution_count": 8,
   "id": "aede5575",
   "metadata": {},
   "outputs": [
    {
     "name": "stdout",
     "output_type": "stream",
     "text": [
      "<function f1 at 0x000001DBAAD85280>\n"
     ]
    }
   ],
   "source": [
    "def caller(f):\n",
    "    print(f)\n",
    "    \n",
    "def f1():\n",
    "    print(\"I am f1\")\n",
    "    \n",
    "caller(f1)"
   ]
  },
  {
   "cell_type": "code",
   "execution_count": 10,
   "id": "d01b2e19",
   "metadata": {},
   "outputs": [
    {
     "name": "stdout",
     "output_type": "stream",
     "text": [
      "I am f1\n",
      "None\n",
      "100\n"
     ]
    }
   ],
   "source": [
    "def caller(f):\n",
    "    print(f())\n",
    "    \n",
    "def f1():\n",
    "    print(\"I am f1\")\n",
    "\n",
    "def f2():\n",
    "    return 100\n",
    "    \n",
    "caller(f1)\n",
    "caller(f2)"
   ]
  },
  {
   "cell_type": "code",
   "execution_count": null,
   "id": "e65f98c6",
   "metadata": {},
   "outputs": [],
   "source": []
  },
  {
   "cell_type": "code",
   "execution_count": 11,
   "id": "5ec583f1",
   "metadata": {},
   "outputs": [
    {
     "name": "stdout",
     "output_type": "stream",
     "text": [
      "I am f1\n",
      "None\n"
     ]
    },
    {
     "ename": "TypeError",
     "evalue": "f2() missing 2 required positional arguments: 'a' and 'b'",
     "output_type": "error",
     "traceback": [
      "\u001b[1;31m---------------------------------------------------------------------------\u001b[0m",
      "\u001b[1;31mTypeError\u001b[0m                                 Traceback (most recent call last)",
      "\u001b[1;32mC:\\Users\\LEANGA~1\\AppData\\Local\\Temp/ipykernel_17532/3694236399.py\u001b[0m in \u001b[0;36m<module>\u001b[1;34m\u001b[0m\n\u001b[0;32m      9\u001b[0m \u001b[1;33m\u001b[0m\u001b[0m\n\u001b[0;32m     10\u001b[0m \u001b[0mcaller\u001b[0m\u001b[1;33m(\u001b[0m\u001b[0mf1\u001b[0m\u001b[1;33m)\u001b[0m\u001b[1;33m\u001b[0m\u001b[1;33m\u001b[0m\u001b[0m\n\u001b[1;32m---> 11\u001b[1;33m \u001b[0mcaller\u001b[0m\u001b[1;33m(\u001b[0m\u001b[0mf2\u001b[0m\u001b[1;33m)\u001b[0m\u001b[1;33m\u001b[0m\u001b[1;33m\u001b[0m\u001b[0m\n\u001b[0m",
      "\u001b[1;32mC:\\Users\\LEANGA~1\\AppData\\Local\\Temp/ipykernel_17532/3694236399.py\u001b[0m in \u001b[0;36mcaller\u001b[1;34m(f)\u001b[0m\n\u001b[0;32m      1\u001b[0m \u001b[1;32mdef\u001b[0m \u001b[0mcaller\u001b[0m\u001b[1;33m(\u001b[0m\u001b[0mf\u001b[0m\u001b[1;33m)\u001b[0m\u001b[1;33m:\u001b[0m\u001b[1;33m\u001b[0m\u001b[1;33m\u001b[0m\u001b[0m\n\u001b[1;32m----> 2\u001b[1;33m     \u001b[0mprint\u001b[0m\u001b[1;33m(\u001b[0m\u001b[0mf\u001b[0m\u001b[1;33m(\u001b[0m\u001b[1;33m)\u001b[0m\u001b[1;33m)\u001b[0m\u001b[1;33m\u001b[0m\u001b[1;33m\u001b[0m\u001b[0m\n\u001b[0m\u001b[0;32m      3\u001b[0m \u001b[1;33m\u001b[0m\u001b[0m\n\u001b[0;32m      4\u001b[0m \u001b[1;32mdef\u001b[0m \u001b[0mf1\u001b[0m\u001b[1;33m(\u001b[0m\u001b[1;33m)\u001b[0m\u001b[1;33m:\u001b[0m\u001b[1;33m\u001b[0m\u001b[1;33m\u001b[0m\u001b[0m\n\u001b[0;32m      5\u001b[0m     \u001b[0mprint\u001b[0m\u001b[1;33m(\u001b[0m\u001b[1;34m\"I am f1\"\u001b[0m\u001b[1;33m)\u001b[0m\u001b[1;33m\u001b[0m\u001b[1;33m\u001b[0m\u001b[0m\n",
      "\u001b[1;31mTypeError\u001b[0m: f2() missing 2 required positional arguments: 'a' and 'b'"
     ]
    }
   ],
   "source": [
    "def caller(f):\n",
    "    print(f())\n",
    "    \n",
    "def f1():\n",
    "    print(\"I am f1\")\n",
    "\n",
    "def f2(a,b):\n",
    "    return a+b\n",
    "    \n",
    "caller(f1)\n",
    "caller(f2)"
   ]
  },
  {
   "cell_type": "code",
   "execution_count": null,
   "id": "5f4a7a7e",
   "metadata": {},
   "outputs": [],
   "source": []
  },
  {
   "cell_type": "code",
   "execution_count": null,
   "id": "3090ff11",
   "metadata": {},
   "outputs": [],
   "source": []
  },
  {
   "cell_type": "code",
   "execution_count": 15,
   "id": "8b97e8ba",
   "metadata": {},
   "outputs": [
    {
     "name": "stdout",
     "output_type": "stream",
     "text": [
      "<function sub at 0x000001DBAAE27CA0>\n",
      "-10\n",
      "30\n"
     ]
    }
   ],
   "source": [
    "def add(a,b):\n",
    "    return a + b\n",
    "\n",
    "def sub(a,b):\n",
    "    return a - b\n",
    "\n",
    "def mul(a,b):\n",
    "    return a * b\n",
    "\n",
    "def div(a,b):\n",
    "    return a / b\n",
    "\n",
    "d = {\n",
    "    '+':add,\n",
    "    '-':sub,\n",
    "    '*':mul,\n",
    "    '/':div\n",
    "}\n",
    "\n",
    "f = d['-']\n",
    "print(f)\n",
    "\n",
    "print(f(10,20))\n",
    "\n",
    "print( d['+'](10,20) )"
   ]
  },
  {
   "cell_type": "code",
   "execution_count": 19,
   "id": "fd86457e",
   "metadata": {},
   "outputs": [
    {
     "name": "stdout",
     "output_type": "stream",
     "text": [
      "select an operation(+,-,*,/,e):\n",
      "2\n",
      "please enter a valid operation\n",
      "select an operation(+,-,*,/,e):\n",
      "e\n"
     ]
    }
   ],
   "source": [
    "def add(a,b):\n",
    "    return a + b\n",
    "\n",
    "def sub(a,b):\n",
    "    return a - b\n",
    "\n",
    "def mul(a,b):\n",
    "    return a * b\n",
    "\n",
    "def div(a,b):\n",
    "    return a / b\n",
    "\n",
    "d = {\n",
    "    '+':add,\n",
    "    '-':sub,\n",
    "    '*':mul,\n",
    "    '/':div\n",
    "}\n",
    "\n",
    "\n",
    "while True:\n",
    "    print(\"select an operation(+,-,*,/,e):\")\n",
    "    op = input()\n",
    "    \n",
    "    if op == 'e':\n",
    "        break\n",
    "    \n",
    "    f = d.get(op, None)\n",
    "    \n",
    "    if f is None:\n",
    "        print(\"please enter a valid operation\")\n",
    "    else:\n",
    "        n1 = int(input(\"Enter first value:\"))\n",
    "        n2 = int(input(\"Enter second value:\"))\n",
    "        \n",
    "        # print(f\"{n1} {op} {n2} = {f(n1, n2)}\")\n",
    "        print(n1, op, n2, \"=\", f(n1, n2))"
   ]
  },
  {
   "cell_type": "code",
   "execution_count": null,
   "id": "0cbc8420",
   "metadata": {},
   "outputs": [],
   "source": []
  },
  {
   "cell_type": "code",
   "execution_count": null,
   "id": "dd3da0c7",
   "metadata": {},
   "outputs": [],
   "source": [
    "# map, filter and reduce"
   ]
  },
  {
   "cell_type": "code",
   "execution_count": 21,
   "id": "2c9558fa",
   "metadata": {},
   "outputs": [
    {
     "name": "stdout",
     "output_type": "stream",
     "text": [
      "[1, 4, 9]\n"
     ]
    }
   ],
   "source": [
    "def transform(f, s):\n",
    "    r = []\n",
    "    for v in s:\n",
    "        r.append(f(v))\n",
    "        \n",
    "    return r\n",
    "\n",
    "def funct(val):\n",
    "    return val**2\n",
    "\n",
    "v = transform(funct, [1,2,3])\n",
    "print(v)\n"
   ]
  },
  {
   "cell_type": "code",
   "execution_count": 22,
   "id": "0af2d912",
   "metadata": {},
   "outputs": [],
   "source": [
    "def transform(f, s):\n",
    "    r = []\n",
    "    for v in s:\n",
    "        r.append(f(v))\n",
    "        \n",
    "    return r"
   ]
  },
  {
   "cell_type": "code",
   "execution_count": null,
   "id": "ad84ac0b",
   "metadata": {},
   "outputs": [],
   "source": []
  },
  {
   "cell_type": "code",
   "execution_count": 23,
   "id": "f8b6f0d4",
   "metadata": {},
   "outputs": [
    {
     "data": {
      "text/plain": [
       "10"
      ]
     },
     "execution_count": 23,
     "metadata": {},
     "output_type": "execute_result"
    }
   ],
   "source": [
    "abs(-10)"
   ]
  },
  {
   "cell_type": "code",
   "execution_count": 24,
   "id": "ffc9c8a1",
   "metadata": {},
   "outputs": [
    {
     "name": "stdout",
     "output_type": "stream",
     "text": [
      "[1, 1, 33, 4]\n"
     ]
    }
   ],
   "source": [
    "print(   transform( abs, (1,-1,-33,4 ) )  )"
   ]
  },
  {
   "cell_type": "code",
   "execution_count": 25,
   "id": "828c52e7",
   "metadata": {},
   "outputs": [
    {
     "name": "stdout",
     "output_type": "stream",
     "text": [
      "enter numbers separated by space: 1 2 3 4 5\n",
      "[1, 2, 3, 4, 5]\n",
      "15\n"
     ]
    }
   ],
   "source": [
    "s = input(\"enter numbers separated by space: \")\n",
    "\n",
    "\n",
    "nums = transform( int, s.split() )\n",
    "print(nums)\n",
    "print(sum(nums))"
   ]
  },
  {
   "cell_type": "code",
   "execution_count": null,
   "id": "f2fd059d",
   "metadata": {},
   "outputs": [],
   "source": []
  },
  {
   "cell_type": "code",
   "execution_count": 27,
   "id": "c7fe2137",
   "metadata": {},
   "outputs": [
    {
     "name": "stdout",
     "output_type": "stream",
     "text": [
      "<map object at 0x000001DBAAD80820>\n",
      "[1, 4, 9]\n"
     ]
    }
   ],
   "source": [
    "def funct(val):\n",
    "    return val**2\n",
    "\n",
    "v = map(funct, [1,2,3])\n",
    "print(v)\n",
    "print(list(v))\n"
   ]
  },
  {
   "cell_type": "code",
   "execution_count": 29,
   "id": "259a908b",
   "metadata": {},
   "outputs": [
    {
     "name": "stdout",
     "output_type": "stream",
     "text": [
      "1\n",
      "4\n",
      "9\n"
     ]
    }
   ],
   "source": [
    "def funct(val):\n",
    "    return val**2\n",
    "\n",
    "v = map(funct, [1,2,3])\n",
    "\n",
    "for i in v:\n",
    "    print(i)"
   ]
  },
  {
   "cell_type": "code",
   "execution_count": 30,
   "id": "da5e88e1",
   "metadata": {},
   "outputs": [
    {
     "name": "stdout",
     "output_type": "stream",
     "text": [
      "11\n",
      "22\n",
      "33\n"
     ]
    }
   ],
   "source": [
    "def funct(a,b):\n",
    "    return a + b\n",
    "\n",
    "# map(func, *iterables) --> map object\n",
    "v = map(funct, [1,2,3], (10,20,30))\n",
    "\n",
    "for i in v:\n",
    "    print(i)"
   ]
  },
  {
   "cell_type": "code",
   "execution_count": 31,
   "id": "7815f0b6",
   "metadata": {},
   "outputs": [
    {
     "ename": "TypeError",
     "evalue": "funct() takes 2 positional arguments but 3 were given",
     "output_type": "error",
     "traceback": [
      "\u001b[1;31m---------------------------------------------------------------------------\u001b[0m",
      "\u001b[1;31mTypeError\u001b[0m                                 Traceback (most recent call last)",
      "\u001b[1;32mC:\\Users\\LEANGA~1\\AppData\\Local\\Temp/ipykernel_17532/649919623.py\u001b[0m in \u001b[0;36m<module>\u001b[1;34m\u001b[0m\n\u001b[0;32m      5\u001b[0m \u001b[0mv\u001b[0m \u001b[1;33m=\u001b[0m \u001b[0mmap\u001b[0m\u001b[1;33m(\u001b[0m\u001b[0mfunct\u001b[0m\u001b[1;33m,\u001b[0m \u001b[1;33m[\u001b[0m\u001b[1;36m1\u001b[0m\u001b[1;33m,\u001b[0m\u001b[1;36m2\u001b[0m\u001b[1;33m,\u001b[0m\u001b[1;36m3\u001b[0m\u001b[1;33m]\u001b[0m\u001b[1;33m,\u001b[0m \u001b[1;33m(\u001b[0m\u001b[1;36m10\u001b[0m\u001b[1;33m,\u001b[0m\u001b[1;36m20\u001b[0m\u001b[1;33m,\u001b[0m\u001b[1;36m30\u001b[0m\u001b[1;33m)\u001b[0m\u001b[1;33m,\u001b[0m \u001b[1;33m(\u001b[0m\u001b[1;36m1\u001b[0m\u001b[1;33m,\u001b[0m\u001b[1;36m2\u001b[0m\u001b[1;33m,\u001b[0m\u001b[1;36m3\u001b[0m\u001b[1;33m)\u001b[0m\u001b[1;33m)\u001b[0m\u001b[1;33m\u001b[0m\u001b[1;33m\u001b[0m\u001b[0m\n\u001b[0;32m      6\u001b[0m \u001b[1;33m\u001b[0m\u001b[0m\n\u001b[1;32m----> 7\u001b[1;33m \u001b[1;32mfor\u001b[0m \u001b[0mi\u001b[0m \u001b[1;32min\u001b[0m \u001b[0mv\u001b[0m\u001b[1;33m:\u001b[0m\u001b[1;33m\u001b[0m\u001b[1;33m\u001b[0m\u001b[0m\n\u001b[0m\u001b[0;32m      8\u001b[0m     \u001b[0mprint\u001b[0m\u001b[1;33m(\u001b[0m\u001b[0mi\u001b[0m\u001b[1;33m)\u001b[0m\u001b[1;33m\u001b[0m\u001b[1;33m\u001b[0m\u001b[0m\n",
      "\u001b[1;31mTypeError\u001b[0m: funct() takes 2 positional arguments but 3 were given"
     ]
    }
   ],
   "source": [
    "def funct(a,b):\n",
    "    return a + b\n",
    "\n",
    "# map(func, *iterables) --> map object\n",
    "v = map(funct, [1,2,3], (10,20,30), (1,2,3))\n",
    "\n",
    "for i in v:\n",
    "    print(i)"
   ]
  },
  {
   "cell_type": "code",
   "execution_count": 32,
   "id": "44c7efcb",
   "metadata": {},
   "outputs": [
    {
     "name": "stdout",
     "output_type": "stream",
     "text": [
      "50\n"
     ]
    }
   ],
   "source": [
    "a = \"-1 2 33 -5 0 -9\"\n",
    "\n",
    "v = map( abs, map(int, a.split() ) )\n",
    "\n",
    "print(sum(v))"
   ]
  },
  {
   "cell_type": "code",
   "execution_count": null,
   "id": "358c4608",
   "metadata": {},
   "outputs": [],
   "source": []
  },
  {
   "cell_type": "code",
   "execution_count": 33,
   "id": "f4d9ac16",
   "metadata": {},
   "outputs": [
    {
     "name": "stdout",
     "output_type": "stream",
     "text": [
      "True\n",
      "False\n",
      "True\n"
     ]
    }
   ],
   "source": [
    "\n",
    "def is_pos(v):\n",
    "    return v >= 0\n",
    "\n",
    "print(is_pos(0))\n",
    "\n",
    "print(is_pos(-19))\n",
    "\n",
    "print(is_pos(100))"
   ]
  },
  {
   "cell_type": "code",
   "execution_count": 34,
   "id": "5343c1d1",
   "metadata": {},
   "outputs": [
    {
     "name": "stdout",
     "output_type": "stream",
     "text": [
      "[2, 33, 0]\n"
     ]
    }
   ],
   "source": [
    "def is_pos(v):\n",
    "    return v >= 0\n",
    "\n",
    "a = [-1, 2, 33, -5, 0, -9]\n",
    "v =  filter(is_pos, a)\n",
    "\n",
    "print(list(v))"
   ]
  },
  {
   "cell_type": "code",
   "execution_count": 35,
   "id": "7e7926d9",
   "metadata": {},
   "outputs": [
    {
     "name": "stdout",
     "output_type": "stream",
     "text": [
      "[1, 33, 5]\n"
     ]
    }
   ],
   "source": [
    "def f(v):\n",
    "    return v%2\n",
    "\n",
    "a = [1, 2, 33, 5, 0, 12]\n",
    "v =  filter(f, a)\n",
    "\n",
    "print(list(v))"
   ]
  },
  {
   "cell_type": "code",
   "execution_count": 36,
   "id": "44ad0af3",
   "metadata": {},
   "outputs": [
    {
     "name": "stdout",
     "output_type": "stream",
     "text": [
      "39\n"
     ]
    }
   ],
   "source": [
    "a = \"1 2 33 5 0 12\"\n",
    "\n",
    "def f(v):\n",
    "    return v%2\n",
    "\n",
    "v = filter( f, map(int, a.split() ) )\n",
    "print(sum(v))"
   ]
  },
  {
   "cell_type": "code",
   "execution_count": null,
   "id": "4e6df5c9",
   "metadata": {},
   "outputs": [],
   "source": []
  },
  {
   "cell_type": "code",
   "execution_count": 38,
   "id": "372d21a7",
   "metadata": {},
   "outputs": [
    {
     "name": "stdout",
     "output_type": "stream",
     "text": [
      "120\n"
     ]
    }
   ],
   "source": [
    "def accumulate(funct, seq):\n",
    "    res = seq[0]\n",
    "    \n",
    "    for v in seq[1:]:\n",
    "        res = funct(res, v)\n",
    "        \n",
    "    return res\n",
    "\n",
    "def add(a,b):\n",
    "    return a + b\n",
    "\n",
    "def mul(a,b):\n",
    "    return a * b\n",
    "\n",
    "print(accumulate( mul, [1,2,3,4,5] ))\n"
   ]
  },
  {
   "cell_type": "code",
   "execution_count": 39,
   "id": "fe48fb64",
   "metadata": {},
   "outputs": [
    {
     "name": "stdout",
     "output_type": "stream",
     "text": [
      "120\n"
     ]
    }
   ],
   "source": [
    "from functools import reduce\n",
    "\n",
    "def add(a,b):\n",
    "    return a + b\n",
    "\n",
    "def mul(a,b):\n",
    "    return a * b\n",
    "\n",
    "print(reduce( mul, [1,2,3,4,5] ))\n"
   ]
  },
  {
   "cell_type": "code",
   "execution_count": 40,
   "id": "642c4e1d",
   "metadata": {},
   "outputs": [
    {
     "name": "stdout",
     "output_type": "stream",
     "text": [
      "5\n"
     ]
    }
   ],
   "source": [
    "\n",
    "def comp(a,b):\n",
    "    return a if a > b else b\n",
    "\n",
    "print(reduce( comp, [1,2,3,4,5,3] ))\n"
   ]
  },
  {
   "cell_type": "code",
   "execution_count": null,
   "id": "819cd815",
   "metadata": {},
   "outputs": [],
   "source": []
  }
 ],
 "metadata": {
  "kernelspec": {
   "display_name": "Python 3",
   "language": "python",
   "name": "python3"
  },
  "language_info": {
   "codemirror_mode": {
    "name": "ipython",
    "version": 3
   },
   "file_extension": ".py",
   "mimetype": "text/x-python",
   "name": "python",
   "nbconvert_exporter": "python",
   "pygments_lexer": "ipython3",
   "version": "3.8.8"
  }
 },
 "nbformat": 4,
 "nbformat_minor": 5
}
