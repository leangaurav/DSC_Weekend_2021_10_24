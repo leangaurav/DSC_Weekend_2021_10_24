{
 "cells": [
  {
   "cell_type": "code",
   "execution_count": null,
   "id": "4c64f029",
   "metadata": {},
   "outputs": [],
   "source": [
    "def add(a,b):\n",
    "    return a + b\n",
    "\n",
    "def sub(a,b):\n",
    "    return a - b\n",
    "\n",
    "def mul(a,b):\n",
    "    return a * b\n",
    "\n",
    "def div(a,b):\n",
    "    return a / b\n",
    "\n",
    "d = {\n",
    "    '+':add,\n",
    "    '-':sub,\n",
    "    '*':mul,\n",
    "    '/':div\n",
    "}\n",
    "\n",
    "f = d['-']\n",
    "print(f)\n",
    "\n",
    "print(f(10,20))\n",
    "\n",
    "print( d['+'](10,20) )"
   ]
  },
  {
   "cell_type": "code",
   "execution_count": null,
   "id": "0b83094c",
   "metadata": {},
   "outputs": [],
   "source": []
  },
  {
   "cell_type": "code",
   "execution_count": null,
   "id": "a2030cb6",
   "metadata": {},
   "outputs": [],
   "source": []
  },
  {
   "cell_type": "code",
   "execution_count": null,
   "id": "0fdae3c5",
   "metadata": {},
   "outputs": [],
   "source": [
    "# lambda\n",
    "- function\n",
    "- one line of code\n",
    "- no need to write `return` keyword\n",
    "- anonymous function: has no name"
   ]
  },
  {
   "cell_type": "code",
   "execution_count": 2,
   "id": "89bb4be3",
   "metadata": {},
   "outputs": [
    {
     "name": "stdout",
     "output_type": "stream",
     "text": [
      "10\n"
     ]
    }
   ],
   "source": [
    "from functools import reduce\n",
    "\n",
    "def add(a,b):\n",
    "    return a + b\n",
    "\n",
    "print(reduce(add, [1,2,3,4]))"
   ]
  },
  {
   "cell_type": "code",
   "execution_count": null,
   "id": "c07fe131",
   "metadata": {},
   "outputs": [],
   "source": []
  },
  {
   "cell_type": "code",
   "execution_count": null,
   "id": "cc48a2d2",
   "metadata": {},
   "outputs": [],
   "source": [
    "lambda <args...> :  <code/expression>"
   ]
  },
  {
   "cell_type": "code",
   "execution_count": 5,
   "id": "bc90fefd",
   "metadata": {},
   "outputs": [
    {
     "name": "stdout",
     "output_type": "stream",
     "text": [
      "<function <lambda> at 0x00000243AD3B8310>\n",
      "10 10 10\n"
     ]
    }
   ],
   "source": [
    "# 0 arguemnts\n",
    "p = lambda: 10\n",
    "\n",
    "print(p)\n",
    "print(p(), p(), p())\n"
   ]
  },
  {
   "cell_type": "code",
   "execution_count": 6,
   "id": "2bda3135",
   "metadata": {},
   "outputs": [
    {
     "name": "stdout",
     "output_type": "stream",
     "text": [
      "True\n",
      "False False False\n"
     ]
    }
   ],
   "source": [
    "# 1 arguemnts\n",
    "p = lambda x: x%2 == 0\n",
    "\n",
    "print(p(10))\n",
    "print(p(11), p(13), p(9))\n"
   ]
  },
  {
   "cell_type": "code",
   "execution_count": 7,
   "id": "bfac2237",
   "metadata": {},
   "outputs": [
    {
     "name": "stdout",
     "output_type": "stream",
     "text": [
      "30\n",
      "41 57 64\n"
     ]
    }
   ],
   "source": [
    "# 1 arguemnts\n",
    "p = lambda x,y: x + y\n",
    "\n",
    "print(p(10,20))\n",
    "print(p(11, 30), p(13,44), p(9, 55))\n"
   ]
  },
  {
   "cell_type": "code",
   "execution_count": 8,
   "id": "7cfe8c32",
   "metadata": {},
   "outputs": [
    {
     "name": "stdout",
     "output_type": "stream",
     "text": [
      "10\n"
     ]
    }
   ],
   "source": [
    "from functools import reduce\n",
    "\n",
    "\n",
    "print(reduce(lambda x,y: x + y , [1,2,3,4]))"
   ]
  },
  {
   "cell_type": "code",
   "execution_count": null,
   "id": "3f1936fc",
   "metadata": {},
   "outputs": [],
   "source": []
  },
  {
   "cell_type": "code",
   "execution_count": null,
   "id": "ba334663",
   "metadata": {},
   "outputs": [],
   "source": []
  },
  {
   "cell_type": "code",
   "execution_count": 10,
   "id": "c0bf6bc8",
   "metadata": {},
   "outputs": [
    {
     "name": "stdout",
     "output_type": "stream",
     "text": [
      "<function <lambda> at 0x00000243AD3899D0>\n",
      "-10\n",
      "30\n"
     ]
    }
   ],
   "source": [
    "d = {\n",
    "    '+': lambda x,y: x + y,\n",
    "    '-': lambda x,y: x - y,\n",
    "    '*': lambda x,y: x * y,\n",
    "    '/': lambda x,y: x / y\n",
    "}\n",
    "\n",
    "f = d['-']\n",
    "print(f)\n",
    "\n",
    "print(f(10,20))\n",
    "\n",
    "print( d['+'](10,20) )"
   ]
  },
  {
   "cell_type": "code",
   "execution_count": null,
   "id": "f62e3d84",
   "metadata": {},
   "outputs": [],
   "source": []
  },
  {
   "cell_type": "code",
   "execution_count": null,
   "id": "1b87d43f",
   "metadata": {},
   "outputs": [],
   "source": []
  },
  {
   "cell_type": "code",
   "execution_count": 11,
   "id": "7abffd90",
   "metadata": {},
   "outputs": [
    {
     "name": "stdout",
     "output_type": "stream",
     "text": [
      "['b', 'd', 'f']\n"
     ]
    }
   ],
   "source": [
    "m = filter( lambda x: ord(x)%2 == 0,  \"abcdefg\")\n",
    "print(list(m))"
   ]
  }
 ],
 "metadata": {
  "kernelspec": {
   "display_name": "Python 3",
   "language": "python",
   "name": "python3"
  },
  "language_info": {
   "codemirror_mode": {
    "name": "ipython",
    "version": 3
   },
   "file_extension": ".py",
   "mimetype": "text/x-python",
   "name": "python",
   "nbconvert_exporter": "python",
   "pygments_lexer": "ipython3",
   "version": "3.8.8"
  }
 },
 "nbformat": 4,
 "nbformat_minor": 5
}
