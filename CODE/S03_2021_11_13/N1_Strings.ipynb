{
 "cells": [
  {
   "cell_type": "markdown",
   "id": "e05d4178",
   "metadata": {},
   "source": [
    "### What is a string\n",
    "- is a **sequence** of symbols (characters)\n",
    "- immutable\n",
    "- it can be indexed  \n",
    "`* seqences are iterable`"
   ]
  },
  {
   "cell_type": "code",
   "execution_count": null,
   "id": "22a12b6c",
   "metadata": {},
   "outputs": [],
   "source": [
    "# Indexing"
   ]
  },
  {
   "cell_type": "code",
   "execution_count": 2,
   "id": "c337f636",
   "metadata": {},
   "outputs": [
    {
     "name": "stdout",
     "output_type": "stream",
     "text": [
      "d\n",
      "<class 'str'> e\n"
     ]
    }
   ],
   "source": [
    "s = \"abcdefgh\"\n",
    "#    01234567\n",
    "\n",
    "print( s[3] ) # indexing operator\n",
    "\n",
    "r = s[4]\n",
    "print(type(r), r)"
   ]
  },
  {
   "cell_type": "code",
   "execution_count": 3,
   "id": "ab0241a8",
   "metadata": {},
   "outputs": [
    {
     "name": "stdout",
     "output_type": "stream",
     "text": [
      "False\n",
      "True\n"
     ]
    }
   ],
   "source": [
    "print(-1 == 1)\n",
    "print(-0 == 0)"
   ]
  },
  {
   "cell_type": "code",
   "execution_count": 4,
   "id": "2a831c92",
   "metadata": {},
   "outputs": [
    {
     "name": "stdout",
     "output_type": "stream",
     "text": [
      "f\n",
      "<class 'str'> e\n"
     ]
    }
   ],
   "source": [
    "s = \"abcdefgh\"\n",
    "#    01234567 positive\n",
    "#    87654321 negative\n",
    "\n",
    "print( s[-3] ) # indexing operator\n",
    "\n",
    "r = s[-4]\n",
    "print(type(r), r)"
   ]
  },
  {
   "cell_type": "code",
   "execution_count": 5,
   "id": "ebefa799",
   "metadata": {},
   "outputs": [
    {
     "name": "stdout",
     "output_type": "stream",
     "text": [
      "enter  someethhing:fdsf fdf\n",
      "8\n"
     ]
    }
   ],
   "source": [
    "# len: returns length of a sequence\n",
    "s = input(\"enter  someethhing:\")\n",
    "print(len(s))"
   ]
  },
  {
   "cell_type": "code",
   "execution_count": 8,
   "id": "55bb64d3",
   "metadata": {},
   "outputs": [
    {
     "name": "stdout",
     "output_type": "stream",
     "text": [
      "0\n",
      "1\n",
      "1\n",
      "1\n"
     ]
    }
   ],
   "source": [
    "print(len(\"\"))\n",
    "print(len(\"1\"))\n",
    "print(len(\" \"))\n",
    "print(len(\"\\n\"))"
   ]
  },
  {
   "cell_type": "code",
   "execution_count": 10,
   "id": "0a8571c3",
   "metadata": {},
   "outputs": [
    {
     "name": "stdout",
     "output_type": "stream",
     "text": [
      "b\n",
      "d\n",
      "a\n"
     ]
    },
    {
     "ename": "IndexError",
     "evalue": "string index out of range",
     "output_type": "error",
     "traceback": [
      "\u001b[1;31m---------------------------------------------------------------------------\u001b[0m",
      "\u001b[1;31mIndexError\u001b[0m                                Traceback (most recent call last)",
      "\u001b[1;32mC:\\Users\\LEANGA~1\\AppData\\Local\\Temp/ipykernel_10384/874806011.py\u001b[0m in \u001b[0;36m<module>\u001b[1;34m\u001b[0m\n\u001b[0;32m      4\u001b[0m \u001b[0mprint\u001b[0m\u001b[1;33m(\u001b[0m\u001b[0ms\u001b[0m\u001b[1;33m[\u001b[0m\u001b[1;33m-\u001b[0m\u001b[1;36m4\u001b[0m\u001b[1;33m]\u001b[0m\u001b[1;33m)\u001b[0m\u001b[1;33m\u001b[0m\u001b[1;33m\u001b[0m\u001b[0m\n\u001b[0;32m      5\u001b[0m \u001b[1;33m\u001b[0m\u001b[0m\n\u001b[1;32m----> 6\u001b[1;33m \u001b[0mprint\u001b[0m\u001b[1;33m(\u001b[0m\u001b[0ms\u001b[0m\u001b[1;33m[\u001b[0m\u001b[1;36m4\u001b[0m\u001b[1;33m]\u001b[0m\u001b[1;33m)\u001b[0m\u001b[1;33m\u001b[0m\u001b[1;33m\u001b[0m\u001b[0m\n\u001b[0m\u001b[0;32m      7\u001b[0m \u001b[0mprint\u001b[0m\u001b[1;33m(\u001b[0m\u001b[0ms\u001b[0m\u001b[1;33m[\u001b[0m\u001b[1;36m10\u001b[0m\u001b[1;33m]\u001b[0m\u001b[1;33m)\u001b[0m\u001b[1;33m\u001b[0m\u001b[1;33m\u001b[0m\u001b[0m\n",
      "\u001b[1;31mIndexError\u001b[0m: string index out of range"
     ]
    }
   ],
   "source": [
    "s = \"abcd\"\n",
    "print(s[1])\n",
    "print(s[3])\n",
    "print(s[-4])\n",
    "\n",
    "print(s[4])\n",
    "print(s[10])"
   ]
  },
  {
   "cell_type": "code",
   "execution_count": 13,
   "id": "d34f5ba2",
   "metadata": {},
   "outputs": [
    {
     "ename": "TypeError",
     "evalue": "string indices must be integers",
     "output_type": "error",
     "traceback": [
      "\u001b[1;31m---------------------------------------------------------------------------\u001b[0m",
      "\u001b[1;31mTypeError\u001b[0m                                 Traceback (most recent call last)",
      "\u001b[1;32mC:\\Users\\LEANGA~1\\AppData\\Local\\Temp/ipykernel_10384/606779777.py\u001b[0m in \u001b[0;36m<module>\u001b[1;34m\u001b[0m\n\u001b[0;32m      2\u001b[0m \u001b[0ms\u001b[0m \u001b[1;33m=\u001b[0m \u001b[1;34m\"abcd\"\u001b[0m\u001b[1;33m\u001b[0m\u001b[1;33m\u001b[0m\u001b[0m\n\u001b[0;32m      3\u001b[0m \u001b[0mi\u001b[0m \u001b[1;33m=\u001b[0m \u001b[1;36m1.0\u001b[0m\u001b[1;33m\u001b[0m\u001b[1;33m\u001b[0m\u001b[0m\n\u001b[1;32m----> 4\u001b[1;33m \u001b[0mprint\u001b[0m\u001b[1;33m(\u001b[0m\u001b[0ms\u001b[0m\u001b[1;33m[\u001b[0m\u001b[0mi\u001b[0m\u001b[1;33m]\u001b[0m\u001b[1;33m)\u001b[0m\u001b[1;33m\u001b[0m\u001b[1;33m\u001b[0m\u001b[0m\n\u001b[0m",
      "\u001b[1;31mTypeError\u001b[0m: string indices must be integers"
     ]
    }
   ],
   "source": [
    "# indexes have  to be ints\n",
    "s = \"abcd\"\n",
    "i = 1.0\n",
    "print(s[i])"
   ]
  },
  {
   "cell_type": "code",
   "execution_count": 15,
   "id": "8a3ef63c",
   "metadata": {},
   "outputs": [
    {
     "name": "stdout",
     "output_type": "stream",
     "text": [
      "enter a string1234\n"
     ]
    },
    {
     "ename": "TypeError",
     "evalue": "string indices must be integers",
     "output_type": "error",
     "traceback": [
      "\u001b[1;31m---------------------------------------------------------------------------\u001b[0m",
      "\u001b[1;31mTypeError\u001b[0m                                 Traceback (most recent call last)",
      "\u001b[1;32mC:\\Users\\LEANGA~1\\AppData\\Local\\Temp/ipykernel_10384/3614158392.py\u001b[0m in \u001b[0;36m<module>\u001b[1;34m\u001b[0m\n\u001b[0;32m      1\u001b[0m \u001b[0ms\u001b[0m \u001b[1;33m=\u001b[0m \u001b[0minput\u001b[0m\u001b[1;33m(\u001b[0m\u001b[1;34m\"enter a string\"\u001b[0m\u001b[1;33m)\u001b[0m\u001b[1;33m\u001b[0m\u001b[1;33m\u001b[0m\u001b[0m\n\u001b[0;32m      2\u001b[0m \u001b[0mi\u001b[0m \u001b[1;33m=\u001b[0m \u001b[0mlen\u001b[0m\u001b[1;33m(\u001b[0m\u001b[0ms\u001b[0m\u001b[1;33m)\u001b[0m\u001b[1;33m/\u001b[0m\u001b[1;36m2\u001b[0m\u001b[1;33m\u001b[0m\u001b[1;33m\u001b[0m\u001b[0m\n\u001b[1;32m----> 3\u001b[1;33m \u001b[0mprint\u001b[0m\u001b[1;33m(\u001b[0m\u001b[0ms\u001b[0m\u001b[1;33m[\u001b[0m\u001b[0mi\u001b[0m\u001b[1;33m]\u001b[0m\u001b[1;33m)\u001b[0m\u001b[1;33m\u001b[0m\u001b[1;33m\u001b[0m\u001b[0m\n\u001b[0m",
      "\u001b[1;31mTypeError\u001b[0m: string indices must be integers"
     ]
    }
   ],
   "source": [
    "\n",
    "s = input(\"enter a string\")\n",
    "i = len(s)/2\n",
    "print(s[i])"
   ]
  },
  {
   "cell_type": "code",
   "execution_count": 17,
   "id": "97d5c530",
   "metadata": {},
   "outputs": [
    {
     "name": "stdout",
     "output_type": "stream",
     "text": [
      "enter a string12345\n",
      "3\n"
     ]
    }
   ],
   "source": [
    "\n",
    "s = input(\"enter a string\")\n",
    "i = len(s)//2\n",
    "print(s[i])"
   ]
  },
  {
   "cell_type": "code",
   "execution_count": null,
   "id": "a5710b72",
   "metadata": {},
   "outputs": [],
   "source": [
    "    "
   ]
  },
  {
   "cell_type": "code",
   "execution_count": null,
   "id": "2b63c71f",
   "metadata": {},
   "outputs": [],
   "source": []
  },
  {
   "cell_type": "markdown",
   "id": "0c42de81",
   "metadata": {},
   "source": [
    "### Escape sequences\n",
    "- they start with a '\\'  \n",
    "```\n",
    "\\n -> new line  , line break\n",
    "\\t -> tab\n",
    "\\'\n",
    "\\\"\n",
    "\\\\\n",
    "```\n"
   ]
  },
  {
   "cell_type": "code",
   "execution_count": 21,
   "id": "540af534",
   "metadata": {},
   "outputs": [
    {
     "name": "stdout",
     "output_type": "stream",
     "text": [
      "abcd\n",
      "p\tqr\n"
     ]
    }
   ],
   "source": [
    "s = \"abcd\\np\\tqr\"\n",
    "print(s)"
   ]
  },
  {
   "cell_type": "code",
   "execution_count": 24,
   "id": "50ab6bb8",
   "metadata": {},
   "outputs": [
    {
     "name": "stdout",
     "output_type": "stream",
     "text": [
      "m\n",
      "\n",
      "m\\n\n"
     ]
    }
   ],
   "source": [
    "# print \"m\\n\" on screen\n",
    "print(\"m\\n\")\n",
    "print(\"m\\\\n\")"
   ]
  },
  {
   "cell_type": "code",
   "execution_count": null,
   "id": "bbfc45cc",
   "metadata": {},
   "outputs": [],
   "source": []
  },
  {
   "cell_type": "markdown",
   "id": "37ef4efa",
   "metadata": {},
   "source": [
    "### ord and chr functions"
   ]
  },
  {
   "cell_type": "code",
   "execution_count": 28,
   "id": "0f845230",
   "metadata": {},
   "outputs": [
    {
     "name": "stdout",
     "output_type": "stream",
     "text": [
      "97\n"
     ]
    },
    {
     "ename": "TypeError",
     "evalue": "ord() expected a character, but string of length 2 found",
     "output_type": "error",
     "traceback": [
      "\u001b[1;31m---------------------------------------------------------------------------\u001b[0m",
      "\u001b[1;31mTypeError\u001b[0m                                 Traceback (most recent call last)",
      "\u001b[1;32mC:\\Users\\LEANGA~1\\AppData\\Local\\Temp/ipykernel_10384/3894445570.py\u001b[0m in \u001b[0;36m<module>\u001b[1;34m\u001b[0m\n\u001b[0;32m      1\u001b[0m \u001b[0mprint\u001b[0m\u001b[1;33m(\u001b[0m\u001b[0mord\u001b[0m\u001b[1;33m(\u001b[0m\u001b[1;34m\"a\"\u001b[0m\u001b[1;33m)\u001b[0m\u001b[1;33m)\u001b[0m\u001b[1;33m\u001b[0m\u001b[1;33m\u001b[0m\u001b[0m\n\u001b[1;32m----> 2\u001b[1;33m \u001b[0mprint\u001b[0m\u001b[1;33m(\u001b[0m\u001b[0mord\u001b[0m\u001b[1;33m(\u001b[0m\u001b[1;34m\"ab\"\u001b[0m\u001b[1;33m)\u001b[0m\u001b[1;33m)\u001b[0m\u001b[1;33m\u001b[0m\u001b[1;33m\u001b[0m\u001b[0m\n\u001b[0m",
      "\u001b[1;31mTypeError\u001b[0m: ord() expected a character, but string of length 2 found"
     ]
    }
   ],
   "source": [
    "print(ord(\"a\"))"
   ]
  },
  {
   "cell_type": "code",
   "execution_count": 31,
   "id": "e58a101b",
   "metadata": {},
   "outputs": [
    {
     "name": "stdout",
     "output_type": "stream",
     "text": [
      "57\n",
      "48\n",
      "32\n"
     ]
    }
   ],
   "source": [
    "print(ord(\"9\"))\n",
    "print(ord(\"0\"))\n",
    "print(ord(\" \"))"
   ]
  },
  {
   "cell_type": "code",
   "execution_count": 26,
   "id": "62d474e1",
   "metadata": {},
   "outputs": [
    {
     "name": "stdout",
     "output_type": "stream",
     "text": [
      "a\n"
     ]
    }
   ],
   "source": [
    "print(chr(97))"
   ]
  },
  {
   "cell_type": "code",
   "execution_count": 27,
   "id": "b2fa04f0",
   "metadata": {},
   "outputs": [
    {
     "name": "stdout",
     "output_type": "stream",
     "text": [
      "[\n",
      "\\\n"
     ]
    }
   ],
   "source": [
    "print(chr(91))\n",
    "print(chr(92))"
   ]
  },
  {
   "cell_type": "code",
   "execution_count": null,
   "id": "5448e5af",
   "metadata": {},
   "outputs": [],
   "source": [
    "\"A\" -> 65\n",
    "\"B\" -> 66\n",
    "\n",
    "\"Z\" -> \n",
    "\n",
    "\"a\" -> 97\n",
    "\"b\" ->98..."
   ]
  },
  {
   "cell_type": "code",
   "execution_count": null,
   "id": "0826d8fc",
   "metadata": {},
   "outputs": [],
   "source": []
  },
  {
   "cell_type": "code",
   "execution_count": null,
   "id": "65df2508",
   "metadata": {},
   "outputs": [],
   "source": [
    "# UNICODE"
   ]
  },
  {
   "cell_type": "code",
   "execution_count": null,
   "id": "aa694c3a",
   "metadata": {},
   "outputs": [],
   "source": []
  },
  {
   "cell_type": "markdown",
   "id": "c208c645",
   "metadata": {},
   "source": [
    "### ways of writing strings in python"
   ]
  },
  {
   "cell_type": "code",
   "execution_count": 35,
   "id": "0e2d4ea2",
   "metadata": {},
   "outputs": [
    {
     "name": "stdout",
     "output_type": "stream",
     "text": [
      "gaurav said \"python is a programming language\" \n"
     ]
    }
   ],
   "source": [
    "s = \"gaurav said \\\"python is a programming language\\\" \"\n",
    "print(s)"
   ]
  },
  {
   "cell_type": "code",
   "execution_count": 36,
   "id": "9f75c2cf",
   "metadata": {},
   "outputs": [
    {
     "name": "stdout",
     "output_type": "stream",
     "text": [
      "gaurav said \"python is a programming language\" \n"
     ]
    }
   ],
   "source": [
    "s = 'gaurav said \"python is a programming language\" '\n",
    "print(s)"
   ]
  },
  {
   "cell_type": "code",
   "execution_count": 37,
   "id": "74ed6ec5",
   "metadata": {},
   "outputs": [
    {
     "name": "stdout",
     "output_type": "stream",
     "text": [
      "gaurav said 'python is a programming language' \n"
     ]
    }
   ],
   "source": [
    "s = \"gaurav said 'python is a programming language' \"\n",
    "print(s)"
   ]
  },
  {
   "cell_type": "code",
   "execution_count": 38,
   "id": "f603ccd4",
   "metadata": {},
   "outputs": [
    {
     "name": "stdout",
     "output_type": "stream",
     "text": [
      "gaurav said \"python is a programming language' \n"
     ]
    }
   ],
   "source": [
    "s = \"\"\"gaurav said \"python is a programming language' \"\"\"\n",
    "print(s)"
   ]
  },
  {
   "cell_type": "code",
   "execution_count": 39,
   "id": "49a26bff",
   "metadata": {},
   "outputs": [
    {
     "name": "stdout",
     "output_type": "stream",
     "text": [
      "gaurav said \"python is a programming language' \n"
     ]
    }
   ],
   "source": [
    "s = '''gaurav said \"python is a programming language' '''\n",
    "print(s)"
   ]
  },
  {
   "cell_type": "code",
   "execution_count": 40,
   "id": "f69387d6",
   "metadata": {},
   "outputs": [
    {
     "ename": "SyntaxError",
     "evalue": "EOL while scanning string literal (Temp/ipykernel_10384/2918299517.py, line 1)",
     "output_type": "error",
     "traceback": [
      "\u001b[1;36m  File \u001b[1;32m\"C:\\Users\\LEANGA~1\\AppData\\Local\\Temp/ipykernel_10384/2918299517.py\"\u001b[1;36m, line \u001b[1;32m1\u001b[0m\n\u001b[1;33m    s = \"abc\u001b[0m\n\u001b[1;37m            ^\u001b[0m\n\u001b[1;31mSyntaxError\u001b[0m\u001b[1;31m:\u001b[0m EOL while scanning string literal\n"
     ]
    }
   ],
   "source": [
    "s = \"abc\n",
    "pqr\""
   ]
  },
  {
   "cell_type": "code",
   "execution_count": 44,
   "id": "7f360500",
   "metadata": {},
   "outputs": [
    {
     "name": "stdout",
     "output_type": "stream",
     "text": [
      "abcd\n",
      "  123\n",
      "pqr\n"
     ]
    }
   ],
   "source": [
    "# multi line strings\n",
    "s = \"\"\"abcd\n",
    "  123\n",
    "pqr\"\"\"\n",
    "print(s)"
   ]
  },
  {
   "cell_type": "code",
   "execution_count": 45,
   "id": "a6892c5b",
   "metadata": {},
   "outputs": [
    {
     "name": "stdout",
     "output_type": "stream",
     "text": [
      "5\n"
     ]
    }
   ],
   "source": [
    "s = \"\"\"ab\n",
    "cd\"\"\"\n",
    "print(len(s))"
   ]
  },
  {
   "cell_type": "code",
   "execution_count": 46,
   "id": "fb1938a4",
   "metadata": {},
   "outputs": [
    {
     "name": "stdout",
     "output_type": "stream",
     "text": [
      "'ab\\ncd'\n"
     ]
    }
   ],
   "source": [
    "s = \"\"\"ab\n",
    "cd\"\"\"\n",
    "print(repr(s))"
   ]
  },
  {
   "cell_type": "code",
   "execution_count": null,
   "id": "a887f006",
   "metadata": {},
   "outputs": [],
   "source": []
  },
  {
   "cell_type": "markdown",
   "id": "5d2ad6df",
   "metadata": {},
   "source": [
    "### string functions"
   ]
  },
  {
   "cell_type": "code",
   "execution_count": 48,
   "id": "f9f7d7b9",
   "metadata": {},
   "outputs": [
    {
     "name": "stdout",
     "output_type": "stream",
     "text": [
      "['__add__', '__class__', '__contains__', '__delattr__', '__dir__', '__doc__', '__eq__', '__format__', '__ge__', '__getattribute__', '__getitem__', '__getnewargs__', '__gt__', '__hash__', '__init__', '__init_subclass__', '__iter__', '__le__', '__len__', '__lt__', '__mod__', '__mul__', '__ne__', '__new__', '__reduce__', '__reduce_ex__', '__repr__', '__rmod__', '__rmul__', '__setattr__', '__sizeof__', '__str__', '__subclasshook__', 'capitalize', 'casefold', 'center', 'count', 'encode', 'endswith', 'expandtabs', 'find', 'format', 'format_map', 'index', 'isalnum', 'isalpha', 'isascii', 'isdecimal', 'isdigit', 'isidentifier', 'islower', 'isnumeric', 'isprintable', 'isspace', 'istitle', 'isupper', 'join', 'ljust', 'lower', 'lstrip', 'maketrans', 'partition', 'replace', 'rfind', 'rindex', 'rjust', 'rpartition', 'rsplit', 'rstrip', 'split', 'splitlines', 'startswith', 'strip', 'swapcase', 'title', 'translate', 'upper', 'zfill']\n"
     ]
    }
   ],
   "source": [
    "print(dir(\"\"))"
   ]
  },
  {
   "cell_type": "code",
   "execution_count": 51,
   "id": "13248eb4",
   "metadata": {},
   "outputs": [],
   "source": []
  },
  {
   "cell_type": "code",
   "execution_count": 56,
   "id": "08b0fabf",
   "metadata": {},
   "outputs": [
    {
     "name": "stdout",
     "output_type": "stream",
     "text": [
      "Abc pqr. this\n",
      "ABC PQR. THIS\n",
      "abc pqr. this\n"
     ]
    }
   ],
   "source": [
    "s = \"abc pQr. this\"\n",
    "print(s.capitalize())\n",
    "print(s.upper())\n",
    "print(s.lower())"
   ]
  },
  {
   "cell_type": "code",
   "execution_count": null,
   "id": "738f3265",
   "metadata": {},
   "outputs": [],
   "source": [
    "- is : check a property: Bool\n",
    "- set\n",
    "- without any of above"
   ]
  },
  {
   "cell_type": "code",
   "execution_count": 57,
   "id": "2a4600e8",
   "metadata": {},
   "outputs": [
    {
     "name": "stdout",
     "output_type": "stream",
     "text": [
      "False\n",
      "False\n",
      "False\n"
     ]
    }
   ],
   "source": [
    "s = \"abc pQr. this\"\n",
    "print(s.isalpha())\n",
    "print(s.isnumeric())\n",
    "print(s.islower())"
   ]
  },
  {
   "cell_type": "code",
   "execution_count": 58,
   "id": "489d80d9",
   "metadata": {},
   "outputs": [
    {
     "name": "stdout",
     "output_type": "stream",
     "text": [
      "True\n",
      "False\n",
      "True\n"
     ]
    }
   ],
   "source": [
    "s = \"abc\"\n",
    "print(s.isalpha())\n",
    "print(s.isnumeric())\n",
    "print(s.islower())"
   ]
  },
  {
   "cell_type": "code",
   "execution_count": 60,
   "id": "dad493fa",
   "metadata": {},
   "outputs": [
    {
     "name": "stdout",
     "output_type": "stream",
     "text": [
      "False\n",
      "True\n",
      "False\n"
     ]
    }
   ],
   "source": [
    "s = \"123\"\n",
    "print(s.isalpha())\n",
    "print(s.isdigit())\n",
    "print(s.islower())"
   ]
  },
  {
   "cell_type": "code",
   "execution_count": null,
   "id": "548bff6b",
   "metadata": {},
   "outputs": [],
   "source": []
  },
  {
   "cell_type": "code",
   "execution_count": 61,
   "id": "7dcc6e2f",
   "metadata": {},
   "outputs": [
    {
     "data": {
      "text/plain": [
       "True"
      ]
     },
     "execution_count": 61,
     "metadata": {},
     "output_type": "execute_result"
    }
   ],
   "source": [
    "\"abcd\".endswith('cd')"
   ]
  },
  {
   "cell_type": "code",
   "execution_count": 62,
   "id": "65ac33fb",
   "metadata": {},
   "outputs": [
    {
     "data": {
      "text/plain": [
       "False"
      ]
     },
     "execution_count": 62,
     "metadata": {},
     "output_type": "execute_result"
    }
   ],
   "source": [
    "\"abcd\".endswith('CD')"
   ]
  },
  {
   "cell_type": "code",
   "execution_count": 68,
   "id": "7a39c2f1",
   "metadata": {},
   "outputs": [
    {
     "name": "stdout",
     "output_type": "stream",
     "text": [
      "False\n",
      "True\n",
      "False\n",
      "True\n",
      "True\n"
     ]
    }
   ],
   "source": [
    "print('a' < 'A')\n",
    "print('a' < 'b')\n",
    "print('ab' < 'a')\n",
    "print('ab' < 'b')\n",
    "print('abcd' < 'abd')"
   ]
  },
  {
   "cell_type": "code",
   "execution_count": 65,
   "id": "94ed9fde",
   "metadata": {},
   "outputs": [
    {
     "name": "stdout",
     "output_type": "stream",
     "text": [
      "abcd\n"
     ]
    }
   ],
   "source": [
    "s  = \"ab\" + \"cd\"\n",
    "print(s)"
   ]
  },
  {
   "cell_type": "code",
   "execution_count": 67,
   "id": "f5601c9a",
   "metadata": {},
   "outputs": [
    {
     "name": "stdout",
     "output_type": "stream",
     "text": [
      "abababababababababababababababababababab\n"
     ]
    }
   ],
   "source": [
    "s  = \"ab\" * 20\n",
    "print(s)"
   ]
  },
  {
   "cell_type": "code",
   "execution_count": 72,
   "id": "af847258",
   "metadata": {},
   "outputs": [
    {
     "name": "stdout",
     "output_type": "stream",
     "text": [
      "10 ' abc pqr \\n'\n",
      "7 'abc pqr'\n",
      "9 'abc pqr \\n'\n"
     ]
    }
   ],
   "source": [
    "# strip: removes whitespace characters\n",
    "# ' ', '\\n', '\\t'\n",
    "s = \" abc pqr \\n\"\n",
    "print(len(s), repr(s))\n",
    "r =  s.strip()\n",
    "print(len(r), repr(r))\n",
    "r =  s.lstrip()\n",
    "print(len(r), repr(r))"
   ]
  },
  {
   "cell_type": "code",
   "execution_count": null,
   "id": "cb3dac16",
   "metadata": {},
   "outputs": [],
   "source": []
  },
  {
   "cell_type": "code",
   "execution_count": null,
   "id": "0d0bba2b",
   "metadata": {},
   "outputs": [],
   "source": [
    "# immutable"
   ]
  },
  {
   "cell_type": "code",
   "execution_count": 73,
   "id": "2ec6e8e4",
   "metadata": {},
   "outputs": [
    {
     "name": "stdout",
     "output_type": "stream",
     "text": [
      "abcd\n"
     ]
    }
   ],
   "source": [
    "s = \"abcd\"\n",
    "s.upper()\n",
    "print(s)"
   ]
  },
  {
   "cell_type": "code",
   "execution_count": 74,
   "id": "bd08c971",
   "metadata": {},
   "outputs": [
    {
     "name": "stdout",
     "output_type": "stream",
     "text": [
      "ABCD\n"
     ]
    }
   ],
   "source": [
    "s = \"abcd\"\n",
    "r = s.upper()\n",
    "print(r)"
   ]
  },
  {
   "cell_type": "code",
   "execution_count": 75,
   "id": "c3a85e13",
   "metadata": {},
   "outputs": [
    {
     "ename": "TypeError",
     "evalue": "'str' object does not support item assignment",
     "output_type": "error",
     "traceback": [
      "\u001b[1;31m---------------------------------------------------------------------------\u001b[0m",
      "\u001b[1;31mTypeError\u001b[0m                                 Traceback (most recent call last)",
      "\u001b[1;32mC:\\Users\\LEANGA~1\\AppData\\Local\\Temp/ipykernel_10384/2494943422.py\u001b[0m in \u001b[0;36m<module>\u001b[1;34m\u001b[0m\n\u001b[0;32m      1\u001b[0m \u001b[0ms\u001b[0m \u001b[1;33m=\u001b[0m \u001b[1;34m\"abcd\"\u001b[0m\u001b[1;33m\u001b[0m\u001b[1;33m\u001b[0m\u001b[0m\n\u001b[1;32m----> 2\u001b[1;33m \u001b[0ms\u001b[0m\u001b[1;33m[\u001b[0m\u001b[1;36m0\u001b[0m\u001b[1;33m]\u001b[0m \u001b[1;33m=\u001b[0m \u001b[1;34m\"A\"\u001b[0m\u001b[1;33m\u001b[0m\u001b[1;33m\u001b[0m\u001b[0m\n\u001b[0m",
      "\u001b[1;31mTypeError\u001b[0m: 'str' object does not support item assignment"
     ]
    }
   ],
   "source": [
    "s = \"abcd\"\n",
    "s[0] = \"A\" # not possible.. strings  are immutable"
   ]
  },
  {
   "cell_type": "code",
   "execution_count": 100,
   "id": "e1e832a9",
   "metadata": {},
   "outputs": [
    {
     "name": "stdout",
     "output_type": "stream",
     "text": [
      "2\n",
      "1\n",
      "0\n",
      "2\n"
     ]
    }
   ],
   "source": [
    "s =  \"abc ab pqA\"\n",
    "\n",
    "print(s.count('a'))\n",
    "print(s.count('abc'))\n",
    "print(s.count('B'))\n",
    "print(s.count(' '))"
   ]
  },
  {
   "cell_type": "code",
   "execution_count": null,
   "id": "c4231f8c",
   "metadata": {},
   "outputs": [],
   "source": []
  },
  {
   "cell_type": "code",
   "execution_count": null,
   "id": "ee904e4c",
   "metadata": {},
   "outputs": [],
   "source": [
    "# slicing"
   ]
  },
  {
   "cell_type": "code",
   "execution_count": 80,
   "id": "25e2eb0d",
   "metadata": {},
   "outputs": [
    {
     "name": "stdout",
     "output_type": "stream",
     "text": [
      "cde\n",
      "cdefgh\n",
      "abcd\n",
      "cdefgh\n",
      "ace\n"
     ]
    }
   ],
   "source": [
    "s = \"abcdefgh\"\n",
    "#  + 01234567\n",
    "#  - 87654321\n",
    "\n",
    "# randrange(10,20)\n",
    "# randrange(10,20,2)\n",
    "print(s[2:5] )\n",
    "print(s[2:20] )\n",
    "print(s[:4] )\n",
    "print(s[2:] )\n",
    "print(s[:5:2] )"
   ]
  },
  {
   "cell_type": "code",
   "execution_count": null,
   "id": "0f7dc57b",
   "metadata": {},
   "outputs": [],
   "source": [
    "# [start: end: step]\n",
    "# step\n",
    "#  - positive -> L->R\n",
    "#  - negative -> R->L"
   ]
  },
  {
   "cell_type": "code",
   "execution_count": 81,
   "id": "b556b3fd",
   "metadata": {},
   "outputs": [
    {
     "name": "stdout",
     "output_type": "stream",
     "text": [
      "c\n",
      "\n",
      "gfe\n"
     ]
    }
   ],
   "source": [
    "s = \"abcdefgh\"\n",
    "#  + 01234567\n",
    "#  - 87654321\n",
    "\n",
    "# randrange(10,20)\n",
    "# randrange(10,20,2)\n",
    "print(s[2:-5] ) # c\n",
    "print(s[-2: -5] ) # empty\n",
    "print(s[-2: -5 : -1] ) # gfe\n"
   ]
  },
  {
   "cell_type": "code",
   "execution_count": 83,
   "id": "2ae344da",
   "metadata": {},
   "outputs": [
    {
     "name": "stdout",
     "output_type": "stream",
     "text": [
      "dcba\n",
      "db\n"
     ]
    }
   ],
   "source": [
    "s = \"abcd\"\n",
    "r =  s[::-1]\n",
    "print(r)\n",
    "r =  s[::-2]\n",
    "print(r)"
   ]
  },
  {
   "cell_type": "code",
   "execution_count": null,
   "id": "5f833896",
   "metadata": {},
   "outputs": [],
   "source": []
  },
  {
   "cell_type": "code",
   "execution_count": null,
   "id": "2f1e9fe5",
   "metadata": {},
   "outputs": [],
   "source": [
    "# format"
   ]
  },
  {
   "cell_type": "code",
   "execution_count": 85,
   "id": "46d0152d",
   "metadata": {},
   "outputs": [
    {
     "name": "stdout",
     "output_type": "stream",
     "text": [
      "10/4=2.5\n"
     ]
    }
   ],
   "source": [
    "x = 10\n",
    "y = 4\n",
    "z = x/y\n",
    "# 10/4 = 2.5\n",
    "print(x,'/',y,\"=\", z, sep='')"
   ]
  },
  {
   "cell_type": "code",
   "execution_count": null,
   "id": "b55fe879",
   "metadata": {},
   "outputs": [],
   "source": [
    "# format specifier\n",
    "# %d -> int\n",
    "# %f -> floats\n",
    "# %b -> bools\n",
    "# %s -> strings"
   ]
  },
  {
   "cell_type": "code",
   "execution_count": 87,
   "id": "8fbfebe9",
   "metadata": {},
   "outputs": [
    {
     "name": "stdout",
     "output_type": "stream",
     "text": [
      "10/4=2.500000\n"
     ]
    }
   ],
   "source": [
    "x = 10\n",
    "y = 4\n",
    "z = x/y\n",
    "# 10/4 = 2.5\n",
    "\n",
    "s = \"%d/%d=%f\" % (x,y,z)\n",
    "print(s)"
   ]
  },
  {
   "cell_type": "code",
   "execution_count": 90,
   "id": "bdc88cba",
   "metadata": {},
   "outputs": [
    {
     "name": "stdout",
     "output_type": "stream",
     "text": [
      "10/4=2.50\n",
      "10/4=2\n"
     ]
    }
   ],
   "source": [
    "x = 10\n",
    "y = 4\n",
    "z = x/y\n",
    "# 10/4 = 2.5\n",
    "\n",
    "s = \"%d/%d=%0.2f\" % (x,y,z)\n",
    "print(s)\n",
    "\n",
    "s = \"%d/%d=%d\" % (x,y,z)\n",
    "print(s)"
   ]
  },
  {
   "cell_type": "code",
   "execution_count": 89,
   "id": "224de21a",
   "metadata": {},
   "outputs": [
    {
     "name": "stdout",
     "output_type": "stream",
     "text": [
      "10/4=2.5\n"
     ]
    }
   ],
   "source": [
    "x = 10\n",
    "y = 4\n",
    "z = x/y\n",
    "# 10/4 = 2.5\n",
    "\n",
    "s = \"{}/{}={}\".format(x,y,z)\n",
    "print(s)"
   ]
  },
  {
   "cell_type": "code",
   "execution_count": 92,
   "id": "9d862088",
   "metadata": {},
   "outputs": [
    {
     "name": "stdout",
     "output_type": "stream",
     "text": [
      "10/4=2.5\n"
     ]
    }
   ],
   "source": [
    "# using an f-string or format string\n",
    "x = 10\n",
    "y = 4\n",
    "z = x/y\n",
    "\n",
    "s = f\"{x}/{y}={z}\"\n",
    "print(s)"
   ]
  },
  {
   "cell_type": "code",
   "execution_count": 95,
   "id": "380592cb",
   "metadata": {},
   "outputs": [
    {
     "name": "stdout",
     "output_type": "stream",
     "text": [
      "3.1622776601683795/4=2.5\n"
     ]
    }
   ],
   "source": [
    "# using an f-string or format string\n",
    "import math\n",
    "x = 10\n",
    "y = 4\n",
    "\n",
    "s = f\"{math.sqrt(x)}/{y}={x/y}\"\n",
    "print(s)"
   ]
  }
 ],
 "metadata": {
  "kernelspec": {
   "display_name": "Python 3",
   "language": "python",
   "name": "python3"
  },
  "language_info": {
   "codemirror_mode": {
    "name": "ipython",
    "version": 3
   },
   "file_extension": ".py",
   "mimetype": "text/x-python",
   "name": "python",
   "nbconvert_exporter": "python",
   "pygments_lexer": "ipython3",
   "version": "3.8.8"
  }
 },
 "nbformat": 4,
 "nbformat_minor": 5
}
