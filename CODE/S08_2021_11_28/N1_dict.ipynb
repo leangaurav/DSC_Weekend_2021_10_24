{
 "cells": [
  {
   "cell_type": "markdown",
   "id": "0b563558",
   "metadata": {},
   "source": [
    "### Dict\n",
    "- mapping type\n",
    "- iterable\n",
    "- key: value\n",
    "- lookup by key is optimized, not by value  \n",
    "- key is immutable type\n",
    "- value can be anything/ any data type\n",
    "- dict is mutable\n",
    "- keys in a dictionary are unique\n",
    "  \n",
    "- equivalent of hashmap"
   ]
  },
  {
   "cell_type": "code",
   "execution_count": 17,
   "id": "9665801b",
   "metadata": {},
   "outputs": [
    {
     "name": "stdout",
     "output_type": "stream",
     "text": [
      "None\n",
      "0.12098383903503418\n",
      "3\n"
     ]
    }
   ],
   "source": [
    "a = list(range(10,10000000,10))\n",
    "\n",
    "\n",
    "import time\n",
    "\n",
    "t1 = time.time()\n",
    "# linear search\n",
    "# get the index of element 40: search by value\n",
    "val = 40000001\n",
    "pos =  None\n",
    "for i in range(len(a)): # n steps in worst case\n",
    "    if  a[i]  == val:\n",
    "        pos = i\n",
    "        break\n",
    "\n",
    "print(pos)\n",
    "\n",
    "\n",
    "print(f\"{time.time() - t1}\")\n",
    "print(a.index(40))\n",
    "\n",
    "\n",
    "# TC: O(N)"
   ]
  },
  {
   "cell_type": "code",
   "execution_count": null,
   "id": "37137099",
   "metadata": {},
   "outputs": [],
   "source": [
    "Gaurav 1 GHz\n",
    "\n",
    "You 2 GHz"
   ]
  },
  {
   "cell_type": "code",
   "execution_count": 7,
   "id": "adee73e7",
   "metadata": {},
   "outputs": [
    {
     "name": "stdout",
     "output_type": "stream",
     "text": [
      "40\n"
     ]
    }
   ],
   "source": [
    "# get the element at position/index 3\n",
    "a = [10, 20, 30, 40, 50]\n",
    "\n",
    "#    0   1   2    3   4\n",
    "print(a[3]) # 1 step\n",
    "\n",
    "\n",
    "# TC: O(1)"
   ]
  },
  {
   "cell_type": "code",
   "execution_count": null,
   "id": "f08d2c05",
   "metadata": {},
   "outputs": [],
   "source": []
  },
  {
   "cell_type": "code",
   "execution_count": null,
   "id": "f9c74cee",
   "metadata": {},
   "outputs": [],
   "source": []
  },
  {
   "cell_type": "code",
   "execution_count": null,
   "id": "2e474951",
   "metadata": {},
   "outputs": [],
   "source": []
  },
  {
   "cell_type": "code",
   "execution_count": 25,
   "id": "3f3c7ae5",
   "metadata": {},
   "outputs": [
    {
     "name": "stdout",
     "output_type": "stream",
     "text": [
      "{} <class 'dict'>\n",
      "{} <class 'dict'>\n",
      "\n",
      "{1: 2, 'abc': 1000, (1, 2): None} <class 'dict'>\n",
      "3\n",
      "{1: 2, 10: 1000, 'a': True}\n"
     ]
    }
   ],
   "source": [
    "# creating dict\n",
    "d = {}\n",
    "print(d, type(d))\n",
    "d = dict()\n",
    "print(d, type(d))\n",
    "\n",
    "print()\n",
    "\n",
    "d = {1: 2,  \"abc\": 1000, (1,2): None}\n",
    "print(d, type(d))\n",
    "\n",
    "print(len(d))\n",
    "\n",
    "\n",
    "d = dict( [(1,2), (10,1000), (\"a\", True)] )\n",
    "print(d)"
   ]
  },
  {
   "cell_type": "code",
   "execution_count": 24,
   "id": "7a769506",
   "metadata": {},
   "outputs": [
    {
     "name": "stdout",
     "output_type": "stream",
     "text": [
      "2\n",
      "None\n"
     ]
    }
   ],
   "source": [
    "\n",
    "d = {1: 2,  \"abc\": 1000, (1,2): None}\n",
    "\n",
    "# lookup by key is equivalent to lookup by index in array\n",
    "print(d[1]) # O(1)\n",
    "print(d[(1,2)])"
   ]
  },
  {
   "cell_type": "code",
   "execution_count": 97,
   "id": "acf689f1",
   "metadata": {},
   "outputs": [
    {
     "ename": "TypeError",
     "evalue": "unhashable type: 'list'",
     "output_type": "error",
     "traceback": [
      "\u001b[1;31m---------------------------------------------------------------------------\u001b[0m",
      "\u001b[1;31mTypeError\u001b[0m                                 Traceback (most recent call last)",
      "\u001b[1;32mC:\\Users\\LEANGA~1\\AppData\\Local\\Temp/ipykernel_12448/2900485979.py\u001b[0m in \u001b[0;36m<module>\u001b[1;34m\u001b[0m\n\u001b[1;32m----> 1\u001b[1;33m \u001b[0md\u001b[0m \u001b[1;33m:\u001b[0m \u001b[1;33m{\u001b[0m\u001b[1;33m[\u001b[0m\u001b[1;36m1\u001b[0m\u001b[1;33m,\u001b[0m\u001b[1;36m2\u001b[0m\u001b[1;33m]\u001b[0m\u001b[1;33m:\u001b[0m \u001b[1;36m100\u001b[0m\u001b[1;33m}\u001b[0m\u001b[1;33m\u001b[0m\u001b[1;33m\u001b[0m\u001b[0m\n\u001b[0m\u001b[0;32m      2\u001b[0m \u001b[0mprint\u001b[0m\u001b[1;33m(\u001b[0m\u001b[0md\u001b[0m\u001b[1;33m)\u001b[0m\u001b[1;33m\u001b[0m\u001b[1;33m\u001b[0m\u001b[0m\n",
      "\u001b[1;31mTypeError\u001b[0m: unhashable type: 'list'"
     ]
    }
   ],
   "source": [
    "d : {[1,2]: 100}\n",
    "print(d)"
   ]
  },
  {
   "cell_type": "code",
   "execution_count": 99,
   "id": "b43d9655",
   "metadata": {},
   "outputs": [
    {
     "name": "stdout",
     "output_type": "stream",
     "text": [
      "{100: [1, 2]}\n"
     ]
    }
   ],
   "source": [
    "d = {100: [1,2]}\n",
    "print(d)"
   ]
  },
  {
   "cell_type": "code",
   "execution_count": null,
   "id": "7ac78532",
   "metadata": {},
   "outputs": [],
   "source": []
  },
  {
   "cell_type": "code",
   "execution_count": 27,
   "id": "0d84f93d",
   "metadata": {},
   "outputs": [
    {
     "name": "stdout",
     "output_type": "stream",
     "text": [
      "{1: 3, 2: 3}\n"
     ]
    }
   ],
   "source": [
    "# keys are unique\n",
    "d = {1:3, 2:3, 1:3}\n",
    "\n",
    "print(d)"
   ]
  },
  {
   "cell_type": "code",
   "execution_count": null,
   "id": "34dd3140",
   "metadata": {},
   "outputs": [],
   "source": []
  },
  {
   "cell_type": "code",
   "execution_count": null,
   "id": "8d118542",
   "metadata": {},
   "outputs": [],
   "source": []
  },
  {
   "cell_type": "code",
   "execution_count": null,
   "id": "4c09a913",
   "metadata": {},
   "outputs": [],
   "source": [
    "# operations"
   ]
  },
  {
   "cell_type": "code",
   "execution_count": 30,
   "id": "7e09257c",
   "metadata": {},
   "outputs": [
    {
     "name": "stdout",
     "output_type": "stream",
     "text": [
      "{1: 10}\n",
      "{1: 10, 'a': 'abcd'}\n",
      "{1: -10, 'a': 'abcd'}\n"
     ]
    }
   ],
   "source": [
    "# adding/ updating elements in dictionary\n",
    "d = {}\n",
    "d[1] = 10 # creates the pair 1:19\n",
    "print(d)\n",
    "\n",
    "d[\"a\"] = \"abcd\"\n",
    "print(d)\n",
    "\n",
    "d[1] = -10\n",
    "print(d)"
   ]
  },
  {
   "cell_type": "code",
   "execution_count": 32,
   "id": "78daad9a",
   "metadata": {},
   "outputs": [
    {
     "name": "stdout",
     "output_type": "stream",
     "text": [
      "2\n"
     ]
    },
    {
     "ename": "KeyError",
     "evalue": "100",
     "output_type": "error",
     "traceback": [
      "\u001b[1;31m---------------------------------------------------------------------------\u001b[0m",
      "\u001b[1;31mKeyError\u001b[0m                                  Traceback (most recent call last)",
      "\u001b[1;32mC:\\Users\\LEANGA~1\\AppData\\Local\\Temp/ipykernel_12448/3887244508.py\u001b[0m in \u001b[0;36m<module>\u001b[1;34m\u001b[0m\n\u001b[0;32m      3\u001b[0m \u001b[0md\u001b[0m \u001b[1;33m=\u001b[0m \u001b[1;33m{\u001b[0m\u001b[1;36m1\u001b[0m\u001b[1;33m:\u001b[0m\u001b[1;36m2\u001b[0m\u001b[1;33m,\u001b[0m \u001b[1;36m10\u001b[0m\u001b[1;33m:\u001b[0m \u001b[1;36m100\u001b[0m\u001b[1;33m}\u001b[0m\u001b[1;33m\u001b[0m\u001b[1;33m\u001b[0m\u001b[0m\n\u001b[0;32m      4\u001b[0m \u001b[0mprint\u001b[0m\u001b[1;33m(\u001b[0m\u001b[0md\u001b[0m\u001b[1;33m[\u001b[0m\u001b[1;36m1\u001b[0m\u001b[1;33m]\u001b[0m\u001b[1;33m)\u001b[0m\u001b[1;33m\u001b[0m\u001b[1;33m\u001b[0m\u001b[0m\n\u001b[1;32m----> 5\u001b[1;33m \u001b[0mprint\u001b[0m\u001b[1;33m(\u001b[0m\u001b[0md\u001b[0m\u001b[1;33m[\u001b[0m\u001b[1;36m100\u001b[0m\u001b[1;33m]\u001b[0m\u001b[1;33m)\u001b[0m\u001b[1;33m\u001b[0m\u001b[1;33m\u001b[0m\u001b[0m\n\u001b[0m",
      "\u001b[1;31mKeyError\u001b[0m: 100"
     ]
    }
   ],
   "source": [
    "# access/read values\n",
    "\n",
    "d = {1:2, 10: 100}\n",
    "print(d[1])\n",
    "print(d[100])"
   ]
  },
  {
   "cell_type": "code",
   "execution_count": null,
   "id": "e68ab332",
   "metadata": {},
   "outputs": [],
   "source": []
  },
  {
   "cell_type": "code",
   "execution_count": 34,
   "id": "b5e4e696",
   "metadata": {},
   "outputs": [
    {
     "name": "stdout",
     "output_type": "stream",
     "text": [
      "True\n",
      "False\n",
      "\n",
      "False\n",
      "True\n"
     ]
    }
   ],
   "source": [
    "\n",
    "d = {1:2, 10: 100}\n",
    "print(1 in d) # search by key\n",
    "print(2 in d)\n",
    "\n",
    "print()\n",
    "print(1 not in d) # search by key\n",
    "print(2 not in d)\n"
   ]
  },
  {
   "cell_type": "code",
   "execution_count": null,
   "id": "83bef0bb",
   "metadata": {},
   "outputs": [],
   "source": []
  },
  {
   "cell_type": "code",
   "execution_count": null,
   "id": "9578793d",
   "metadata": {},
   "outputs": [],
   "source": []
  },
  {
   "cell_type": "code",
   "execution_count": null,
   "id": "9b52801d",
   "metadata": {},
   "outputs": [],
   "source": [
    "# Practice"
   ]
  },
  {
   "cell_type": "code",
   "execution_count": null,
   "id": "fc6f4ab4",
   "metadata": {},
   "outputs": [],
   "source": [
    "### WAP to input a string and count the frequency of different symbols in the string\n",
    "# \"abc aba\"\n",
    "# a:3\n",
    "# b:2\n",
    "# c:1\n",
    "# ' ': 1\n",
    "\n"
   ]
  },
  {
   "cell_type": "code",
   "execution_count": 35,
   "id": "9f42f814",
   "metadata": {},
   "outputs": [
    {
     "name": "stdout",
     "output_type": "stream",
     "text": [
      " enter a string:abcab\n",
      "a 2\n",
      "b 2\n",
      "c 1\n",
      "a 2\n",
      "b 2\n"
     ]
    }
   ],
   "source": [
    "# v1\n",
    "\n",
    "s = input(\" enter a string:\")\n",
    "\n",
    "\n",
    "for c in s:\n",
    "    print(c, s.count(c))\n"
   ]
  },
  {
   "cell_type": "code",
   "execution_count": 37,
   "id": "fa473bc1",
   "metadata": {},
   "outputs": [
    {
     "name": "stdout",
     "output_type": "stream",
     "text": [
      " enter a string:abcaba\n",
      "a 3\n",
      "b 2\n",
      "c 1\n",
      "a 3\n",
      "b 2\n",
      "a 3\n"
     ]
    }
   ],
   "source": [
    "\n",
    "s = input(\" enter a string:\")\n",
    "\n",
    "for c in s:\n",
    "    \n",
    "    count =  0\n",
    "    for v in s:\n",
    "        if v == c:\n",
    "            count += 1\n",
    "\n",
    "    print(c, count)"
   ]
  },
  {
   "cell_type": "code",
   "execution_count": 39,
   "id": "5455ddb6",
   "metadata": {},
   "outputs": [
    {
     "name": "stdout",
     "output_type": "stream",
     "text": [
      " enter a string:abcabad\n",
      "a 3\n",
      "b 2\n",
      "c 1\n",
      "d 1\n"
     ]
    }
   ],
   "source": [
    "\n",
    "s = input(\" enter a string:\")\n",
    "\n",
    "\n",
    "sym = []\n",
    "counts = []\n",
    "\n",
    "for c in s:\n",
    "    \n",
    "    if c in sym:\n",
    "        pos = sym.index(c)\n",
    "        counts[pos] += 1\n",
    "    else:\n",
    "        sym.append(c)\n",
    "        counts.append(1)\n",
    "\n",
    "for i in range(len(sym)):\n",
    "    print(sym[i], counts[i])"
   ]
  },
  {
   "cell_type": "code",
   "execution_count": 41,
   "id": "ec28e344",
   "metadata": {},
   "outputs": [
    {
     "name": "stdout",
     "output_type": "stream",
     "text": [
      " enter a string:ABCABAD\n",
      "A 3\n",
      "B 2\n",
      "C 1\n",
      "D 1\n"
     ]
    }
   ],
   "source": [
    "\n",
    "s = input(\" enter a string:\")\n",
    "\n",
    "\n",
    "d = {}\n",
    "for c in s:\n",
    "    \n",
    "    if c in d:\n",
    "        d[c] += 1\n",
    "    else:\n",
    "        d[c] = 1\n",
    "\n",
    "for k in d:\n",
    "    print(k, d[k])\n"
   ]
  },
  {
   "cell_type": "code",
   "execution_count": null,
   "id": "dbec6efb",
   "metadata": {},
   "outputs": [],
   "source": []
  },
  {
   "cell_type": "code",
   "execution_count": null,
   "id": "79b04073",
   "metadata": {},
   "outputs": [],
   "source": []
  },
  {
   "cell_type": "code",
   "execution_count": 42,
   "id": "a4992046",
   "metadata": {},
   "outputs": [
    {
     "name": "stdout",
     "output_type": "stream",
     "text": [
      "['__class__', '__contains__', '__delattr__', '__delitem__', '__dir__', '__doc__', '__eq__', '__format__', '__ge__', '__getattribute__', '__getitem__', '__gt__', '__hash__', '__init__', '__init_subclass__', '__iter__', '__le__', '__len__', '__lt__', '__ne__', '__new__', '__reduce__', '__reduce_ex__', '__repr__', '__reversed__', '__setattr__', '__setitem__', '__sizeof__', '__str__', '__subclasshook__', 'clear', 'copy', 'fromkeys', 'get', 'items', 'keys', 'pop', 'popitem', 'setdefault', 'update', 'values']\n"
     ]
    }
   ],
   "source": [
    "print(dir(dict))"
   ]
  },
  {
   "cell_type": "code",
   "execution_count": 47,
   "id": "5da7ad4f",
   "metadata": {},
   "outputs": [
    {
     "name": "stdout",
     "output_type": "stream",
     "text": [
      "30\n",
      "30\n",
      "\n",
      "None\n",
      "10000\n",
      "30\n"
     ]
    },
    {
     "ename": "KeyError",
     "evalue": "5",
     "output_type": "error",
     "traceback": [
      "\u001b[1;31m---------------------------------------------------------------------------\u001b[0m",
      "\u001b[1;31mKeyError\u001b[0m                                  Traceback (most recent call last)",
      "\u001b[1;32mC:\\Users\\LEANGA~1\\AppData\\Local\\Temp/ipykernel_12448/3761294048.py\u001b[0m in \u001b[0;36m<module>\u001b[1;34m\u001b[0m\n\u001b[0;32m      8\u001b[0m \u001b[0mprint\u001b[0m\u001b[1;33m(\u001b[0m\u001b[0md\u001b[0m\u001b[1;33m.\u001b[0m\u001b[0mget\u001b[0m\u001b[1;33m(\u001b[0m\u001b[1;36m5\u001b[0m\u001b[1;33m,\u001b[0m \u001b[1;36m10000\u001b[0m\u001b[1;33m)\u001b[0m\u001b[1;33m)\u001b[0m \u001b[1;31m# gives  default value if key is not found\u001b[0m\u001b[1;33m\u001b[0m\u001b[1;33m\u001b[0m\u001b[0m\n\u001b[0;32m      9\u001b[0m \u001b[0mprint\u001b[0m\u001b[1;33m(\u001b[0m\u001b[0md\u001b[0m\u001b[1;33m.\u001b[0m\u001b[0mget\u001b[0m\u001b[1;33m(\u001b[0m\u001b[1;36m3\u001b[0m\u001b[1;33m,\u001b[0m \u001b[1;36m10000\u001b[0m\u001b[1;33m)\u001b[0m\u001b[1;33m)\u001b[0m \u001b[1;31m# gives  default value if key is not found\u001b[0m\u001b[1;33m\u001b[0m\u001b[1;33m\u001b[0m\u001b[0m\n\u001b[1;32m---> 10\u001b[1;33m \u001b[0mprint\u001b[0m\u001b[1;33m(\u001b[0m\u001b[0md\u001b[0m\u001b[1;33m[\u001b[0m\u001b[1;36m5\u001b[0m\u001b[1;33m]\u001b[0m\u001b[1;33m)\u001b[0m\u001b[1;33m\u001b[0m\u001b[1;33m\u001b[0m\u001b[0m\n\u001b[0m",
      "\u001b[1;31mKeyError\u001b[0m: 5"
     ]
    }
   ],
   "source": [
    "d = {1:2, 2:10, 3:30}\n",
    "\n",
    "print(d.get(3))\n",
    "print(d[3])\n",
    "\n",
    "print()\n",
    "print(d.get(5)) # gives none by default\n",
    "print(d.get(5, 10000)) # gives  default value if key is not found\n",
    "print(d.get(3, 10000)) # gives  default value if key is not found\n",
    "print(d[5])"
   ]
  },
  {
   "cell_type": "code",
   "execution_count": 48,
   "id": "f80240ff",
   "metadata": {},
   "outputs": [
    {
     "name": "stdout",
     "output_type": "stream",
     "text": [
      " enter a string:abcabad\n",
      "a 3\n",
      "b 2\n",
      "c 1\n",
      "d 1\n"
     ]
    }
   ],
   "source": [
    "\n",
    "s = input(\" enter a string:\")\n",
    "\n",
    "\n",
    "d = {}\n",
    "for c in s:\n",
    "    d[c] = d.get(c,0) + 1\n",
    "\n",
    "for k in d:\n",
    "    print(k, d[k])\n",
    "\n",
    "# abcabad\n",
    "# c    a     b           c                 a\n",
    "# d {} {a:1} {a:1, b:1} {a:1, b:1, c:1}   {a:2, b:1, c:1}"
   ]
  },
  {
   "cell_type": "code",
   "execution_count": null,
   "id": "a291a896",
   "metadata": {},
   "outputs": [],
   "source": []
  },
  {
   "cell_type": "code",
   "execution_count": 52,
   "id": "cf7206a4",
   "metadata": {},
   "outputs": [
    {
     "name": "stdout",
     "output_type": "stream",
     "text": [
      "dict_items([(1, 2), (2, 10), (3, 30)]) <class 'dict_items'>\n",
      "(1, 2)\n",
      "(2, 10)\n",
      "(3, 30)\n"
     ]
    }
   ],
   "source": [
    "d = {1:2, 2:10, 3:30}\n",
    "\n",
    "it = d.items()\n",
    "print(it, type(it))\n",
    "\n",
    "\n",
    "for p in it:\n",
    "    print(p)"
   ]
  },
  {
   "cell_type": "code",
   "execution_count": 57,
   "id": "1517def5",
   "metadata": {},
   "outputs": [
    {
     "name": "stdout",
     "output_type": "stream",
     "text": [
      "(1, 2)\n",
      "(2, 10)\n",
      "(3, 30)\n",
      "\n",
      "1 2\n",
      "2 10\n",
      "3 30\n"
     ]
    }
   ],
   "source": [
    "d = {1:2, 2:10, 3:30}\n",
    "\n",
    "for p in d.items():\n",
    "    print(p)\n",
    "    \n",
    "print()\n",
    "for k,v in d.items():\n",
    "    print(k,v)"
   ]
  },
  {
   "cell_type": "code",
   "execution_count": 56,
   "id": "0feee44e",
   "metadata": {},
   "outputs": [
    {
     "name": "stdout",
     "output_type": "stream",
     "text": [
      "10 20\n"
     ]
    }
   ],
   "source": [
    "a,b = (10,20)\n",
    "print(a,b)"
   ]
  },
  {
   "cell_type": "code",
   "execution_count": 58,
   "id": "36216a67",
   "metadata": {},
   "outputs": [
    {
     "name": "stdout",
     "output_type": "stream",
     "text": [
      " enter a string:abcabad\n",
      "a 3\n",
      "b 2\n",
      "c 1\n",
      "d 1\n"
     ]
    }
   ],
   "source": [
    "\n",
    "s = input(\" enter a string:\")\n",
    "\n",
    "\n",
    "d = {}\n",
    "for c in s:\n",
    "    d[c] = d.get(c,0) + 1\n",
    "\n",
    "for k,v in d.items():\n",
    "    print(k,v)\n",
    "\n",
    "# abcabad\n",
    "# c    a     b           c                 a\n",
    "# d {} {a:1} {a:1, b:1} {a:1, b:1, c:1}   {a:2, b:1, c:1}"
   ]
  },
  {
   "cell_type": "code",
   "execution_count": null,
   "id": "87b10956",
   "metadata": {},
   "outputs": [],
   "source": []
  },
  {
   "cell_type": "code",
   "execution_count": 64,
   "id": "3b6c6444",
   "metadata": {},
   "outputs": [
    {
     "name": "stdout",
     "output_type": "stream",
     "text": [
      "dict_keys([1, 2, 3])\n",
      "dict_values([2, 10, 30])\n",
      "1\n",
      "2\n",
      "3\n",
      "\n",
      "1\n",
      "2\n",
      "3\n",
      "\n",
      "[1, 2, 3]\n"
     ]
    }
   ],
   "source": [
    "d = {1:2, 2:10, 3:30}\n",
    "\n",
    "print(d.keys())\n",
    "print(d.values())\n",
    "\n",
    "for k in d.keys():\n",
    "    print(k)\n",
    "    \n",
    "print()\n",
    "for k in d:\n",
    "    print(k)\n",
    "    \n",
    "print()\n",
    "a = list(d.keys())\n",
    "print(a)"
   ]
  },
  {
   "cell_type": "code",
   "execution_count": null,
   "id": "01673748",
   "metadata": {},
   "outputs": [],
   "source": []
  },
  {
   "cell_type": "code",
   "execution_count": 66,
   "id": "41cbc5b9",
   "metadata": {},
   "outputs": [
    {
     "name": "stdout",
     "output_type": "stream",
     "text": [
      "{10: 200, 100: 2000}\n"
     ]
    },
    {
     "ename": "KeyError",
     "evalue": "1",
     "output_type": "error",
     "traceback": [
      "\u001b[1;31m---------------------------------------------------------------------------\u001b[0m",
      "\u001b[1;31mKeyError\u001b[0m                                  Traceback (most recent call last)",
      "\u001b[1;32mC:\\Users\\LEANGA~1\\AppData\\Local\\Temp/ipykernel_12448/3063441623.py\u001b[0m in \u001b[0;36m<module>\u001b[1;34m\u001b[0m\n\u001b[0;32m      5\u001b[0m \u001b[0mprint\u001b[0m\u001b[1;33m(\u001b[0m\u001b[0md\u001b[0m\u001b[1;33m)\u001b[0m\u001b[1;33m\u001b[0m\u001b[1;33m\u001b[0m\u001b[0m\n\u001b[0;32m      6\u001b[0m \u001b[1;33m\u001b[0m\u001b[0m\n\u001b[1;32m----> 7\u001b[1;33m \u001b[1;32mdel\u001b[0m \u001b[0md\u001b[0m\u001b[1;33m[\u001b[0m\u001b[1;36m1\u001b[0m\u001b[1;33m]\u001b[0m\u001b[1;33m\u001b[0m\u001b[1;33m\u001b[0m\u001b[0m\n\u001b[0m\u001b[0;32m      8\u001b[0m \u001b[0mprint\u001b[0m\u001b[1;33m(\u001b[0m\u001b[0md\u001b[0m\u001b[1;33m)\u001b[0m\u001b[1;33m\u001b[0m\u001b[1;33m\u001b[0m\u001b[0m\n",
      "\u001b[1;31mKeyError\u001b[0m: 1"
     ]
    }
   ],
   "source": [
    "d = {1:2 , 10 : 200, 100: 2000}\n",
    "\n",
    "# deletions in a dict  happen by key only\n",
    "del d[1] \n",
    "print(d)\n",
    "\n",
    "del d[1] \n",
    "print(d)\n"
   ]
  },
  {
   "cell_type": "code",
   "execution_count": 68,
   "id": "ba5fb255",
   "metadata": {},
   "outputs": [
    {
     "name": "stdout",
     "output_type": "stream",
     "text": [
      "{10: 200, 100: 2000} 2\n",
      "{10: 200, 100: 2000} abcd\n"
     ]
    }
   ],
   "source": [
    "d = {1:2 , 10 : 200, 100: 2000}\n",
    "\n",
    "# deletions in a dict  happen by key only\n",
    "r = d.pop(1) \n",
    "print(d, r)\n",
    "\n",
    "r = d.pop(1, \"abcd\") \n",
    "print(d, r)\n"
   ]
  },
  {
   "cell_type": "code",
   "execution_count": null,
   "id": "ff097fd8",
   "metadata": {},
   "outputs": [],
   "source": []
  },
  {
   "cell_type": "code",
   "execution_count": 70,
   "id": "85f3715e",
   "metadata": {},
   "outputs": [
    {
     "name": "stdout",
     "output_type": "stream",
     "text": [
      "{1: 100, 10: 200, 100: 2000, 20: 20000}\n",
      "{1: 100, 20: 20000}\n"
     ]
    }
   ],
   "source": [
    "d1 = {1:2 , 10 : 200, 100: 2000}\n",
    "\n",
    "d2 = {1:100, 20: 20000}\n",
    "d1.update(d2)\n",
    "print(d1)\n",
    "print(d2)"
   ]
  },
  {
   "cell_type": "code",
   "execution_count": 73,
   "id": "ed79bf75",
   "metadata": {},
   "outputs": [
    {
     "name": "stdout",
     "output_type": "stream",
     "text": [
      "{1: 100, 10: 200, 100: 2000, 20: 20000}\n"
     ]
    }
   ],
   "source": [
    "d1 = {1:2 , 10 : 200, 100: 2000}\n",
    "\n",
    "d2 = {1:100, 20: 20000}\n",
    "\n",
    "d3 = d1.copy()\n",
    "d3.update(d2)\n",
    "print(d3)"
   ]
  },
  {
   "cell_type": "code",
   "execution_count": null,
   "id": "f64739b5",
   "metadata": {},
   "outputs": [],
   "source": []
  },
  {
   "cell_type": "code",
   "execution_count": null,
   "id": "7ebc4d01",
   "metadata": {},
   "outputs": [],
   "source": []
  },
  {
   "cell_type": "code",
   "execution_count": 74,
   "id": "c38a7bc6",
   "metadata": {},
   "outputs": [
    {
     "name": "stdout",
     "output_type": "stream",
     "text": [
      "20 10\n"
     ]
    }
   ],
   "source": [
    "a = 10\n",
    "b = 20\n",
    "\n",
    "t = a\n",
    "a = b\n",
    "b = t\n",
    "\n",
    "print(a,b)"
   ]
  },
  {
   "cell_type": "code",
   "execution_count": 75,
   "id": "0a588ad7",
   "metadata": {},
   "outputs": [
    {
     "name": "stdout",
     "output_type": "stream",
     "text": [
      "10 20\n"
     ]
    }
   ],
   "source": [
    "a,b = b,a\n",
    "print(a,b)"
   ]
  },
  {
   "cell_type": "code",
   "execution_count": null,
   "id": "1e908490",
   "metadata": {},
   "outputs": [],
   "source": []
  },
  {
   "cell_type": "code",
   "execution_count": null,
   "id": "1e6e597f",
   "metadata": {},
   "outputs": [],
   "source": []
  },
  {
   "cell_type": "code",
   "execution_count": 76,
   "id": "692ca7aa",
   "metadata": {},
   "outputs": [
    {
     "name": "stdout",
     "output_type": "stream",
     "text": [
      "1\n",
      "2\n",
      "6\n"
     ]
    }
   ],
   "source": [
    "\n",
    "def fact(n):\n",
    "    p = 1\n",
    "    for i in range(1, n + 1):\n",
    "        p *= i\n",
    "    return p\n",
    "\n",
    "print(fact(1))\n",
    "\n",
    "print(fact(2))\n",
    "\n",
    "print(fact(3))"
   ]
  },
  {
   "cell_type": "code",
   "execution_count": 78,
   "id": "24831afe",
   "metadata": {},
   "outputs": [
    {
     "name": "stdout",
     "output_type": "stream",
     "text": [
      "enter thhe limit: 4\n",
      "33\n"
     ]
    }
   ],
   "source": [
    "\n",
    "n = int(input(\"enter thhe limit: \"))\n",
    "\n",
    "s = 0\n",
    "for i in range(1, n+1):\n",
    "    s += fact(i)\n",
    "    \n",
    "print(s)"
   ]
  },
  {
   "cell_type": "code",
   "execution_count": 83,
   "id": "f3116ec4",
   "metadata": {},
   "outputs": [
    {
     "name": "stdout",
     "output_type": "stream",
     "text": [
      "enter thhe limit: 10000\n"
     ]
    },
    {
     "ename": "KeyboardInterrupt",
     "evalue": "",
     "output_type": "error",
     "traceback": [
      "\u001b[1;31m---------------------------------------------------------------------------\u001b[0m",
      "\u001b[1;31mKeyboardInterrupt\u001b[0m                         Traceback (most recent call last)",
      "\u001b[1;32mC:\\Users\\LEANGA~1\\AppData\\Local\\Temp/ipykernel_12448/3267225690.py\u001b[0m in \u001b[0;36m<module>\u001b[1;34m\u001b[0m\n\u001b[0;32m      5\u001b[0m     \u001b[0mp\u001b[0m \u001b[1;33m=\u001b[0m \u001b[1;36m1\u001b[0m\u001b[1;33m\u001b[0m\u001b[1;33m\u001b[0m\u001b[0m\n\u001b[0;32m      6\u001b[0m     \u001b[1;32mfor\u001b[0m \u001b[0mj\u001b[0m \u001b[1;32min\u001b[0m \u001b[0mrange\u001b[0m\u001b[1;33m(\u001b[0m\u001b[1;36m1\u001b[0m\u001b[1;33m,\u001b[0m \u001b[0mi\u001b[0m \u001b[1;33m+\u001b[0m \u001b[1;36m1\u001b[0m\u001b[1;33m)\u001b[0m\u001b[1;33m:\u001b[0m\u001b[1;33m\u001b[0m\u001b[1;33m\u001b[0m\u001b[0m\n\u001b[1;32m----> 7\u001b[1;33m         \u001b[0mp\u001b[0m \u001b[1;33m*=\u001b[0m \u001b[0mj\u001b[0m\u001b[1;33m\u001b[0m\u001b[1;33m\u001b[0m\u001b[0m\n\u001b[0m\u001b[0;32m      8\u001b[0m     \u001b[0ms\u001b[0m \u001b[1;33m+=\u001b[0m \u001b[0mp\u001b[0m\u001b[1;33m\u001b[0m\u001b[1;33m\u001b[0m\u001b[0m\n\u001b[0;32m      9\u001b[0m \u001b[1;33m\u001b[0m\u001b[0m\n",
      "\u001b[1;31mKeyboardInterrupt\u001b[0m: "
     ]
    }
   ],
   "source": [
    "\n",
    "n = int(input(\"enter thhe limit: \"))\n",
    "\n",
    "s = 0\n",
    "for i in range(1, n+1):\n",
    "    p = 1\n",
    "    for j in range(1, i + 1):\n",
    "        p *= j\n",
    "    s += p\n",
    "\n",
    "print(s)"
   ]
  },
  {
   "cell_type": "code",
   "execution_count": 85,
   "id": "793e6e25",
   "metadata": {},
   "outputs": [
    {
     "name": "stdout",
     "output_type": "stream",
     "text": [
      "enter thhe limit: 10\n",
      "4037913\n"
     ]
    }
   ],
   "source": [
    "\n",
    "n = int(input(\"enter thhe limit: \"))\n",
    "\n",
    "s = 0\n",
    "p = 1\n",
    "    \n",
    "for i in range(1, n+1):\n",
    "    p *= i\n",
    "    s += p\n",
    "\n",
    "print(s)\n",
    "\n",
    "\n",
    "# N = 4\n",
    "# i     1  2  3  4\n",
    "# p  1  1  2  6  24\n",
    "# S  0  1  3  9  33"
   ]
  },
  {
   "cell_type": "code",
   "execution_count": null,
   "id": "01e3961f",
   "metadata": {},
   "outputs": [],
   "source": []
  },
  {
   "cell_type": "code",
   "execution_count": 92,
   "id": "9405b1bd",
   "metadata": {},
   "outputs": [
    {
     "name": "stdout",
     "output_type": "stream",
     "text": [
      "abcde\n",
      "ab\n",
      "de\n"
     ]
    }
   ],
   "source": [
    "#WAP to input a string and split it into 2 halves. The string can be of any length\n",
    "name=input()\n",
    "L=len(name)\n",
    "print(name[0:L//2])\n",
    "print(name[L//2 if L%2==0 else ((L//2)+1):])\n"
   ]
  },
  {
   "cell_type": "code",
   "execution_count": 96,
   "id": "5479dc73",
   "metadata": {},
   "outputs": [
    {
     "name": "stdout",
     "output_type": "stream",
     "text": [
      "abcd\n",
      "ab cd\n"
     ]
    }
   ],
   "source": [
    "#WAP to input a string and split it into 2 halves. The string can be of any length\n",
    "name=input()\n",
    "L=len(name)\n",
    "print(name[0:L//2], name[(L+1)//2:])"
   ]
  },
  {
   "cell_type": "code",
   "execution_count": null,
   "id": "8c8f546c",
   "metadata": {},
   "outputs": [],
   "source": []
  },
  {
   "cell_type": "code",
   "execution_count": 101,
   "id": "f9b238b4",
   "metadata": {},
   "outputs": [
    {
     "name": "stdout",
     "output_type": "stream",
     "text": [
      "['__add__', '__class__', '__contains__', '__delattr__', '__dir__', '__doc__', '__eq__', '__format__', '__ge__', '__getattribute__', '__getitem__', '__getnewargs__', '__gt__', '__hash__', '__init__', '__init_subclass__', '__iter__', '__le__', '__len__', '__lt__', '__mod__', '__mul__', '__ne__', '__new__', '__reduce__', '__reduce_ex__', '__repr__', '__rmod__', '__rmul__', '__setattr__', '__sizeof__', '__str__', '__subclasshook__', 'capitalize', 'casefold', 'center', 'count', 'encode', 'endswith', 'expandtabs', 'find', 'format', 'format_map', 'index', 'isalnum', 'isalpha', 'isascii', 'isdecimal', 'isdigit', 'isidentifier', 'islower', 'isnumeric', 'isprintable', 'isspace', 'istitle', 'isupper', 'join', 'ljust', 'lower', 'lstrip', 'maketrans', 'partition', 'replace', 'rfind', 'rindex', 'rjust', 'rpartition', 'rsplit', 'rstrip', 'split', 'splitlines', 'startswith', 'strip', 'swapcase', 'title', 'translate', 'upper', 'zfill']\n"
     ]
    }
   ],
   "source": [
    "print(dir(str))"
   ]
  },
  {
   "cell_type": "code",
   "execution_count": 102,
   "id": "267c9bb9",
   "metadata": {},
   "outputs": [
    {
     "data": {
      "text/plain": [
       "True"
      ]
     },
     "execution_count": 102,
     "metadata": {},
     "output_type": "execute_result"
    }
   ],
   "source": [
    "'rstrip' in dir(str)"
   ]
  }
 ],
 "metadata": {
  "kernelspec": {
   "display_name": "Python 3",
   "language": "python",
   "name": "python3"
  },
  "language_info": {
   "codemirror_mode": {
    "name": "ipython",
    "version": 3
   },
   "file_extension": ".py",
   "mimetype": "text/x-python",
   "name": "python",
   "nbconvert_exporter": "python",
   "pygments_lexer": "ipython3",
   "version": "3.8.8"
  }
 },
 "nbformat": 4,
 "nbformat_minor": 5
}
