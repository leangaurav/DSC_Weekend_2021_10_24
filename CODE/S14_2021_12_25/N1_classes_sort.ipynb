{
 "cells": [
  {
   "cell_type": "markdown",
   "id": "0446708a",
   "metadata": {},
   "source": [
    "### Sort, zip, enumerate etc."
   ]
  },
  {
   "cell_type": "code",
   "execution_count": null,
   "id": "bf2d20af",
   "metadata": {},
   "outputs": [],
   "source": []
  },
  {
   "cell_type": "code",
   "execution_count": 1,
   "id": "13b71e48",
   "metadata": {},
   "outputs": [
    {
     "name": "stdout",
     "output_type": "stream",
     "text": [
      "12\n"
     ]
    }
   ],
   "source": [
    "# WAP to input name of a person\n",
    "\n",
    "a = \"gaurav\"\n",
    "a = 12\n",
    "\n",
    "print(a)"
   ]
  },
  {
   "cell_type": "code",
   "execution_count": 2,
   "id": "f7e2fdeb",
   "metadata": {},
   "outputs": [
    {
     "name": "stdout",
     "output_type": "stream",
     "text": [
      "['gaurav', 12]\n"
     ]
    }
   ],
   "source": [
    "a = [\"gaurav\", 12]\n",
    "print(a)\n",
    "\n",
    "a[1] = 10"
   ]
  },
  {
   "cell_type": "code",
   "execution_count": 4,
   "id": "65974691",
   "metadata": {},
   "outputs": [
    {
     "name": "stdout",
     "output_type": "stream",
     "text": [
      "{'name': 'gaurav', 'age': 12}\n",
      "{'name': 'gaurav', 'age': 10}\n"
     ]
    }
   ],
   "source": [
    "a = {\"name\": \"gaurav\", \"age\": 12}\n",
    "print(a)\n",
    "\n",
    "a[\"age\"] = 10\n",
    "print(a)"
   ]
  },
  {
   "cell_type": "code",
   "execution_count": null,
   "id": "2bf319b3",
   "metadata": {},
   "outputs": [],
   "source": []
  },
  {
   "cell_type": "code",
   "execution_count": 9,
   "id": "d1624cc9",
   "metadata": {},
   "outputs": [
    {
     "name": "stdout",
     "output_type": "stream",
     "text": [
      "<object object at 0x00000118336A3410> 0\n",
      "\n",
      "['__class__', '__delattr__', '__dir__', '__doc__', '__eq__', '__format__', '__ge__', '__getattribute__', '__gt__', '__hash__', '__init__', '__init_subclass__', '__le__', '__lt__', '__ne__', '__new__', '__reduce__', '__reduce_ex__', '__repr__', '__setattr__', '__sizeof__', '__str__', '__subclasshook__']\n",
      "\n",
      "['__add__', '__class__', '__contains__', '__delattr__', '__dir__', '__doc__', '__eq__', '__format__', '__ge__', '__getattribute__', '__getitem__', '__getnewargs__', '__gt__', '__hash__', '__init__', '__init_subclass__', '__iter__', '__le__', '__len__', '__lt__', '__mod__', '__mul__', '__ne__', '__new__', '__reduce__', '__reduce_ex__', '__repr__', '__rmod__', '__rmul__', '__setattr__', '__sizeof__', '__str__', '__subclasshook__', 'capitalize', 'casefold', 'center', 'count', 'encode', 'endswith', 'expandtabs', 'find', 'format', 'format_map', 'index', 'isalnum', 'isalpha', 'isascii', 'isdecimal', 'isdigit', 'isidentifier', 'islower', 'isnumeric', 'isprintable', 'isspace', 'istitle', 'isupper', 'join', 'ljust', 'lower', 'lstrip', 'maketrans', 'partition', 'replace', 'rfind', 'rindex', 'rjust', 'rpartition', 'rsplit', 'rstrip', 'split', 'splitlines', 'startswith', 'strip', 'swapcase', 'title', 'translate', 'upper', 'zfill']\n"
     ]
    }
   ],
   "source": [
    "a = object()\n",
    "i = int()\n",
    "\n",
    "print(a, i)\n",
    "\n",
    "print()\n",
    "print(dir(a))\n",
    "\n",
    "print()\n",
    "print(dir(str))"
   ]
  },
  {
   "cell_type": "code",
   "execution_count": 12,
   "id": "a618d212",
   "metadata": {},
   "outputs": [
    {
     "name": "stdout",
     "output_type": "stream",
     "text": [
      "<__main__.Person object at 0x0000011833911D90>\n",
      "\n",
      "['__class__', '__delattr__', '__dict__', '__dir__', '__doc__', '__eq__', '__format__', '__ge__', '__getattribute__', '__gt__', '__hash__', '__init__', '__init_subclass__', '__le__', '__lt__', '__module__', '__ne__', '__new__', '__reduce__', '__reduce_ex__', '__repr__', '__setattr__', '__sizeof__', '__str__', '__subclasshook__', '__weakref__']\n"
     ]
    }
   ],
   "source": [
    "class Person: # custom data type\n",
    "    pass\n",
    "\n",
    "p = Person()\n",
    "print(p)\n",
    "\n",
    "print()\n",
    "print(dir(p))\n",
    "\n"
   ]
  },
  {
   "cell_type": "code",
   "execution_count": 16,
   "id": "d2efbc2a",
   "metadata": {},
   "outputs": [
    {
     "ename": "IndentationError",
     "evalue": "expected an indented block (Temp/ipykernel_14264/4274704838.py, line 5)",
     "output_type": "error",
     "traceback": [
      "\u001b[1;36m  File \u001b[1;32m\"C:\\Users\\LEANGA~1\\AppData\\Local\\Temp/ipykernel_14264/4274704838.py\"\u001b[1;36m, line \u001b[1;32m5\u001b[0m\n\u001b[1;33m    p = Person() # p is object\u001b[0m\n\u001b[1;37m    ^\u001b[0m\n\u001b[1;31mIndentationError\u001b[0m\u001b[1;31m:\u001b[0m expected an indented block\n"
     ]
    }
   ],
   "source": [
    "# Class and object\n",
    "# - attributes: data\n",
    "# - methods: behaviour\n",
    "\n",
    "class Person: # custom data type\n",
    "    pass\n",
    "\n",
    "p = Person() # p is object\n",
    "print(p)\n",
    "\n",
    "print()\n",
    "p.age = 12\n",
    "p.name = \"gaurav\"\n",
    "print(p)\n",
    "print(dir(p))\n",
    "\n",
    "print(p.age)"
   ]
  },
  {
   "cell_type": "code",
   "execution_count": 17,
   "id": "38d70bee",
   "metadata": {},
   "outputs": [
    {
     "name": "stdout",
     "output_type": "stream",
     "text": [
      "<__main__.Person object at 0x00000118339FE760>\n",
      "\n",
      "<__main__.Person object at 0x00000118339FE760>\n",
      "['__class__', '__delattr__', '__dict__', '__dir__', '__doc__', '__eq__', '__format__', '__ge__', '__getattribute__', '__gt__', '__hash__', '__init__', '__init_subclass__', '__le__', '__lt__', '__module__', '__ne__', '__new__', '__reduce__', '__reduce_ex__', '__repr__', '__setattr__', '__sizeof__', '__str__', '__subclasshook__', '__weakref__', 'age', 'name', 'tail_length']\n",
      "12\n"
     ]
    }
   ],
   "source": [
    "# Class and object\n",
    "# - attributes: data\n",
    "# - methods: behaviour\n",
    "\n",
    "class Person: # custom data type\n",
    "    pass\n",
    "\n",
    "p1 = Person() # p is object\n",
    "p1.age = 12\n",
    "p1.name = \"gaurav\"\n",
    "p1.tail_length = 20\n",
    "\n",
    "p2=Person()\n",
    "p2.age = 10\n",
    "\n",
    "print(p)\n",
    "print(dir(p))\n",
    "\n",
    "print(p.age)"
   ]
  },
  {
   "cell_type": "code",
   "execution_count": 20,
   "id": "d2fa0077",
   "metadata": {},
   "outputs": [
    {
     "name": "stdout",
     "output_type": "stream",
     "text": [
      "<__main__.Person object at 0x00000118339FE700> <__main__.Person object at 0x00000118339FE160> <__main__.Person object at 0x00000118339FE670>\n",
      "gaurav\n"
     ]
    },
    {
     "ename": "AttributeError",
     "evalue": "'Person' object has no attribute 'abc'",
     "output_type": "error",
     "traceback": [
      "\u001b[1;31m---------------------------------------------------------------------------\u001b[0m",
      "\u001b[1;31mAttributeError\u001b[0m                            Traceback (most recent call last)",
      "\u001b[1;32mC:\\Users\\LEANGA~1\\AppData\\Local\\Temp/ipykernel_14264/1418669379.py\u001b[0m in \u001b[0;36m<module>\u001b[1;34m\u001b[0m\n\u001b[0;32m     19\u001b[0m \u001b[0mprint\u001b[0m\u001b[1;33m(\u001b[0m\u001b[0mp1\u001b[0m\u001b[1;33m,\u001b[0m \u001b[0mp2\u001b[0m\u001b[1;33m,\u001b[0m \u001b[0mp3\u001b[0m\u001b[1;33m)\u001b[0m\u001b[1;33m\u001b[0m\u001b[1;33m\u001b[0m\u001b[0m\n\u001b[0;32m     20\u001b[0m \u001b[0mprint\u001b[0m\u001b[1;33m(\u001b[0m\u001b[0mp1\u001b[0m\u001b[1;33m.\u001b[0m\u001b[0mname\u001b[0m\u001b[1;33m)\u001b[0m\u001b[1;33m\u001b[0m\u001b[1;33m\u001b[0m\u001b[0m\n\u001b[1;32m---> 21\u001b[1;33m \u001b[0mprint\u001b[0m\u001b[1;33m(\u001b[0m\u001b[0mp1\u001b[0m\u001b[1;33m.\u001b[0m\u001b[0mabc\u001b[0m\u001b[1;33m)\u001b[0m\u001b[1;33m\u001b[0m\u001b[1;33m\u001b[0m\u001b[0m\n\u001b[0m",
      "\u001b[1;31mAttributeError\u001b[0m: 'Person' object has no attribute 'abc'"
     ]
    }
   ],
   "source": [
    "# Class and object\n",
    "# - attributes: data\n",
    "# - methods: behaviour\n",
    "\n",
    "class Person: # custom data type\n",
    "    pass\n",
    "\n",
    "def make_person(name, age):\n",
    "    p1 = Person() # p is object\n",
    "    p1.age = age\n",
    "    p1.name = name\n",
    "    return p1\n",
    "\n",
    "\n",
    "p1 = make_person(\"gaurav\", 12)\n",
    "p2 = make_person(\"hari\", 12)\n",
    "p3 = make_person(\"suvil\", 12)\n",
    "\n",
    "print(p1, p2, p3)\n",
    "print(p1.name)\n",
    "print(p1.abc)"
   ]
  },
  {
   "cell_type": "code",
   "execution_count": 25,
   "id": "2d2342b6",
   "metadata": {},
   "outputs": [
    {
     "name": "stdout",
     "output_type": "stream",
     "text": [
      "init 1203456958768\n",
      "<__main__.Person object at 0x00000118339FE130> 1203456958768\n",
      "init 1203456960256\n",
      "<__main__.Person object at 0x00000118339FE700> 1203456960256\n"
     ]
    }
   ],
   "source": [
    "# constructor: __init__\n",
    "# __init__ is called automatically when you create an object of a class\n",
    "\n",
    "class Person: \n",
    "    def __init__(self):\n",
    "        print(\"init\", id(self))\n",
    "        \n",
    "p1 = Person()\n",
    "print(p1, id(p1))\n",
    "\n",
    "p2 = Person()\n",
    "print(p2, id(p2))\n"
   ]
  },
  {
   "cell_type": "code",
   "execution_count": 27,
   "id": "cc8409db",
   "metadata": {},
   "outputs": [
    {
     "name": "stdout",
     "output_type": "stream",
     "text": [
      "gaurav 12\n",
      "abcd\n"
     ]
    }
   ],
   "source": [
    "class Person: \n",
    "    def __init__(self):\n",
    "        self.age = 12\n",
    "        self.name = \"gaurav\"\n",
    "        \n",
    "p = Person()\n",
    "print(p.name, p.age)\n",
    "\n",
    "p.name =\"abcd\"\n",
    "print(p.name)"
   ]
  },
  {
   "cell_type": "code",
   "execution_count": 31,
   "id": "15435843",
   "metadata": {},
   "outputs": [
    {
     "name": "stdout",
     "output_type": "stream",
     "text": [
      "gaurav 12\n",
      "<__main__.Person object at 0x00000118339FE760>\n"
     ]
    }
   ],
   "source": [
    "# each object of Person class is guranteed to have name and age\n",
    "class Person: \n",
    "    def __init__(self, name, age):\n",
    "        self.age = age\n",
    "        self.name = name\n",
    "\n",
    "        \n",
    "p = Person(\"gaurav\", 12)\n",
    "print(p.name, p.age)\n",
    "print(p)"
   ]
  },
  {
   "cell_type": "code",
   "execution_count": null,
   "id": "6ed616b6",
   "metadata": {},
   "outputs": [],
   "source": []
  },
  {
   "cell_type": "code",
   "execution_count": null,
   "id": "46f9cd90",
   "metadata": {},
   "outputs": [],
   "source": [
    "### printing objects"
   ]
  },
  {
   "cell_type": "code",
   "execution_count": 33,
   "id": "241987b9",
   "metadata": {},
   "outputs": [
    {
     "name": "stdout",
     "output_type": "stream",
     "text": [
      "name=gaurav, age=12\n",
      "<__main__.Person object at 0x0000011833A16040>\n"
     ]
    }
   ],
   "source": [
    "\n",
    "class Person: \n",
    "    def __init__(self, name, age):\n",
    "        self.age = age\n",
    "        self.name = name\n",
    "\n",
    "def print_person(p):\n",
    "    print(f\"name={p.name}, age={p.age}\")\n",
    "        \n",
    "p = Person(\"gaurav\", 12)\n",
    "print_person(p)\n",
    "print(p)"
   ]
  },
  {
   "cell_type": "code",
   "execution_count": 36,
   "id": "9ee6161c",
   "metadata": {},
   "outputs": [
    {
     "name": "stdout",
     "output_type": "stream",
     "text": [
      "name=gaurav, age=12\n",
      "Person:\n"
     ]
    }
   ],
   "source": [
    "# each object of Person class is guranteed to have name and age\n",
    "class Person: \n",
    "    def __init__(self, name, age):\n",
    "        self.age = age\n",
    "        self.name = name\n",
    "        \n",
    "    def __str__(self):\n",
    "        return \"Person\"\n",
    "\n",
    "def print_person(p):\n",
    "    print(f\"name={p.name}, age={p.age}\")\n",
    "        \n",
    "p = Person(\"gaurav\", 12)\n",
    "print_person(p)\n",
    "print(p)"
   ]
  },
  {
   "cell_type": "code",
   "execution_count": 41,
   "id": "4d5ac761",
   "metadata": {},
   "outputs": [
    {
     "name": "stdout",
     "output_type": "stream",
     "text": [
      "Person(name=gaurav, age=12)\n",
      "Person(name=Suvil, age=12)\n",
      "Person(name=hari, age=12)\n"
     ]
    }
   ],
   "source": [
    "# each object of Person class is guranteed to have name and age\n",
    "class Person: \n",
    "    def __init__(self, name, age):\n",
    "        self.age = age\n",
    "        self.name = name\n",
    "        \n",
    "    def __str__(self):\n",
    "        return f\"Person(name={self.name}, age={self.age})\"\n",
    "        \n",
    "p = Person(\"gaurav\", 12)\n",
    "print(p)\n",
    "p1 = Person(\"Suvil\", 12)\n",
    "print(p1)\n",
    "p2 = Person(\"hari\", 12)\n",
    "print(p2)"
   ]
  },
  {
   "cell_type": "code",
   "execution_count": null,
   "id": "6842784b",
   "metadata": {},
   "outputs": [],
   "source": []
  },
  {
   "cell_type": "code",
   "execution_count": 45,
   "id": "dc7f5a28",
   "metadata": {},
   "outputs": [
    {
     "name": "stdout",
     "output_type": "stream",
     "text": [
      "Circle(radius=10)\n",
      "314.1592653589793\n"
     ]
    }
   ],
   "source": [
    "import math\n",
    "\n",
    "class Circle: \n",
    "    def __init__(self, radius):\n",
    "        self.radius = radius\n",
    "        \n",
    "    def __str__(self):\n",
    "        return f\"Circle(radius={self.radius})\"\n",
    "    \n",
    "    def get_area(self): # methods\n",
    "        return math.pi*self.radius*self.radius\n",
    "\n",
    "a = Circle(10)\n",
    "print(a)\n",
    "print(a.get_area())\n"
   ]
  },
  {
   "cell_type": "code",
   "execution_count": 46,
   "id": "04fde845",
   "metadata": {},
   "outputs": [
    {
     "name": "stdout",
     "output_type": "stream",
     "text": [
      "['__add__', '__class__', '__contains__', '__delattr__', '__dir__', '__doc__', '__eq__', '__format__', '__ge__', '__getattribute__', '__getitem__', '__getnewargs__', '__gt__', '__hash__', '__init__', '__init_subclass__', '__iter__', '__le__', '__len__', '__lt__', '__mod__', '__mul__', '__ne__', '__new__', '__reduce__', '__reduce_ex__', '__repr__', '__rmod__', '__rmul__', '__setattr__', '__sizeof__', '__str__', '__subclasshook__', 'capitalize', 'casefold', 'center', 'count', 'encode', 'endswith', 'expandtabs', 'find', 'format', 'format_map', 'index', 'isalnum', 'isalpha', 'isascii', 'isdecimal', 'isdigit', 'isidentifier', 'islower', 'isnumeric', 'isprintable', 'isspace', 'istitle', 'isupper', 'join', 'ljust', 'lower', 'lstrip', 'maketrans', 'partition', 'replace', 'rfind', 'rindex', 'rjust', 'rpartition', 'rsplit', 'rstrip', 'split', 'splitlines', 'startswith', 'strip', 'swapcase', 'title', 'translate', 'upper', 'zfill']\n"
     ]
    }
   ],
   "source": [
    "print(dir(str))"
   ]
  },
  {
   "cell_type": "code",
   "execution_count": 50,
   "id": "f6cf293a",
   "metadata": {},
   "outputs": [
    {
     "name": "stdout",
     "output_type": "stream",
     "text": [
      "Circle(radius=10)\n",
      "314.1592653589793\n",
      "\n",
      "200\n",
      "Rectange(l=10, b=20)\n"
     ]
    }
   ],
   "source": [
    "import math\n",
    "\n",
    "class Circle: \n",
    "    def __init__(self, radius):\n",
    "        self.radius = radius\n",
    "        \n",
    "    def __str__(self):\n",
    "        return f\"Circle(radius={self.radius})\"\n",
    "    \n",
    "    def get_area(self): # methods\n",
    "        return math.pi*self.radius*self.radius\n",
    "\n",
    "class Rectangle: \n",
    "    def __init__(self, l,b):\n",
    "        self.l, self.b = l,b\n",
    "        \n",
    "    def __str__(self):\n",
    "        return f\"Rectange(l={self.l}, b={self.b})\"\n",
    "    \n",
    "    def get_area(self): # methods\n",
    "        return self.l*self.b\n",
    "\n",
    "a = Circle(10)\n",
    "print(a)\n",
    "print(a.get_area())\n",
    "\n",
    "print()\n",
    "r = Rectangle(10,20)\n",
    "print(r.get_area()) \n",
    "print(r)\n"
   ]
  },
  {
   "cell_type": "code",
   "execution_count": 55,
   "id": "b0ec8885",
   "metadata": {},
   "outputs": [
    {
     "name": "stdout",
     "output_type": "stream",
     "text": [
      "{'radius': 10} 10 10\n",
      "314.1592653589793\n",
      "<class '__main__.Circle'>\n",
      "<function Circle.get_area at 0x0000011833A34B80>\n",
      "314.1592653589793\n"
     ]
    }
   ],
   "source": [
    "import math\n",
    "\n",
    "class Circle: \n",
    "    def __init__(self, radius):\n",
    "        self.radius = radius\n",
    "        \n",
    "    def __str__(self):\n",
    "        return f\"Circle(radius={self.radius})\"\n",
    "    \n",
    "    def get_area(self): # methods\n",
    "        return math.pi*self.radius*self.radius\n",
    "\n",
    "a = Circle(10)\n",
    "print(a.__dict__, a.radius, a.__dict__[\"radius\"])\n",
    "\n",
    "print(a.get_area())\n",
    "\n",
    "print(a.__class__)\n",
    "print(a.__class__.get_area)\n",
    "print(a.__class__.get_area(a))"
   ]
  },
  {
   "cell_type": "code",
   "execution_count": null,
   "id": "e7af8abf",
   "metadata": {},
   "outputs": [],
   "source": []
  },
  {
   "cell_type": "code",
   "execution_count": 56,
   "id": "9fddc0db",
   "metadata": {},
   "outputs": [
    {
     "name": "stdout",
     "output_type": "stream",
     "text": [
      "gaurav\n"
     ]
    }
   ],
   "source": [
    "# lambda\n",
    "class Person: \n",
    "    def __init__(self, name, age):\n",
    "        self.age = age\n",
    "        self.name = name\n",
    "        \n",
    "    def __str__(self):\n",
    "        return f\"Person(name={self.name}, age={self.age})\"\n",
    "        \n",
    "p = Person(\"gaurav\", 12)\n",
    "\n",
    "f = lambda x: x.name\n",
    "\n",
    "print(f(p))"
   ]
  },
  {
   "cell_type": "code",
   "execution_count": 58,
   "id": "900fbbf2",
   "metadata": {},
   "outputs": [
    {
     "name": "stdout",
     "output_type": "stream",
     "text": [
      "['Abhishek', 'Gaurav', 'Hari', 'Suvil']\n"
     ]
    }
   ],
   "source": [
    "a = [\"Gaurav\", \"Suvil\", \"Hari\", \"Abhishek\"]\n",
    "a.sort()\n",
    "print(a)"
   ]
  },
  {
   "cell_type": "code",
   "execution_count": 59,
   "id": "835f1238",
   "metadata": {},
   "outputs": [
    {
     "name": "stdout",
     "output_type": "stream",
     "text": [
      "['Suvil', 'Hari', 'Gaurav', 'Abhishek']\n"
     ]
    }
   ],
   "source": [
    "a = [\"Gaurav\", \"Suvil\", \"Hari\", \"Abhishek\"]\n",
    "a.sort(reverse=True)\n",
    "print(a)"
   ]
  },
  {
   "cell_type": "code",
   "execution_count": 60,
   "id": "14422b11",
   "metadata": {},
   "outputs": [
    {
     "name": "stdout",
     "output_type": "stream",
     "text": [
      "['Hari', 'Suvil', 'Gaurav', 'Abhishek']\n"
     ]
    }
   ],
   "source": [
    "a = [\"Gaurav\", \"Suvil\", \"Hari\", \"Abhishek\"]\n",
    "a.sort(key=lambda x: len(x))\n",
    "print(a)"
   ]
  },
  {
   "cell_type": "code",
   "execution_count": 64,
   "id": "275e64cb",
   "metadata": {},
   "outputs": [
    {
     "name": "stdout",
     "output_type": "stream",
     "text": [
      "[<__main__.Person object at 0x00000118339FE610>, <__main__.Person object at 0x00000118339FE5B0>, <__main__.Person object at 0x00000118339FEB80>, <__main__.Person object at 0x00000118339FE6D0>]\n",
      "Person(name=Gaurav, age=10)\n"
     ]
    }
   ],
   "source": [
    "class Person: \n",
    "    def __init__(self, name, age):\n",
    "        self.age = age\n",
    "        self.name = name\n",
    "        \n",
    "    def __str__(self):\n",
    "        return f\"Person(name={self.name}, age={self.age})\"\n",
    "        \n",
    "\n",
    "a = [Person(\"Gaurav\", 10), Person(\"Suvil\",1), Person(\"Hari\",22), Person(\"Abhishek\", 0)]\n",
    "print(a)\n",
    "print(a[0])"
   ]
  },
  {
   "cell_type": "code",
   "execution_count": 65,
   "id": "eab20a62",
   "metadata": {},
   "outputs": [
    {
     "name": "stdout",
     "output_type": "stream",
     "text": [
      "[Person(name=Gaurav, age=10), Person(name=Suvil, age=1), Person(name=Hari, age=22), Person(name=Abhishek, age=0)]\n",
      "Person(name=Gaurav, age=10)\n"
     ]
    }
   ],
   "source": [
    "class Person: \n",
    "    def __init__(self, name, age):\n",
    "        self.age = age\n",
    "        self.name = name\n",
    "        \n",
    "    def __str__(self):\n",
    "        return f\"Person(name={self.name}, age={self.age})\"\n",
    "        \n",
    "    def __repr__(self):\n",
    "        return self.__str__()\n",
    "\n",
    "a = [Person(\"Gaurav\", 10), Person(\"Suvil\",1), Person(\"Hari\",22), Person(\"Abhishek\", 0)]\n",
    "print(a)\n",
    "print(a[0])"
   ]
  },
  {
   "cell_type": "code",
   "execution_count": 68,
   "id": "5e980e87",
   "metadata": {},
   "outputs": [
    {
     "name": "stdout",
     "output_type": "stream",
     "text": [
      "[Person(name=Gaurav, age=10), Person(name=Suvil, age=1), Person(name=Hari, age=22), Person(name=Abhishek, age=0)]\n"
     ]
    },
    {
     "ename": "TypeError",
     "evalue": "'<' not supported between instances of 'Person' and 'Person'",
     "output_type": "error",
     "traceback": [
      "\u001b[1;31m---------------------------------------------------------------------------\u001b[0m",
      "\u001b[1;31mTypeError\u001b[0m                                 Traceback (most recent call last)",
      "\u001b[1;32mC:\\Users\\LEANGA~1\\AppData\\Local\\Temp/ipykernel_14264/3561937071.py\u001b[0m in \u001b[0;36m<module>\u001b[1;34m\u001b[0m\n\u001b[0;32m     13\u001b[0m \u001b[1;31m#a.sort()\u001b[0m\u001b[1;33m\u001b[0m\u001b[1;33m\u001b[0m\u001b[1;33m\u001b[0m\u001b[0m\n\u001b[0;32m     14\u001b[0m \u001b[0mprint\u001b[0m\u001b[1;33m(\u001b[0m\u001b[0ma\u001b[0m\u001b[1;33m)\u001b[0m\u001b[1;33m\u001b[0m\u001b[1;33m\u001b[0m\u001b[0m\n\u001b[1;32m---> 15\u001b[1;33m \u001b[0mprint\u001b[0m\u001b[1;33m(\u001b[0m\u001b[0ma\u001b[0m\u001b[1;33m[\u001b[0m\u001b[1;36m0\u001b[0m\u001b[1;33m]\u001b[0m \u001b[1;33m<\u001b[0m \u001b[0ma\u001b[0m\u001b[1;33m[\u001b[0m\u001b[1;36m1\u001b[0m\u001b[1;33m]\u001b[0m\u001b[1;33m)\u001b[0m\u001b[1;33m\u001b[0m\u001b[1;33m\u001b[0m\u001b[0m\n\u001b[0m",
      "\u001b[1;31mTypeError\u001b[0m: '<' not supported between instances of 'Person' and 'Person'"
     ]
    }
   ],
   "source": [
    "class Person: \n",
    "    def __init__(self, name, age):\n",
    "        self.age = age\n",
    "        self.name = name\n",
    "        \n",
    "    def __str__(self):\n",
    "        return f\"Person(name={self.name}, age={self.age})\"\n",
    "        \n",
    "    def __repr__(self):\n",
    "        return self.__str__()\n",
    "\n",
    "a = [Person(\"Gaurav\", 10), Person(\"Suvil\",1), Person(\"Hari\",22), Person(\"Abhishek\", 0)]\n",
    "#a.sort()\n",
    "print(a)\n",
    "print(a[0] < a[1])"
   ]
  },
  {
   "cell_type": "code",
   "execution_count": 72,
   "id": "6f0ebe9a",
   "metadata": {},
   "outputs": [
    {
     "name": "stdout",
     "output_type": "stream",
     "text": [
      "[Person(name=Abhishek, age=0), Person(name=Gaurav, age=10), Person(name=Hari, age=22), Person(name=Suvil, age=1)]\n",
      "\n",
      "[Person(name=Abhishek, age=0), Person(name=Suvil, age=1), Person(name=Gaurav, age=10), Person(name=Hari, age=22)]\n",
      "\n",
      "[Person(name=Hari, age=22), Person(name=Suvil, age=1), Person(name=Gaurav, age=10), Person(name=Abhishek, age=0)]\n"
     ]
    }
   ],
   "source": [
    "class Person: \n",
    "    def __init__(self, name, age):\n",
    "        self.age = age\n",
    "        self.name = name\n",
    "        \n",
    "    def __str__(self):\n",
    "        return f\"Person(name={self.name}, age={self.age})\"\n",
    "        \n",
    "    def __repr__(self):\n",
    "        return self.__str__()\n",
    "\n",
    "a = [Person(\"Gaurav\", 10), Person(\"Suvil\",1), Person(\"Hari\",22), Person(\"Abhishek\", 0)]\n",
    "a.sort(key=lambda x: x.name)\n",
    "print(a)\n",
    "\n",
    "print()\n",
    "a.sort(key=lambda x: x.age)\n",
    "print(a)\n",
    "\n",
    "print()\n",
    "a.sort(key=lambda x: len(x.name))\n",
    "print(a)"
   ]
  },
  {
   "cell_type": "code",
   "execution_count": 75,
   "id": "8b0554ed",
   "metadata": {},
   "outputs": [
    {
     "name": "stdout",
     "output_type": "stream",
     "text": [
      "[Person(name=Abhishek, age=0), Person(name=Suvil, age=1), Person(name=Gaurav, age=10), Person(name=Hari, age=22)]\n",
      "True\n",
      "False\n"
     ]
    }
   ],
   "source": [
    "class Person: \n",
    "    def __init__(self, name, age):\n",
    "        self.age = age\n",
    "        self.name = name\n",
    "        \n",
    "    def __str__(self):\n",
    "        return f\"Person(name={self.name}, age={self.age})\"\n",
    "        \n",
    "    def __repr__(self):\n",
    "        return self.__str__()\n",
    "    \n",
    "    def __lt__(self, other): # less than\n",
    "        return self.age < other.age\n",
    "\n",
    "a = [Person(\"Gaurav\", 10), Person(\"Suvil\",1), Person(\"Hari\",22), Person(\"Abhishek\", 0)]\n",
    "a.sort()\n",
    "print(a)\n",
    "print(a[0] < a[1])\n",
    "print(a[0] > a[1])"
   ]
  },
  {
   "cell_type": "code",
   "execution_count": null,
   "id": "82317b3e",
   "metadata": {},
   "outputs": [],
   "source": []
  },
  {
   "cell_type": "code",
   "execution_count": 76,
   "id": "f391748b",
   "metadata": {},
   "outputs": [
    {
     "name": "stdout",
     "output_type": "stream",
     "text": [
      "(0, 100)\n",
      "(1, 101)\n",
      "(2, 102)\n",
      "(3, 103)\n",
      "(4, 104)\n",
      "(5, 105)\n",
      "(6, 106)\n",
      "(7, 107)\n",
      "(8, 108)\n",
      "(9, 109)\n"
     ]
    }
   ],
   "source": [
    "for a in zip(range(10), range(100,110)):\n",
    "    print(a)"
   ]
  },
  {
   "cell_type": "code",
   "execution_count": 77,
   "id": "2cc72073",
   "metadata": {},
   "outputs": [
    {
     "name": "stdout",
     "output_type": "stream",
     "text": [
      "(0, 'a')\n",
      "(1, 'b')\n",
      "(2, 'c')\n",
      "(3, 'd')\n"
     ]
    }
   ],
   "source": [
    "for a in zip(range(10), \"abcd\"):\n",
    "    print(a)"
   ]
  },
  {
   "cell_type": "code",
   "execution_count": 79,
   "id": "508aa171",
   "metadata": {},
   "outputs": [
    {
     "name": "stdout",
     "output_type": "stream",
     "text": [
      "0 a 1\n",
      "1 b 2\n",
      "2 c 33\n",
      "3 d 4\n"
     ]
    }
   ],
   "source": [
    "for a,b,c in zip(range(10), \"abcd\", [1,2,33,4,5]):\n",
    "    print(a,b,c)"
   ]
  }
 ],
 "metadata": {
  "kernelspec": {
   "display_name": "Python 3",
   "language": "python",
   "name": "python3"
  },
  "language_info": {
   "codemirror_mode": {
    "name": "ipython",
    "version": 3
   },
   "file_extension": ".py",
   "mimetype": "text/x-python",
   "name": "python",
   "nbconvert_exporter": "python",
   "pygments_lexer": "ipython3",
   "version": "3.8.8"
  }
 },
 "nbformat": 4,
 "nbformat_minor": 5
}
