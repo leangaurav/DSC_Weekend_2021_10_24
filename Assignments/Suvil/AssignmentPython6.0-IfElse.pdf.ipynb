{
 "cells": [
  {
   "cell_type": "code",
   "execution_count": 9,
   "metadata": {},
   "outputs": [
    {
     "name": "stdout",
     "output_type": "stream",
     "text": [
      "enter value : 5\n",
      "enter value : 2\n",
      "False\n"
     ]
    }
   ],
   "source": [
    "a = int(input(\"enter value : \"))\n",
    "b = int(input(\"enter value : \"))\n",
    "\n",
    "if a % b == 0 :\n",
    "    print('True')\n",
    "else:\n",
    "    print('False')\n"
   ]
  },
  {
   "cell_type": "code",
   "execution_count": 15,
   "metadata": {},
   "outputs": [
    {
     "name": "stdout",
     "output_type": "stream",
     "text": [
      "enter value : 10\n",
      "enter value : 30\n",
      "enter value : 50\n",
      "scalene traingle\n"
     ]
    }
   ],
   "source": [
    "a = int(input(\"enter value : \"))\n",
    "b = int(input(\"enter value : \"))\n",
    "c = int(input(\"enter value : \"))\n",
    "\n",
    "if (a==b==c):\n",
    "    print('equilateral traingle')\n",
    "elif (a==b or b==c or c==a):\n",
    "    print('isosceles traingle')\n",
    "elif (a!=b or b!=c or c!=a):\n",
    "    print('scalene traingle')"
   ]
  },
  {
   "cell_type": "code",
   "execution_count": 20,
   "metadata": {},
   "outputs": [
    {
     "name": "stdout",
     "output_type": "stream",
     "text": [
      "enter value : 11\n",
      "Odd\n"
     ]
    }
   ],
   "source": [
    "a = int(input(\"enter value : \"))\n",
    "b = 2\n",
    "\n",
    "if a % b == 0 :\n",
    "    print('Even')\n",
    "else:\n",
    "    print('Odd')"
   ]
  },
  {
   "cell_type": "code",
   "execution_count": 28,
   "metadata": {},
   "outputs": [
    {
     "name": "stdout",
     "output_type": "stream",
     "text": [
      "enter value : 60\n",
      "Senior Citizen\n"
     ]
    }
   ],
   "source": [
    "a = int(input(\"enter value : \"))\n",
    "\n",
    "if (0<=a<=12):\n",
    "    print('child')\n",
    "elif (13<=a<=17):\n",
    "    print('Teen')\n",
    "elif (18<=a<=50):\n",
    "    print('Adult')\n",
    "elif (51<=a<=100):\n",
    "    print('Senior Citizen')\n",
    "elif (a>100):\n",
    "    print('Contratulations')\n"
   ]
  },
  {
   "cell_type": "code",
   "execution_count": 39,
   "metadata": {},
   "outputs": [
    {
     "name": "stdout",
     "output_type": "stream",
     "text": [
      "enter value : 2000\n",
      "valid value\n",
      "Leap year\n"
     ]
    }
   ],
   "source": [
    "year = int(input(\"enter value : \"))\n",
    "\n",
    "l_year = len(str(year))\n",
    "\n",
    "if (l_year>=0 and l_year==4):\n",
    "    print('valid value')\n",
    "    if year % 4 == 0 and year % 100 != 0:\n",
    "        print('Leap year')\n",
    "    elif year % 100 == 0 and year % 400 != 0:\n",
    "         print('No Leap year')\n",
    "    elif year % 400 == 0:\n",
    "        print('Leap year')\n",
    "    elif year % 4 != 0:\n",
    "        print('No Leap year')"
   ]
  },
  {
   "cell_type": "code",
   "execution_count": 48,
   "metadata": {},
   "outputs": [
    {
     "name": "stdout",
     "output_type": "stream",
     "text": [
      "enter value : asdfg\n",
      "asdfg\n"
     ]
    }
   ],
   "source": [
    "a = input(\"enter value : \")\n",
    "b = 2\n",
    "len_a = len(str(a))\n",
    "if len_a % b == 0 :\n",
    "    print(a.upper())\n",
    "else:\n",
    "    print(a.lower())"
   ]
  },
  {
   "cell_type": "code",
   "execution_count": 55,
   "metadata": {},
   "outputs": [
    {
     "name": "stdout",
     "output_type": "stream",
     "text": [
      "enter value : shfhfeegg\n",
      "Non-veg\n"
     ]
    }
   ],
   "source": [
    "a = input(\"enter value : \")\n",
    "b = \"egg\"\n",
    "\n",
    "c = a.lower()\n",
    "if b in c:\n",
    "    print(\"Non-veg\")\n",
    "else:\n",
    "    print(\"veg\")"
   ]
  },
  {
   "cell_type": "code",
   "execution_count": 56,
   "metadata": {},
   "outputs": [
    {
     "name": "stdout",
     "output_type": "stream",
     "text": [
      "True\n"
     ]
    }
   ],
   "source": [
    "if not 1:\n",
    "    print(\"False\")\n",
    "else :\n",
    "    print(\"True\")"
   ]
  },
  {
   "cell_type": "code",
   "execution_count": 57,
   "metadata": {},
   "outputs": [
    {
     "name": "stdout",
     "output_type": "stream",
     "text": [
      "True\n"
     ]
    }
   ],
   "source": [
    "if 1:\n",
    "    print(\"True\")\n",
    "else :\n",
    "    print(\"False\")"
   ]
  },
  {
   "cell_type": "code",
   "execution_count": 58,
   "metadata": {},
   "outputs": [
    {
     "name": "stdout",
     "output_type": "stream",
     "text": [
      "Weird!!\n"
     ]
    }
   ],
   "source": [
    "if 'a' > 'A':\n",
    "    print(\"Weird!!\")\n",
    "else :\n",
    "    print(\"Make Sense\")"
   ]
  },
  {
   "cell_type": "code",
   "execution_count": 59,
   "metadata": {},
   "outputs": [
    {
     "name": "stdout",
     "output_type": "stream",
     "text": [
      "[4, 3, 2, 1]\n"
     ]
    }
   ],
   "source": [
    "a = [1,2,3,4]\n",
    "if 1 > 1:\n",
    "    a = a[::-1]\n",
    "else :\n",
    "    a = a[-1::-1]\n",
    "print(a)"
   ]
  },
  {
   "cell_type": "code",
   "execution_count": 67,
   "metadata": {},
   "outputs": [
    {
     "name": "stdout",
     "output_type": "stream",
     "text": [
      "enter value : 90\n",
      "enter value : 95\n",
      "enter value : 92\n",
      "enter value : 91\n",
      "enter value : 96\n",
      "92.8\n",
      "Grade A\n"
     ]
    }
   ],
   "source": [
    "A = int(input(\"enter value : \"))\n",
    "B = int(input(\"enter value : \"))\n",
    "C = int(input(\"enter value : \"))\n",
    "D = int(input(\"enter value : \"))\n",
    "E = int(input(\"enter value : \"))\n",
    "\n",
    "sum1 = A+B+C+D+E\n",
    "\n",
    "perc = (sum1*100)/500\n",
    "print(perc)\n",
    "\n",
    "if (90<=perc<=100):\n",
    "    print('Grade A')\n",
    "elif (80<=perc<=89):\n",
    "    print('Grade B')\n",
    "elif (60<=perc<=79):\n",
    "    print('Grade C')\n",
    "elif (perc<60):\n",
    "    print('Grade F')"
   ]
  },
  {
   "cell_type": "code",
   "execution_count": 71,
   "metadata": {},
   "outputs": [
    {
     "name": "stdout",
     "output_type": "stream",
     "text": [
      "enter value : 45\n",
      "enter value : 350000\n",
      "Tax:5%\n"
     ]
    }
   ],
   "source": [
    "age = int(input(\"enter value : \"))\n",
    "sal = int(input(\"enter value : \"))\n",
    "\n",
    "if (0<=sal<=250000) and (age<60):\n",
    "    print('Tax:0%')\n",
    "elif (0<=sal<=250000) and (age>=60):\n",
    "    print('Tax:0%')\n",
    "elif (250001<=sal<=500000) and (age<60):\n",
    "    print('Tax:5%')\n",
    "elif (250001<=sal<=500000) and (age>=60):\n",
    "    print('Tax:3%')\n",
    "elif (500001<=sal<=1000000) and (age<60):\n",
    "    print('Tax:10%')\n",
    "elif (500001<=sal<=1000000) and (age>=60):\n",
    "    print('Tax:8%')\n",
    "elif (sal>=1000001) and (age<60):\n",
    "    print('Tax:15%')\n",
    "elif (sal>=1000001) and (age>=60):\n",
    "    print('Tax:12%')"
   ]
  },
  {
   "cell_type": "code",
   "execution_count": 72,
   "metadata": {},
   "outputs": [
    {
     "name": "stdout",
     "output_type": "stream",
     "text": [
      "10\n"
     ]
    }
   ],
   "source": [
    "print(20 if not 1==1 else 10)"
   ]
  },
  {
   "cell_type": "code",
   "execution_count": 73,
   "metadata": {},
   "outputs": [
    {
     "name": "stdout",
     "output_type": "stream",
     "text": [
      "10\n"
     ]
    }
   ],
   "source": [
    "print(30 if not 1==1 else 20 if 'a' < 'A' else 10)"
   ]
  },
  {
   "cell_type": "code",
   "execution_count": 82,
   "metadata": {},
   "outputs": [
    {
     "name": "stdout",
     "output_type": "stream",
     "text": [
      "enter value : 75\n",
      "enter value in feet: 5.8\n",
      "20.712627824019034\n",
      "Normal\n"
     ]
    }
   ],
   "source": [
    "Weight = int(input(\"enter value : \"))\n",
    "Height = float(input(\"enter value in feet: \"))\n",
    "\n",
    "Height_m = Height/0.3048\n",
    "\n",
    "bmi = (Weight/(Height_m**2))*100\n",
    "print(bmi)\n",
    "\n",
    "if (16>bmi):\n",
    "    print('Severe Underweight')\n",
    "elif (16<=bmi<=18.4):\n",
    "    print('Underweight')\n",
    "elif (18.5<=bmi<=24.9):\n",
    "    print('Normal')\n",
    "elif (25<=bmi<=29.9):\n",
    "    print('Overweight')\n",
    "elif (30<=bmi<=40):\n",
    "    print('Obese')"
   ]
  },
  {
   "cell_type": "code",
   "execution_count": 86,
   "metadata": {},
   "outputs": [
    {
     "name": "stdout",
     "output_type": "stream",
     "text": [
      "enter value : 35\n",
      "Number is divisible by both\n"
     ]
    }
   ],
   "source": [
    "a = int(input(\"enter value : \"))\n",
    "\n",
    "if (a%5==0 and a%7==0):\n",
    "    print('Number is divisible by both')\n",
    "elif (a%5==0 and a%7!=0):\n",
    "    print('Number is divisible by 5')    \n",
    "elif (a%5!=0 and a%7==0):\n",
    "    print('Number is divisible by 7')"
   ]
  }
 ],
 "metadata": {
  "kernelspec": {
   "display_name": "Python 3",
   "language": "python",
   "name": "python3"
  },
  "language_info": {
   "codemirror_mode": {
    "name": "ipython",
    "version": 3
   },
   "file_extension": ".py",
   "mimetype": "text/x-python",
   "name": "python",
   "nbconvert_exporter": "python",
   "pygments_lexer": "ipython3",
   "version": "3.8.5"
  }
 },
 "nbformat": 4,
 "nbformat_minor": 4
}
