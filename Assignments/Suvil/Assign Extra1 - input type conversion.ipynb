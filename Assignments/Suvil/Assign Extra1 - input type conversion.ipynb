{
 "cells": [
  {
   "cell_type": "markdown",
   "metadata": {},
   "source": [
    "Input Tempreture in Farenhiet and print in celcius"
   ]
  },
  {
   "cell_type": "code",
   "execution_count": 1,
   "metadata": {},
   "outputs": [
    {
     "name": "stdout",
     "output_type": "stream",
     "text": [
      " enter a string:abcabc\n",
      "a 2\n",
      "b 2\n",
      "c 2\n"
     ]
    }
   ],
   "source": [
    "s = input(\" enter a string:\")\n",
    "\n",
    "\n",
    "d = {}\n",
    "for c in s:\n",
    "    \n",
    "    if c in d:\n",
    "        d[c] += 1\n",
    "    else:\n",
    "        d[c] = 1\n",
    "\n",
    "for k in d:\n",
    "    print(k, d[k])\n"
   ]
  },
  {
   "cell_type": "code",
   "execution_count": 6,
   "metadata": {},
   "outputs": [
    {
     "name": "stdout",
     "output_type": "stream",
     "text": [
      "Enter the temp in Farenhiet : 98\n",
      "36.666666666666664\n"
     ]
    }
   ],
   "source": [
    "Temp = int(input(\"Enter the temp in Farenhiet : \"))\n",
    "Celcius = (Temp - 32)/1.8\n",
    "print(Celcius)"
   ]
  },
  {
   "cell_type": "markdown",
   "metadata": {},
   "source": [
    "Program to print Square and Cube"
   ]
  },
  {
   "cell_type": "code",
   "execution_count": 3,
   "metadata": {},
   "outputs": [
    {
     "name": "stdout",
     "output_type": "stream",
     "text": [
      "enter a number: 4\n",
      "16\n",
      "64\n"
     ]
    }
   ],
   "source": [
    "a = int(input(\"enter a number: \"))\n",
    "\n",
    "Square = a*a\n",
    "print(Square)\n",
    "\n",
    "Cube = a*a*a\n",
    "print(Cube)"
   ]
  },
  {
   "cell_type": "markdown",
   "metadata": {},
   "source": [
    "Input a numbers n and m, Result would be n2 + m2"
   ]
  },
  {
   "cell_type": "code",
   "execution_count": 7,
   "metadata": {},
   "outputs": [
    {
     "name": "stdout",
     "output_type": "stream",
     "text": [
      "enter a number: 4\n",
      "enter a number: 6\n",
      "52\n"
     ]
    }
   ],
   "source": [
    "a = int(input(\"enter a number: \"))\n",
    "b = int(input(\"enter a number: \"))\n",
    "\n",
    "c = a*a + b*b\n",
    "print(c)"
   ]
  },
  {
   "cell_type": "markdown",
   "metadata": {},
   "source": [
    "a to the power b use both ** and pow"
   ]
  },
  {
   "cell_type": "code",
   "execution_count": 5,
   "metadata": {},
   "outputs": [
    {
     "name": "stdout",
     "output_type": "stream",
     "text": [
      "enter a number: 4\n",
      "enter a number: 5\n",
      "1024\n",
      "1024\n"
     ]
    }
   ],
   "source": [
    "a = int(input(\"enter a number: \"))\n",
    "b = int(input(\"enter a number: \"))\n",
    "\n",
    "c = a**b\n",
    "print(c)\n",
    "\n",
    "d = pow(a,b)\n",
    "print(d)\n"
   ]
  },
  {
   "cell_type": "markdown",
   "metadata": {},
   "source": [
    "Simple intrest calculator"
   ]
  },
  {
   "cell_type": "code",
   "execution_count": 8,
   "metadata": {},
   "outputs": [
    {
     "name": "stdout",
     "output_type": "stream",
     "text": [
      "enter a number: 1000\n",
      "enter a number: 4\n",
      "enter a number: 5\n",
      "200.0\n"
     ]
    }
   ],
   "source": [
    "P = int(input(\"enter a number: \"))\n",
    "R = int(input(\"enter a number: \"))\n",
    "T = int(input(\"enter a number: \"))\n",
    "\n",
    "Interest = (P*R*T)/100\n",
    "print(Interest)\n"
   ]
  },
  {
   "cell_type": "markdown",
   "metadata": {},
   "source": [
    "Compound Intrest"
   ]
  },
  {
   "cell_type": "code",
   "execution_count": 9,
   "metadata": {},
   "outputs": [
    {
     "name": "stdout",
     "output_type": "stream",
     "text": [
      "enter a principal: 1000\n",
      "enter a rate: 5\n",
      "enter a time: 6\n",
      "enter a number: 3\n",
      "18\n",
      "1.0166666666666666\n",
      "346.52531693208675\n",
      "1346.5253169320868\n"
     ]
    }
   ],
   "source": [
    "P = int(input(\"enter a principal: \"))\n",
    "R = int(input(\"enter a rate: \"))\n",
    "T = int(input(\"enter a time: \"))\n",
    "n = int(input(\"enter a number: \"))\n",
    "\n",
    "Power = n*T\n",
    "print(Power)\n",
    "\n",
    "rate = R/100\n",
    "\n",
    "C = (1 + rate/n)\n",
    "print(C)\n",
    "\n",
    "Interest = P*(pow(C,Power)) - P\n",
    "print(Interest)\n",
    "\n",
    "Amount = P*(pow(C,Power))\n",
    "print(Amount)"
   ]
  },
  {
   "cell_type": "markdown",
   "metadata": {},
   "source": [
    "N natural numbers"
   ]
  },
  {
   "cell_type": "code",
   "execution_count": 10,
   "metadata": {},
   "outputs": [
    {
     "name": "stdout",
     "output_type": "stream",
     "text": [
      "enter a natural: 4\n",
      "10.0\n"
     ]
    }
   ],
   "source": [
    "n = int(input(\"enter a natural: \"))\n",
    "\n",
    "S=n*(n+1)/2\n",
    "print(S)\n",
    "\n"
   ]
  },
  {
   "cell_type": "code",
   "execution_count": 11,
   "metadata": {},
   "outputs": [
    {
     "name": "stdout",
     "output_type": "stream",
     "text": [
      "enter a number: 4\n",
      "enter a number: 5\n",
      "5\n",
      "4\n"
     ]
    }
   ],
   "source": [
    "n = int(input(\"enter a number: \"))\n",
    "n1 = int(input(\"enter a number: \"))\n",
    "\n",
    "temp = n\n",
    "n = n1\n",
    "n1 = temp\n",
    "\n",
    "print(n)\n",
    "print(n1)"
   ]
  },
  {
   "cell_type": "code",
   "execution_count": 12,
   "metadata": {},
   "outputs": [
    {
     "name": "stdout",
     "output_type": "stream",
     "text": [
      "enter a number: 6\n",
      "enter a number: 5\n",
      "5\n",
      "6\n"
     ]
    }
   ],
   "source": [
    "n = int(input(\"enter a number: \"))\n",
    "n1 = int(input(\"enter a number: \"))\n",
    "\n",
    "n,n1 = n1,n\n",
    "\n",
    "print(n)\n",
    "print(n1)"
   ]
  },
  {
   "cell_type": "markdown",
   "metadata": {},
   "source": [
    "Ascii of character"
   ]
  },
  {
   "cell_type": "code",
   "execution_count": 13,
   "metadata": {},
   "outputs": [
    {
     "name": "stdout",
     "output_type": "stream",
     "text": [
      "enter a number: 3\n",
      "51\n"
     ]
    }
   ],
   "source": [
    "n = input(\"enter a number: \")\n",
    "\n",
    "n1 = ord(n)\n",
    "print(n1)"
   ]
  },
  {
   "cell_type": "markdown",
   "metadata": {},
   "source": [
    "Radius and Cirumference"
   ]
  },
  {
   "cell_type": "code",
   "execution_count": 14,
   "metadata": {},
   "outputs": [
    {
     "name": "stdout",
     "output_type": "stream",
     "text": [
      "input the area of the circle: 5\n",
      "1.2618861628126719\n",
      "7.92464510246358\n"
     ]
    }
   ],
   "source": [
    "import math\n",
    "pi = 3.14\n",
    "a = float(input(\"input the area of the circle: \"))\n",
    "\n",
    "#a = pi*pow(r,r)\n",
    "\n",
    "radius_v1 = a/pi\n",
    "radius = math.sqrt(radius_v1)\n",
    "print(radius)\n",
    "\n",
    "Circumference = 2*pi*radius\n",
    "print(Circumference)\n"
   ]
  },
  {
   "cell_type": "markdown",
   "metadata": {},
   "source": [
    "Percentage of 5 Subjects out of 100"
   ]
  },
  {
   "cell_type": "code",
   "execution_count": 16,
   "metadata": {},
   "outputs": [
    {
     "name": "stdout",
     "output_type": "stream",
     "text": [
      "enter a number: 40\n",
      "enter a number: 50\n",
      "enter a number: 60\n",
      "enter a number: 70\n",
      "enter a number: 30\n",
      "50.0\n"
     ]
    }
   ],
   "source": [
    "math = int(input(\"enter a number: \"))\n",
    "sci = int(input(\"enter a number: \"))\n",
    "eng = int(input(\"enter a number: \"))\n",
    "hindi = int(input(\"enter a number: \"))\n",
    "ssc = int(input(\"enter a number: \"))\n",
    "\n",
    "total = 500\n",
    "\n",
    "marks = math+sci+eng+hindi+ssc\n",
    "\n",
    "Percent = marks*100/total\n",
    "\n",
    "print(Percent)\n",
    "\n"
   ]
  }
 ],
 "metadata": {
  "kernelspec": {
   "display_name": "Python 3",
   "language": "python",
   "name": "python3"
  },
  "language_info": {
   "codemirror_mode": {
    "name": "ipython",
    "version": 3
   },
   "file_extension": ".py",
   "mimetype": "text/x-python",
   "name": "python",
   "nbconvert_exporter": "python",
   "pygments_lexer": "ipython3",
   "version": "3.8.8"
  }
 },
 "nbformat": 4,
 "nbformat_minor": 4
}
