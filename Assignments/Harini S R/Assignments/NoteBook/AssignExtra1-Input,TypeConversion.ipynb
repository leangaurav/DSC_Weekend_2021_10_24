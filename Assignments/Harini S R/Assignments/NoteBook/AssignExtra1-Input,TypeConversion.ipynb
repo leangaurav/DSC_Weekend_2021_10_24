{
 "cells": [
  {
   "cell_type": "markdown",
   "id": "9e61e63e",
   "metadata": {},
   "source": [
    "## Input temperature in Fahrenheit in print in Celsius. "
   ]
  },
  {
   "cell_type": "code",
   "execution_count": 12,
   "id": "1af098a7",
   "metadata": {},
   "outputs": [
    {
     "name": "stdout",
     "output_type": "stream",
     "text": [
      "36.5\n",
      "Fahrenheit conversion of 36.5 Celsius is: 97.7\n"
     ]
    }
   ],
   "source": [
    "c=input()\n",
    "print(\"Fahrenheit conversion of {} Celsius is:\".format(float(c)),((float(c) * 9/5) + 32))"
   ]
  },
  {
   "cell_type": "markdown",
   "id": "70bd32d6",
   "metadata": {},
   "source": [
    "## Write a program to input a number and print its square and cube. "
   ]
  },
  {
   "cell_type": "code",
   "execution_count": 15,
   "id": "18b8b248",
   "metadata": {},
   "outputs": [
    {
     "name": "stdout",
     "output_type": "stream",
     "text": [
      "3\n",
      "Squar of 3 is: 9\n",
      "Cube of 3 is: 27\n"
     ]
    }
   ],
   "source": [
    "n=int(input())\n",
    "print(\"Squar of {} is:\".format(n),n**2)\n",
    "print(\"Cube of {} is:\".format(n),n**3)"
   ]
  },
  {
   "cell_type": "markdown",
   "id": "3d71da28",
   "metadata": {},
   "source": [
    "## WAP to input a number n and a number m and print the result of following n^2 +m^2\n"
   ]
  },
  {
   "cell_type": "code",
   "execution_count": 19,
   "id": "7f795f78",
   "metadata": {},
   "outputs": [
    {
     "name": "stdout",
     "output_type": "stream",
     "text": [
      "n:5\n",
      "m:9\n",
      "Output of (n^2+m^2): 106\n"
     ]
    }
   ],
   "source": [
    "n=int(input(\"n:\"))\n",
    "m=int(input(\"m:\"))\n",
    "print(\"Output of (n^2+m^2):\",n**2+m**2)"
   ]
  },
  {
   "cell_type": "markdown",
   "id": "64d35274",
   "metadata": {},
   "source": [
    "## WAP to input a numbers M and N and print result of M^N. (use both ** and pow)"
   ]
  },
  {
   "cell_type": "code",
   "execution_count": 21,
   "id": "055975e6",
   "metadata": {},
   "outputs": [
    {
     "name": "stdout",
     "output_type": "stream",
     "text": [
      "M:9\n",
      "N:3\n",
      "Output using **: 729\n",
      "Output using pow(): 729\n"
     ]
    }
   ],
   "source": [
    "M=int(input(\"M:\"))\n",
    "N=int(input(\"N:\"))\n",
    "print(\"Output using **:\",M**N)\n",
    "print(\"Output using pow():\",pow(M,N))"
   ]
  },
  {
   "cell_type": "markdown",
   "id": "d94affbe",
   "metadata": {},
   "source": [
    "## Write a simple interest calculator."
   ]
  },
  {
   "cell_type": "code",
   "execution_count": 24,
   "id": "520e0de7",
   "metadata": {},
   "outputs": [
    {
     "name": "stdout",
     "output_type": "stream",
     "text": [
      "10000\n",
      "2\n",
      "6.5\n",
      "Simple Interest: 1300.0\n"
     ]
    }
   ],
   "source": [
    "p=input()\n",
    "t=input()\n",
    "r=input()\n",
    "print(\"Simple Interest:\",(float(p)*float(t)*float(r))/100)"
   ]
  },
  {
   "cell_type": "markdown",
   "id": "ad9e3165",
   "metadata": {},
   "source": [
    "## Input Principal, Rate, Time and print Compound Interest and Amount."
   ]
  },
  {
   "cell_type": "code",
   "execution_count": 93,
   "id": "f8936e71",
   "metadata": {},
   "outputs": [
    {
     "name": "stdout",
     "output_type": "stream",
     "text": [
      "1000\n",
      "1\n",
      "4\n",
      "Compound Interest: 1040.0\n",
      "Amount: 40.0\n"
     ]
    }
   ],
   "source": [
    "p=input()\n",
    "t=input()\n",
    "r=input()\n",
    "a=float(p)*(pow((1 + float(r) / 100), float(t))) \n",
    "print(\"Compound Interest:\",a)\n",
    "print(\"Amount:\",a-float(p))\n"
   ]
  },
  {
   "cell_type": "markdown",
   "id": "1705d263",
   "metadata": {},
   "source": [
    "##  WAP to print sum of first n natural numbers. (n needs to be taken as input). \n"
   ]
  },
  {
   "cell_type": "code",
   "execution_count": 33,
   "id": "b7041184",
   "metadata": {},
   "outputs": [
    {
     "name": "stdout",
     "output_type": "stream",
     "text": [
      "100\n",
      "5050.0\n"
     ]
    }
   ],
   "source": [
    "n=int(input())\n",
    "print((n*(n+1))/2)"
   ]
  },
  {
   "cell_type": "markdown",
   "id": "3fcdeb04",
   "metadata": {},
   "source": [
    "## WAP to input 2 numbers and swap them.(write using both normal logic with temp variable and also the pythonic way). \n"
   ]
  },
  {
   "cell_type": "code",
   "execution_count": 35,
   "id": "8edb15df",
   "metadata": {},
   "outputs": [
    {
     "name": "stdout",
     "output_type": "stream",
     "text": [
      "10\n",
      "30\n",
      "3\n",
      "6\n",
      "n1:10 n2:30 : Before Swapping\n",
      "n1:30 n2:10 : After Swapping\n",
      "n3:3 n4:6 : Before Swapping\n",
      "n3:6 n4:3 : Before Swapping\n"
     ]
    }
   ],
   "source": [
    "n1=int(input())\n",
    "n2=int(input())\n",
    "n3=int(input())\n",
    "n4=int(input())\n",
    "# Method 1:\n",
    "print(\"n1:{} n2:{} : Before Swapping\".format(n1,n2))\n",
    "temp=n1\n",
    "n1=n2\n",
    "n2=temp\n",
    "print(\"n1:{} n2:{} : After Swapping\".format(n1,n2))\n",
    "\n",
    "# Method 2\n",
    "print(\"n3:{} n4:{} : Before Swapping\".format(n3,n4))\n",
    "n3,n4=n4,n3\n",
    "print(\"n3:{} n4:{} : Before Swapping\".format(n3,n4))"
   ]
  },
  {
   "cell_type": "markdown",
   "id": "88742f41",
   "metadata": {},
   "source": [
    "## WAP to print ascii value of all white-space characters present in python. "
   ]
  },
  {
   "cell_type": "code",
   "execution_count": 59,
   "id": "273d209c",
   "metadata": {},
   "outputs": [
    {
     "name": "stdout",
     "output_type": "stream",
     "text": [
      "Space(' '):ASCII value: 32\n",
      "Horizontal tab(\\t):ASCII value: 9\n",
      "Newline(\\n):ASCII value: 10\n",
      "Vertical tab(\\v):ASCII value: 11\n",
      "Feed(\\f):ASCII value: 12\n",
      "Carriage return(\\r):ASCII value: 13\n"
     ]
    }
   ],
   "source": [
    "print(\"Space(' '):ASCII value:\",ord(' '))\n",
    "print(\"Horizontal tab(\\\\t):ASCII value:\",ord('\\t'))\n",
    "print(\"Newline(\\\\n):ASCII value:\",ord('\\n'))\n",
    "print(\"Vertical tab(\\\\v):ASCII value:\",ord('\\v'))\n",
    "print(\"Feed(\\\\f):ASCII value:\",ord('\\f'))\n",
    "print(\"Carriage return(\\\\r):ASCII value:\",ord('\\r'))"
   ]
  },
  {
   "cell_type": "markdown",
   "id": "212af333",
   "metadata": {},
   "source": [
    "## Input a single character and print its ascii values"
   ]
  },
  {
   "cell_type": "code",
   "execution_count": 62,
   "id": "e04428fa",
   "metadata": {},
   "outputs": [
    {
     "name": "stdout",
     "output_type": "stream",
     "text": [
      "H\n",
      "ASCII Value of H : 72\n"
     ]
    }
   ],
   "source": [
    "c=input()\n",
    "print(\"ASCII Value of {} :\".format(c),ord(c))"
   ]
  },
  {
   "cell_type": "markdown",
   "id": "b34bcdcf",
   "metadata": {},
   "source": [
    "## WAP that takes area of a circle and gives back the radius and circumference"
   ]
  },
  {
   "cell_type": "code",
   "execution_count": 73,
   "id": "a3b86198",
   "metadata": {},
   "outputs": [
    {
     "name": "stdout",
     "output_type": "stream",
     "text": [
      "24\n",
      "Circumference of a circle: 17.37\n",
      "Radius of a circle: 2.76\n"
     ]
    }
   ],
   "source": [
    "from math import sqrt,pi\n",
    "area=input()\n",
    "r=sqrt(float(area)/pi)\n",
    "print(\"Circumference of a circle:\",round(2*pi*r,2)) #2*pi*r\n",
    "print(\"Radius of a circle:\",round(r,2)) #C/(2*pi) or sqrt(area/pi)"
   ]
  },
  {
   "cell_type": "markdown",
   "id": "780d9040",
   "metadata": {},
   "source": [
    "## WAP to input marks in 5 subjects out of 100 and print percentage. "
   ]
  },
  {
   "cell_type": "code",
   "execution_count": 79,
   "id": "0fdab53a",
   "metadata": {},
   "outputs": [
    {
     "name": "stdout",
     "output_type": "stream",
     "text": [
      "100\n",
      "100\n",
      "97\n",
      "99\n",
      "94\n",
      "Percentage: 98.0\n"
     ]
    }
   ],
   "source": [
    "s1=int(input())\n",
    "s2=int(input())\n",
    "s3=int(input())\n",
    "s4=int(input())\n",
    "s5=int(input())\n",
    "print(\"Percentage:\",(s1+s2+s3+s4+s5)/5)"
   ]
  },
  {
   "cell_type": "code",
   "execution_count": null,
   "id": "9389567d",
   "metadata": {},
   "outputs": [],
   "source": []
  }
 ],
 "metadata": {
  "kernelspec": {
   "display_name": "Python 3",
   "language": "python",
   "name": "python3"
  },
  "language_info": {
   "codemirror_mode": {
    "name": "ipython",
    "version": 3
   },
   "file_extension": ".py",
   "mimetype": "text/x-python",
   "name": "python",
   "nbconvert_exporter": "python",
   "pygments_lexer": "ipython3",
   "version": "3.8.8"
  }
 },
 "nbformat": 4,
 "nbformat_minor": 5
}
