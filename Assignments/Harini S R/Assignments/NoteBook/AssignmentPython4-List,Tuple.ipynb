{
 "cells": [
  {
   "cell_type": "markdown",
   "id": "9add1341",
   "metadata": {},
   "source": [
    "## Convert a Tuple t = (1,2,3,4,5) to a list"
   ]
  },
  {
   "cell_type": "code",
   "execution_count": 5,
   "id": "d552d1f4",
   "metadata": {},
   "outputs": [
    {
     "name": "stdout",
     "output_type": "stream",
     "text": [
      "<class 'tuple'> (1, 2, 3, 4, 5)\n",
      "<class 'list'> [1, 2, 3, 4, 5]\n"
     ]
    }
   ],
   "source": [
    "t=(1,2,3,4,5)\n",
    "print(type(t),t)\n",
    "t=list(t)\n",
    "print(type(t),t)"
   ]
  },
  {
   "cell_type": "markdown",
   "id": "d11c45f0",
   "metadata": {},
   "source": [
    "## WAP to join a list and a tuple: L = [1,3,5,7] T = (8,6,4,2)"
   ]
  },
  {
   "cell_type": "code",
   "execution_count": 8,
   "id": "3b52310d",
   "metadata": {},
   "outputs": [
    {
     "name": "stdout",
     "output_type": "stream",
     "text": [
      "[1, 3, 5, 7, 8, 6, 4, 2]\n"
     ]
    }
   ],
   "source": [
    "L=[1,3,5,7] \n",
    "T=(8,6,4,2)\n",
    "L.extend(T)\n",
    "LT=L\n",
    "print(LT)"
   ]
  },
  {
   "cell_type": "markdown",
   "id": "82b78982",
   "metadata": {},
   "source": [
    "## What is difference between list and tuple."
   ]
  },
  {
   "cell_type": "markdown",
   "id": "2fe2e732",
   "metadata": {},
   "source": [
    "## Print the list in reverse order l = [‘a’, ‘d’, ‘c’, ‘A’, ‘C’]"
   ]
  },
  {
   "cell_type": "code",
   "execution_count": 9,
   "id": "cb579f06",
   "metadata": {},
   "outputs": [
    {
     "name": "stdout",
     "output_type": "stream",
     "text": [
      "['C', 'A', 'c', 'd', 'a']\n"
     ]
    }
   ],
   "source": [
    "l=['a','d','c','A','C']\n",
    "l.reverse()\n",
    "print(l)"
   ]
  },
  {
   "cell_type": "markdown",
   "id": "4c3c3263",
   "metadata": {},
   "source": [
    "## Print Elements at Odd indexes from a list (Do not use loop) l = [10,11,20, 21,30, 31, 40, 41]"
   ]
  },
  {
   "cell_type": "code",
   "execution_count": 13,
   "id": "9a5bcd12",
   "metadata": {},
   "outputs": [
    {
     "name": "stdout",
     "output_type": "stream",
     "text": [
      "[11, 21, 31, 41]\n"
     ]
    }
   ],
   "source": [
    "l = [10,11,20, 21,30, 31, 40, 41]\n",
    "print(l[1:len(l):2],l)"
   ]
  },
  {
   "cell_type": "markdown",
   "id": "8d618d0c",
   "metadata": {},
   "source": [
    "## How many ways you can copy a list."
   ]
  },
  {
   "cell_type": "code",
   "execution_count": 17,
   "id": "12c55756",
   "metadata": {},
   "outputs": [
    {
     "name": "stdout",
     "output_type": "stream",
     "text": [
      "[1, 2, 3]\n",
      "[1, 2, 3]\n",
      "[1, 2, 3]\n"
     ]
    }
   ],
   "source": [
    "l=[1,2,3]\n",
    "# Way 1\n",
    "l1=l\n",
    "print(l1)\n",
    "# Way 2\n",
    "l2=l.copy()\n",
    "print(l2)\n",
    "# Way 3\n",
    "l3=l[:]\n",
    "print(l3)\n"
   ]
  },
  {
   "cell_type": "markdown",
   "id": "26a541ce",
   "metadata": {},
   "source": [
    "## Predict output"
   ]
  },
  {
   "cell_type": "code",
   "execution_count": 19,
   "id": "01c3add7",
   "metadata": {},
   "outputs": [],
   "source": [
    "n_list=[\"Happy\",[2,0,1,5]]\n",
    "print(n_list[0][1])\n",
    "print(n_list[1][3])\n",
    "\n",
    "# Ans:\n",
    "# a\n",
    "# 5"
   ]
  },
  {
   "cell_type": "code",
   "execution_count": 24,
   "id": "ac623ee1",
   "metadata": {},
   "outputs": [],
   "source": [
    "odd=[2,4,6,8]\n",
    "odd[0]=1\n",
    "print(odd)\n",
    "odd[1:4]=[3,5,7]\n",
    "print(odd)\n",
    "\n",
    "# Ans:\n",
    "# [1,4,6,8]\n",
    "# [1,3,5,7]"
   ]
  },
  {
   "cell_type": "code",
   "execution_count": 26,
   "id": "563d7c07",
   "metadata": {},
   "outputs": [],
   "source": [
    "odd=[1,3,5]\n",
    "odd.append([7,9])\n",
    "print(odd)\n",
    "odd.extend([11,13])\n",
    "print(odd)\n",
    "\n",
    "# Ans:\n",
    "# [1,3,5,[7,9]]\n",
    "# [1,3,5,[7,9],11,13]"
   ]
  },
  {
   "cell_type": "code",
   "execution_count": 29,
   "id": "de49a6f4",
   "metadata": {},
   "outputs": [],
   "source": [
    "x=1,2,3; print(type(x))\n",
    "x=(1); print(type(x))\n",
    "x=1; print(type(x))\n",
    "x=1,; print(type(x))\n",
    "\n",
    "# Ans:\n",
    "# <class 'tuple'>\n",
    "# <class 'int'>\n",
    "# <class 'int'>\n",
    "# <class 'tuple'>"
   ]
  },
  {
   "cell_type": "markdown",
   "id": "b177d669",
   "metadata": {},
   "source": [
    "## Try to represent a matrix with following data in python:\n",
    "#### 1 2 3\n",
    "#### 4 5 6\n",
    "#### 7 8 9 "
   ]
  },
  {
   "cell_type": "code",
   "execution_count": 2,
   "id": "61690b35",
   "metadata": {},
   "outputs": [
    {
     "name": "stdout",
     "output_type": "stream",
     "text": [
      "1 2 3 \n",
      "\n",
      "4 5 6 \n",
      "\n",
      "7 8 9 \n",
      "\n"
     ]
    }
   ],
   "source": [
    "for i in range(1,10):\n",
    "    if(i%3==0):\n",
    "        print(i,\"\\n\")\n",
    "    else:\n",
    "        print(i,end=\" \")"
   ]
  },
  {
   "cell_type": "markdown",
   "id": "94cdb757",
   "metadata": {},
   "source": [
    "## Predict output"
   ]
  },
  {
   "cell_type": "code",
   "execution_count": 8,
   "id": "81670a81",
   "metadata": {},
   "outputs": [],
   "source": [
    "t=tuple('string')\n",
    "print(t)\n",
    "print(t[::-1])\n",
    "print(t[::2][::-2])\n",
    "\n",
    "#Ans:\n",
    "\n",
    "#('s','t','r','i','n','g')\n",
    "#('g','n','i', r','t','s')\n",
    "#('n','s')"
   ]
  },
  {
   "cell_type": "code",
   "execution_count": 11,
   "id": "074fe97e",
   "metadata": {},
   "outputs": [],
   "source": [
    "t=tuple([10,20,30,40,50,60])\n",
    "print(60 in t)\n",
    "print('60' in t)\n",
    "print(t.count(10))\n",
    "print(t.index(40))\n",
    "\n",
    "# Ans:\n",
    "# True\n",
    "# False\n",
    "# 1\n",
    "# 3"
   ]
  },
  {
   "cell_type": "markdown",
   "id": "91ad6df0",
   "metadata": {},
   "source": [
    "## Write a program to input a string and print if it is palindrome or not."
   ]
  },
  {
   "cell_type": "code",
   "execution_count": 12,
   "id": "4533df91",
   "metadata": {},
   "outputs": [
    {
     "name": "stdout",
     "output_type": "stream",
     "text": [
      "Mom\n",
      "String Mom is Palindeome\n"
     ]
    }
   ],
   "source": [
    "s=input()\n",
    "st=s.lower()\n",
    "if(st==st[::-1]):\n",
    "    print(\"String {} is Palindeome\".format(s))\n",
    "else:\n",
    "    print(\"String {} is not a palindrome\".format(s))"
   ]
  },
  {
   "cell_type": "markdown",
   "id": "ba387f70",
   "metadata": {},
   "source": [
    "## Use the range method and create a tuple containing the following values: (20, 15, 10, 5)"
   ]
  },
  {
   "cell_type": "code",
   "execution_count": 13,
   "id": "ccb3a6aa",
   "metadata": {},
   "outputs": [
    {
     "name": "stdout",
     "output_type": "stream",
     "text": [
      "(20, 15, 10, 5) <class 'tuple'>\n"
     ]
    }
   ],
   "source": [
    "t=[]\n",
    "for i in range(20,0,-5):\n",
    "    t.append(i)\n",
    "t=tuple(t)\n",
    "print(t,type(t))"
   ]
  },
  {
   "cell_type": "markdown",
   "id": "0c8ceb33",
   "metadata": {},
   "source": [
    "## WAP to convert string to list of characters."
   ]
  },
  {
   "cell_type": "code",
   "execution_count": 14,
   "id": "53ae2443",
   "metadata": {},
   "outputs": [
    {
     "name": "stdout",
     "output_type": "stream",
     "text": [
      "['H', 'a', 'r', 'i', 'n', 'i', 'S', 'R']\n"
     ]
    }
   ],
   "source": [
    "s=\"HariniSR\"\n",
    "l=list(s)\n",
    "print(l)"
   ]
  },
  {
   "cell_type": "markdown",
   "id": "8656f9f2",
   "metadata": {},
   "source": [
    "## What is the return type of:"
   ]
  },
  {
   "cell_type": "code",
   "execution_count": 18,
   "id": "94c390b8",
   "metadata": {},
   "outputs": [],
   "source": [
    "print(type('1,2'.split()))\n",
    "print(type([1,3,2].sort()))\n",
    "print(type('abc'.upper()))\n",
    "print(type(1 in [1,2]))\n",
    "\n",
    "# Ans:\n",
    "\n",
    "# <class 'list'>\n",
    "# <class 'NoneType'>\n",
    "# <class 'str'>\n",
    "# <class 'bool'>"
   ]
  },
  {
   "cell_type": "code",
   "execution_count": null,
   "id": "c68f9d82",
   "metadata": {},
   "outputs": [],
   "source": []
  }
 ],
 "metadata": {
  "kernelspec": {
   "display_name": "Python 3",
   "language": "python",
   "name": "python3"
  },
  "language_info": {
   "codemirror_mode": {
    "name": "ipython",
    "version": 3
   },
   "file_extension": ".py",
   "mimetype": "text/x-python",
   "name": "python",
   "nbconvert_exporter": "python",
   "pygments_lexer": "ipython3",
   "version": "3.8.8"
  }
 },
 "nbformat": 4,
 "nbformat_minor": 5
}
