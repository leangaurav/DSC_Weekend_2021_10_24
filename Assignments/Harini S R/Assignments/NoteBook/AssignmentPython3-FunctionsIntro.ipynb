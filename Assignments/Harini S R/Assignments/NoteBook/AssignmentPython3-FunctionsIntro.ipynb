{
 "cells": [
  {
   "cell_type": "markdown",
   "id": "685435bd",
   "metadata": {},
   "source": [
    "## WAP to input 2 strings and swap the strings"
   ]
  },
  {
   "cell_type": "code",
   "execution_count": 10,
   "id": "494af2fb",
   "metadata": {},
   "outputs": [
    {
     "name": "stdout",
     "output_type": "stream",
     "text": [
      "10 30\n",
      "Numbers before Swapping n1=10,n2=30:\n",
      "Numbers after Swapping n1=30,n2=10:\n"
     ]
    }
   ],
   "source": [
    "def swapping(num1,num2):\n",
    "    temp=num1\n",
    "    num1=num2\n",
    "    num2=temp\n",
    "    print(\"Numbers after Swapping n1={},n2={}:\".format(num1,num2))\n",
    "n1,n2=map(int,input().split())\n",
    "print(\"Numbers before Swapping n1={},n2={}:\".format(n1,n2))\n",
    "swapping(n1,n2)\n"
   ]
  },
  {
   "cell_type": "markdown",
   "id": "72f68d2e",
   "metadata": {},
   "source": [
    "## WAP to generate 4 random numbers in the range 0-26 and print their average"
   ]
  },
  {
   "cell_type": "code",
   "execution_count": 2,
   "id": "74af313c",
   "metadata": {},
   "outputs": [
    {
     "name": "stdout",
     "output_type": "stream",
     "text": [
      "Avarage of 4 random numbers in the range 0-26: 16.25\n"
     ]
    }
   ],
   "source": [
    "from random import randint as ri\n",
    "def randnum_avg():\n",
    "    s=0\n",
    "    for i in range(4):\n",
    "        r=ri(0,26)\n",
    "        s=r+s\n",
    "    print(\"Avarage of 4 random numbers in the range 0-26:\",s/4)\n",
    "randnum_avg()\n",
    "        \n",
    "        "
   ]
  },
  {
   "cell_type": "markdown",
   "id": "d9814bc3",
   "metadata": {},
   "source": [
    "## WAP to generate and print a random uppercase or lowercase alphabet. Try these:\n",
    "- Create a string containing all alphabets and then select a random alphabet.\n",
    "- Check the module string"
   ]
  },
  {
   "cell_type": "code",
   "execution_count": 14,
   "id": "1b387526",
   "metadata": {},
   "outputs": [
    {
     "name": "stdout",
     "output_type": "stream",
     "text": [
      "Method 1\n",
      "Random Uppercase Alphabet: T\n",
      "Random Lowercase Alphabet: x\n",
      "Method 2\n",
      "Random Uppercase Alphabet: V\n",
      "Random Lowercase Alphabet: s\n"
     ]
    }
   ],
   "source": [
    "from string import ascii_lowercase as lc,ascii_uppercase as uc \n",
    "import random\n",
    "print(\"Method 1\")\n",
    "print(\"Random Uppercase Alphabet:\",random.choice(uc))\n",
    "print(\"Random Lowercase Alphabet:\",random.choice(lc))\n",
    "print(\"Method 2\")\n",
    "sl=lc\n",
    "su=uc\n",
    "print(\"Random Uppercase Alphabet:\",random.choice(uc))\n",
    "print(\"Random Lowercase Alphabet:\",random.choice(sl))\n"
   ]
  },
  {
   "cell_type": "markdown",
   "id": "e4834c71",
   "metadata": {},
   "source": [
    "## WAF get_si() that takes Principle, Rate and Time as arguments and returns the Simple Interest."
   ]
  },
  {
   "cell_type": "code",
   "execution_count": 38,
   "id": "620c5879",
   "metadata": {},
   "outputs": [
    {
     "name": "stdout",
     "output_type": "stream",
     "text": [
      "1000\n",
      "10\n",
      "1\n",
      "Simple Interest: 100.0\n",
      "['__annotations__', '__call__', '__class__', '__closure__', '__code__', '__defaults__', '__delattr__', '__dict__', '__dir__', '__doc__', '__eq__', '__format__', '__ge__', '__get__', '__getattribute__', '__globals__', '__gt__', '__hash__', '__init__', '__init_subclass__', '__kwdefaults__', '__le__', '__lt__', '__module__', '__name__', '__ne__', '__new__', '__qualname__', '__reduce__', '__reduce_ex__', '__repr__', '__setattr__', '__sizeof__', '__str__', '__subclasshook__']\n"
     ]
    }
   ],
   "source": [
    "def get_si(p,r=10,t=1):\n",
    "    return (p*r*t)/100\n",
    "p=int(input())\n",
    "r=int(input())\n",
    "t=int(input())\n",
    "si=get_si((p),(r),(t))\n",
    "print(\"Simple Interest:\",si)\n",
    "print(dir(get_si))"
   ]
  },
  {
   "cell_type": "code",
   "execution_count": 53,
   "id": "6190043d",
   "metadata": {},
   "outputs": [],
   "source": [
    "def get_si(p,r,t):\n",
    "    return((p*r*t)/100)"
   ]
  },
  {
   "cell_type": "markdown",
   "id": "aa18f330",
   "metadata": {},
   "source": [
    "## WAF get_amount() that takes Principle, Rate and Time as arguments and returns theTotal amount using the get_si() function from above to calculate the SI. Also provideRate = 10 and Time = 1 as default arguments."
   ]
  },
  {
   "cell_type": "code",
   "execution_count": 54,
   "id": "26584930",
   "metadata": {},
   "outputs": [
    {
     "name": "stdout",
     "output_type": "stream",
     "text": [
      "1000\n",
      "100.0\n"
     ]
    }
   ],
   "source": [
    "def get_amount(p,r=10,t=1):\n",
    "    amt=get_si(p,r,t)\n",
    "    return amt\n",
    "p=input()\n",
    "ans=get_amount(float(p))\n",
    "print(ans)\n"
   ]
  },
  {
   "cell_type": "markdown",
   "id": "7a408c7c",
   "metadata": {},
   "source": [
    "## WAP get_ci() that takes Principle, Rate and Time as arguments and returns the Compound Interest."
   ]
  },
  {
   "cell_type": "code",
   "execution_count": 58,
   "id": "c9b982f8",
   "metadata": {},
   "outputs": [
    {
     "name": "stdout",
     "output_type": "stream",
     "text": [
      "1000 10 1\n",
      "1100.0\n"
     ]
    }
   ],
   "source": [
    "def get_ci(p,r,t):\n",
    "    return float(p)*(pow((1 + float(r) / 100), float(t))) \n",
    "p,r,t=list(input().split())\n",
    "print(get_ci(p,r,t))"
   ]
  },
  {
   "cell_type": "markdown",
   "id": "2c5b2b66",
   "metadata": {},
   "source": [
    "## WAP get_q_r() taking 2 numbers as parameters and returns the quotient andremainder in the form of a tuple."
   ]
  },
  {
   "cell_type": "code",
   "execution_count": 67,
   "id": "e3cf8f96",
   "metadata": {},
   "outputs": [
    {
     "name": "stdout",
     "output_type": "stream",
     "text": [
      "100 3\n",
      "100 3\n",
      "(33.333333333333336, 1) <class 'tuple'>\n"
     ]
    }
   ],
   "source": [
    "def get_q_r(a,b):\n",
    "    return (a/b,a%b)\n",
    "a,b=map(int,input().split())\n",
    "print(a,b)\n",
    "ans=get_q_r(a,b)\n",
    "print(ans,type(ans))"
   ]
  },
  {
   "cell_type": "markdown",
   "id": "77c33963",
   "metadata": {},
   "source": [
    "## WAP to find the length of hypotenuse of a right angled triangle, input the height and base from user."
   ]
  },
  {
   "cell_type": "code",
   "execution_count": 80,
   "id": "a6a6e996",
   "metadata": {},
   "outputs": [
    {
     "name": "stdout",
     "output_type": "stream",
     "text": [
      "10 2\n",
      "10.198039027185569\n"
     ]
    }
   ],
   "source": [
    "from math import sqrt\n",
    "def hypotenuse_tri(h,b):\n",
    "    return sqrt(h**2+b**2)\n",
    "h,b=map(int,input().split())\n",
    "print(hypotenuse_tri(h,b))\n",
    "    "
   ]
  },
  {
   "cell_type": "markdown",
   "id": "b6f4a6f8",
   "metadata": {},
   "source": [
    "## WAP to input number of seconds and print in days, hours, minutes and seconds\n",
    "## ex: input = 10000 ; Output = 0 day 2 hour 46 minute 40 second"
   ]
  },
  {
   "cell_type": "code",
   "execution_count": 103,
   "id": "b44bb479",
   "metadata": {},
   "outputs": [
    {
     "name": "stdout",
     "output_type": "stream",
     "text": [
      "10000\n",
      "0:2:46:40\n"
     ]
    }
   ],
   "source": [
    "def convert(seconds):\n",
    "    seconds=seconds%(24*3600)\n",
    "    days=seconds//(24*3600)\n",
    "    hour=seconds//3600\n",
    "    seconds%=3600\n",
    "    minutes=seconds//60\n",
    "    seconds%=60\n",
    "    return \"%d:%d:%d:%d\"%(days,hour,minutes,seconds)\n",
    "      \n",
    "n=int(input())\n",
    "print(convert(n))"
   ]
  },
  {
   "cell_type": "markdown",
   "id": "b5e876c8",
   "metadata": {},
   "source": [
    "## Check your version of python interpreter without opening the interpreter (Which command needs to be used on the command line)."
   ]
  },
  {
   "cell_type": "code",
   "execution_count": 110,
   "id": "89bea1ef",
   "metadata": {},
   "outputs": [
    {
     "name": "stdout",
     "output_type": "stream",
     "text": [
      "Python 3.8.8\n"
     ]
    }
   ],
   "source": [
    "!python -V"
   ]
  },
  {
   "cell_type": "markdown",
   "id": "307e06c1",
   "metadata": {},
   "source": [
    "## Find output:"
   ]
  },
  {
   "cell_type": "code",
   "execution_count": 114,
   "id": "19847ca2",
   "metadata": {},
   "outputs": [],
   "source": [
    "X=2\n",
    "X*=3\n",
    "X=X%4\n",
    "Y=-X\n",
    "print(X,Y)\n",
    "\n",
    "#Ans\n",
    "# 2 -2"
   ]
  },
  {
   "cell_type": "code",
   "execution_count": 116,
   "id": "b2d20262",
   "metadata": {},
   "outputs": [],
   "source": [
    "def funct():\n",
    "    pass\n",
    "print(funct())\n",
    "\n",
    "#Ans:\n",
    "# None"
   ]
  },
  {
   "cell_type": "code",
   "execution_count": null,
   "id": "05e45fc2",
   "metadata": {},
   "outputs": [],
   "source": []
  }
 ],
 "metadata": {
  "kernelspec": {
   "display_name": "Python 3",
   "language": "python",
   "name": "python3"
  },
  "language_info": {
   "codemirror_mode": {
    "name": "ipython",
    "version": 3
   },
   "file_extension": ".py",
   "mimetype": "text/x-python",
   "name": "python",
   "nbconvert_exporter": "python",
   "pygments_lexer": "ipython3",
   "version": "3.8.8"
  }
 },
 "nbformat": 4,
 "nbformat_minor": 5
}
