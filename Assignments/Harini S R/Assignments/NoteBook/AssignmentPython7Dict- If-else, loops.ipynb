{
 "cells": [
  {
   "cell_type": "markdown",
   "id": "02a02ff3",
   "metadata": {},
   "source": [
    "## WAP to create a dictionary of numbers mapped to their negative value for numbers from 1-5.The dictionary should contain something like this:Do with both with and without range based for loop. {1:-1,2:-2,3:-3….}"
   ]
  },
  {
   "cell_type": "code",
   "execution_count": 29,
   "id": "97341b33",
   "metadata": {},
   "outputs": [
    {
     "name": "stdout",
     "output_type": "stream",
     "text": [
      "Without Range:\n",
      "Both Keys and values:\n",
      "(1, -1)(2, -2)(3, -3)(4, -4)(5, -5)\n",
      "Only Keys:\n",
      "1 2 3 4 5 \n",
      "Only Values:\n",
      "-1 -2 -3 -4 -5 \n",
      "With Range:\n",
      "{1: -1, 2: -2, 3: -3, 4: -4, 5: -5}\n"
     ]
    }
   ],
   "source": [
    "d={1:-1,2:-2,3:-3,4:-4,5:-5}\n",
    "print(\"Without Range:\")\n",
    "print(\"Both Keys and values:\")\n",
    "for i in d.items():\n",
    "    print(i,end=\"\")\n",
    "print(\"\\nOnly Keys:\")\n",
    "for i in d.keys():\n",
    "    print(i,end=\" \")\n",
    "print(\"\\nOnly Values:\")\n",
    "for i in d.values():\n",
    "    print(i,end=\" \")\n",
    "print(\"\\nWith Range:\")\n",
    "for i in range(1):\n",
    "    print(d)"
   ]
  },
  {
   "cell_type": "markdown",
   "id": "a333497d",
   "metadata": {},
   "source": [
    "## Read help for zip and write a program that has two lists l1 = [1,2,3,4] l2 = [10,20,30,40] And converts them to a dictionary d containing { 1:10,2:20 …….}"
   ]
  },
  {
   "cell_type": "code",
   "execution_count": 31,
   "id": "f7dfc7f2",
   "metadata": {},
   "outputs": [
    {
     "name": "stdout",
     "output_type": "stream",
     "text": [
      "{1: 10, 2: 20, 3: 30, 4: 40}\n"
     ]
    }
   ],
   "source": [
    "l1 = [1,2,3,4] \n",
    "l2 = [10,20,30,40] \n",
    "d=dict(zip(l1,l2))\n",
    "print(d)"
   ]
  },
  {
   "cell_type": "markdown",
   "id": "667342a8",
   "metadata": {},
   "source": [
    "## Use range based for loop to store all upper case alphabets and their corresponding ASCII values in the dictionary d.The result should be d = {‘A’: 65, ‘B’:66,…..}"
   ]
  },
  {
   "cell_type": "code",
   "execution_count": 39,
   "id": "2323f347",
   "metadata": {},
   "outputs": [
    {
     "name": "stdout",
     "output_type": "stream",
     "text": [
      "{'A': 65, 'B': 66, 'C': 67, 'D': 68, 'E': 69, 'F': 70, 'G': 71, 'H': 72, 'I': 73, 'J': 74, 'K': 75, 'L': 76, 'M': 77, 'N': 78, 'O': 79, 'P': 80, 'Q': 81, 'R': 82, 'S': 83, 'T': 84, 'U': 85, 'V': 86, 'W': 87, 'X': 88, 'Y': 89, 'Z': 90}\n"
     ]
    }
   ],
   "source": [
    "import string\n",
    "s=string.ascii_uppercase\n",
    "l1=list(s)\n",
    "l2=[]\n",
    "for i in l1:\n",
    "    l2.append(ord(i))\n",
    "d=dict(zip(l1,l2))\n",
    "print(d)"
   ]
  },
  {
   "cell_type": "markdown",
   "id": "558872da",
   "metadata": {},
   "source": [
    "## Create a mapping of number to word from 0-9. (0:’zero’……)\n",
    "- Ask user for a single digit number and print the corresponding word format.\n",
    "- Print all keys of above dictionary\n",
    "- Print all Values of a dictionary\n",
    "- Print all Key and Value pairs of above dictionary"
   ]
  },
  {
   "cell_type": "code",
   "execution_count": 45,
   "id": "2b9030ba",
   "metadata": {},
   "outputs": [
    {
     "name": "stdout",
     "output_type": "stream",
     "text": [
      "Single Digit Input:5\n",
      "Five\n",
      "0 1 2 3 4 5 6 7 8 9 \n",
      "Zero One Two Three Four Five Six Seven Eight Nine \n",
      "(0, 'Zero') (1, 'One') (2, 'Two') (3, 'Three') (4, 'Four') (5, 'Five') (6, 'Six') (7, 'Seven') (8, 'Eight') (9, 'Nine') "
     ]
    }
   ],
   "source": [
    "d={0:'Zero',1:'One',2:'Two',3:'Three',4:'Four',5:'Five',6:'Six',7:'Seven',8:'Eight',9:'Nine'}\n",
    "n=int(input(\"Single Digit Input:\"))\n",
    "print(d[n])\n",
    "for i in d:\n",
    "    print(i,end=\" \")\n",
    "print()\n",
    "for i in d.values():\n",
    "    print(i,end=\" \")\n",
    "print()\n",
    "for i in d.items():\n",
    "    print(i,end=\" \")\n"
   ]
  },
  {
   "cell_type": "markdown",
   "id": "ae98756a",
   "metadata": {},
   "source": [
    "## WAP to input a string and count occurrence of each vowel in a string.\n",
    "Ex: if user enters:\n",
    "“Beautiful Day”\n",
    "Output should Be:\n",
    "a:2\n",
    "e:1\n",
    "I :1\n",
    "o:0\n",
    "u:2"
   ]
  },
  {
   "cell_type": "code",
   "execution_count": 46,
   "id": "3ebd1823",
   "metadata": {},
   "outputs": [
    {
     "name": "stdout",
     "output_type": "stream",
     "text": [
      "Harini S R\n",
      "{'a': 1, 'i': 2}\n"
     ]
    }
   ],
   "source": [
    "s=input()\n",
    "l=['a','e','i','o','u','A','E','I','O','U']\n",
    "d=dict()\n",
    "for i in s:\n",
    "    if i in l:\n",
    "        c=s.count(i)\n",
    "        d[i]=c\n",
    "print(d)\n"
   ]
  },
  {
   "cell_type": "markdown",
   "id": "50c0aab8",
   "metadata": {},
   "source": [
    "## Update above program to print frequency of each alphabet present in string."
   ]
  },
  {
   "cell_type": "code",
   "execution_count": 47,
   "id": "cbcc0d03",
   "metadata": {},
   "outputs": [
    {
     "name": "stdout",
     "output_type": "stream",
     "text": [
      "Harini S R\n",
      "{'H': 1, 'a': 1, 'r': 1, 'i': 2, 'n': 1, ' ': 2, 'S': 1, 'R': 1}\n"
     ]
    }
   ],
   "source": [
    "s=input()\n",
    "d=dict()\n",
    "for i in s:\n",
    "    c=s.count(i)\n",
    "    d[i]=c\n",
    "print(d)"
   ]
  },
  {
   "cell_type": "markdown",
   "id": "0affe106",
   "metadata": {},
   "source": [
    "## WAP that takes a string as input and prints frequency of each word.\n",
    "#### Ex: if input is “count the words in the sentence in”\n",
    "#### Output:\n",
    "count: 1\n",
    "the: 2\n",
    "words: 1\n",
    "in: 2\n",
    "sentence: 1"
   ]
  },
  {
   "cell_type": "code",
   "execution_count": 59,
   "id": "abd090a5",
   "metadata": {},
   "outputs": [
    {
     "name": "stdout",
     "output_type": "stream",
     "text": [
      "You go talk to your friends, talk to my friends, talk to me\n",
      "{'You': 1, 'go': 1, 'talk': 3, 'to': 3, 'your': 1, 'friends,': 2, 'my': 1, 'me': 1}\n"
     ]
    }
   ],
   "source": [
    "s=input()\n",
    "d=dict()\n",
    "st=s.split()\n",
    "for i in st:\n",
    "    c=st.count(i)\n",
    "    d[i]=c\n",
    "print(d)"
   ]
  },
  {
   "cell_type": "markdown",
   "id": "faaccb51",
   "metadata": {},
   "source": [
    "## Check which of the following declarations will work"
   ]
  },
  {
   "cell_type": "code",
   "execution_count": 27,
   "id": "c4343328",
   "metadata": {},
   "outputs": [],
   "source": [
    "d={1=2,2=3} # Not Possible\n",
    "d={1:2,2:3}  # Possible\n",
    "d={1,2;2,3} # Not Possible\n",
    "d={(1,2),(2,3)} # Possible\n",
    "d={'a':'A','b':1,c:[1234]} # Not Possible\n",
    "d={'a':'A','b':1,'c':[1234]} # Possible\n",
    "d=dict([(1,2),(2,3)])    # Possible\n",
    "d=dict(((1,2),(2,3)))    # Possible\n",
    "d=dict(((1,2),(2,3)])   # Not Possible\n",
    "d=dict(x=2,y=3)          # Possible\n",
    "d=dict('x'=2,'y'=3)     # Not Possible\n",
    "d=dict(1=2,2=3)         # Not Possible"
   ]
  },
  {
   "cell_type": "markdown",
   "id": "11016361",
   "metadata": {},
   "source": [
    "## Predict Output of:"
   ]
  },
  {
   "cell_type": "code",
   "execution_count": 31,
   "id": "43b51fef",
   "metadata": {},
   "outputs": [],
   "source": [
    "l1=['A','B','C','D']\n",
    "l2=['Apple','Ball','Cat','Dog']\n",
    "d1=dict(zip(l1,l2))\n",
    "print(d1)\n",
    "d2=dict(list(d1.items()) [::2])\n",
    "print(d2)\n",
    "\n",
    "# Ans:\n",
    "# {'A':'Apple','B':'Ball','C':'Cat','D': 'Dog'}\n",
    "# {'A':'Apple','C':'Cat'}"
   ]
  },
  {
   "cell_type": "code",
   "execution_count": null,
   "id": "ed5895a5",
   "metadata": {},
   "outputs": [],
   "source": []
  }
 ],
 "metadata": {
  "kernelspec": {
   "display_name": "Python 3",
   "language": "python",
   "name": "python3"
  },
  "language_info": {
   "codemirror_mode": {
    "name": "ipython",
    "version": 3
   },
   "file_extension": ".py",
   "mimetype": "text/x-python",
   "name": "python",
   "nbconvert_exporter": "python",
   "pygments_lexer": "ipython3",
   "version": "3.8.8"
  }
 },
 "nbformat": 4,
 "nbformat_minor": 5
}
