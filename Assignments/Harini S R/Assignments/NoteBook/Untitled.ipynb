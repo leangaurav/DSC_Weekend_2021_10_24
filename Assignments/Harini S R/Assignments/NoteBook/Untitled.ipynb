{
 "cells": [
  {
   "cell_type": "markdown",
   "id": "685435bd",
   "metadata": {},
   "source": [
    "## WAP to input 2 strings and swap the strings"
   ]
  },
  {
   "cell_type": "code",
   "execution_count": 10,
   "id": "494af2fb",
   "metadata": {},
   "outputs": [
    {
     "name": "stdout",
     "output_type": "stream",
     "text": [
      "10 30\n",
      "Numbers before Swapping n1=10,n2=30:\n",
      "Numbers after Swapping n1=30,n2=10:\n"
     ]
    }
   ],
   "source": [
    "def swapping(num1,num2):\n",
    "    temp=num1\n",
    "    num1=num2\n",
    "    num2=temp\n",
    "    print(\"Numbers after Swapping n1={},n2={}:\".format(num1,num2))\n",
    "n1,n2=map(int,input().split())\n",
    "print(\"Numbers before Swapping n1={},n2={}:\".format(n1,n2))\n",
    "swapping(n1,n2)\n"
   ]
  },
  {
   "cell_type": "code",
   "execution_count": null,
   "id": "0541f8fe",
   "metadata": {},
   "outputs": [],
   "source": []
  }
 ],
 "metadata": {
  "kernelspec": {
   "display_name": "Python 3",
   "language": "python",
   "name": "python3"
  },
  "language_info": {
   "codemirror_mode": {
    "name": "ipython",
    "version": 3
   },
   "file_extension": ".py",
   "mimetype": "text/x-python",
   "name": "python",
   "nbconvert_exporter": "python",
   "pygments_lexer": "ipython3",
   "version": "3.8.8"
  }
 },
 "nbformat": 4,
 "nbformat_minor": 5
}
