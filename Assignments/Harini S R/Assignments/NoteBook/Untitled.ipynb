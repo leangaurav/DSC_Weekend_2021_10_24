{
 "cells": [
  {
   "cell_type": "markdown",
   "id": "bac65c1a",
   "metadata": {},
   "source": [
    "## Input temperature in Fahrenheit in print in Celsius. "
   ]
  },
  {
   "cell_type": "code",
   "execution_count": 12,
   "id": "2205b7cd",
   "metadata": {},
   "outputs": [
    {
     "name": "stdout",
     "output_type": "stream",
     "text": [
      "36.5\n",
      "Fahrenheit conversion of 36.5 Celsius is: 97.7\n"
     ]
    }
   ],
   "source": [
    "c=input()\n",
    "print(\"Fahrenheit conversion of {} Celsius is:\".format(float(c)),((float(c) * 9/5) + 32))"
   ]
  },
  {
   "cell_type": "markdown",
   "id": "7b648bb6",
   "metadata": {},
   "source": [
    "## Write a program to input a number and print its square and cube. "
   ]
  },
  {
   "cell_type": "code",
   "execution_count": 15,
   "id": "5c5b4f42",
   "metadata": {},
   "outputs": [
    {
     "name": "stdout",
     "output_type": "stream",
     "text": [
      "3\n",
      "Squar of 3 is: 9\n",
      "Cube of 3 is: 27\n"
     ]
    }
   ],
   "source": [
    "n=int(input())\n",
    "print(\"Squar of {} is:\".format(n),n**2)\n",
    "print(\"Cube of {} is:\".format(n),n**3)"
   ]
  },
  {
   "cell_type": "markdown",
   "id": "05dae57f",
   "metadata": {},
   "source": [
    "## WAP to input a number n and a number m and print the result of following n^2 +m^2\n"
   ]
  },
  {
   "cell_type": "code",
   "execution_count": 19,
   "id": "44c05acf",
   "metadata": {},
   "outputs": [
    {
     "name": "stdout",
     "output_type": "stream",
     "text": [
      "n:5\n",
      "m:9\n",
      "Output of (n^2+m^2): 106\n"
     ]
    }
   ],
   "source": [
    "n=int(input(\"n:\"))\n",
    "m=int(input(\"m:\"))\n",
    "print(\"Output of (n^2+m^2):\",n**2+m**2)"
   ]
  },
  {
   "cell_type": "markdown",
   "id": "0b240762",
   "metadata": {},
   "source": [
    "## WAP to input a numbers M and N and print result of M^N. (use both ** and pow)"
   ]
  },
  {
   "cell_type": "code",
   "execution_count": 21,
   "id": "28467336",
   "metadata": {},
   "outputs": [
    {
     "name": "stdout",
     "output_type": "stream",
     "text": [
      "M:9\n",
      "N:3\n",
      "Output using **: 729\n",
      "Output using pow(): 729\n"
     ]
    }
   ],
   "source": [
    "M=int(input(\"M:\"))\n",
    "N=int(input(\"N:\"))\n",
    "print(\"Output using **:\",M**N)\n",
    "print(\"Output using pow():\",pow(M,N))"
   ]
  },
  {
   "cell_type": "markdown",
   "id": "9f8f0c71",
   "metadata": {},
   "source": [
    "## Write a simple interest calculator."
   ]
  },
  {
   "cell_type": "code",
   "execution_count": 24,
   "id": "2ee66437",
   "metadata": {},
   "outputs": [
    {
     "name": "stdout",
     "output_type": "stream",
     "text": [
      "10000\n",
      "2\n",
      "6.5\n",
      "Simple Interest: 1300.0\n"
     ]
    }
   ],
   "source": [
    "p=input()\n",
    "t=input()\n",
    "r=input()\n",
    "print(\"Simple Interest:\",(float(p)*float(t)*float(r))/100)"
   ]
  },
  {
   "cell_type": "markdown",
   "id": "c3870fe0",
   "metadata": {},
   "source": [
    "## Input Principal, Rate, Time and print Compound Interest and Amount."
   ]
  },
  {
   "cell_type": "code",
   "execution_count": 30,
   "id": "d86ecc6c",
   "metadata": {},
   "outputs": [
    {
     "name": "stdout",
     "output_type": "stream",
     "text": [
      "1000\n",
      "2\n",
      "6.5\n",
      "Compound Interest: -994.375\n"
     ]
    }
   ],
   "source": [
    "p=input()\n",
    "t=input()\n",
    "r=input()\n",
    "print(\"Compound Interest:\",( float(p)*((1 + float(r))/100)**float(t) - float(p)))\n"
   ]
  },
  {
   "cell_type": "markdown",
   "id": "e4ef46f4",
   "metadata": {},
   "source": [
    "##  WAP to print sum of first n natural numbers. (n needs to be taken as input). \n"
   ]
  },
  {
   "cell_type": "code",
   "execution_count": null,
   "id": "328b9927",
   "metadata": {},
   "outputs": [],
   "source": []
  }
 ],
 "metadata": {
  "kernelspec": {
   "display_name": "Python 3",
   "language": "python",
   "name": "python3"
  },
  "language_info": {
   "codemirror_mode": {
    "name": "ipython",
    "version": 3
   },
   "file_extension": ".py",
   "mimetype": "text/x-python",
   "name": "python",
   "nbconvert_exporter": "python",
   "pygments_lexer": "ipython3",
   "version": "3.8.8"
  }
 },
 "nbformat": 4,
 "nbformat_minor": 5
}
