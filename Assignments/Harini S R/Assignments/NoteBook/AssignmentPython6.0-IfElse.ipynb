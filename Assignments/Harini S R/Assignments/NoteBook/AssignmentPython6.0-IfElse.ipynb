{
 "cells": [
  {
   "cell_type": "markdown",
   "id": "3b44c8bf",
   "metadata": {},
   "source": [
    "## WAP to input 2 numbers and check whether the 1st is divisible by 2nd and print true or false depending on divisibility  "
   ]
  },
  {
   "cell_type": "code",
   "execution_count": 2,
   "id": "41b22986",
   "metadata": {},
   "outputs": [
    {
     "name": "stdout",
     "output_type": "stream",
     "text": [
      "10\n",
      "0\n",
      "Divide by Zero Error\n"
     ]
    }
   ],
   "source": [
    "n1=int(input())\n",
    "n2=int(input())\n",
    "if(n2!=0):\n",
    "    if(n1%n2==0):\n",
    "        print(\"True\")\n",
    "    else:\n",
    "        print(\"False\")\n",
    "else:\n",
    "    print(\"Divide by Zero Error\")\n",
    "    "
   ]
  },
  {
   "cell_type": "markdown",
   "id": "03946952",
   "metadata": {},
   "source": [
    "## Check for case insensitive Palindrome"
   ]
  },
  {
   "cell_type": "code",
   "execution_count": 14,
   "id": "6d2c1010",
   "metadata": {},
   "outputs": [
    {
     "name": "stdout",
     "output_type": "stream",
     "text": [
      "Harini\n",
      "HARINI is not a Palindrome\n"
     ]
    }
   ],
   "source": [
    "n = input()\n",
    "k=n.upper()\n",
    "if(k==k[::-1]):\n",
    "    print(\"{k} is a Palindrome\".format(k=k))\n",
    "else:\n",
    "    print(\"{k} is not a Palindrome\".format(k=k))"
   ]
  },
  {
   "cell_type": "markdown",
   "id": "8287c908",
   "metadata": {},
   "source": [
    "## WAP to input 3 sides of triangle and print thier kind -> Equilateral (all sides are equal) , Isosceles (2 sides are equal) , Scalene (all sides are unequal)"
   ]
  },
  {
   "cell_type": "code",
   "execution_count": 12,
   "id": "d58f3d0d",
   "metadata": {},
   "outputs": [
    {
     "name": "stdout",
     "output_type": "stream",
     "text": [
      "10\n",
      "30\n",
      "31\n",
      "10.0 30.0 31.0  forms a Scalene Triangle\n"
     ]
    }
   ],
   "source": [
    "s1 = float(input())\n",
    "s2 = float(input())\n",
    "s3 = float(input())\n",
    "if(s1==s2==s3):\n",
    "    print(s1,s2,s3,\" forms an Equilateral Triangle\")\n",
    "elif(s1==s2 or s1==s3 or s2==s3):\n",
    "    print(s1,s2,s3,\" forms an Isosceles Triangle\")\n",
    "else:\n",
    "    print(s1,s2,s3,\" forms a Scalene Triangle\")"
   ]
  },
  {
   "cell_type": "markdown",
   "id": "1b0ef677",
   "metadata": {},
   "source": [
    "## Input a number and check odd/even"
   ]
  },
  {
   "cell_type": "code",
   "execution_count": 16,
   "id": "e964cddd",
   "metadata": {},
   "outputs": [
    {
     "name": "stdout",
     "output_type": "stream",
     "text": [
      "9\n",
      "9 is an Odd Number\n"
     ]
    }
   ],
   "source": [
    "n = int(input())\n",
    "if(n%2==0):\n",
    "    print(\"{} is a Even Number\".format(n))\n",
    "else:\n",
    "    print(\"{} is an Odd Number\".format(n))"
   ]
  },
  {
   "cell_type": "markdown",
   "id": "3a7e505a",
   "metadata": {},
   "source": [
    "## WAP to input age and print their category"
   ]
  },
  {
   "cell_type": "code",
   "execution_count": 2,
   "id": "c521f63a",
   "metadata": {},
   "outputs": [
    {
     "name": "stdout",
     "output_type": "stream",
     "text": [
      "103\n",
      "Contratulation\n"
     ]
    }
   ],
   "source": [
    "a = int(input())\n",
    "if(0<=a<=12):\n",
    "    print(\"Child\")\n",
    "elif(13<=a<=17):\n",
    "    print(\"Teen\")\n",
    "elif(18<=a<=50):\n",
    "    print(\"Adult\")\n",
    "elif(51<=a<=100):\n",
    "    print(\"Senior Citizen\")\n",
    "else:\n",
    "    print(\"Contratulation\")\n"
   ]
  },
  {
   "cell_type": "markdown",
   "id": "65c8ac43",
   "metadata": {},
   "source": [
    "## Check leap year or not"
   ]
  },
  {
   "cell_type": "code",
   "execution_count": 18,
   "id": "7460076d",
   "metadata": {},
   "outputs": [
    {
     "name": "stdout",
     "output_type": "stream",
     "text": [
      "1800\n",
      "1800 is not a Leap Year\n"
     ]
    }
   ],
   "source": [
    "y=int(input())\n",
    "if(len(str(y))==4):\n",
    "    if((y%4==0 or y%100!=0) and y%400==0):\n",
    "        print(y,\"is a Leap Year\")\n",
    "    else:\n",
    "        print(y,\"is not a Leap Year\")"
   ]
  },
  {
   "cell_type": "markdown",
   "id": "5e126bcd",
   "metadata": {},
   "source": [
    "## Input a stirng ,if length of string is odd then convert them into UPPER CASE else convert them to lower case"
   ]
  },
  {
   "cell_type": "code",
   "execution_count": 2,
   "id": "6471139b",
   "metadata": {},
   "outputs": [
    {
     "name": "stdout",
     "output_type": "stream",
     "text": [
      "Harini S R \n",
      "8 11\n",
      "HARINI S R \n"
     ]
    }
   ],
   "source": [
    "st=input()\n",
    "s=st.replace(\" \",\"\")\n",
    "if(len(s)%2==0):\n",
    "    print(st.upper())\n",
    "else:\n",
    "    print(st.lower())"
   ]
  },
  {
   "cell_type": "markdown",
   "id": "6160f98c",
   "metadata": {},
   "source": [
    "## If given string has \"egg\" in it print NON VEG else print VEG"
   ]
  },
  {
   "cell_type": "code",
   "execution_count": 7,
   "id": "0e8b5412",
   "metadata": {},
   "outputs": [
    {
     "name": "stdout",
     "output_type": "stream",
     "text": [
      "Find egg in this sentence\n",
      "Non Veg\n"
     ]
    }
   ],
   "source": [
    "s=input()\n",
    "k=s.lower()\n",
    "e=\"egg\"\n",
    "if e in k:\n",
    "    print(\"Non Veg\")\n",
    "else:\n",
    "    print(\"Veg\")"
   ]
  },
  {
   "cell_type": "markdown",
   "id": "1657cdd4",
   "metadata": {},
   "source": [
    "## Predict output"
   ]
  },
  {
   "cell_type": "code",
   "execution_count": 10,
   "id": "3a9c8221",
   "metadata": {},
   "outputs": [],
   "source": [
    "if not 1:\n",
    "    print(\"False\")\n",
    "else:\n",
    "    print(\"True\")\n",
    "if 1:\n",
    "    print(\"True\")\n",
    "else:\n",
    "    print(\"False\")\n",
    "    \n",
    "#Ans:\n",
    "# True\n",
    "# True"
   ]
  },
  {
   "cell_type": "code",
   "execution_count": 13,
   "id": "6f6976a6",
   "metadata": {},
   "outputs": [
    {
     "name": "stdout",
     "output_type": "stream",
     "text": [
      "Weird!!\n",
      "[4, 3, 2, 1]\n"
     ]
    }
   ],
   "source": [
    "if('a'>'A'):\n",
    "    print(\"Weird!!\")\n",
    "else:\n",
    "    print(\"Makes Sense\")\n",
    "a=[1,2,3,4]\n",
    "if 1>1:\n",
    "    a=a[::-1]\n",
    "else:\n",
    "    a=a[-1::-1]\n",
    "print(a)"
   ]
  },
  {
   "cell_type": "markdown",
   "id": "de4d696a",
   "metadata": {},
   "source": [
    "## WAP to input marks in 5 subject and output grades accordingly"
   ]
  },
  {
   "cell_type": "code",
   "execution_count": 2,
   "id": "ae21a3e7",
   "metadata": {},
   "outputs": [
    {
     "name": "stdout",
     "output_type": "stream",
     "text": [
      "100\n",
      "100  : Grade A\n",
      "90\n",
      "90  : Grade A\n",
      "60\n",
      "60  : Grade C\n",
      "85\n",
      "85  : Grade B\n",
      "40\n",
      "40  : Grade F\n"
     ]
    }
   ],
   "source": [
    "l=[]\n",
    "for i in range(5):\n",
    "    n=int(input())\n",
    "    if(n in range(90,101)):\n",
    "        print(n,\" : Grade A\")\n",
    "    elif(n in range(80,90)):\n",
    "        print(n,\" : Grade B\")\n",
    "    elif(n in range(60,80)):\n",
    "        print(n,\" : Grade C\")\n",
    "    else:\n",
    "        print(n,\" : Grade F\")\n",
    "    "
   ]
  },
  {
   "cell_type": "markdown",
   "id": "65e3e45f",
   "metadata": {},
   "source": [
    "## WAP to input age and salary range and provide tax percentage accordingly"
   ]
  },
  {
   "cell_type": "code",
   "execution_count": 7,
   "id": "bdb28cc8",
   "metadata": {},
   "outputs": [
    {
     "name": "stdout",
     "output_type": "stream",
     "text": [
      "100\n",
      "1500000\n",
      "Tax Rate: 12%\n"
     ]
    }
   ],
   "source": [
    "age=int(input())\n",
    "salary=int(input())\n",
    "if((0<=age<=60 or age>=60) and (0<=salary<=250000)):\n",
    "    print(\"Tax Rate: 0\")\n",
    "elif age in range(0,61):\n",
    "    if salary in range(250001,500000):\n",
    "        print(\"Tax Rate: 5%\")\n",
    "    elif salary in range(500001,1000000):\n",
    "        print(\"Tax Rate: 10%\")\n",
    "    else:\n",
    "        print(\"Tax Rate: 15%\")\n",
    "elif(age>=61):\n",
    "    if salary in range(250001,500000):\n",
    "        print(\"Tax Rate: 3%\")\n",
    "    elif salary in range(500001,1000000):\n",
    "        print(\"Tax Rate: 8%\")\n",
    "    else:\n",
    "        print(\"Tax Rate: 12%\")"
   ]
  },
  {
   "cell_type": "markdown",
   "id": "9d2b133e",
   "metadata": {},
   "source": [
    "## Predict the output"
   ]
  },
  {
   "cell_type": "code",
   "execution_count": 14,
   "id": "550e92d1",
   "metadata": {},
   "outputs": [],
   "source": [
    "print(20 if not 1==1 else 10)\n",
    "print(30 if not 1==1 else 20 if 'a' < 'A' else 10)\n",
    "print(40 if not 1==1 else 30 if 'a' < 'A' else 20 if '' else 10)\n",
    "print('No' if not 1==1 else ('No' if 'a' < 'A' else ('OMG' if 'oh!!' else 'No')))\n",
    "\n",
    "#Ans:\n",
    "# 10\n",
    "# 10\n",
    "# 10\n",
    "# OMG"
   ]
  },
  {
   "cell_type": "markdown",
   "id": "10941b47",
   "metadata": {},
   "source": [
    "## BMI Calculation"
   ]
  },
  {
   "cell_type": "code",
   "execution_count": 45,
   "id": "ea3007f8",
   "metadata": {},
   "outputs": [
    {
     "name": "stdout",
     "output_type": "stream",
     "text": [
      "65\n",
      "180\n",
      "20.1 is Healthy\n"
     ]
    }
   ],
   "source": [
    "def bmi(weight,height):\n",
    "    bmi=float(weight)/((float(height)/100)**2)\n",
    "    return bmi\n",
    "w=input()\n",
    "h=input()\n",
    "bmi_value=bmi(w,h)\n",
    "if(bmi_value<18.5):\n",
    "    print(round(bmi_value,1),\"is Underweight\")\n",
    "elif(18.5<=bmi_value<=24.9):\n",
    "    print(round(bmi_value,1),\"is Healthy\")\n",
    "elif(25.0<=bmi_value<=29.9):\n",
    "    print(round(bmi_value,1),\"is Overweight\")\n",
    "else:\n",
    "    print(round(bmi_value,1),\"is Obese\")\n"
   ]
  },
  {
   "cell_type": "markdown",
   "id": "d4da5eff",
   "metadata": {},
   "source": [
    "## Input ages of 3 people ,determine oldest and youngest"
   ]
  },
  {
   "cell_type": "code",
   "execution_count": 35,
   "id": "89d8f3a1",
   "metadata": {},
   "outputs": [
    {
     "name": "stdout",
     "output_type": "stream",
     "text": [
      "30\n",
      "30\n",
      "10\n",
      "p1 and p2 are the oldest and age is:  30\n",
      "p3 is the Youngest and age is:  10\n"
     ]
    }
   ],
   "source": [
    "p1=int(input())\n",
    "p2=int(input())\n",
    "p3=int(input())\n",
    "if(p1==p2==p3):\n",
    "    print(\"p1,p2,p3 : Same age :\",p1)\n",
    "elif(p1>=p2 and p1>=p3):\n",
    "    if(p1==p2):\n",
    "        print(\"p1 and p2 are the oldest and age is: \",p1)\n",
    "        print(\"p3 is the Youngest and age is: \",p3)\n",
    "    elif(p1==p3):\n",
    "        print(\"p1 and p3 are the oldest and age is: \",p1)\n",
    "        print(\"p2 is the Youngest and age is: \",p2)\n",
    "    else:\n",
    "        print(\"p1 is the oldest and age is: \",p1)\n",
    "        if(p2==p3):\n",
    "            print(\"p2 and p3 are the Youngest and age is: \",p2)\n",
    "        elif(p2<=p3):\n",
    "             print(\"p2 is the Youngest and age is: \",p2)\n",
    "        else:\n",
    "             print(\"p3 is the Youngest and age is: \",p3)\n",
    "elif(p2>=p1 and p2>=p3):\n",
    "    if(p2==p3):\n",
    "        print(\"p2 and p3 are the oldest and age is: \",p2)\n",
    "        print(\"p1 is the Youngest and age is: \",p1)\n",
    "    else:\n",
    "        print(\"p2 is the oldest and age is: \",p2)\n",
    "        if(p1==p3):\n",
    "            print(\"p1 and p3 are the Youngest and age is: \",p1)\n",
    "        elif(p1<=p3):\n",
    "             print(\"p1 is the Youngest and age is: \",p1)\n",
    "        else:\n",
    "            print(\"p3 is the Youngest and age is: \",p3)\n",
    "else:\n",
    "    print(\"p3 is the oldest and age is: \",p3)\n",
    "    if(p1==p2):\n",
    "        print(\"p1 and p2 are the Youngest and age is: \",p1)\n",
    "    elif(p1<=p2):\n",
    "         print(\"p1 is the Youngest and age is: \",p1)\n",
    "    else:\n",
    "         print(\"p2 is the Youngest and age is: \",p2)\n"
   ]
  },
  {
   "cell_type": "markdown",
   "id": "8aebee5a",
   "metadata": {},
   "source": [
    "## input a number and check whether it is divisble by both 5 and 7"
   ]
  },
  {
   "cell_type": "code",
   "execution_count": 39,
   "id": "4bc17bb8",
   "metadata": {},
   "outputs": [
    {
     "name": "stdout",
     "output_type": "stream",
     "text": [
      "70\n",
      "70 : is divisable by both 5 and 7\n"
     ]
    }
   ],
   "source": [
    "n=int(input())\n",
    "if(n%5==0 and n%7==0):\n",
    "    print(n,\": is divisable by both 5 and 7\")\n",
    "elif(n%5==0 and n%7!=0):\n",
    "    print(n,\": is divisable by 5 but 7\")\n",
    "elif(n%5!=0 and n%7==0):\n",
    "    print(n,\": is divisable by 7 but 5\")\n",
    "else:\n",
    "    print(n,\": is not divisable by both 5 and 7\")"
   ]
  },
  {
   "cell_type": "code",
   "execution_count": null,
   "id": "4fd726d7",
   "metadata": {},
   "outputs": [],
   "source": []
  }
 ],
 "metadata": {
  "kernelspec": {
   "display_name": "Python 3",
   "language": "python",
   "name": "python3"
  },
  "language_info": {
   "codemirror_mode": {
    "name": "ipython",
    "version": 3
   },
   "file_extension": ".py",
   "mimetype": "text/x-python",
   "name": "python",
   "nbconvert_exporter": "python",
   "pygments_lexer": "ipython3",
   "version": "3.8.8"
  }
 },
 "nbformat": 4,
 "nbformat_minor": 5
}
