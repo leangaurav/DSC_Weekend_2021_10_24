{
 "cells": [
  {
   "cell_type": "markdown",
   "id": "a92776bf",
   "metadata": {},
   "source": [
    "## Guess output"
   ]
  },
  {
   "cell_type": "code",
   "execution_count": 12,
   "id": "887a5909",
   "metadata": {},
   "outputs": [],
   "source": [
    "s=\"Python is Object Oriented\"\n",
    "#Ans:\n",
    "#s[-1] = d\n",
    "#s[::-1] = detneirO tcejbO si nohtyP\n",
    "#s[:-1] = Python is Object Oriente\n",
    "#s[1:1] = #none\n",
    "#s[4:10] = on is "
   ]
  },
  {
   "cell_type": "markdown",
   "id": "0e7c1c8e",
   "metadata": {},
   "source": [
    "## Spot the error"
   ]
  },
  {
   "cell_type": "code",
   "execution_count": 13,
   "id": "d80b7725",
   "metadata": {},
   "outputs": [],
   "source": [
    "s= ''\n",
    "print(s[1])\n",
    "\n",
    "#Ans: string index out of range"
   ]
  },
  {
   "cell_type": "markdown",
   "id": "4d6d37de",
   "metadata": {},
   "source": [
    "## Spot the error , if not give the output"
   ]
  },
  {
   "cell_type": "code",
   "execution_count": 19,
   "id": "93a6cfe2",
   "metadata": {},
   "outputs": [],
   "source": [
    "S='Gauruv'\n",
    "print(s[1])\n",
    "\n",
    "#Ans: name 's' is not defined"
   ]
  },
  {
   "cell_type": "markdown",
   "id": "844e4323",
   "metadata": {},
   "source": [
    "## Find the output of the following codes"
   ]
  },
  {
   "cell_type": "code",
   "execution_count": 21,
   "id": "0c08c6b2",
   "metadata": {},
   "outputs": [],
   "source": [
    "s='a b cd'\n",
    "print(len(s))       \n",
    "print(s[::2])\n",
    "print(len(s[::2]))\n",
    "\n",
    "#Ans:\n",
    "# 6\n",
    "# abc\n",
    "# 3"
   ]
  },
  {
   "cell_type": "code",
   "execution_count": 6,
   "id": "ab4d64ba",
   "metadata": {},
   "outputs": [],
   "source": [
    "s='a#b#c#d#'\n",
    "print(s.split())\n",
    "print(s.split('#'))\n",
    "l=s.split('#')\n",
    "s='$'.join(l)\n",
    "print(s)\n",
    "\n",
    "#Ans:\n",
    "# ['a#b#c#d#']\n",
    "# ['a', 'b', 'c', 'd', '']\n",
    "# a$b$c$d$\n"
   ]
  },
  {
   "cell_type": "code",
   "execution_count": 16,
   "id": "5d147416",
   "metadata": {},
   "outputs": [],
   "source": [
    "S='Gaurav'\n",
    "S=S[::-2][::-2]\n",
    "print(S) \n",
    "\n",
    "#Ans:\n",
    "# av"
   ]
  },
  {
   "cell_type": "code",
   "execution_count": 18,
   "id": "13cabfad",
   "metadata": {},
   "outputs": [],
   "source": [
    "print(1>2)\n",
    "\n",
    "#Ans:\n",
    "# False"
   ]
  },
  {
   "cell_type": "code",
   "execution_count": 25,
   "id": "6e778875",
   "metadata": {},
   "outputs": [],
   "source": [
    "print(4%2,5%2,2%5,sep=',')\n",
    "\n",
    "#Ans:\n",
    "# 0,1,2"
   ]
  },
  {
   "cell_type": "code",
   "execution_count": 27,
   "id": "2a2b8fd4",
   "metadata": {},
   "outputs": [],
   "source": [
    "s='abcba'\n",
    "s.upper()\n",
    "print(s)\n",
    "print(s.count('A'),end = ',')\n",
    "print(s.count('A',2,4),end = ',')\n",
    "print(s.count('a',2,4),end = ',') \n",
    "\n",
    "#Ans:\n",
    "# abcba\n",
    "# 0,0,0,"
   ]
  },
  {
   "cell_type": "markdown",
   "id": "3041c5da",
   "metadata": {},
   "source": [
    "## WAP to input a string and remove all spaces from it"
   ]
  },
  {
   "cell_type": "code",
   "execution_count": 33,
   "id": "90436f4f",
   "metadata": {},
   "outputs": [
    {
     "name": "stdout",
     "output_type": "stream",
     "text": [
      "All too well\n",
      "Alltoowell\n",
      "All too well\n",
      "Alltoowell\n"
     ]
    }
   ],
   "source": [
    "# Method 1\n",
    "s=input()\n",
    "st=\"\".join(s.split())\n",
    "print(st)\n",
    "# Method 2\n",
    "s=input()\n",
    "st=s.replace(\" \",\"\")\n",
    "print(st)\n"
   ]
  },
  {
   "cell_type": "markdown",
   "id": "b7ecb9d2",
   "metadata": {},
   "source": [
    "## What does this symbol denote: []"
   ]
  },
  {
   "cell_type": "code",
   "execution_count": 34,
   "id": "37695627",
   "metadata": {},
   "outputs": [],
   "source": [
    "#Ans : List"
   ]
  },
  {
   "cell_type": "markdown",
   "id": "e9a9713b",
   "metadata": {},
   "source": [
    "## WAP to print all methods(functions/operations) available in a string (Hint : dir()) \n"
   ]
  },
  {
   "cell_type": "code",
   "execution_count": 35,
   "id": "2377e69c",
   "metadata": {},
   "outputs": [
    {
     "name": "stdout",
     "output_type": "stream",
     "text": [
      "['__add__', '__class__', '__contains__', '__delattr__', '__dir__', '__doc__', '__eq__', '__format__', '__ge__', '__getattribute__', '__getitem__', '__getnewargs__', '__gt__', '__hash__', '__init__', '__init_subclass__', '__iter__', '__le__', '__len__', '__lt__', '__mod__', '__mul__', '__ne__', '__new__', '__reduce__', '__reduce_ex__', '__repr__', '__rmod__', '__rmul__', '__setattr__', '__sizeof__', '__str__', '__subclasshook__', 'capitalize', 'casefold', 'center', 'count', 'encode', 'endswith', 'expandtabs', 'find', 'format', 'format_map', 'index', 'isalnum', 'isalpha', 'isascii', 'isdecimal', 'isdigit', 'isidentifier', 'islower', 'isnumeric', 'isprintable', 'isspace', 'istitle', 'isupper', 'join', 'ljust', 'lower', 'lstrip', 'maketrans', 'partition', 'replace', 'rfind', 'rindex', 'rjust', 'rpartition', 'rsplit', 'rstrip', 'split', 'splitlines', 'startswith', 'strip', 'swapcase', 'title', 'translate', 'upper', 'zfill']\n"
     ]
    }
   ],
   "source": [
    "print(dir(str))"
   ]
  },
  {
   "cell_type": "markdown",
   "id": "6460f369",
   "metadata": {},
   "source": [
    "## Write statement to check if rstrip method is available in the str class.(Hint : Use the find function or in) \n"
   ]
  },
  {
   "cell_type": "code",
   "execution_count": 43,
   "id": "c78988f5",
   "metadata": {},
   "outputs": [
    {
     "name": "stdout",
     "output_type": "stream",
     "text": [
      "str class has rstrip method\n"
     ]
    }
   ],
   "source": [
    "s=dir(str)\n",
    "if \"rstrip\" in s:\n",
    "    print(\"str class has rstrip method\")\n",
    "else:\n",
    "    print(\"str class has no rstrip method\")"
   ]
  },
  {
   "cell_type": "markdown",
   "id": "2532d220",
   "metadata": {},
   "source": [
    "## WAP to store the following patterns in a string variable and then print them: \n"
   ]
  },
  {
   "cell_type": "code",
   "execution_count": null,
   "id": "be7e70bb",
   "metadata": {},
   "outputs": [],
   "source": []
  },
  {
   "cell_type": "markdown",
   "id": "bef07a5e",
   "metadata": {},
   "source": [
    "## WAP to input a string and replace all space with new lines (\\n) and print again. "
   ]
  },
  {
   "cell_type": "code",
   "execution_count": 44,
   "id": "013081a7",
   "metadata": {},
   "outputs": [
    {
     "name": "stdout",
     "output_type": "stream",
     "text": [
      "All too well\n",
      "All\n",
      "too\n",
      "well\n"
     ]
    }
   ],
   "source": [
    "s=input()\n",
    "st=s.replace(\" \",\"\\n\")\n",
    "print(st)"
   ]
  },
  {
   "cell_type": "markdown",
   "id": "d09e658f",
   "metadata": {},
   "source": [
    "## WAP to input complete name(first and last name separated by space) and print first and last name separately along with their length in upper case. "
   ]
  },
  {
   "cell_type": "code",
   "execution_count": 54,
   "id": "5397be31",
   "metadata": {},
   "outputs": [
    {
     "name": "stdout",
     "output_type": "stream",
     "text": [
      "Harini SR\n",
      "HARINI\n",
      "SR\n"
     ]
    }
   ],
   "source": [
    "n=input()\n",
    "st=n.upper()\n",
    "print(st.replace(\" \",\"\\n\"))"
   ]
  },
  {
   "cell_type": "markdown",
   "id": "a1ecaf4e",
   "metadata": {},
   "source": [
    "## WAP to input a string and split it into 2 halves. The string can be of any length \n"
   ]
  },
  {
   "cell_type": "code",
   "execution_count": 56,
   "id": "9402c6e0",
   "metadata": {},
   "outputs": [
    {
     "name": "stdout",
     "output_type": "stream",
     "text": [
      "All too well\n",
      "Allto\n",
      "owell\n"
     ]
    }
   ],
   "source": [
    "s=input()\n",
    "st=\"\".join(s.split())\n",
    "l=len(st)//2\n",
    "print(st[:l])\n",
    "print(st[l:len(st)])\n"
   ]
  },
  {
   "cell_type": "code",
   "execution_count": null,
   "id": "ee42824b",
   "metadata": {},
   "outputs": [],
   "source": []
  }
 ],
 "metadata": {
  "kernelspec": {
   "display_name": "Python 3",
   "language": "python",
   "name": "python3"
  },
  "language_info": {
   "codemirror_mode": {
    "name": "ipython",
    "version": 3
   },
   "file_extension": ".py",
   "mimetype": "text/x-python",
   "name": "python",
   "nbconvert_exporter": "python",
   "pygments_lexer": "ipython3",
   "version": "3.8.8"
  }
 },
 "nbformat": 4,
 "nbformat_minor": 5
}
