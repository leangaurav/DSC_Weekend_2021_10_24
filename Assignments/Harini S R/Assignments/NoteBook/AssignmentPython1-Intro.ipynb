{
 "cells": [
  {
   "cell_type": "markdown",
   "id": "bf67a7e3",
   "metadata": {},
   "source": [
    "## Predict Output"
   ]
  },
  {
   "cell_type": "code",
   "execution_count": null,
   "id": "0cd6dcba",
   "metadata": {},
   "outputs": [],
   "source": [
    "s1=\"Gauruv\"\n",
    "s2=\"leangauruv.me@email.com\"\n",
    "print(len(s1),len(s2))\n",
    "#Ans= 6 23"
   ]
  },
  {
   "cell_type": "markdown",
   "id": "78411c2e",
   "metadata": {},
   "source": [
    "## WAP to input a string and output its length"
   ]
  },
  {
   "cell_type": "code",
   "execution_count": 1,
   "id": "93e0d8e2",
   "metadata": {},
   "outputs": [
    {
     "name": "stdout",
     "output_type": "stream",
     "text": [
      "Harini_@#$890\n",
      "13\n"
     ]
    }
   ],
   "source": [
    "s=input()\n",
    "print(len(s))"
   ]
  },
  {
   "cell_type": "markdown",
   "id": "f9576667",
   "metadata": {},
   "source": [
    "## WAP to input two numbers and find their sum and differnce"
   ]
  },
  {
   "cell_type": "code",
   "execution_count": 20,
   "id": "194962b7",
   "metadata": {},
   "outputs": [
    {
     "name": "stdout",
     "output_type": "stream",
     "text": [
      "10\n",
      "30\n",
      "Sum: 40 \n",
      "Difference: -20 \n",
      "Without Negation: 20\n"
     ]
    }
   ],
   "source": [
    "num1=int(input())\n",
    "num2=int(input())\n",
    "print(\"Sum:\",num1+num2,\"\\nDifference:\",(num1-num2),\"\\nWithout Negation:\",abs(num1-num2))"
   ]
  },
  {
   "cell_type": "markdown",
   "id": "0bbdb081",
   "metadata": {},
   "source": [
    "## Predict the output"
   ]
  },
  {
   "cell_type": "code",
   "execution_count": null,
   "id": "1034f32a",
   "metadata": {},
   "outputs": [],
   "source": [
    "s1='ab'\n",
    "s2='de'\n",
    "s3=s1+s2\n",
    "print(s3)\n",
    "#Ans: abde"
   ]
  },
  {
   "cell_type": "code",
   "execution_count": null,
   "id": "e29288b0",
   "metadata": {},
   "outputs": [],
   "source": [
    "s1='ab'*4\n",
    "print(s1)\n",
    "#Ans: abababab"
   ]
  },
  {
   "cell_type": "code",
   "execution_count": null,
   "id": "4e0d942a",
   "metadata": {},
   "outputs": [],
   "source": [
    "s1='ab\\n'*4\n",
    "print(s1)\n",
    "#Ans: \n",
    "#ab\n",
    "#ab\n",
    "#ab\n",
    "#ab"
   ]
  },
  {
   "cell_type": "markdown",
   "id": "595b6239",
   "metadata": {},
   "source": [
    "## WAP to input a string s and numbe n.Print the string n times on the screen,each should appear in seperate line(no loops , use multiplication operator)"
   ]
  },
  {
   "cell_type": "code",
   "execution_count": 18,
   "id": "99d47588",
   "metadata": {},
   "outputs": [
    {
     "name": "stdout",
     "output_type": "stream",
     "text": [
      "Harini S R\n",
      "7\n",
      "Harini S R\n",
      "Harini S R\n",
      "Harini S R\n",
      "Harini S R\n",
      "Harini S R\n",
      "Harini S R\n",
      "Harini S R\n",
      "\n"
     ]
    }
   ],
   "source": [
    "s=input()\n",
    "n=int(input())\n",
    "print((s+'\\n')*n)"
   ]
  },
  {
   "cell_type": "markdown",
   "id": "f2e5294f",
   "metadata": {},
   "source": [
    "## Predict the Output"
   ]
  },
  {
   "cell_type": "code",
   "execution_count": null,
   "id": "5c1284e4",
   "metadata": {},
   "outputs": [],
   "source": [
    "res=print('Gauruv')\n",
    "print(res)\n",
    "#Ans: \n",
    "#Gauruv\n",
    "#None"
   ]
  },
  {
   "cell_type": "code",
   "execution_count": null,
   "id": "f0458fa6",
   "metadata": {},
   "outputs": [],
   "source": [
    "res=len(\"leangauruv.me@email.com\")\n",
    "print(type(res))\n",
    "#Ans:\n",
    "#<class 'int'>"
   ]
  },
  {
   "cell_type": "code",
   "execution_count": null,
   "id": "3926c612",
   "metadata": {},
   "outputs": [],
   "source": [
    "s1='Gauruv'\n",
    "s2='leangauruv.me@email.com'\n",
    "s3=s1+'\\n'+s2\n",
    "print(type(s3),len(s3))\n",
    "#Ans: <class 'str'> 30"
   ]
  },
  {
   "cell_type": "markdown",
   "id": "fe1a8112",
   "metadata": {},
   "source": [
    "## Find a name of a function to find the square root\n"
   ]
  },
  {
   "cell_type": "code",
   "execution_count": 26,
   "id": "4ec4e5d5",
   "metadata": {},
   "outputs": [
    {
     "name": "stdout",
     "output_type": "stream",
     "text": [
      "['__doc__', '__loader__', '__name__', '__package__', '__spec__', 'acos', 'acosh', 'asin', 'asinh', 'atan', 'atan2', 'atanh', 'ceil', 'comb', 'copysign', 'cos', 'cosh', 'degrees', 'dist', 'e', 'erf', 'erfc', 'exp', 'expm1', 'fabs', 'factorial', 'floor', 'fmod', 'frexp', 'fsum', 'gamma', 'gcd', 'hypot', 'inf', 'isclose', 'isfinite', 'isinf', 'isnan', 'isqrt', 'ldexp', 'lgamma', 'log', 'log10', 'log1p', 'log2', 'modf', 'nan', 'perm', 'pi', 'pow', 'prod', 'radians', 'remainder', 'sin', 'sinh', 'sqrt', 'tan', 'tanh', 'tau', 'trunc']\n"
     ]
    }
   ],
   "source": [
    "import math\n",
    "print(dir(math))\n",
    "#Ans: sqrt"
   ]
  },
  {
   "cell_type": "markdown",
   "id": "7d4c9eae",
   "metadata": {},
   "source": [
    "## Write a program to input a number and find its sqrt"
   ]
  },
  {
   "cell_type": "code",
   "execution_count": 29,
   "id": "70ef5549",
   "metadata": {},
   "outputs": [
    {
     "name": "stdout",
     "output_type": "stream",
     "text": [
      "66\n",
      "8.12403840463596\n"
     ]
    }
   ],
   "source": [
    "import math\n",
    "n=int(input())\n",
    "print(math.sqrt(n))"
   ]
  },
  {
   "cell_type": "markdown",
   "id": "338a383b",
   "metadata": {},
   "source": [
    "## Write a program to input four numbers from a user and print thier average"
   ]
  },
  {
   "cell_type": "code",
   "execution_count": 32,
   "id": "38671cff",
   "metadata": {},
   "outputs": [
    {
     "name": "stdout",
     "output_type": "stream",
     "text": [
      "Number 1:10\n",
      "Number 2:30\n",
      "Number 3:20\n",
      "Number 4:40\n",
      "25.0\n"
     ]
    }
   ],
   "source": [
    "a=int(input(\"Number 1:\"))\n",
    "b=int(input(\"Number 2:\"))\n",
    "c=int(input(\"Number 3:\"))\n",
    "d=int(input(\"Number 4:\"))\n",
    "print((a+b+c+d)/4)"
   ]
  },
  {
   "cell_type": "markdown",
   "id": "8e60ff61",
   "metadata": {},
   "source": [
    "## Use help function to find what the abs function in python does"
   ]
  },
  {
   "cell_type": "code",
   "execution_count": 39,
   "id": "05952377",
   "metadata": {},
   "outputs": [
    {
     "name": "stdout",
     "output_type": "stream",
     "text": [
      "Help on built-in function abs in module builtins:\n",
      "\n",
      "abs(x, /)\n",
      "    Return the absolute value of the argument.\n",
      "\n"
     ]
    }
   ],
   "source": [
    "help(abs)"
   ]
  },
  {
   "cell_type": "markdown",
   "id": "803f3bc6",
   "metadata": {},
   "source": [
    "## Output of print(__name__) when it runs in python interpreter and script"
   ]
  },
  {
   "cell_type": "code",
   "execution_count": 46,
   "id": "614b3636",
   "metadata": {},
   "outputs": [
    {
     "name": "stdout",
     "output_type": "stream",
     "text": [
      "__main__\n"
     ]
    }
   ],
   "source": [
    "print(__name__)"
   ]
  },
  {
   "cell_type": "markdown",
   "id": "1e3354f8",
   "metadata": {},
   "source": [
    "## Does dir(int) has __name__ in it "
   ]
  },
  {
   "cell_type": "code",
   "execution_count": 48,
   "id": "84e6cba1",
   "metadata": {},
   "outputs": [],
   "source": [
    "print(dir(int))\n",
    "#Ans: No"
   ]
  },
  {
   "cell_type": "markdown",
   "id": "9aeae0a9",
   "metadata": {},
   "source": [
    "## Predict the output"
   ]
  },
  {
   "cell_type": "code",
   "execution_count": null,
   "id": "26201dae",
   "metadata": {},
   "outputs": [],
   "source": [
    "print(__name__)\n",
    "print(__builtins__.__name__)\n",
    "print(int.__name__)\n",
    "#Ans:\n",
    "#__main__\n",
    "#builtins\n",
    "#int"
   ]
  }
 ],
 "metadata": {
  "kernelspec": {
   "display_name": "Python 3",
   "language": "python",
   "name": "python3"
  },
  "language_info": {
   "codemirror_mode": {
    "name": "ipython",
    "version": 3
   },
   "file_extension": ".py",
   "mimetype": "text/x-python",
   "name": "python",
   "nbconvert_exporter": "python",
   "pygments_lexer": "ipython3",
   "version": "3.8.8"
  }
 },
 "nbformat": 4,
 "nbformat_minor": 5
}
