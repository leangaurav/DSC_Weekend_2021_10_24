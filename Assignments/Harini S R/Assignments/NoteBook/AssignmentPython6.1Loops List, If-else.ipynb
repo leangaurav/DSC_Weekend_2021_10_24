{
 "cells": [
  {
   "cell_type": "markdown",
   "id": "8dd5d405",
   "metadata": {},
   "source": [
    "## WAP to input a string and print individual characters in the string using for loop."
   ]
  },
  {
   "cell_type": "code",
   "execution_count": 1,
   "id": "3cf310b7",
   "metadata": {},
   "outputs": [
    {
     "name": "stdout",
     "output_type": "stream",
     "text": [
      "Harini S R\n",
      "H\n",
      "a\n",
      "r\n",
      "i\n",
      "n\n",
      "i\n",
      " \n",
      "S\n",
      " \n",
      "R\n"
     ]
    }
   ],
   "source": [
    "s=input(\"Enter the String:\")\n",
    "for i in s:\n",
    "    print(i)"
   ]
  },
  {
   "cell_type": "markdown",
   "id": "e43ba62c",
   "metadata": {},
   "source": [
    "## WAP to input a string and print the ASCII value of each character in the string."
   ]
  },
  {
   "cell_type": "code",
   "execution_count": 4,
   "id": "9217f583",
   "metadata": {},
   "outputs": [
    {
     "name": "stdout",
     "output_type": "stream",
     "text": [
      "Enter the String:Harini S R\n",
      "ASCII Value of H is 72\n",
      "ASCII Value of a is 97\n",
      "ASCII Value of r is 114\n",
      "ASCII Value of i is 105\n",
      "ASCII Value of n is 110\n",
      "ASCII Value of i is 105\n",
      "ASCII Value of   is 32\n",
      "ASCII Value of S is 83\n",
      "ASCII Value of   is 32\n",
      "ASCII Value of R is 82\n"
     ]
    }
   ],
   "source": [
    "s=input(\"Enter the String:\")\n",
    "for i in s:\n",
    "    print(\"ASCII Value of {} is\".format(i),ord(i))"
   ]
  },
  {
   "cell_type": "markdown",
   "id": "5b2e6f44",
   "metadata": {},
   "source": [
    "## Write a function that takes a list of numbers from user as argument and returns the sum of only odd numbers (Use only for loop. No need to use if statement)."
   ]
  },
  {
   "cell_type": "code",
   "execution_count": 14,
   "id": "800d4169",
   "metadata": {},
   "outputs": [
    {
     "name": "stdout",
     "output_type": "stream",
     "text": [
      "Sum of Odd numbers: 25\n"
     ]
    }
   ],
   "source": [
    "l=[1,2,3,4,5,6,7,8,9]\n",
    "s=0\n",
    "for i in range(len(l)):\n",
    "    if(l[i]%2!=0):\n",
    "        s=s+l[i]\n",
    "print(\"Sum of Odd numbers:\",s)\n",
    "    "
   ]
  },
  {
   "cell_type": "markdown",
   "id": "b42082eb",
   "metadata": {},
   "source": [
    "## WAP to input a list of numbers and store in a tuple. Now input another number and print the index of this number in the tuple. [Use index function]"
   ]
  },
  {
   "cell_type": "code",
   "execution_count": 23,
   "id": "167b033f",
   "metadata": {},
   "outputs": [
    {
     "name": "stdout",
     "output_type": "stream",
     "text": [
      "List of number is:10 20 30 40 50\n",
      "Enter the number:20\n",
      "Index of 20 is: 1\n"
     ]
    }
   ],
   "source": [
    "l=map(int,input(\"List of number is:\").split())\n",
    "t=tuple(l)\n",
    "n=int(input(\"Enter the number:\"))\n",
    "if n in t:\n",
    "    print(\"Index of {} is:\".format(n),t.index(n))\n",
    "else:\n",
    "    print(\"{} not in {}\".format(n,t))"
   ]
  },
  {
   "cell_type": "markdown",
   "id": "9373999a",
   "metadata": {},
   "source": [
    "## Create a list of 10 random numbers and then print the list, sum of all numbers and average. Use a for loop. Also print elements at only even indexes in the list."
   ]
  },
  {
   "cell_type": "code",
   "execution_count": 40,
   "id": "96e7d936",
   "metadata": {},
   "outputs": [
    {
     "name": "stdout",
     "output_type": "stream",
     "text": [
      "List of Random Numbers: [93, 89, 39, 47, 57, 35, 99, 96, 17, 69]\n",
      "Sum of all the numbers and Average: 641 64.1\n",
      "Values of Even index position\n",
      "0 : 93\n",
      "2 : 39\n",
      "4 : 57\n",
      "6 : 99\n",
      "8 : 17\n"
     ]
    }
   ],
   "source": [
    "from random import randint as ri\n",
    "l=[]\n",
    "s=0\n",
    "for i in range(10):\n",
    "    l.append(ri(1,100))\n",
    "print(\"List of Random Numbers:\",l)\n",
    "print(\"Sum of all the numbers and Average:\",sum(l),sum(l)/10)\n",
    "print(\"Values of Even index position\")\n",
    "for i in range(0,10,2):\n",
    "    print(l.index(l[i]),\":\",l[i]) #when two random numbers are same and falls under even index,it gives index of first one for both."
   ]
  },
  {
   "cell_type": "markdown",
   "id": "7a1978f9",
   "metadata": {},
   "source": [
    "## WAP to input 10 numbers repeatedly (using range based for loop) and store them in a list. Print the list and sum of numbers in the list."
   ]
  },
  {
   "cell_type": "code",
   "execution_count": 41,
   "id": "52826145",
   "metadata": {},
   "outputs": [
    {
     "name": "stdout",
     "output_type": "stream",
     "text": [
      "10\n",
      "20\n",
      "30\n",
      "40\n",
      "50\n",
      "60\n",
      "70\n",
      "80\n",
      "90\n",
      "100\n",
      "List is: [10, 20, 30, 40, 50, 60, 70, 80, 90, 100]\n",
      "Sum of numbers in the list: 550\n"
     ]
    }
   ],
   "source": [
    "l=[]\n",
    "for i in range(10):\n",
    "    n=int(input())\n",
    "    l.append(n)\n",
    "print(\"List is:\",l)\n",
    "print(\"Sum of numbers in the list:\",sum(l))\n",
    "    "
   ]
  },
  {
   "cell_type": "markdown",
   "id": "2279fe06",
   "metadata": {},
   "source": [
    "## WAP to input a number and print its table."
   ]
  },
  {
   "cell_type": "code",
   "execution_count": 52,
   "id": "7e9c825b",
   "metadata": {},
   "outputs": [
    {
     "name": "stdout",
     "output_type": "stream",
     "text": [
      "10\n",
      "1 x 10 = 10\n",
      "2 x 10 = 20\n",
      "3 x 10 = 30\n",
      "4 x 10 = 40\n",
      "5 x 10 = 50\n",
      "6 x 10 = 60\n",
      "7 x 10 = 70\n",
      "8 x 10 = 80\n",
      "9 x 10 = 90\n",
      "10 x 10 = 100\n"
     ]
    }
   ],
   "source": [
    "n=int(input())\n",
    "for i in range(1,11):\n",
    "    print(\"{} x {} = {}\".format(i,n,i*n))\n",
    "    "
   ]
  },
  {
   "cell_type": "markdown",
   "id": "d77a319c",
   "metadata": {},
   "source": [
    "## WAP to print total number of spaces in a string (Use for loop to iterate over the string. Don’t use count function)."
   ]
  },
  {
   "cell_type": "code",
   "execution_count": 53,
   "id": "e611c796",
   "metadata": {},
   "outputs": [
    {
     "name": "stdout",
     "output_type": "stream",
     "text": [
      "Harini S R\n",
      "Count of number of spaces: 2\n"
     ]
    }
   ],
   "source": [
    "s=input()\n",
    "c=0\n",
    "for i in s:\n",
    "    if(i==\" \"):\n",
    "        c=c+1\n",
    "print(\"Count of number of spaces:\",c)\n"
   ]
  },
  {
   "cell_type": "markdown",
   "id": "980e06e3",
   "metadata": {},
   "source": [
    "## WAP to input a string and count number of vowels in the string. [Note: it should work for both capital and small alphabets]"
   ]
  },
  {
   "cell_type": "code",
   "execution_count": 54,
   "id": "42444233",
   "metadata": {},
   "outputs": [
    {
     "name": "stdout",
     "output_type": "stream",
     "text": [
      "HarinI S R\n",
      "Number of vowels in the String: 3\n"
     ]
    }
   ],
   "source": [
    "s=input()\n",
    "st=s.lower()\n",
    "v=['a','e','i','o','u']\n",
    "c=0\n",
    "for i in st:\n",
    "    if i in v:\n",
    "        c=c+1\n",
    "print(\"Number of vowels in the String:\",c)"
   ]
  },
  {
   "cell_type": "markdown",
   "id": "fd7bb637",
   "metadata": {},
   "source": [
    "## WAP to input a string and replace all vowels with ‘_’.[Hint: Convert string to list. Remember!! Strings are immutable. Replace in the list and then join]"
   ]
  },
  {
   "cell_type": "code",
   "execution_count": 62,
   "id": "f6e23d59",
   "metadata": {},
   "outputs": [
    {
     "name": "stdout",
     "output_type": "stream",
     "text": [
      "Harini S R\n",
      "H_r_n_ S R"
     ]
    }
   ],
   "source": [
    "s=input()\n",
    "st=list(s)\n",
    "v=['a','e','i','o','u','A','E','I','O','U']\n",
    "for i in range(len(st)):\n",
    "    if st[i] in v:\n",
    "        st[i]=\"_\"\n",
    "for i in st:\n",
    "    print(i,end='')\n"
   ]
  },
  {
   "cell_type": "markdown",
   "id": "4b5ba97a",
   "metadata": {},
   "source": [
    "## Generate a list of 10 random number(between 10-50) and print the list and sum of all elements.Now take the list and remove the five largest elements from the list and print the list and its sum again."
   ]
  },
  {
   "cell_type": "code",
   "execution_count": 78,
   "id": "15bf360f",
   "metadata": {},
   "outputs": [
    {
     "name": "stdout",
     "output_type": "stream",
     "text": [
      "List:[21, 16, 22, 25, 38, 28, 10, 35, 37, 50],Sum of all elements in the List:282\n",
      "Sorted List: [10, 16, 21, 22, 25] Sum: 188\n"
     ]
    }
   ],
   "source": [
    "from random import randint as ri\n",
    "l=[]\n",
    "for _ in range(10):\n",
    "    l.append(ri(10,50))\n",
    "print(\"List:{},Sum of all elements in the List:{}\".format(l,sum(l)))\n",
    "l.sort()\n",
    "print(\"Sorted List:\",l[:5],\"Sum:\",sum(l[5:]))"
   ]
  },
  {
   "cell_type": "markdown",
   "id": "3d75ffcc",
   "metadata": {},
   "source": [
    "## Find output:"
   ]
  },
  {
   "cell_type": "code",
   "execution_count": 80,
   "id": "02f0bcc5",
   "metadata": {},
   "outputs": [],
   "source": [
    "for num in range(10):\n",
    "    print(\"Num:\",num)\n",
    "    if(num%4==0):\n",
    "        break\n",
    "print(\"Loop Ends\")\n",
    "\n",
    "# Ans:\n",
    "# Num: 0\n",
    "# Loop Ends"
   ]
  },
  {
   "cell_type": "code",
   "execution_count": 81,
   "id": "d885430e",
   "metadata": {},
   "outputs": [
    {
     "name": "stdout",
     "output_type": "stream",
     "text": [
      "Num: 0\n"
     ]
    },
    {
     "ename": "SystemExit",
     "evalue": "",
     "output_type": "error",
     "traceback": [
      "An exception has occurred, use %tb to see the full traceback.\n",
      "\u001b[1;31mSystemExit\u001b[0m\n"
     ]
    },
    {
     "name": "stderr",
     "output_type": "stream",
     "text": [
      "C:\\ProgramData\\Anaconda3\\lib\\site-packages\\IPython\\core\\interactiveshell.py:3445: UserWarning: To exit: use 'exit', 'quit', or Ctrl-D.\n",
      "  warn(\"To exit: use 'exit', 'quit', or Ctrl-D.\", stacklevel=1)\n"
     ]
    }
   ],
   "source": [
    "import sys\n",
    "for num in range(10):\n",
    "    print(\"Num:\",num)\n",
    "    if(num%4==0):\n",
    "        sys.exit()\n",
    "print(\"Loop Ends\")\n"
   ]
  },
  {
   "cell_type": "markdown",
   "id": "f5f1a1c2",
   "metadata": {},
   "source": [
    "## Find the output of the following code snippets."
   ]
  },
  {
   "cell_type": "code",
   "execution_count": 84,
   "id": "c440d786",
   "metadata": {},
   "outputs": [
    {
     "ename": "SyntaxError",
     "evalue": "expression cannot contain assignment, perhaps you meant \"==\"? (<ipython-input-84-27a5617f565f>, line 3)",
     "output_type": "error",
     "traceback": [
      "\u001b[1;36m  File \u001b[1;32m\"<ipython-input-84-27a5617f565f>\"\u001b[1;36m, line \u001b[1;32m3\u001b[0m\n\u001b[1;33m    print('*'.end='')\u001b[0m\n\u001b[1;37m          ^\u001b[0m\n\u001b[1;31mSyntaxError\u001b[0m\u001b[1;31m:\u001b[0m expression cannot contain assignment, perhaps you meant \"==\"?\n"
     ]
    }
   ],
   "source": [
    "for i1 in range(1,6):\n",
    "    for i2 in range(5):\n",
    "        print('*'.end='')\n",
    "    print()\n",
    "    "
   ]
  },
  {
   "cell_type": "code",
   "execution_count": 85,
   "id": "d542be8e",
   "metadata": {},
   "outputs": [
    {
     "name": "stdout",
     "output_type": "stream",
     "text": [
      "*\n",
      "**\n",
      "***\n",
      "****\n",
      "*****\n"
     ]
    }
   ],
   "source": [
    "for i1 in range(1,6):\n",
    "    for i2 in range(i1):\n",
    "        print('*',end='')\n",
    "    print()"
   ]
  },
  {
   "cell_type": "code",
   "execution_count": 86,
   "id": "72d8ea94",
   "metadata": {},
   "outputs": [
    {
     "name": "stdout",
     "output_type": "stream",
     "text": [
      "1\n",
      "22\n",
      "333\n",
      "4444\n",
      "55555\n"
     ]
    }
   ],
   "source": [
    "for i1 in range(1,6):\n",
    "    print(str(i1)*i1)"
   ]
  },
  {
   "cell_type": "code",
   "execution_count": 89,
   "id": "8404e37b",
   "metadata": {},
   "outputs": [
    {
     "ename": "SyntaxError",
     "evalue": "expression cannot contain assignment, perhaps you meant \"==\"? (<ipython-input-89-d8a583e32759>, line 3)",
     "output_type": "error",
     "traceback": [
      "\u001b[1;36m  File \u001b[1;32m\"<ipython-input-89-d8a583e32759>\"\u001b[1;36m, line \u001b[1;32m3\u001b[0m\n\u001b[1;33m    print('*'.end='')\u001b[0m\n\u001b[1;37m          ^\u001b[0m\n\u001b[1;31mSyntaxError\u001b[0m\u001b[1;31m:\u001b[0m expression cannot contain assignment, perhaps you meant \"==\"?\n"
     ]
    }
   ],
   "source": [
    "for i1 in range(1,6):\n",
    "    for i2 in range(i1+1):\n",
    "        print('*'.end='')\n",
    "    print()"
   ]
  },
  {
   "cell_type": "code",
   "execution_count": null,
   "id": "2a697ae8",
   "metadata": {},
   "outputs": [],
   "source": []
  }
 ],
 "metadata": {
  "kernelspec": {
   "display_name": "Python 3",
   "language": "python",
   "name": "python3"
  },
  "language_info": {
   "codemirror_mode": {
    "name": "ipython",
    "version": 3
   },
   "file_extension": ".py",
   "mimetype": "text/x-python",
   "name": "python",
   "nbconvert_exporter": "python",
   "pygments_lexer": "ipython3",
   "version": "3.8.8"
  }
 },
 "nbformat": 4,
 "nbformat_minor": 5
}
