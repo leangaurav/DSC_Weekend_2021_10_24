{
 "cells": [
  {
   "cell_type": "markdown",
   "id": "332481f3",
   "metadata": {},
   "source": [
    "## WAP to print first n natural numbers (input n from user)."
   ]
  },
  {
   "cell_type": "code",
   "execution_count": 9,
   "id": "f226eccf",
   "metadata": {},
   "outputs": [
    {
     "name": "stdout",
     "output_type": "stream",
     "text": [
      "Enter n:10\n",
      "1 2 3 4 5 6 7 8 9 10 "
     ]
    }
   ],
   "source": [
    "n=int(input(\"Enter n:\"))\n",
    "for _ in range(1,n+1):\n",
    "    print(_,end=\" \")\n",
    "    "
   ]
  },
  {
   "cell_type": "markdown",
   "id": "6b968e54",
   "metadata": {},
   "source": [
    "## WAP to find sum of first n natural numbers"
   ]
  },
  {
   "cell_type": "code",
   "execution_count": 10,
   "id": "9b1d72d6",
   "metadata": {},
   "outputs": [
    {
     "name": "stdout",
     "output_type": "stream",
     "text": [
      "Enter n:10\n",
      "Sum of first n natural numbers: 55\n"
     ]
    }
   ],
   "source": [
    "n=int(input(\"Enter n:\"))\n",
    "s=0\n",
    "for _ in range(1,n+1):\n",
    "    s=s+_\n",
    "print(\"Sum of first n natural numbers: {}\".format(s))"
   ]
  },
  {
   "cell_type": "markdown",
   "id": "329362e4",
   "metadata": {},
   "source": [
    "## WAP to print first n natural numbers in reverse order."
   ]
  },
  {
   "cell_type": "code",
   "execution_count": 15,
   "id": "5aa7ac2a",
   "metadata": {},
   "outputs": [
    {
     "name": "stdout",
     "output_type": "stream",
     "text": [
      "Enter n:10\n",
      "10 9 8 7 6 5 4 3 2 1 "
     ]
    }
   ],
   "source": [
    "n=int(input(\"Enter n:\"))\n",
    "for _ in range(n,0,-1):\n",
    "    print(_,end=\" \")"
   ]
  },
  {
   "cell_type": "markdown",
   "id": "02167e09",
   "metadata": {},
   "source": [
    "## WAP to input a number and print its factorial."
   ]
  },
  {
   "cell_type": "code",
   "execution_count": 20,
   "id": "28db47a8",
   "metadata": {},
   "outputs": [
    {
     "name": "stdout",
     "output_type": "stream",
     "text": [
      "Enter n:7\n",
      "7 Factorical is:5040\n"
     ]
    }
   ],
   "source": [
    "n=int(input(\"Enter n:\"))\n",
    "f=1\n",
    "for _ in range(1,n+1):\n",
    "    f=f*_\n",
    "print(\"{} Factorical is:{}\".format(n,f))\n",
    "    "
   ]
  },
  {
   "cell_type": "markdown",
   "id": "88252c05",
   "metadata": {},
   "source": [
    "## WAP to print Fibonacci sequence till n."
   ]
  },
  {
   "cell_type": "code",
   "execution_count": 28,
   "id": "bb645c25",
   "metadata": {},
   "outputs": [
    {
     "name": "stdout",
     "output_type": "stream",
     "text": [
      "Enter n:10\n",
      "Fibonacci sequence:\n",
      "0 1 1 2 3 5 8 13 21 34 55 "
     ]
    }
   ],
   "source": [
    "n=int(input(\"Enter n:\"))\n",
    "a=0\n",
    "b=1\n",
    "count=0\n",
    "print(\"Fibonacci sequence:\")\n",
    "while(count<=n):\n",
    "    print(a,end=\" \")\n",
    "    s=a+b\n",
    "    a=b\n",
    "    b=s\n",
    "    count+=1\n",
    "    "
   ]
  },
  {
   "cell_type": "markdown",
   "id": "692e6f22",
   "metadata": {},
   "source": [
    "## WAP to print all digits of a number input from user."
   ]
  },
  {
   "cell_type": "code",
   "execution_count": 31,
   "id": "d5c5f5ce",
   "metadata": {},
   "outputs": [
    {
     "name": "stdout",
     "output_type": "stream",
     "text": [
      "Enter n:123879\n",
      "1 2 3 8 7 9 "
     ]
    }
   ],
   "source": [
    "n=int(input(\"Enter n:\"))\n",
    "n=str(n)\n",
    "for i in n:\n",
    "    print(i,end=\" \")"
   ]
  },
  {
   "cell_type": "markdown",
   "id": "272ae4fe",
   "metadata": {},
   "source": [
    "## WAP to find sum of all digits of a number."
   ]
  },
  {
   "cell_type": "code",
   "execution_count": 33,
   "id": "b5ae4cad",
   "metadata": {},
   "outputs": [
    {
     "name": "stdout",
     "output_type": "stream",
     "text": [
      "Enter n:123456789\n",
      "45\n"
     ]
    }
   ],
   "source": [
    "n=int(input(\"Enter n:\"))\n",
    "n=str(n)\n",
    "s=0\n",
    "for i in n:\n",
    "    s=s+int(i)\n",
    "print(s)"
   ]
  },
  {
   "cell_type": "markdown",
   "id": "5a853c04",
   "metadata": {},
   "source": [
    "## WAP to find sum of following series given n as input from user 1 + 2! + 3! + 4! + 5! + ….n! Where n! denotes the factorial of number n."
   ]
  },
  {
   "cell_type": "code",
   "execution_count": 38,
   "id": "64404a36",
   "metadata": {},
   "outputs": [
    {
     "name": "stdout",
     "output_type": "stream",
     "text": [
      "Enter n:5\n",
      "Sum of series of Factorical of 5 number/s is:153\n"
     ]
    }
   ],
   "source": [
    "n=int(input(\"Enter n:\"))\n",
    "f=1\n",
    "s=0\n",
    "for _ in range(1,n+1):\n",
    "    f=f*_\n",
    "    s=s+f\n",
    "print(\"Sum of series of Factorical of {} number/s is:{}\".format(n,s))\n",
    "    "
   ]
  },
  {
   "cell_type": "markdown",
   "id": "a555d7f7",
   "metadata": {},
   "source": [
    "## WAP to input base and exponent and print result without using inbuilt function pow(use for or while loop)."
   ]
  },
  {
   "cell_type": "code",
   "execution_count": 48,
   "id": "06f1fb4a",
   "metadata": {},
   "outputs": [
    {
     "name": "stdout",
     "output_type": "stream",
     "text": [
      "Enter the Base Value:9\n",
      "Enter the Exponent Value:3\n",
      "9 to the power of 3 is:729\n"
     ]
    }
   ],
   "source": [
    "b=int(input(\"Enter the Base Value:\"))\n",
    "e=int(input(\"Enter the Exponent Value:\"))\n",
    "p=1\n",
    "for _ in range(0,e):\n",
    "    p=b*p\n",
    "print(\"{} to the power of {} is:{}\".format(b,e,p))\n",
    "    "
   ]
  },
  {
   "cell_type": "markdown",
   "id": "e6d81adc",
   "metadata": {},
   "source": [
    "## Print following patterns:"
   ]
  },
  {
   "cell_type": "code",
   "execution_count": 5,
   "id": "02bd69d0",
   "metadata": {},
   "outputs": [
    {
     "name": "stdout",
     "output_type": "stream",
     "text": [
      "*\n",
      "**\n",
      "***\n",
      "****\n",
      "*****\n"
     ]
    }
   ],
   "source": [
    "for i in range(5):\n",
    "    for j in range(i+1):\n",
    "        print('*',end=\"\")\n",
    "    print()"
   ]
  },
  {
   "cell_type": "code",
   "execution_count": 7,
   "id": "90199613",
   "metadata": {},
   "outputs": [
    {
     "name": "stdout",
     "output_type": "stream",
     "text": [
      "*****\n",
      "****\n",
      "***\n",
      "**\n",
      "*\n"
     ]
    }
   ],
   "source": [
    "for i in range(5):\n",
    "    for j in range(5-i):\n",
    "        print('*',end=\"\")\n",
    "    print()"
   ]
  },
  {
   "cell_type": "code",
   "execution_count": 23,
   "id": "f252040c",
   "metadata": {
    "scrolled": true
   },
   "outputs": [
    {
     "name": "stdout",
     "output_type": "stream",
     "text": [
      "     *\n",
      "    **\n",
      "   ***\n",
      "  ****\n",
      " *****\n"
     ]
    }
   ],
   "source": [
    "for i in range(5): \n",
    "    for j in range(i,5): \n",
    "        print(\" \", end='')\n",
    "    for j in range(i+1):\n",
    "        print(\"*\", end='')\n",
    "    print()"
   ]
  },
  {
   "cell_type": "code",
   "execution_count": null,
   "id": "59de1ea6",
   "metadata": {},
   "outputs": [],
   "source": []
  },
  {
   "cell_type": "code",
   "execution_count": null,
   "id": "7a1a3f22",
   "metadata": {},
   "outputs": [],
   "source": []
  },
  {
   "cell_type": "code",
   "execution_count": null,
   "id": "68fd65cc",
   "metadata": {},
   "outputs": [],
   "source": []
  }
 ],
 "metadata": {
  "kernelspec": {
   "display_name": "Python 3",
   "language": "python",
   "name": "python3"
  },
  "language_info": {
   "codemirror_mode": {
    "name": "ipython",
    "version": 3
   },
   "file_extension": ".py",
   "mimetype": "text/x-python",
   "name": "python",
   "nbconvert_exporter": "python",
   "pygments_lexer": "ipython3",
   "version": "3.8.8"
  }
 },
 "nbformat": 4,
 "nbformat_minor": 5
}
