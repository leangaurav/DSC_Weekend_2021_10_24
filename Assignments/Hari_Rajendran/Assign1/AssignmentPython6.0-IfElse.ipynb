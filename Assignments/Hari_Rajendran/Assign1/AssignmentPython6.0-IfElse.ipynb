{
 "cells": [
  {
   "cell_type": "markdown",
   "id": "70234604",
   "metadata": {},
   "source": [
    "#### WAP to input 2 numbers and check whether the first is divisible by the second and print true or false depending on the divisibility"
   ]
  },
  {
   "cell_type": "code",
   "execution_count": 6,
   "id": "a579f1f6",
   "metadata": {},
   "outputs": [
    {
     "name": "stdout",
     "output_type": "stream",
     "text": [
      "Enter 1st number: 4\n",
      "Enter 2nd number: 2\n",
      "True\n"
     ]
    }
   ],
   "source": [
    "n1 = int(input(\"Enter 1st number: \"))\n",
    "n2 = int(input(\"Enter 2nd number: \"))\n",
    "n3 = n1%n2\n",
    "if n3 == 0:\n",
    "    print(\"True\")\n",
    "else:\n",
    "    print(\"False\")"
   ]
  },
  {
   "cell_type": "markdown",
   "id": "b4b496dc",
   "metadata": {},
   "source": [
    "#### In the palindrome example, make the code case insensitive. \n",
    " i.e. Naman should also be treated as a palindrome (HINT: first convert to either upper or \n",
    "lower case). \n"
   ]
  },
  {
   "cell_type": "code",
   "execution_count": 10,
   "id": "f3260517",
   "metadata": {},
   "outputs": [
    {
     "name": "stdout",
     "output_type": "stream",
     "text": [
      "True\n"
     ]
    }
   ],
   "source": [
    "p = \"AbCbA\"\n",
    "q = p.upper()\n",
    "q1 = q[::-1]\n",
    "\n",
    "if q ==q1:\n",
    "    print(\"True\")\n",
    "else:\n",
    "    print(\"False\")\n"
   ]
  },
  {
   "cell_type": "markdown",
   "id": "b68022c8",
   "metadata": {},
   "source": [
    "#### WAP to input the sides of a triangle and print whether equilateral(all sides equal), isosceles (2 sides equal), or scalene (no sides equal). "
   ]
  },
  {
   "cell_type": "code",
   "execution_count": 15,
   "id": "730e80fb",
   "metadata": {},
   "outputs": [
    {
     "name": "stdout",
     "output_type": "stream",
     "text": [
      "Enter length of 1st side of a triange: 1\n",
      "Enter length of 2nd side of a triange: 2\n",
      "Enter length of 3rd side of a triange: 3\n",
      "Scalene triangle\n"
     ]
    }
   ],
   "source": [
    "ts = int(input(\"Enter length of 1st side of a triange: \"))\n",
    "ts1 = int(input(\"Enter length of 2nd side of a triange: \"))\n",
    "ts2 = int(input(\"Enter length of 3rd side of a triange: \"))\n",
    "\n",
    "if ts == ts1 and ts1 == ts2 and ts2 == ts:\n",
    "    print(\"Equilateral triangle\")\n",
    "elif ts == ts1 or ts1 == ts2 or ts2 == ts:\n",
    "    print(\"Isosceles triangle\")\n",
    "else:\n",
    "    print(\"Scalene triangle\")\n",
    "    "
   ]
  },
  {
   "cell_type": "markdown",
   "id": "69fd7835",
   "metadata": {},
   "source": [
    "#### WAP to input a number and print if it is even or odd. "
   ]
  },
  {
   "cell_type": "code",
   "execution_count": 19,
   "id": "a8341ad2",
   "metadata": {},
   "outputs": [
    {
     "name": "stdout",
     "output_type": "stream",
     "text": [
      "Enter a number: 3\n",
      "False\n"
     ]
    }
   ],
   "source": [
    "num = int(input(\"Enter a number: \"))\n",
    "if num%2 == 0:\n",
    "    print(\"True\")\n",
    "else:\n",
    "    print(\"False\")"
   ]
  },
  {
   "cell_type": "markdown",
   "id": "5c9531ff",
   "metadata": {},
   "source": [
    "####  WAP to input age and print the respective text depending on the age ranges as present in the table. \n"
   ]
  },
  {
   "cell_type": "code",
   "execution_count": 28,
   "id": "038bb4c8",
   "metadata": {},
   "outputs": [
    {
     "name": "stdout",
     "output_type": "stream",
     "text": [
      "Enter age: 100\n",
      "Senior Citizen\n"
     ]
    }
   ],
   "source": [
    "age = int(input(\"Enter age: \"))\n",
    "if age >=0 and age <= 12:\n",
    "    print(\"Child\")\n",
    "elif age >=13 and age <= 17:\n",
    "    print(\"Teen\")\n",
    "elif age >=18 and age <= 50:\n",
    "    print(\"Adult\")\n",
    "elif age >=51 and age <= 100:\n",
    "    print(\"Senior Citizen\")\n",
    "else:\n",
    "    print(\"Congratulations\")"
   ]
  },
  {
   "cell_type": "markdown",
   "id": "cd4487ed",
   "metadata": {},
   "source": [
    "#### WAP to input year (check if user enters valid year. Should be 4-digit number and should not be negative) and print whether leap year or not. (If really interested in why you also have to check the divisibility by 400 just google the exact time it takes for the earth to revolve around the sub) "
   ]
  },
  {
   "cell_type": "code",
   "execution_count": 18,
   "id": "9b92b0cb",
   "metadata": {},
   "outputs": [
    {
     "name": "stdout",
     "output_type": "stream",
     "text": [
      "Enter a year: -201\n",
      "-201 is negative\n"
     ]
    }
   ],
   "source": [
    "year = input(\"Enter a year: \")\n",
    "year_len = len(year)\n",
    "if year_len ==4:\n",
    "    if int(year) > 0:\n",
    "        if year.isdigit():\n",
    "            if int(year)%4 == 0:\n",
    "                print (year, \"is a leap year\")\n",
    "            else:\n",
    "                print (year, \"is not a leap year\")\n",
    "        else:\n",
    "            print(year,\"is not a digit\")\n",
    "    else:\n",
    "        print(year,\"is negative\")\n",
    "else:\n",
    "    print(year, \"is not 4 digit\")"
   ]
  },
  {
   "cell_type": "markdown",
   "id": "9bd475b4",
   "metadata": {},
   "source": [
    "#### WAP to input a string and convert it to Upper Case if number of characters is odd and convert to lower case otherwise. "
   ]
  },
  {
   "cell_type": "code",
   "execution_count": 21,
   "id": "f7fd0263",
   "metadata": {},
   "outputs": [
    {
     "name": "stdout",
     "output_type": "stream",
     "text": [
      "Enter a string: testt\n",
      "TESTT\n"
     ]
    }
   ],
   "source": [
    "a = input(\"Enter a string: \")\n",
    "b = len(a)\n",
    "if b%2==0:\n",
    "    print(a.lower())\n",
    "else:\n",
    "    print(a.upper())"
   ]
  },
  {
   "cell_type": "markdown",
   "id": "13305a54",
   "metadata": {},
   "source": [
    "#### WAP to input a string and print Veg if the string doesn’t contain the word egg. Otherwise print  Non-Veg. As usual eggs can be both big and small."
   ]
  },
  {
   "cell_type": "code",
   "execution_count": 23,
   "id": "ea1bc7ba",
   "metadata": {},
   "outputs": [
    {
     "name": "stdout",
     "output_type": "stream",
     "text": [
      "Enter a string: how was the egg day\n",
      "Non-Veg\n"
     ]
    }
   ],
   "source": [
    "a = input(\"Enter a string: \")\n",
    "b = a.upper()\n",
    "if \"EGG\" in b:\n",
    "    print(\"Non-Veg\")\n",
    "else:\n",
    "    print(\"Veg\")\n",
    "    "
   ]
  },
  {
   "cell_type": "markdown",
   "id": "c0d85d1b",
   "metadata": {},
   "source": [
    "#### Give output of"
   ]
  },
  {
   "cell_type": "code",
   "execution_count": 25,
   "id": "9a464892",
   "metadata": {},
   "outputs": [
    {
     "name": "stdout",
     "output_type": "stream",
     "text": [
      "True\n"
     ]
    }
   ],
   "source": [
    "if not 1:\n",
    "    print(\"False\")\n",
    "else:\n",
    "    print(\"True\")"
   ]
  },
  {
   "cell_type": "code",
   "execution_count": 26,
   "id": "55d77c99",
   "metadata": {},
   "outputs": [
    {
     "name": "stdout",
     "output_type": "stream",
     "text": [
      "True\n"
     ]
    }
   ],
   "source": [
    "if 1:\n",
    "    print(\"True\")\n",
    "else:\n",
    "    print(\"False\")"
   ]
  },
  {
   "cell_type": "code",
   "execution_count": 27,
   "id": "731a9b8c",
   "metadata": {},
   "outputs": [
    {
     "name": "stdout",
     "output_type": "stream",
     "text": [
      "Weird !!\n"
     ]
    }
   ],
   "source": [
    "if 'a' >'A':\n",
    "    print('Weird !!')\n",
    "else:\n",
    "    print('Makes Sense')\n",
    "# Weird !!"
   ]
  },
  {
   "cell_type": "code",
   "execution_count": 30,
   "id": "f0dee857",
   "metadata": {},
   "outputs": [
    {
     "name": "stdout",
     "output_type": "stream",
     "text": [
      "[4, 3, 2, 1]\n"
     ]
    }
   ],
   "source": [
    "a = [1,2,3,4]\n",
    "if 1 > 1:\n",
    "    a = a[::-1]\n",
    "else:\n",
    "    a = a[-1::-1]\n",
    "print(a)"
   ]
  },
  {
   "cell_type": "markdown",
   "id": "e1791f77",
   "metadata": {},
   "source": [
    "#### WAP to input marks in 5 subjects and print the grade as per following logic: "
   ]
  },
  {
   "cell_type": "code",
   "execution_count": 35,
   "id": "741fc51a",
   "metadata": {},
   "outputs": [
    {
     "name": "stdout",
     "output_type": "stream",
     "text": [
      "Grade C\n"
     ]
    }
   ],
   "source": [
    "s1 = int(input(\"Enter sub1 mark: \"))\n",
    "s2 = int(input(\"Enter sub2 mark: \"))\n",
    "s3 = int(input(\"Enter sub3 mark: \"))\n",
    "s4 = int(input(\"Enter sub4 mark: \"))\n",
    "s5 = int(input(\"Enter sub5 mark: \"))\n",
    "avg = ((s1+s2+s3+s4+s5)/5)\n",
    "if avg >=90 and avg <=100:\n",
    "    print(\"Grade A\")\n",
    "elif avg >=80 and avg <=89:\n",
    "    print(\"Grade B\")\n",
    "elif avg >=60 and avg <=79:\n",
    "    print(\"Grade C\")\n",
    "else:\n",
    "    print(\"Grade F\")"
   ]
  },
  {
   "cell_type": "code",
   "execution_count": 39,
   "id": "65e5e3d0",
   "metadata": {},
   "outputs": [
    {
     "name": "stdout",
     "output_type": "stream",
     "text": [
      "Tax is 7500.8\n"
     ]
    }
   ],
   "source": [
    "age = int(input(\"Enter age: \"))\n",
    "sal = int(input(\"Enter salary: \"))\n",
    "if age < 60:\n",
    "    if sal<=250000:\n",
    "        print(\"0 tax\")\n",
    "    elif sal >=250001 and sal <=500000:\n",
    "        a = sal - 250000\n",
    "        print(\"Tax is\",a*.05)\n",
    "    elif sal >=500001 and sal <=1000000:\n",
    "        a = sal - 500000\n",
    "        print(\"Tax is\",(a*.10)+12500)\n",
    "    else:\n",
    "        a = sal - 1000000\n",
    "        print(\"Tax is\",(a*.15)+62500)\n",
    "else:\n",
    "    if sal<=250000:\n",
    "        print(\"0 tax\")\n",
    "    elif sal >=250001 and sal <=500000:\n",
    "        a = sal - 250000\n",
    "        print(\"Tax is\",a*.03)\n",
    "    elif sal >=500001 and sal <=1000000:\n",
    "        a = sal - 500000\n",
    "        print(\"Tax is\",(a*.08)+7500)\n",
    "    else:\n",
    "        a = sal - 1000000\n",
    "        print(\"Tax is\",(a*.12)+47500)\n",
    "        \n"
   ]
  },
  {
   "cell_type": "markdown",
   "id": "54e8fc4b",
   "metadata": {},
   "source": [
    "#### Try each of the below statements separately (remember difference between statement and expression) on the python interpreter and guess the output before trying: \n"
   ]
  },
  {
   "cell_type": "code",
   "execution_count": 46,
   "id": "ae8ce936",
   "metadata": {},
   "outputs": [
    {
     "name": "stdout",
     "output_type": "stream",
     "text": [
      "10\n",
      "10\n",
      "10\n",
      "OMG\n"
     ]
    }
   ],
   "source": [
    "print(20 if not 1==1 else 10) # 20\n",
    "print(30 if not 1==1 else 20 if 'a' <'A' else 10) # 20\n",
    "print(40 if not 1==1 else 30 if 'a' <'A' else 20 if '' else 10)#10\n",
    "print('No' if not 1==1 else ('No' if 'a' < 'A' else ('OMG' if 'oh!!' else 'No')))"
   ]
  },
  {
   "cell_type": "markdown",
   "id": "ecd1ccbd",
   "metadata": {},
   "source": [
    "#### WAF: bmi() that takes the weight in kg and height in cm of a person, calculates and returns the \n",
    "BMI. \n",
    "Write code that calls this function after taking height and weight as inputs and then prints \n",
    "underweight, normal, overweight or obese depending on the value of BMI. \n",
    "Refer this link for the ranges: \n",
    " https://en.wikipedia.org/wiki/Body_mass_index"
   ]
  },
  {
   "cell_type": "code",
   "execution_count": null,
   "id": "1ac16968",
   "metadata": {},
   "outputs": [],
   "source": []
  },
  {
   "cell_type": "markdown",
   "id": "f49ab8ba",
   "metadata": {},
   "source": [
    "#### Take input of age of 3 people by user and determine oldest and youngest among them"
   ]
  },
  {
   "cell_type": "code",
   "execution_count": 54,
   "id": "5b6eae65",
   "metadata": {},
   "outputs": [
    {
     "name": "stdout",
     "output_type": "stream",
     "text": [
      "Enter 1st age: 13\n",
      "Enter 2nd age: 14\n",
      "Enter 3rd age: 12\n",
      "14 is oldest\n",
      "12 is youngest\n"
     ]
    }
   ],
   "source": [
    "age1 = int(input(\"Enter 1st age: \"))\n",
    "age2 = int(input(\"Enter 2nd age: \"))\n",
    "age3 = int(input(\"Enter 3rd age: \"))\n",
    "if age1>age2 and age1>age3:\n",
    "    print(age1, \"is oldest\")\n",
    "    if age2>age3:\n",
    "        print(age3, 'is youngest')\n",
    "    else:\n",
    "        print(age2, 'is youngest')\n",
    "elif age2>age3 and age2>age1:\n",
    "    print(age2, \"is oldest\")\n",
    "    if age3>age1:\n",
    "        print(age1, 'is youngest')\n",
    "    else:\n",
    "        print(age3,'is youngest')\n",
    "elif age3>age2 and age3>age1:\n",
    "    print(age3, \"is oldest\")\n",
    "    if age2>age1:\n",
    "        print(age1, 'is youngest')\n",
    "    else:\n",
    "        print(age2,'is youngest')    "
   ]
  },
  {
   "cell_type": "markdown",
   "id": "9c97cbff",
   "metadata": {},
   "source": [
    "#### WAP to input a number and check if number is divisible by both 5 and 7."
   ]
  },
  {
   "cell_type": "code",
   "execution_count": 56,
   "id": "cffab191",
   "metadata": {},
   "outputs": [
    {
     "name": "stdout",
     "output_type": "stream",
     "text": [
      "Enter a number: 42\n",
      "42 is not divisible by 5 and/or 7\n"
     ]
    }
   ],
   "source": [
    "a = int(input(\"Enter a number: \"))\n",
    "if a%5==0 and a%7==0:\n",
    "    print(a, \"is divisible by both 5 and 7\")\n",
    "else:\n",
    "    print(a, \"is not divisible by 5 and/or 7\")"
   ]
  },
  {
   "cell_type": "code",
   "execution_count": null,
   "id": "830969c1",
   "metadata": {},
   "outputs": [],
   "source": []
  }
 ],
 "metadata": {
  "kernelspec": {
   "display_name": "Python 3",
   "language": "python",
   "name": "python3"
  },
  "language_info": {
   "codemirror_mode": {
    "name": "ipython",
    "version": 3
   },
   "file_extension": ".py",
   "mimetype": "text/x-python",
   "name": "python",
   "nbconvert_exporter": "python",
   "pygments_lexer": "ipython3",
   "version": "3.8.8"
  }
 },
 "nbformat": 4,
 "nbformat_minor": 5
}
