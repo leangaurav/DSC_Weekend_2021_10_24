{
 "cells": [
  {
   "cell_type": "markdown",
   "id": "331afb5c",
   "metadata": {},
   "source": [
    "#### Input temperature in Fahrenheit in print in Celsius. "
   ]
  },
  {
   "cell_type": "code",
   "execution_count": 1,
   "id": "fb2f788a",
   "metadata": {},
   "outputs": [
    {
     "name": "stdout",
     "output_type": "stream",
     "text": [
      "Enter Temprature in Fahrenheit: 98.6\n",
      "98.6 Fahrenheit is,  37.0  Celsius\n"
     ]
    }
   ],
   "source": [
    "F = float(input(\"Enter Temprature in Fahrenheit: \"))\n",
    "C = round(((5/9)*(F-32)),2)\n",
    "print(F, \"Fahrenheit is, \", C, \" Celsius\")"
   ]
  },
  {
   "cell_type": "markdown",
   "id": "b02eec8c",
   "metadata": {},
   "source": [
    "#### Write a program to input a number and print its square and cube"
   ]
  },
  {
   "cell_type": "code",
   "execution_count": 19,
   "id": "94389bcb",
   "metadata": {},
   "outputs": [
    {
     "name": "stdout",
     "output_type": "stream",
     "text": [
      "Enter a number: 2\n",
      "Square of a is 4 Cube of a is 8\n"
     ]
    }
   ],
   "source": [
    "a = int(input(\"Enter a number: \"))\n",
    "print(\"Square of keyed number is\",a ** 2,\"Cube of keyed number is\", pow(a,3))"
   ]
  },
  {
   "cell_type": "markdown",
   "id": "8b5979d9",
   "metadata": {},
   "source": [
    "#### WAP to input a number n and a number m and print the result of following\n",
    "n2 + m2"
   ]
  },
  {
   "cell_type": "code",
   "execution_count": 22,
   "id": "8119911c",
   "metadata": {},
   "outputs": [
    {
     "name": "stdout",
     "output_type": "stream",
     "text": [
      "Enter 1st number: 2\n",
      "Enter 2nd number: 3\n",
      "13\n"
     ]
    }
   ],
   "source": [
    "n = int(input(\"Enter 1st number: \"))\n",
    "m = int(input(\"Enter 2nd number: \"))\n",
    "print(n ** 2 + pow(m,2))"
   ]
  },
  {
   "cell_type": "markdown",
   "id": "ce7586be",
   "metadata": {},
   "source": [
    "#### WAP to input a numbers M and N and print result of MN(use both ** and pow)"
   ]
  },
  {
   "cell_type": "code",
   "execution_count": 28,
   "id": "dfac16a8",
   "metadata": {},
   "outputs": [
    {
     "name": "stdout",
     "output_type": "stream",
     "text": [
      "Enter 1st number: 2\n",
      "Enter 2nd number: 3\n",
      "Exponential is 8 Power is 8\n"
     ]
    }
   ],
   "source": [
    "M = int(input(\"Enter 1st number: \"))\n",
    "N = int(input(\"Enter 2nd number: \"))\n",
    "print(\"Exponential is\",M ** N,\"Power is\", pow(M,N))"
   ]
  },
  {
   "cell_type": "markdown",
   "id": "d8babee5",
   "metadata": {},
   "source": [
    "#### Write a simple interest calculator."
   ]
  },
  {
   "cell_type": "code",
   "execution_count": 17,
   "id": "720da806",
   "metadata": {},
   "outputs": [
    {
     "name": "stdout",
     "output_type": "stream",
     "text": [
      "Simple interest is 5000.0\n",
      "Simple interest with principal at the end of 5th Year is 15000.0\n"
     ]
    }
   ],
   "source": [
    "Prin = 10000\n",
    "interest = 10\n",
    "no_of_years = 5\n",
    "print(\"Simple interest is\", float(Prin*(interest/100)*no_of_years))\n",
    "print(\"Simple interest with principal at the end of 5th Year is\", float(Prin + (Prin*(interest/100)*no_of_years)))"
   ]
  },
  {
   "cell_type": "markdown",
   "id": "6d8e5ef8",
   "metadata": {},
   "source": [
    "#### Input Principal, Rate, Time and print Compound Interest and Amount"
   ]
  },
  {
   "cell_type": "code",
   "execution_count": 27,
   "id": "66025690",
   "metadata": {},
   "outputs": [
    {
     "name": "stdout",
     "output_type": "stream",
     "text": [
      "Enter Principal: 100\n",
      "Enter interest: 5\n",
      "Enter Years to be compounded annually: 2\n",
      "Compound interest is 10.25\n",
      "Compound interest with principal is 110.25\n"
     ]
    }
   ],
   "source": [
    "Prin = float(input(\"Enter Principal: \"))\n",
    "N = float(input(\"Enter interest: \"))\n",
    "no_of_years = float(input(\"Enter Years to be compounded annually: \"))\n",
    "a = float(Prin*((1 + (interest/100))**no_of_years))\n",
    "print(\"Compound interest is\", a - Prin)\n",
    "print(\"Compound interest with principal is\", float(Prin*((1 + (interest/100))**no_of_years)))"
   ]
  },
  {
   "cell_type": "markdown",
   "id": "aff7199d",
   "metadata": {},
   "source": [
    "#### WAP to print sum of first n natural numbers. (n needs to be taken as input)"
   ]
  },
  {
   "cell_type": "code",
   "execution_count": 4,
   "id": "d15a2265",
   "metadata": {},
   "outputs": [
    {
     "name": "stdout",
     "output_type": "stream",
     "text": [
      "Enter a number: 6\n",
      "Sum of first 6 natural number is 21\n"
     ]
    }
   ],
   "source": [
    "nat = int(input(\"Enter a number: \"))\n",
    "print(\"Sum of first\", nat, \"natural number is\", int(((nat*(nat+1))/2)))"
   ]
  },
  {
   "cell_type": "markdown",
   "id": "5041f2aa",
   "metadata": {},
   "source": [
    "#### WAP to input 2 numbers and swap them. (write using both normal logic with temp variable and also the pythonic way). \n"
   ]
  },
  {
   "cell_type": "code",
   "execution_count": 7,
   "id": "4e6b7a03",
   "metadata": {},
   "outputs": [
    {
     "name": "stdout",
     "output_type": "stream",
     "text": [
      "10 5\n",
      "10 5\n"
     ]
    }
   ],
   "source": [
    "x = 5\n",
    "y = 10\n",
    "temp = x\n",
    "x = y\n",
    "y = temp\n",
    "print(x,y)\n",
    "\n",
    "X = 5\n",
    "Y = 10\n",
    "\n",
    "X, Y = Y, X\n",
    "print(X,Y)\n"
   ]
  },
  {
   "cell_type": "markdown",
   "id": "122c1fef",
   "metadata": {},
   "source": [
    "#### WAP to print ascii value of all white-space characters present in python."
   ]
  },
  {
   "cell_type": "code",
   "execution_count": 27,
   "id": "912a2560",
   "metadata": {},
   "outputs": [
    {
     "name": "stdout",
     "output_type": "stream",
     "text": [
      "32 9 10 13 11 12\n"
     ]
    }
   ],
   "source": [
    "import string\n",
    "wht_spc = string.whitespace\n",
    "print(ord(wht_spc[0]),ord(wht_spc[1]),ord(wht_spc[2]),ord(wht_spc[3]),ord(wht_spc[4]),ord(wht_spc[5]))"
   ]
  },
  {
   "cell_type": "markdown",
   "id": "b954c01f",
   "metadata": {},
   "source": [
    "#### Input a single character and print its ascii values. \n"
   ]
  },
  {
   "cell_type": "code",
   "execution_count": 31,
   "id": "f5feb056",
   "metadata": {},
   "outputs": [
    {
     "name": "stdout",
     "output_type": "stream",
     "text": [
      "Enter a character: 2\n",
      "50\n"
     ]
    }
   ],
   "source": [
    "char = input(\"Enter a character: \")\n",
    "print(ord(char))"
   ]
  },
  {
   "cell_type": "markdown",
   "id": "2d88157c",
   "metadata": {},
   "source": [
    "#### WAP that takes area of a circle and gives back the radius and circumference. "
   ]
  },
  {
   "cell_type": "code",
   "execution_count": 35,
   "id": "544f0814",
   "metadata": {},
   "outputs": [
    {
     "name": "stdout",
     "output_type": "stream",
     "text": [
      "Enter area of a circle: 30\n",
      "Circumference of a circle 19.41625912555699 Radius of a circle is 3.0901936161855166\n"
     ]
    }
   ],
   "source": [
    "import math\n",
    "Area = float(input(\"Enter area of a circle: \"))\n",
    "radius = math.sqrt(Area/math.pi)\n",
    "print(\"Circumference of a circle\", 2*math.pi*radius,\"Radius of a circle is\",radius)"
   ]
  },
  {
   "cell_type": "markdown",
   "id": "95afa15f",
   "metadata": {},
   "source": [
    "#### WAP to input marks in 5 subjects out of 100 and print percentage"
   ]
  },
  {
   "cell_type": "code",
   "execution_count": 3,
   "id": "57722980",
   "metadata": {},
   "outputs": [
    {
     "name": "stdout",
     "output_type": "stream",
     "text": [
      "Enter mark of Sub1(out of 100): 100\n",
      "Enter mark of Sub2(out of 100): 100\n",
      "Enter mark of Sub3(out of 100): 100\n",
      "Enter mark of Sub4(out of 100): 100\n",
      "Enter mark of Sub5(out of 100): 100\n",
      "Percentage is 100\n"
     ]
    }
   ],
   "source": [
    "Sub1 = int(input(\"Enter mark of Sub1(out of 100): \"))\n",
    "Sub2 = int(input(\"Enter mark of Sub2(out of 100): \"))\n",
    "Sub3 = int(input(\"Enter mark of Sub3(out of 100): \"))\n",
    "Sub4 = int(input(\"Enter mark of Sub4(out of 100): \"))\n",
    "Sub5 = int(input(\"Enter mark of Sub5(out of 100): \"))\n",
    "print(\"Percentage is\", int(((Sub1 +Sub2+Sub3+Sub4+Sub5)/5)))"
   ]
  },
  {
   "cell_type": "code",
   "execution_count": null,
   "id": "487de35f",
   "metadata": {},
   "outputs": [],
   "source": []
  }
 ],
 "metadata": {
  "kernelspec": {
   "display_name": "Python 3",
   "language": "python",
   "name": "python3"
  },
  "language_info": {
   "codemirror_mode": {
    "name": "ipython",
    "version": 3
   },
   "file_extension": ".py",
   "mimetype": "text/x-python",
   "name": "python",
   "nbconvert_exporter": "python",
   "pygments_lexer": "ipython3",
   "version": "3.8.8"
  }
 },
 "nbformat": 4,
 "nbformat_minor": 5
}
