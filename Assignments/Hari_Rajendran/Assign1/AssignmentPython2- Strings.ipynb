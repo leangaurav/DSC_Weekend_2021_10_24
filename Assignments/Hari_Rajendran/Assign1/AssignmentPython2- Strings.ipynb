{
 "cells": [
  {
   "cell_type": "markdown",
   "id": "c05b1405",
   "metadata": {},
   "source": [
    "#### Guess output of each slice:"
   ]
  },
  {
   "cell_type": "code",
   "execution_count": 3,
   "id": "c14eb7b5",
   "metadata": {},
   "outputs": [
    {
     "name": "stdout",
     "output_type": "stream",
     "text": [
      "d detneirO tcejbO si nohtyP Python is Object Oriente  on is \n"
     ]
    }
   ],
   "source": [
    "s ='Python is Object Oriented'\n",
    "print(s[-1],s[::-1],s[:-1],s[1:1],s[4:10]) # 'd, 'eniOteb inhy','','','on is '"
   ]
  },
  {
   "cell_type": "markdown",
   "id": "2c79e66d",
   "metadata": {},
   "source": [
    "#### What error do you see for following statements:\n",
    " s= ‘’\n",
    " print(s[1]) \n",
    "\n",
    "#### Index out of range"
   ]
  },
  {
   "cell_type": "markdown",
   "id": "5f901b80",
   "metadata": {},
   "source": [
    "#### S=‘Gaurav’\n",
    " print(s[1]) \n",
    "\n",
    "#### Name s is not defined"
   ]
  },
  {
   "cell_type": "markdown",
   "id": "6ccf709d",
   "metadata": {},
   "source": [
    "#### Find output of the following"
   ]
  },
  {
   "cell_type": "code",
   "execution_count": 7,
   "id": "53563198",
   "metadata": {},
   "outputs": [
    {
     "name": "stdout",
     "output_type": "stream",
     "text": [
      "6\n",
      "abc\n",
      "3\n"
     ]
    }
   ],
   "source": [
    "s_1 = 'a b cd'\n",
    "print(len(s_1)) # 6\n",
    "print(s_1[::2]) # abc\n",
    "print(len(s_1[::2])) #3"
   ]
  },
  {
   "cell_type": "code",
   "execution_count": 13,
   "id": "a90fb53d",
   "metadata": {},
   "outputs": [
    {
     "name": "stdout",
     "output_type": "stream",
     "text": [
      "['a#b#c#d#']\n",
      "['a', 'b', 'c', 'd', '']\n",
      "a$b$c$d$ ['a', 'b', 'c', 'd', '']\n"
     ]
    }
   ],
   "source": [
    "s_2='a#b#c#d#'\n",
    "print(s_2.split())\n",
    "print(s_2.split('#'))\n",
    "l=s_2.split('#')\n",
    "s_2='$'.join(l)\n",
    "print(s_2,l)"
   ]
  },
  {
   "cell_type": "code",
   "execution_count": 15,
   "id": "fcc0b570",
   "metadata": {},
   "outputs": [
    {
     "name": "stdout",
     "output_type": "stream",
     "text": [
      "av\n"
     ]
    }
   ],
   "source": [
    "S_1='Gaurav'\n",
    "S_1=S_1[::-2][::-2]\n",
    "print(S_1) \n"
   ]
  },
  {
   "cell_type": "code",
   "execution_count": 16,
   "id": "df481b74",
   "metadata": {},
   "outputs": [
    {
     "name": "stdout",
     "output_type": "stream",
     "text": [
      "False\n"
     ]
    }
   ],
   "source": [
    "print(1>2)"
   ]
  },
  {
   "cell_type": "code",
   "execution_count": 18,
   "id": "c1b274b8",
   "metadata": {},
   "outputs": [
    {
     "name": "stdout",
     "output_type": "stream",
     "text": [
      "0, 1, 2\n"
     ]
    }
   ],
   "source": [
    "print(4%2, 5%2, 2%5, sep=', ')"
   ]
  },
  {
   "cell_type": "code",
   "execution_count": 21,
   "id": "ed8e398b",
   "metadata": {},
   "outputs": [
    {
     "name": "stdout",
     "output_type": "stream",
     "text": [
      "abcba\n",
      "0 ,0 ,0 ,"
     ]
    }
   ],
   "source": [
    "s_3='abcba'\n",
    "s_3.upper()\n",
    "print(s_3)\n",
    "print(s_3.count('A'), end = ' ,')\n",
    "print(s_3.count('A', 2,4) , end = ' ,')\n",
    "print(s_3.count('a', 2,4) , end = ' ,') \n"
   ]
  },
  {
   "cell_type": "markdown",
   "id": "4979d61c",
   "metadata": {},
   "source": [
    "#### WAP to input a string and remove all spaces from it"
   ]
  },
  {
   "cell_type": "code",
   "execution_count": 28,
   "id": "ff00d24f",
   "metadata": {},
   "outputs": [
    {
     "name": "stdout",
     "output_type": "stream",
     "text": [
      "Enter a string:    sf fs sfs           \n",
      "sf fs sfs\n"
     ]
    }
   ],
   "source": [
    "import string\n",
    "stg = input(\"Enter a string: \")\n",
    "print(stg.strip())"
   ]
  },
  {
   "cell_type": "markdown",
   "id": "e620a0f3",
   "metadata": {},
   "source": [
    "#### What does this symbol denote:\n",
    "[] \n",
    "#### Square brackets"
   ]
  },
  {
   "cell_type": "markdown",
   "id": "00a691f4",
   "metadata": {},
   "source": [
    "#### WAP to print all methods(functions/operations) available in a string (Hint : dir()) "
   ]
  },
  {
   "cell_type": "code",
   "execution_count": 29,
   "id": "084ab41e",
   "metadata": {},
   "outputs": [
    {
     "name": "stdout",
     "output_type": "stream",
     "text": [
      "['Formatter', 'Template', '_ChainMap', '_TemplateMetaclass', '__all__', '__builtins__', '__cached__', '__doc__', '__file__', '__loader__', '__name__', '__package__', '__spec__', '_re', '_sentinel_dict', '_string', 'ascii_letters', 'ascii_lowercase', 'ascii_uppercase', 'capwords', 'digits', 'hexdigits', 'octdigits', 'printable', 'punctuation', 'whitespace']\n"
     ]
    }
   ],
   "source": [
    "print(dir(string))"
   ]
  },
  {
   "cell_type": "markdown",
   "id": "a95aa598",
   "metadata": {},
   "source": [
    "#### WAP to store the following patterns in a string variable and then print them: "
   ]
  },
  {
   "cell_type": "code",
   "execution_count": 1,
   "id": "b6de3ca7",
   "metadata": {},
   "outputs": [
    {
     "name": "stdout",
     "output_type": "stream",
     "text": [
      "\n",
      "*****  *     *     ______\n",
      "  *    * * * *      |    |\n",
      "  *    *  *  *      o    |\n",
      "  *    *     *     /|\\   |\n",
      "  *                / \\   |\n",
      "                 ________|\n",
      "\n"
     ]
    }
   ],
   "source": [
    "print('''\n",
    "*****  *     *     ______\n",
    "  *    * * * *      |    |\n",
    "  *    *  *  *      o    |\n",
    "  *    *     *     /|\\   |\n",
    "  *                / \\   |\n",
    "                 ________|\n",
    "''')"
   ]
  },
  {
   "cell_type": "markdown",
   "id": "52c6680d",
   "metadata": {},
   "source": [
    "#### WAP to input a string and replace all space with new lines (\\n) and print again."
   ]
  },
  {
   "cell_type": "code",
   "execution_count": 41,
   "id": "284d0409",
   "metadata": {},
   "outputs": [
    {
     "name": "stdout",
     "output_type": "stream",
     "text": [
      "Enter a string: 23 re re re \n",
      "23\n",
      "re\n",
      "re\n",
      "re\n",
      "\n"
     ]
    }
   ],
   "source": [
    "stg_1 = input(\"Enter a string: \")\n",
    "stg_2 = stg_1.replace(\" \",\"\\n\")\n",
    "print(stg_2)"
   ]
  },
  {
   "cell_type": "markdown",
   "id": "4fafbad7",
   "metadata": {},
   "source": [
    "#### WAP to input complete name(first and last name separated by space) and print first and last name separately along with their length in upper case"
   ]
  },
  {
   "cell_type": "code",
   "execution_count": 52,
   "id": "455021c1",
   "metadata": {},
   "outputs": [
    {
     "name": "stdout",
     "output_type": "stream",
     "text": [
      "Enter Full name: hari prasad\n",
      "4 6 ['HARI', 'PRASAD']\n"
     ]
    }
   ],
   "source": [
    "name = input(\"Enter Full name: \")\n",
    "name1 = name.upper().split()\n",
    "print(len(name1[0]), len(name1[1]),name1)"
   ]
  },
  {
   "cell_type": "markdown",
   "id": "c0be235b",
   "metadata": {},
   "source": [
    "#### WAP to input a string and split it into 2 halves. The string can be of any length "
   ]
  },
  {
   "cell_type": "code",
   "execution_count": 71,
   "id": "39d07b28",
   "metadata": {},
   "outputs": [
    {
     "name": "stdout",
     "output_type": "stream",
     "text": [
      "Enter a string: harir\n",
      "ha ir\n"
     ]
    }
   ],
   "source": [
    "import math\n",
    "spl = input(\"Enter a string: \")\n",
    "l = len(spl)//2\n",
    "m = math.ceil(len(spl)/2)\n",
    "print(spl[0:l],spl[m:(len(spl)+1)])"
   ]
  }
 ],
 "metadata": {
  "kernelspec": {
   "display_name": "Python 3",
   "language": "python",
   "name": "python3"
  },
  "language_info": {
   "codemirror_mode": {
    "name": "ipython",
    "version": 3
   },
   "file_extension": ".py",
   "mimetype": "text/x-python",
   "name": "python",
   "nbconvert_exporter": "python",
   "pygments_lexer": "ipython3",
   "version": "3.8.8"
  }
 },
 "nbformat": 4,
 "nbformat_minor": 5
}
