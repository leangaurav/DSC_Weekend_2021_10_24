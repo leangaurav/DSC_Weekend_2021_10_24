{
 "cells": [
  {
   "cell_type": "markdown",
   "id": "41755639",
   "metadata": {},
   "source": [
    "#### Predict Output: "
   ]
  },
  {
   "cell_type": "code",
   "execution_count": 2,
   "id": "11cefb25",
   "metadata": {},
   "outputs": [
    {
     "name": "stdout",
     "output_type": "stream",
     "text": [
      "6 23\n"
     ]
    }
   ],
   "source": [
    "s1 = 'Gaurav'\n",
    "s2 = 'leangaurav.me@email.com'\n",
    "print(len(s1),len(s2))"
   ]
  },
  {
   "cell_type": "markdown",
   "id": "a07aae28",
   "metadata": {},
   "source": [
    "#### WAP to input a string and print its length."
   ]
  },
  {
   "cell_type": "code",
   "execution_count": 4,
   "id": "6885fad9",
   "metadata": {},
   "outputs": [
    {
     "name": "stdout",
     "output_type": "stream",
     "text": [
      "Enter a string: 1234\n",
      "4\n"
     ]
    }
   ],
   "source": [
    "string = input(\"Enter a string: \")\n",
    "print(len(string))"
   ]
  },
  {
   "cell_type": "markdown",
   "id": "b16ef1f8",
   "metadata": {},
   "source": [
    "#### WAP to input 2 numbers and print their sum and difference."
   ]
  },
  {
   "cell_type": "code",
   "execution_count": 8,
   "id": "c0697621",
   "metadata": {},
   "outputs": [
    {
     "name": "stdout",
     "output_type": "stream",
     "text": [
      "Enter 1st number: 10\n",
      "Enter 2nd number: 5\n",
      "Sum is 15 Difference is 5\n"
     ]
    }
   ],
   "source": [
    "n1 = int(input(\"Enter 1st number: \"))\n",
    "n2 = int(input(\"Enter 2nd number: \"))\n",
    "print(\"Sum is\", n1+n2,\"Difference is\", n1-n2)"
   ]
  },
  {
   "cell_type": "markdown",
   "id": "a95b3827",
   "metadata": {},
   "source": [
    "#### Predict output"
   ]
  },
  {
   "cell_type": "code",
   "execution_count": 10,
   "id": "a765608c",
   "metadata": {},
   "outputs": [
    {
     "name": "stdout",
     "output_type": "stream",
     "text": [
      "abde\n"
     ]
    }
   ],
   "source": [
    "S1 = 'ab'\n",
    "S2 = 'de'\n",
    "S3 = S1 + S2\n",
    "print(S3)"
   ]
  },
  {
   "cell_type": "markdown",
   "id": "cbe8d7e9",
   "metadata": {},
   "source": [
    "#### Predict output"
   ]
  },
  {
   "cell_type": "code",
   "execution_count": 11,
   "id": "3a4933e6",
   "metadata": {},
   "outputs": [
    {
     "name": "stdout",
     "output_type": "stream",
     "text": [
      "abababab\n"
     ]
    }
   ],
   "source": [
    "ss1 = 'ab'*4\n",
    "print(ss1)"
   ]
  },
  {
   "cell_type": "markdown",
   "id": "235a9f31",
   "metadata": {},
   "source": [
    "#### Predict output"
   ]
  },
  {
   "cell_type": "code",
   "execution_count": 13,
   "id": "86dcc0ec",
   "metadata": {},
   "outputs": [
    {
     "name": "stdout",
     "output_type": "stream",
     "text": [
      "ab\n",
      "ab\n",
      "ab\n",
      "ab\n",
      "\n"
     ]
    }
   ],
   "source": [
    "ss2 = 'ab\\n'*4\n",
    "print(ss2)"
   ]
  },
  {
   "cell_type": "markdown",
   "id": "942bcc4e",
   "metadata": {},
   "source": [
    "#### WAP to input a string s and a number n. Print the string n times on the screen, each should appear in a separate line (do not use any kind of loops, use the multiplication operator). \n"
   ]
  },
  {
   "cell_type": "code",
   "execution_count": 38,
   "id": "ce2adbbe",
   "metadata": {},
   "outputs": [
    {
     "name": "stdout",
     "output_type": "stream",
     "text": [
      "Enter a string: q\n",
      "Enter a number: 4\n",
      "q\n",
      "\n",
      "q\n",
      "\n",
      "q\n",
      "\n",
      "q\n",
      "\n",
      "\n"
     ]
    }
   ],
   "source": [
    "stg = input(\"Enter a string: \")\n",
    "num1 = int(input(\"Enter a number: \"))\n",
    "print((stg1 +'\\n') * num1)"
   ]
  },
  {
   "cell_type": "markdown",
   "id": "28cb8945",
   "metadata": {},
   "source": [
    "#### Predit output"
   ]
  },
  {
   "cell_type": "code",
   "execution_count": 19,
   "id": "4e3017de",
   "metadata": {},
   "outputs": [
    {
     "name": "stdout",
     "output_type": "stream",
     "text": [
      "Gaurav\n",
      "None\n"
     ]
    }
   ],
   "source": [
    "res = print('Gaurav')\n",
    "print(res)"
   ]
  },
  {
   "cell_type": "markdown",
   "id": "6aefe22b",
   "metadata": {},
   "source": [
    "#### Predict output"
   ]
  },
  {
   "cell_type": "code",
   "execution_count": 20,
   "id": "bc817c5c",
   "metadata": {},
   "outputs": [
    {
     "name": "stdout",
     "output_type": "stream",
     "text": [
      "<class 'int'>\n"
     ]
    }
   ],
   "source": [
    "res1 = len('leangaurav.me@email.com')\n",
    "print(type(res1))"
   ]
  },
  {
   "cell_type": "markdown",
   "id": "04a02fba",
   "metadata": {},
   "source": [
    "#### Predict output"
   ]
  },
  {
   "cell_type": "code",
   "execution_count": 21,
   "id": "457ef8e3",
   "metadata": {},
   "outputs": [
    {
     "name": "stdout",
     "output_type": "stream",
     "text": [
      "<class 'str'> 30 Gaurav\n",
      "leangaurav.me@email.com\n"
     ]
    }
   ],
   "source": [
    "s_1 = 'Gaurav'\n",
    "s_2 = 'leangaurav.me@email.com'\n",
    "s_3 = s1 + '\\n' + s2\n",
    "print (type(s_3), len(s_3), s_3)"
   ]
  },
  {
   "cell_type": "markdown",
   "id": "ddb36b1d",
   "metadata": {},
   "source": [
    "#### Find the name of function to find the square root. (see all the options available in dir() of math)"
   ]
  },
  {
   "cell_type": "code",
   "execution_count": 23,
   "id": "cb399875",
   "metadata": {},
   "outputs": [
    {
     "name": "stdout",
     "output_type": "stream",
     "text": [
      "['__doc__', '__loader__', '__name__', '__package__', '__spec__', 'acos', 'acosh', 'asin', 'asinh', 'atan', 'atan2', 'atanh', 'ceil', 'comb', 'copysign', 'cos', 'cosh', 'degrees', 'dist', 'e', 'erf', 'erfc', 'exp', 'expm1', 'fabs', 'factorial', 'floor', 'fmod', 'frexp', 'fsum', 'gamma', 'gcd', 'hypot', 'inf', 'isclose', 'isfinite', 'isinf', 'isnan', 'isqrt', 'ldexp', 'lgamma', 'log', 'log10', 'log1p', 'log2', 'modf', 'nan', 'perm', 'pi', 'pow', 'prod', 'radians', 'remainder', 'sin', 'sinh', 'sqrt', 'tan', 'tanh', 'tau', 'trunc']\n"
     ]
    }
   ],
   "source": [
    "import math\n",
    "print(dir(math))"
   ]
  },
  {
   "cell_type": "code",
   "execution_count": 26,
   "id": "d5be2c3e",
   "metadata": {},
   "outputs": [
    {
     "name": "stdout",
     "output_type": "stream",
     "text": [
      "3.1622776601683795 3\n"
     ]
    }
   ],
   "source": [
    "sr = 10\n",
    "print(math.sqrt(sr), math.isqrt(sr))"
   ]
  },
  {
   "cell_type": "markdown",
   "id": "76281527",
   "metadata": {},
   "source": [
    "#### WAP to input a number and print its square root (). \n"
   ]
  },
  {
   "cell_type": "code",
   "execution_count": 27,
   "id": "9a08f451",
   "metadata": {},
   "outputs": [
    {
     "name": "stdout",
     "output_type": "stream",
     "text": [
      "Enter a number: 4\n",
      "2.0 2\n"
     ]
    }
   ],
   "source": [
    "sr1 = int(input(\"Enter a number: \"))\n",
    "print(math.sqrt(sr1), math.isqrt(sr1))"
   ]
  },
  {
   "cell_type": "markdown",
   "id": "643a852f",
   "metadata": {},
   "source": [
    "#### WAP to input 4 numbers from user and print their average"
   ]
  },
  {
   "cell_type": "code",
   "execution_count": 32,
   "id": "18e29b1a",
   "metadata": {},
   "outputs": [
    {
     "name": "stdout",
     "output_type": "stream",
     "text": [
      "Enter 1st number: 2\n",
      "Enter 2nd number: 3\n",
      "Enter 3rd number: 2\n",
      "Enter 4th number: 3\n",
      "2.5\n"
     ]
    }
   ],
   "source": [
    "import statistics as stat\n",
    "numb1 = int(input(\"Enter 1st number: \"))\n",
    "numb2 = int(input(\"Enter 2nd number: \"))\n",
    "numb3 = int(input(\"Enter 3rd number: \"))\n",
    "numb4 = int(input(\"Enter 4th number: \"))\n",
    "print((numb1+numb2+numb3+numb4)/4)"
   ]
  },
  {
   "cell_type": "markdown",
   "id": "c70baad0",
   "metadata": {},
   "source": [
    "#### Use the help function to check what the abs function in python does. "
   ]
  },
  {
   "cell_type": "code",
   "execution_count": 34,
   "id": "61c0c8f6",
   "metadata": {},
   "outputs": [
    {
     "name": "stdout",
     "output_type": "stream",
     "text": [
      "Help on built-in function abs in module builtins:\n",
      "\n",
      "abs(x, /)\n",
      "    Return the absolute value of the argument.\n",
      "\n"
     ]
    }
   ],
   "source": [
    "help(abs)"
   ]
  },
  {
   "cell_type": "markdown",
   "id": "e3a2d554",
   "metadata": {},
   "source": [
    "#### What is the output of this code when run from python interpreter. \n",
    "\n",
    "#### >>> print(__name__)\n",
    "__main__"
   ]
  },
  {
   "cell_type": "markdown",
   "id": "d45498ab",
   "metadata": {},
   "source": [
    "#### What is the output of this code when run from a python script. \n",
    "C:\\Users\\admin\\Desktop\\Python>python Python_script.py\n",
    "__main__"
   ]
  },
  {
   "cell_type": "markdown",
   "id": "01669402",
   "metadata": {},
   "source": [
    "#### Does the dir of int class contain an attribute __name__ (Y/N). \n",
    "#### No"
   ]
  },
  {
   "cell_type": "code",
   "execution_count": 36,
   "id": "c0bcb3f5",
   "metadata": {},
   "outputs": [
    {
     "name": "stdout",
     "output_type": "stream",
     "text": [
      "['__abs__', '__add__', '__and__', '__bool__', '__ceil__', '__class__', '__delattr__', '__dir__', '__divmod__', '__doc__', '__eq__', '__float__', '__floor__', '__floordiv__', '__format__', '__ge__', '__getattribute__', '__getnewargs__', '__gt__', '__hash__', '__index__', '__init__', '__init_subclass__', '__int__', '__invert__', '__le__', '__lshift__', '__lt__', '__mod__', '__mul__', '__ne__', '__neg__', '__new__', '__or__', '__pos__', '__pow__', '__radd__', '__rand__', '__rdivmod__', '__reduce__', '__reduce_ex__', '__repr__', '__rfloordiv__', '__rlshift__', '__rmod__', '__rmul__', '__ror__', '__round__', '__rpow__', '__rrshift__', '__rshift__', '__rsub__', '__rtruediv__', '__rxor__', '__setattr__', '__sizeof__', '__str__', '__sub__', '__subclasshook__', '__truediv__', '__trunc__', '__xor__', 'as_integer_ratio', 'bit_length', 'conjugate', 'denominator', 'from_bytes', 'imag', 'numerator', 'real', 'to_bytes']\n"
     ]
    }
   ],
   "source": [
    "print(dir(int))"
   ]
  },
  {
   "cell_type": "markdown",
   "id": "c48ada1e",
   "metadata": {},
   "source": [
    "#### Output"
   ]
  },
  {
   "cell_type": "code",
   "execution_count": 37,
   "id": "6ce953ac",
   "metadata": {},
   "outputs": [
    {
     "name": "stdout",
     "output_type": "stream",
     "text": [
      "__main__\n",
      "builtins\n",
      "int\n"
     ]
    }
   ],
   "source": [
    "print(__name__)\n",
    "print(__builtins__.__name__)\n",
    "print(int.__name__)"
   ]
  },
  {
   "cell_type": "code",
   "execution_count": null,
   "id": "bc951918",
   "metadata": {},
   "outputs": [],
   "source": []
  }
 ],
 "metadata": {
  "kernelspec": {
   "display_name": "Python 3",
   "language": "python",
   "name": "python3"
  },
  "language_info": {
   "codemirror_mode": {
    "name": "ipython",
    "version": 3
   },
   "file_extension": ".py",
   "mimetype": "text/x-python",
   "name": "python",
   "nbconvert_exporter": "python",
   "pygments_lexer": "ipython3",
   "version": "3.8.8"
  }
 },
 "nbformat": 4,
 "nbformat_minor": 5
}
