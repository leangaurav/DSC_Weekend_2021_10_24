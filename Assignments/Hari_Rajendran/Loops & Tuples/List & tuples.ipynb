{
 "cells": [
  {
   "cell_type": "code",
   "execution_count": 4,
   "id": "8d7b4674",
   "metadata": {},
   "outputs": [
    {
     "name": "stdout",
     "output_type": "stream",
     "text": [
      "[1, 2, 3, 4, 5] <class 'list'> <class 'tuple'>\n",
      "[1, 2, 3, 4, 5] <class 'list'>\n"
     ]
    }
   ],
   "source": [
    "# Convert a Tuple t = (1,2,3,4,5) to a list \n",
    "# Solution 1\n",
    "t = (1,2,3,4,5)\n",
    "a = []\n",
    "for i in t:\n",
    "    a.append(i)\n",
    "print(a,type(a),type(t))\n",
    "\n",
    "# Solution 2\n",
    "c = (1,2,3,4,5)\n",
    "d = list(c)\n",
    "print(d, type(d))"
   ]
  },
  {
   "cell_type": "code",
   "execution_count": 16,
   "id": "d0b48bd8",
   "metadata": {},
   "outputs": [
    {
     "name": "stdout",
     "output_type": "stream",
     "text": [
      "[1, 3, 5, 7, 8, 6, 4, 2]\n"
     ]
    }
   ],
   "source": [
    "# WAP to join a list and a tuple: L = [1,3,5,7] T = (8,6,4,2) \n",
    "L = [1,3,5,7] \n",
    "T = (8,6,4,2) \n",
    "L.extend(T)\n",
    "LS = L\n",
    "print(LS)"
   ]
  },
  {
   "cell_type": "markdown",
   "id": "26dca145",
   "metadata": {},
   "source": [
    "### What is difference between list and tuple. \n",
    "\n",
    "- Tuples are immutable objects the lists are mutable\n",
    "- Tuples occupy minimum memory block (as it is immutable) and list occupy extra memory block. Please find below code for evidence\n",
    "\n",
    "\n"
   ]
  },
  {
   "cell_type": "code",
   "execution_count": 19,
   "id": "c570c84a",
   "metadata": {},
   "outputs": [
    {
     "name": "stdout",
     "output_type": "stream",
     "text": [
      "96\n",
      "80\n"
     ]
    }
   ],
   "source": [
    "import sys\n",
    "a_list = [1,2,3,4,5]\n",
    "a_tuple = (1,2,3,4,5)\n",
    "print(sys.getsizeof(a_list))\n",
    "print(sys.getsizeof(a_tuple))"
   ]
  },
  {
   "cell_type": "code",
   "execution_count": 34,
   "id": "e4316e27",
   "metadata": {},
   "outputs": [
    {
     "name": "stdout",
     "output_type": "stream",
     "text": [
      "C\n",
      "A\n",
      "c\n",
      "d\n",
      "a\n",
      "['C', 'A', 'c', 'd', 'a']\n"
     ]
    }
   ],
   "source": [
    "# Print the list in reverse order  l = [‘a’, ‘d’, ‘c’, ‘A’, ‘C’] \n",
    "# Solution 1\n",
    "l = ['a', 'd', 'c', 'A', 'C']\n",
    "a =len(l)\n",
    "for i in range(a,0,-1):\n",
    "    a-=1\n",
    "    print(l[a])\n",
    "# Solution 2\n",
    "l.reverse()\n",
    "print(l)"
   ]
  },
  {
   "cell_type": "code",
   "execution_count": 35,
   "id": "10f6ea36",
   "metadata": {},
   "outputs": [
    {
     "name": "stdout",
     "output_type": "stream",
     "text": [
      "[10, 20, 30, 40]\n"
     ]
    }
   ],
   "source": [
    "# Print Elements at Odd indexes from a list (Do not use loop)  l = [10,11,20, 21,30, 31, 40, 41] \n",
    "l = [10,11,20, 21,30, 31, 40, 41] \n",
    "print(l[::2])"
   ]
  },
  {
   "cell_type": "markdown",
   "id": "2c97458d",
   "metadata": {},
   "source": [
    "# How many ways you can copy a list\n",
    "\n",
    "5 ways.\n",
    "1. just = \n",
    "2. slicing <var>[:]\n",
    "3. List list()\n",
    "4. Copy copy()\n",
    "5. Deepcopy deepcopy()"
   ]
  },
  {
   "cell_type": "code",
   "execution_count": 37,
   "id": "3490a6c1",
   "metadata": {},
   "outputs": [
    {
     "name": "stdout",
     "output_type": "stream",
     "text": [
      "a\n",
      "5\n"
     ]
    }
   ],
   "source": [
    "# Predict output\n",
    "n_list = [\"Happy\", [2,0,1,5]]\n",
    "print(n_list[0][1]) # a\n",
    "print(n_list[1][3]) # 5"
   ]
  },
  {
   "cell_type": "code",
   "execution_count": 40,
   "id": "46572d1a",
   "metadata": {},
   "outputs": [
    {
     "name": "stdout",
     "output_type": "stream",
     "text": [
      "[1, 4, 6, 8]\n",
      "[1, 3, 5, 7]\n"
     ]
    }
   ],
   "source": [
    "# Predict output\n",
    "odd =[2,4,6,8]\n",
    "odd[0] = 1\n",
    "print(odd) # [1,4,6,8]\n",
    "odd[1:4] = [3,5,7]\n",
    "print(odd) # [1,3,5,7]"
   ]
  },
  {
   "cell_type": "code",
   "execution_count": 42,
   "id": "8bb760f6",
   "metadata": {},
   "outputs": [
    {
     "name": "stdout",
     "output_type": "stream",
     "text": [
      "[1, 3, 5, [7, 9]]\n",
      "[1, 3, 5, [7, 9], 11, 13]\n"
     ]
    }
   ],
   "source": [
    "# Predict output\n",
    "odd =[1,3,5]\n",
    "odd.append ([7,9])\n",
    "print(odd) # [1,3,5,[7,9]]\n",
    "odd.extend ([11,13])\n",
    "print(odd) # [1,3,5,[7,9],11,13]"
   ]
  },
  {
   "cell_type": "code",
   "execution_count": 44,
   "id": "5f1d789b",
   "metadata": {},
   "outputs": [
    {
     "name": "stdout",
     "output_type": "stream",
     "text": [
      "(1, 2, 3) <class 'tuple'>\n",
      "1 <class 'int'>\n",
      "1 <class 'int'>\n",
      "(1,) <class 'tuple'>\n"
     ]
    }
   ],
   "source": [
    "# Predict output\n",
    "x = 1,2,3; print(x,type(x)) # Tuple\n",
    "x = (1) ; print(x,type(x))  # Tuple\n",
    "x = 1 ; print(x,type(x))    # Integer\n",
    "x = 1, ; print(x,type(x))   #"
   ]
  },
  {
   "cell_type": "code",
   "execution_count": 49,
   "id": "a791acf9",
   "metadata": {},
   "outputs": [
    {
     "name": "stdout",
     "output_type": "stream",
     "text": [
      "1 2 3 \n",
      "4 5 6 \n",
      "7 8 9 \n"
     ]
    }
   ],
   "source": [
    "# Try to represent a matrix with following data in python:\n",
    "a =1\n",
    "for i in range(3):\n",
    "    for j in range(3):\n",
    "        print(a, end=' ')\n",
    "        a+=1\n",
    "    print()"
   ]
  },
  {
   "cell_type": "code",
   "execution_count": 51,
   "id": "c6f43edd",
   "metadata": {},
   "outputs": [
    {
     "name": "stdout",
     "output_type": "stream",
     "text": [
      "('s', 't', 'r', 'i', 'n', 'g')\n",
      "('g', 'n', 'i', 'r', 't', 's')\n",
      "('n', 's')\n"
     ]
    }
   ],
   "source": [
    "# Predict output\n",
    "t = tuple('string')\n",
    "print(t) # ('s','t','r','i','n','g')\n",
    "print(t[::-1]) # ('g','n','i','r','t','s')\n",
    "print(t[::2][::-2]) #('s','r','n')('g','i''t')"
   ]
  },
  {
   "cell_type": "code",
   "execution_count": 52,
   "id": "249cec88",
   "metadata": {},
   "outputs": [
    {
     "name": "stdout",
     "output_type": "stream",
     "text": [
      "True\n",
      "False\n",
      "1\n",
      "0\n"
     ]
    }
   ],
   "source": [
    "# Predict output\n",
    "t = tuple([10,20,30,40,50,60])\n",
    "print(60 in t) # True\n",
    "print('60' in t) # False\n",
    "print(t.count(10)) # 1\n",
    "print(t.index(10)) # 0"
   ]
  },
  {
   "cell_type": "code",
   "execution_count": 54,
   "id": "2e57e04a",
   "metadata": {},
   "outputs": [
    {
     "name": "stdout",
     "output_type": "stream",
     "text": [
      "Enter a string:harah\n",
      "Is a pallindrome\n"
     ]
    }
   ],
   "source": [
    "#  Write a program to input a string and print if it is palindrome or not.\n",
    "a = input(\"Enter a string:\")\n",
    "b =a[::-1]\n",
    "if a ==b:\n",
    "    print (\"Is a pallindrome\")\n",
    "else:\n",
    "    print (\"Not a pallindrome\")"
   ]
  },
  {
   "cell_type": "code",
   "execution_count": 67,
   "id": "3bb42d3f",
   "metadata": {},
   "outputs": [
    {
     "name": "stdout",
     "output_type": "stream",
     "text": [
      "(20, 15, 10, 5) <class 'tuple'>\n"
     ]
    }
   ],
   "source": [
    "#  Use the range method and create a tuple containing the following values: (20, 15, 10, 5) \n",
    "a =[]\n",
    "for i in range(20,1,-5):\n",
    "    if i%5==0:\n",
    "        a.append(i)\n",
    "\n",
    "b =tuple(a)\n",
    "print(b,type(b))"
   ]
  },
  {
   "cell_type": "code",
   "execution_count": 70,
   "id": "445d37e3",
   "metadata": {},
   "outputs": [
    {
     "name": "stdout",
     "output_type": "stream",
     "text": [
      "Enter a string:Hari\n",
      "['H', 'a', 'r', 'i']\n"
     ]
    }
   ],
   "source": [
    "#  WAP to convert string to list of characters. \n",
    "a = input(\"Enter a string:\")\n",
    "b=list(a)\n",
    "print(b)"
   ]
  },
  {
   "cell_type": "code",
   "execution_count": 71,
   "id": "4168055c",
   "metadata": {},
   "outputs": [
    {
     "name": "stdout",
     "output_type": "stream",
     "text": [
      "<class 'list'>\n",
      "<class 'NoneType'>\n",
      "<class 'str'>\n",
      "<class 'bool'>\n"
     ]
    }
   ],
   "source": [
    "# What is the return type of:\n",
    "print(type('1 2'.split())) # list\n",
    "print(type([1, 3, 2].sort())) # list\n",
    "print(type('abc'.upper())) # string\n",
    "print(type(1 in [1,2])) # Bool"
   ]
  }
 ],
 "metadata": {
  "kernelspec": {
   "display_name": "Python 3",
   "language": "python",
   "name": "python3"
  },
  "language_info": {
   "codemirror_mode": {
    "name": "ipython",
    "version": 3
   },
   "file_extension": ".py",
   "mimetype": "text/x-python",
   "name": "python",
   "nbconvert_exporter": "python",
   "pygments_lexer": "ipython3",
   "version": "3.8.8"
  }
 },
 "nbformat": 4,
 "nbformat_minor": 5
}
