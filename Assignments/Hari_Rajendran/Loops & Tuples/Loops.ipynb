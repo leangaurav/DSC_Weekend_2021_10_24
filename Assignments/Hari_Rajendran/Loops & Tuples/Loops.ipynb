{
 "cells": [
  {
   "cell_type": "code",
   "execution_count": 7,
   "id": "60b8fe38",
   "metadata": {},
   "outputs": [
    {
     "name": "stdout",
     "output_type": "stream",
     "text": [
      "Enter a number: 5\n",
      "0 1 2 3 4 5 "
     ]
    }
   ],
   "source": [
    "# WAP to print first n natural numbers (input n from user). \n",
    "n = int(input(\"Enter a number: \"))\n",
    "i = 1\n",
    "while i <= n:\n",
    "    print(i, end=' ')\n",
    "    i+=1"
   ]
  },
  {
   "cell_type": "code",
   "execution_count": 22,
   "id": "a318d263",
   "metadata": {},
   "outputs": [
    {
     "name": "stdout",
     "output_type": "stream",
     "text": [
      "Enter a number: 5\n",
      "15\n"
     ]
    }
   ],
   "source": [
    "# WAP to find sum of first n natural numbers\n",
    "n = int(input(\"Enter a number: \"))\n",
    "i = 0\n",
    "j = 0\n",
    "while i <= n:\n",
    "    j += i\n",
    "    i+=1    \n",
    "print(j)"
   ]
  },
  {
   "cell_type": "code",
   "execution_count": 4,
   "id": "f337d72d",
   "metadata": {},
   "outputs": [
    {
     "name": "stdout",
     "output_type": "stream",
     "text": [
      "Enter a number: 10\n",
      "10\n",
      "9\n",
      "8\n",
      "7\n",
      "6\n",
      "5\n",
      "4\n",
      "3\n",
      "2\n",
      "1\n",
      "0\n"
     ]
    }
   ],
   "source": [
    "# WAP to print first n natural numbers in reverse order. \n",
    "n = int(input(\"Enter a number: \"))\n",
    "while n >= 0:\n",
    "    print(n)\n",
    "    n-=1"
   ]
  },
  {
   "cell_type": "code",
   "execution_count": 7,
   "id": "7699df1c",
   "metadata": {},
   "outputs": [
    {
     "name": "stdout",
     "output_type": "stream",
     "text": [
      "Enter a number: 5\n",
      "120\n"
     ]
    }
   ],
   "source": [
    "# WAP to input a number and print its factorial. \n",
    "n = int(input(\"Enter a number: \"))\n",
    "i = 1\n",
    "j = 1\n",
    "while i <= n:\n",
    "    j *= i\n",
    "    i+=1    \n",
    "print(j)"
   ]
  },
  {
   "cell_type": "code",
   "execution_count": 8,
   "id": "981c6b00",
   "metadata": {},
   "outputs": [
    {
     "name": "stdout",
     "output_type": "stream",
     "text": [
      "Enter a number: 4\n",
      "0\n",
      "1\n",
      "3\n",
      "6\n",
      "10\n"
     ]
    }
   ],
   "source": [
    "# No idea about the question\n",
    "n = int(input(\"Enter a number: \"))\n",
    "i = 0\n",
    "j = 0\n",
    "while i <= n:\n",
    "    j += i\n",
    "    print(j)\n",
    "    i+=1"
   ]
  },
  {
   "cell_type": "code",
   "execution_count": 50,
   "id": "a87b47e2",
   "metadata": {},
   "outputs": [
    {
     "name": "stdout",
     "output_type": "stream",
     "text": [
      "Enter a number: 12\n",
      "1\n",
      "2\n",
      "3\n",
      "5\n",
      "8\n",
      "13\n"
     ]
    }
   ],
   "source": [
    "# WAP to print Fibonacci sequence till n. \n",
    "n = int(input(\"Enter a number: \"))\n",
    "c=1\n",
    "a = 0\n",
    "b = 1\n",
    "while c < n:\n",
    "    c = a+b\n",
    "    print(c)\n",
    "    a = b\n",
    "    b=c"
   ]
  },
  {
   "cell_type": "code",
   "execution_count": 19,
   "id": "c97191f3",
   "metadata": {},
   "outputs": [
    {
     "name": "stdout",
     "output_type": "stream",
     "text": [
      "Enter a number: 345\n",
      "3\n",
      "4\n",
      "5\n"
     ]
    }
   ],
   "source": [
    "# WAP to print all digits of a number input from user\n",
    "n = input(\"Enter a number: \")\n",
    "c=0\n",
    "while c < len(n):\n",
    "    print(n[c])\n",
    "    c+=1"
   ]
  },
  {
   "cell_type": "code",
   "execution_count": 28,
   "id": "45959ee7",
   "metadata": {},
   "outputs": [
    {
     "name": "stdout",
     "output_type": "stream",
     "text": [
      "Enter a number: 12345\n",
      "15\n"
     ]
    }
   ],
   "source": [
    "# WAP to find sum of all digits of a number.\n",
    "n = input(\"Enter a number: \")\n",
    "c=0\n",
    "a=0\n",
    "while c < len(n):\n",
    "    b = int(n[c])\n",
    "    d=a+b\n",
    "    a=d\n",
    "    c+=1\n",
    "print(d)"
   ]
  },
  {
   "cell_type": "code",
   "execution_count": 69,
   "id": "0ed80565",
   "metadata": {},
   "outputs": [
    {
     "name": "stdout",
     "output_type": "stream",
     "text": [
      "Enter a number: 5\n",
      "153\n"
     ]
    }
   ],
   "source": [
    "# . WAP to find sum of following series given n as input from user 1 + 2! + 3! + 4! + 5! + ….n! Where n! denotes the factorial of number n. \n",
    "\n",
    "n = int(input(\"Enter a number: \"))\n",
    "i = 1\n",
    "j = 1\n",
    "s = 0\n",
    "while i <= n:\n",
    "    j *= i\n",
    "    s+=j\n",
    "    i+=1    \n",
    "print(s)"
   ]
  },
  {
   "cell_type": "code",
   "execution_count": 62,
   "id": "30cb13c9",
   "metadata": {},
   "outputs": [
    {
     "name": "stdout",
     "output_type": "stream",
     "text": [
      "Enter base number: 3\n",
      "Enter exponent number: 2\n",
      "6\n"
     ]
    }
   ],
   "source": [
    "# WAP to input base and exponent and print result without using inbuilt function pow(use for or while loop).\n",
    "n = int(input(\"Enter base number: \"))\n",
    "m = int(input(\"Enter exponent number: \"))\n",
    "a=1\n",
    "for _ in range(m):\n",
    "    b = n*a\n",
    "    a=b\n",
    "print(b)\n",
    "    \n",
    "    \n"
   ]
  },
  {
   "cell_type": "code",
   "execution_count": 7,
   "id": "a96d37d7",
   "metadata": {},
   "outputs": [
    {
     "name": "stdout",
     "output_type": "stream",
     "text": [
      "*\n",
      "**\n",
      "***\n",
      "****\n",
      "*****\n"
     ]
    }
   ],
   "source": [
    "for i in range(5):\n",
    "    for j in range(i+1):\n",
    "        print(\"*\",end =\"\")\n",
    "    print()"
   ]
  },
  {
   "cell_type": "code",
   "execution_count": 9,
   "id": "d815d4d9",
   "metadata": {},
   "outputs": [
    {
     "name": "stdout",
     "output_type": "stream",
     "text": [
      "*****\n",
      "****\n",
      "***\n",
      "**\n",
      "*\n"
     ]
    }
   ],
   "source": [
    "for i in range(5):\n",
    "    for j in range(5-i):\n",
    "        print(\"*\",end =\"\")\n",
    "    print()"
   ]
  },
  {
   "cell_type": "code",
   "execution_count": 16,
   "id": "f956b1d8",
   "metadata": {},
   "outputs": [
    {
     "name": "stdout",
     "output_type": "stream",
     "text": [
      "    *\n",
      "   **\n",
      "  ***\n",
      " ****\n",
      "*****\n"
     ]
    }
   ],
   "source": [
    "for i in range(5):\n",
    "    for j in range(i,4):\n",
    "        print(\" \",end =\"\")\n",
    "    for j in range(i+1):\n",
    "        print(\"*\",end =\"\")\n",
    "    print()"
   ]
  },
  {
   "cell_type": "code",
   "execution_count": 75,
   "id": "6c143e94",
   "metadata": {},
   "outputs": [
    {
     "name": "stdout",
     "output_type": "stream",
     "text": [
      "   * \r\n",
      "  * * \r\n",
      " * * * \r\n",
      "* * * * \r\n"
     ]
    }
   ],
   "source": [
    "n=4\n",
    "k = n - 1\n",
    "for i in range(0, n):\n",
    "    for j in range(0, k):\n",
    "        print(end=\" \")\n",
    "    k = k - 1\n",
    "    for j in range(0, i+1):\n",
    "        print(\"* \", end=\"\")\n",
    "    print(\"\\r\")"
   ]
  },
  {
   "cell_type": "code",
   "execution_count": 17,
   "id": "9a9558d6",
   "metadata": {},
   "outputs": [
    {
     "name": "stdout",
     "output_type": "stream",
     "text": [
      "1\n",
      "22\n",
      "333\n",
      "4444\n",
      "55555\n"
     ]
    }
   ],
   "source": [
    "for i in range(1,6):\n",
    "    for j in range(1, i+1):\n",
    "        print(i,end =\"\")\n",
    "    print()"
   ]
  },
  {
   "cell_type": "code",
   "execution_count": 36,
   "id": "e2a44b64",
   "metadata": {},
   "outputs": [
    {
     "name": "stdout",
     "output_type": "stream",
     "text": [
      "5\n",
      "44\n",
      "333\n",
      "2222\n",
      "11111\n"
     ]
    }
   ],
   "source": [
    "for i in range(5,0,-1):\n",
    "    for j in range(5,i-1,-1):\n",
    "        print(i,end =\"\")\n",
    "    print()"
   ]
  },
  {
   "cell_type": "code",
   "execution_count": 49,
   "id": "e946c5b2",
   "metadata": {},
   "outputs": [
    {
     "name": "stdout",
     "output_type": "stream",
     "text": [
      "    1\n",
      "   22\n",
      "  333\n",
      " 4444\n",
      "55555\n"
     ]
    }
   ],
   "source": [
    "for i in range(1,6):\n",
    "    for j in range(i,5):\n",
    "        print(\" \",end =\"\")\n",
    "    for j in range(i):\n",
    "        print(i,end =\"\")\n",
    "    print()"
   ]
  },
  {
   "cell_type": "code",
   "execution_count": 59,
   "id": "f55ccc9d",
   "metadata": {},
   "outputs": [
    {
     "name": "stdout",
     "output_type": "stream",
     "text": [
      "A\n",
      "BB\n",
      "CCC\n",
      "DDDD\n",
      "EEEEE\n"
     ]
    }
   ],
   "source": [
    "a =\"ABCDE\"\n",
    "for i in a:\n",
    "    for j in range(a.index(i)+1):\n",
    "        print(i,end =\"\")\n",
    "    print()"
   ]
  },
  {
   "cell_type": "code",
   "execution_count": 63,
   "id": "92761c8b",
   "metadata": {},
   "outputs": [
    {
     "name": "stdout",
     "output_type": "stream",
     "text": [
      "A\n",
      "AB\n",
      "ABC\n",
      "ABCD\n",
      "ABCDE\n"
     ]
    }
   ],
   "source": [
    "a =\"ABCDE\"\n",
    "for i in range(5):\n",
    "    for j in range(i+1):\n",
    "        b=a[j]\n",
    "        print(b,end =\"\")\n",
    "    print()"
   ]
  },
  {
   "cell_type": "code",
   "execution_count": 92,
   "id": "0fdb0086",
   "metadata": {},
   "outputs": [
    {
     "name": "stdout",
     "output_type": "stream",
     "text": [
      "    A\r\n",
      "   ABA\r\n",
      "  ABCBA\r\n",
      " ABCDCBA\r\n",
      "ABCDEDCBA\r\n"
     ]
    }
   ],
   "source": [
    "n=5\n",
    "s='ABCDE'\n",
    "t='DCBA'\n",
    "k = n - 1\n",
    "for i in range(0, n):\n",
    "    for j in range(0, k):\n",
    "        print(end=\" \")\n",
    "    k = k - 1\n",
    "    for j in range(0, i+1):\n",
    "        print(s[j], end=\"\")\n",
    "    for l in range(i,0,-1):\n",
    "        l-=1\n",
    "        print(s[l], end=\"\")\n",
    "    \n",
    "    print(\"\\r\")"
   ]
  },
  {
   "cell_type": "code",
   "execution_count": 98,
   "id": "bf88d0d8",
   "metadata": {},
   "outputs": [
    {
     "name": "stdout",
     "output_type": "stream",
     "text": [
      "A\n",
      "BC\n",
      "DEF\n",
      "GHIJ\n",
      "KLMNO\n"
     ]
    }
   ],
   "source": [
    "a =\"ABCDEFGHIJKLMNO\"\n",
    "b=0\n",
    "for i in range(5):\n",
    "    for j in range(i+1):\n",
    "        print(a[b],end =\"\")\n",
    "        b+=1\n",
    "    print()"
   ]
  }
 ],
 "metadata": {
  "kernelspec": {
   "display_name": "Python 3",
   "language": "python",
   "name": "python3"
  },
  "language_info": {
   "codemirror_mode": {
    "name": "ipython",
    "version": 3
   },
   "file_extension": ".py",
   "mimetype": "text/x-python",
   "name": "python",
   "nbconvert_exporter": "python",
   "pygments_lexer": "ipython3",
   "version": "3.8.8"
  }
 },
 "nbformat": 4,
 "nbformat_minor": 5
}
