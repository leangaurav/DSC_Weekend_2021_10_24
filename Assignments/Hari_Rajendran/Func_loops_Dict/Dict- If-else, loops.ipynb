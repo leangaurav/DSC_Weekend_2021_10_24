{
 "cells": [
  {
   "cell_type": "code",
   "execution_count": 12,
   "id": "21525d15",
   "metadata": {},
   "outputs": [
    {
     "name": "stdout",
     "output_type": "stream",
     "text": [
      "{1: -1, 2: -2, 3: -3, 4: -4, 5: -5}\n",
      "{1: -1, 2: -2, 3: -3, 4: -4, 5: -5}\n"
     ]
    }
   ],
   "source": [
    "# WAP to create a dictionary of numbers mapped to their negative value for numbers from 1-5. The dictionary should contain something like this: Do with both with and without range based for loop. {1:-1,2:-2,3:-3….} \n",
    "from itertools import islice, repeat\n",
    "a ={}\n",
    "for i in range(1,6):\n",
    "    a[i]=i*-1\n",
    "print(a)\n",
    "b ={}\n",
    "for j in islice((1,2,3,4,5),None):\n",
    "    b[j]=j*-1\n",
    "print(b)"
   ]
  },
  {
   "cell_type": "code",
   "execution_count": 25,
   "id": "7823574e",
   "metadata": {},
   "outputs": [],
   "source": [
    "# Check which of the following declarations will work \n",
    "#d={1=2,2=3} # will work\n",
    "d={1:2,2:3} # Will work\n",
    "#d={1,2;2,3} # Not work\n",
    "d={(1,2),(2,3)} # Will work\n",
    "#d={'a':'A','b':1,c:[1234]} # Not work\n",
    "d={'a':'A','b':1,'c':[1234]} # Will work\n",
    "d=dict([(1,2), (2,3)]) # Will work\n",
    "d=dict(((1,2), (2,3))) # Will work\n",
    "#d=dict((1,2), (2,3)]) # Not work\n",
    "d=dict(x=2,y=3) # Will work\n",
    "#=dict('x'=2,'y'=3) # Not work\n",
    "#=dict(1=2,2=3) # Not work"
   ]
  },
  {
   "cell_type": "code",
   "execution_count": 27,
   "id": "44535ce5",
   "metadata": {},
   "outputs": [
    {
     "name": "stdout",
     "output_type": "stream",
     "text": [
      "{1: 10, 2: 20, 3: 30, 4: 40}\n"
     ]
    }
   ],
   "source": [
    "# Read help for zip and write a program that has two lists \n",
    "#l1 = [1,2,3,4] \n",
    "#l2 = [10,20,30,40]\n",
    "#And converts them to a dictionary d containing { 1:10,2:20 …….}\n",
    "l1 = [1,2,3,4] \n",
    "l2 = [10,20,30,40]\n",
    "d=dict(zip(l1,l2))\n",
    "print(d)"
   ]
  },
  {
   "cell_type": "code",
   "execution_count": 28,
   "id": "b4eb48e9",
   "metadata": {},
   "outputs": [
    {
     "name": "stdout",
     "output_type": "stream",
     "text": [
      "{'A': 65, 'B': 66, 'C': 67, 'D': 68, 'E': 69, 'F': 70, 'G': 71, 'H': 72, 'I': 73, 'J': 74, 'K': 75, 'L': 76, 'M': 77, 'N': 78, 'O': 79, 'P': 80, 'Q': 81, 'R': 82, 'S': 83, 'T': 84, 'U': 85, 'V': 86, 'W': 87, 'X': 88, 'Y': 89, 'Z': 90}\n"
     ]
    }
   ],
   "source": [
    "# Use range based for loop to store all upper case alphabets and their corresponding ASCII values in the dictionary d. The result should be d = {‘A’: 65, ‘B’:66,…..}\n",
    "a={}\n",
    "for i in range(65,91):\n",
    "    a[chr(i)]=i\n",
    "print(a)"
   ]
  },
  {
   "cell_type": "code",
   "execution_count": 30,
   "id": "5ad04104",
   "metadata": {},
   "outputs": [
    {
     "name": "stdout",
     "output_type": "stream",
     "text": [
      "Enter a number:3\n",
      "Wording for entered number is:  Three\n",
      "dict_keys([0, 1, 2, 3, 4, 5, 6, 7, 8, 9])\n",
      "dict_values(['Zero', 'One', 'Two', 'Three', 'Four', 'Five', 'Six', 'Seven', 'Eight', 'Nine'])\n",
      "{0: 'Zero', 1: 'One', 2: 'Two', 3: 'Three', 4: 'Four', 5: 'Five', 6: 'Six', 7: 'Seven', 8: 'Eight', 9: 'Nine'}\n"
     ]
    }
   ],
   "source": [
    "#Create a mapping of number to word from 0-9. (0:’zero’……)\n",
    "#• Ask user for a single digit number and print the corresponding word format. \n",
    "#• Print all keys of above dictionary \n",
    "#• Print all Values of a dictionary \n",
    "#• Print all Key and Value pairs of above dictionary \n",
    "a={0:'Zero',1:'One',2:'Two',3:'Three',4:'Four',5:'Five',6:'Six',7:'Seven',8:'Eight',9:'Nine'}\n",
    "b=int(input(\"Enter a number:\"))\n",
    "print(\"Wording for entered number is: \",a[b])\n",
    "print(a.keys())\n",
    "print(a.values())\n",
    "print(a)"
   ]
  },
  {
   "cell_type": "code",
   "execution_count": 32,
   "id": "24b3ed3d",
   "metadata": {},
   "outputs": [
    {
     "name": "stdout",
     "output_type": "stream",
     "text": [
      "{'A': 'Apple', 'B': 'Ball', 'C': 'Cat', 'D': 'Dog'}\n",
      "{'A': 'Apple', 'C': 'Cat'}\n"
     ]
    }
   ],
   "source": [
    "# Predict output\n",
    "l1= ['A','B','C','D']\n",
    "l2= ['Apple','Ball','Cat','Dog']\n",
    "d1=dict(zip(l1,l2))\n",
    "print(d1) # {'A': 'Apple', 'B': 'Ball', 'C': 'Cat', 'D': 'Dog'}\n",
    "d2=dict(list(d1.items()) [::2])\n",
    "print(d2) # {'A': 'Apple', 'C': 'Cat'}"
   ]
  },
  {
   "cell_type": "code",
   "execution_count": 34,
   "id": "60b5c2d8",
   "metadata": {},
   "outputs": [
    {
     "name": "stdout",
     "output_type": "stream",
     "text": [
      "Enter a string:hari\n",
      "A 1\n",
      "I 1\n"
     ]
    }
   ],
   "source": [
    "# WAP to input a string and count occurrence of each vowel in a string. \n",
    "a=input(\"Enter a string:\")\n",
    "d=a.upper()\n",
    "c={}\n",
    "for i in d:\n",
    "    if i in 'AEIOU':\n",
    "        c[i]=c.get(i,0) + 1\n",
    "for j in c:\n",
    "    print(j,c[j])\n",
    "        "
   ]
  },
  {
   "cell_type": "code",
   "execution_count": 35,
   "id": "9ed681df",
   "metadata": {},
   "outputs": [
    {
     "name": "stdout",
     "output_type": "stream",
     "text": [
      "Enter a string:hari\n",
      "H 1\n",
      "A 1\n",
      "R 1\n",
      "I 1\n"
     ]
    }
   ],
   "source": [
    "# Update above program to print frequency of each alphabet present in string.\n",
    "a=input(\"Enter a string:\")\n",
    "d=a.upper()\n",
    "c={}\n",
    "for i in d:\n",
    "    #if i in 'AEIOU':\n",
    "    c[i]=c.get(i,0) + 1\n",
    "for j in c:\n",
    "    print(j,c[j])"
   ]
  },
  {
   "cell_type": "code",
   "execution_count": 38,
   "id": "6dacbe8b",
   "metadata": {},
   "outputs": [
    {
     "name": "stdout",
     "output_type": "stream",
     "text": [
      "Enter a sentence: Python class is awesome and it is the best class\n",
      "['Python', 'class', 'is', 'awesome', 'and', 'it', 'is', 'the', 'best', 'class']\n",
      "Python 1\n",
      "class 2\n",
      "is 2\n",
      "awesome 1\n",
      "and 1\n",
      "it 1\n",
      "the 1\n",
      "best 1\n"
     ]
    }
   ],
   "source": [
    "# WAP that takes a string as input and prints frequency of each word\n",
    "a=input(\"Enter a sentence: \")\n",
    "b=list(a.split())\n",
    "print(b)\n",
    "c={}\n",
    "for i in b:\n",
    "    c[i]=c.get(i,0) + 1\n",
    "for j in c:\n",
    "    print(j,c[j])"
   ]
  }
 ],
 "metadata": {
  "kernelspec": {
   "display_name": "Python 3",
   "language": "python",
   "name": "python3"
  },
  "language_info": {
   "codemirror_mode": {
    "name": "ipython",
    "version": 3
   },
   "file_extension": ".py",
   "mimetype": "text/x-python",
   "name": "python",
   "nbconvert_exporter": "python",
   "pygments_lexer": "ipython3",
   "version": "3.8.8"
  }
 },
 "nbformat": 4,
 "nbformat_minor": 5
}
