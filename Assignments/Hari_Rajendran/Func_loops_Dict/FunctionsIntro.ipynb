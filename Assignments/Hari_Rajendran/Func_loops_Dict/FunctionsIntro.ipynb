{
 "cells": [
  {
   "cell_type": "code",
   "execution_count": 3,
   "id": "c7e9182c",
   "metadata": {},
   "outputs": [
    {
     "name": "stdout",
     "output_type": "stream",
     "text": [
      "Enter a string:Hari\n",
      "Enter a string:Rajendran\n",
      "('Rajendran', 'Hari')\n"
     ]
    }
   ],
   "source": [
    "# WAP to input 2 strings and swap the strings \n",
    "\n",
    "def swap(a,b):\n",
    "    a,b=b,a\n",
    "    return a,b\n",
    "a =input(\"Enter a string:\")\n",
    "b =input(\"Enter a string:\")\n",
    "print(swap(a,b))"
   ]
  },
  {
   "cell_type": "code",
   "execution_count": 23,
   "id": "74ef11ef",
   "metadata": {},
   "outputs": [
    {
     "name": "stdout",
     "output_type": "stream",
     "text": [
      "11.5\n"
     ]
    }
   ],
   "source": [
    "#  WAP to generate 4 random numbers in the range 0-26 and print their average\n",
    "from random import sample\n",
    "from statistics import mean\n",
    "def avg():\n",
    "    a = mean(sample(range(0,27),4))\n",
    "    print(a)\n",
    "    \n",
    "avg()"
   ]
  },
  {
   "cell_type": "code",
   "execution_count": 76,
   "id": "c87fbac1",
   "metadata": {},
   "outputs": [
    {
     "name": "stdout",
     "output_type": "stream",
     "text": [
      "I\n",
      "H\n",
      "['Formatter', 'Template', '_ChainMap', '_TemplateMetaclass', '__all__', '__builtins__', '__cached__', '__doc__', '__file__', '__loader__', '__name__', '__package__', '__spec__', '_re', '_sentinel_dict', '_string', 'ascii_letters', 'ascii_lowercase', 'ascii_uppercase', 'capwords', 'digits', 'hexdigits', 'octdigits', 'printable', 'punctuation', 'whitespace']\n"
     ]
    }
   ],
   "source": [
    "#WAP to generate and print a random uppercase or lowercase alphabet. Try these: \n",
    "#• Create a string containing all alphabets and then select a random alphabet. \n",
    "#• Check the module string\n",
    "\n",
    "import random\n",
    "import string\n",
    "def alp():\n",
    "    a = ('A', 'B', 'C', 'D', 'E', 'F', 'G', 'H', 'I', 'J', 'K', 'L', 'M', 'N', 'O', 'P', 'Q', 'R', 'S', 'T', 'U', 'V', 'W', 'X', 'Y', 'Z','a','b','c','d','e','f','g','h','i','j','k','l','m','n','o','p','q','r','s','t','u','v','w','x','y','z')\n",
    "    b = random.choice(a)\n",
    "    return b\n",
    "def alp1():\n",
    "    c = string.ascii_letters \n",
    "    d = random.choice(c)\n",
    "    return d\n",
    "print(alp())\n",
    "print(alp1())"
   ]
  },
  {
   "cell_type": "code",
   "execution_count": 78,
   "id": "343a1ada",
   "metadata": {},
   "outputs": [
    {
     "name": "stdout",
     "output_type": "stream",
     "text": [
      "500.0\n"
     ]
    }
   ],
   "source": [
    "# WAF get_si() that takes Principle, Rate and Time as arguments and returns the Simple Interest. \n",
    "def get_si(p,r,t):\n",
    "    a =(p*r*t)/100\n",
    "    return a\n",
    "print(get_si(1000,10,5))"
   ]
  },
  {
   "cell_type": "code",
   "execution_count": 89,
   "id": "89c8f7dd",
   "metadata": {},
   "outputs": [
    {
     "name": "stdout",
     "output_type": "stream",
     "text": [
      "1100.0\n"
     ]
    }
   ],
   "source": [
    "# WAF get_amount() that takes Principle, Rate and Time as arguments and returns the Total amount using the get_si() function from above to calculate the SI. Also provide Rate = 10 and Time = 1 as default arguments. \n",
    "\n",
    "def get_si(p,r=10,t=1):\n",
    "    a =(p*r*t)/100\n",
    "    return a\n",
    "def get_amount(p,r=10,t=1):\n",
    "    return p + get_si(p,r,t)\n",
    "print(get_amount(1000))"
   ]
  },
  {
   "cell_type": "code",
   "execution_count": 93,
   "id": "c97cbf20",
   "metadata": {},
   "outputs": [
    {
     "name": "stdout",
     "output_type": "stream",
     "text": [
      "1210.0000000000002\n"
     ]
    }
   ],
   "source": [
    "#  WAP get_ci() that takes Principle, Rate and Time as arguments and returns the Compound Interest. \n",
    "def get_si(p,r=10,t=2):\n",
    "    a =p*((1 + (r/100))**t)\n",
    "    return a\n",
    "print(get_si(1000))"
   ]
  },
  {
   "cell_type": "code",
   "execution_count": 7,
   "id": "5a3d90dc",
   "metadata": {},
   "outputs": [
    {
     "name": "stdout",
     "output_type": "stream",
     "text": [
      "(2.2, 1)\n"
     ]
    }
   ],
   "source": [
    "# WAP get_q_r() taking 2 numbers as parameters and returns the quotient and remainder in the form of a tuple. \n",
    "\n",
    "def get_q_r(a,b):\n",
    "    a=(a/b,a%b)\n",
    "    print(a)\n",
    "get_q_r(11,5)"
   ]
  },
  {
   "cell_type": "code",
   "execution_count": 12,
   "id": "030e7379",
   "metadata": {},
   "outputs": [
    {
     "name": "stdout",
     "output_type": "stream",
     "text": [
      "Enter base:3\n",
      "Enter height:4\n",
      "5.0\n"
     ]
    }
   ],
   "source": [
    "# WAP to find the length of hypotenuse of a right angled triangle, input the height and base from user.\n",
    "def hypo(a,b):\n",
    "    print(pow(((a*a)+(b*b)),.5))\n",
    "a = int(input(\"Enter base:\"))\n",
    "b = int(input(\"Enter height:\"))\n",
    "hypo(a,b)\n",
    "    "
   ]
  },
  {
   "cell_type": "code",
   "execution_count": 17,
   "id": "d49f1991",
   "metadata": {},
   "outputs": [
    {
     "name": "stdout",
     "output_type": "stream",
     "text": [
      "Enter the number of seconds: 86500\n",
      "DAYS:HOURS:MIN:SEC\n",
      "1:0:1:40\n"
     ]
    }
   ],
   "source": [
    "# WAP to input number of seconds and print in days, hours, minutes and seconds ex: input = 10000 Output = 0 day 2 hour 46 minute 40 second \n",
    "from datetime import datetime, timedelta\n",
    "\n",
    "def GetTime():\n",
    "    sec = timedelta(seconds=int(input('Enter the number of seconds: ')))\n",
    "    d = datetime(1,1,1) + sec\n",
    "\n",
    "    print(\"DAYS:HOURS:MIN:SEC\")\n",
    "    print(\"%d:%d:%d:%d\" % (d.day-1, d.hour, d.minute, d.second))\n",
    "GetTime()"
   ]
  },
  {
   "cell_type": "code",
   "execution_count": 18,
   "id": "a73abb76",
   "metadata": {},
   "outputs": [
    {
     "ename": "SyntaxError",
     "evalue": "invalid syntax (<ipython-input-18-a097ab928e5a>, line 2)",
     "output_type": "error",
     "traceback": [
      "\u001b[1;36m  File \u001b[1;32m\"<ipython-input-18-a097ab928e5a>\"\u001b[1;36m, line \u001b[1;32m2\u001b[0m\n\u001b[1;33m    where python\u001b[0m\n\u001b[1;37m          ^\u001b[0m\n\u001b[1;31mSyntaxError\u001b[0m\u001b[1;31m:\u001b[0m invalid syntax\n"
     ]
    }
   ],
   "source": [
    "#  Check your version of python interpreter without opening the interpreter (Which command needs to be used on the command line). \n",
    "where python"
   ]
  },
  {
   "cell_type": "code",
   "execution_count": 20,
   "id": "d1a43664",
   "metadata": {},
   "outputs": [
    {
     "name": "stdout",
     "output_type": "stream",
     "text": [
      "2 -2\n"
     ]
    }
   ],
   "source": [
    "X=2\n",
    "X*=3\n",
    "X=X%4\n",
    "Y=-X\n",
    "print(X,Y) # output (2,-2)"
   ]
  },
  {
   "cell_type": "code",
   "execution_count": 21,
   "id": "b736fa79",
   "metadata": {},
   "outputs": [
    {
     "name": "stdout",
     "output_type": "stream",
     "text": [
      "None\n"
     ]
    }
   ],
   "source": [
    "def funct():\n",
    "    pass\n",
    "print(funct()) # Output None"
   ]
  },
  {
   "cell_type": "code",
   "execution_count": null,
   "id": "fed4644f",
   "metadata": {},
   "outputs": [],
   "source": []
  }
 ],
 "metadata": {
  "kernelspec": {
   "display_name": "Python 3",
   "language": "python",
   "name": "python3"
  },
  "language_info": {
   "codemirror_mode": {
    "name": "ipython",
    "version": 3
   },
   "file_extension": ".py",
   "mimetype": "text/x-python",
   "name": "python",
   "nbconvert_exporter": "python",
   "pygments_lexer": "ipython3",
   "version": "3.8.8"
  }
 },
 "nbformat": 4,
 "nbformat_minor": 5
}
