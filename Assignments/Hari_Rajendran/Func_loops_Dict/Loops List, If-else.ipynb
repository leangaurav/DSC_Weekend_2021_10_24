{
 "cells": [
  {
   "cell_type": "code",
   "execution_count": 4,
   "id": "ae429c3f",
   "metadata": {},
   "outputs": [
    {
     "name": "stdout",
     "output_type": "stream",
     "text": [
      "Enter a string: Rajendran\n",
      "R\n",
      "a\n",
      "j\n",
      "e\n",
      "n\n",
      "d\n",
      "r\n",
      "a\n",
      "n\n"
     ]
    }
   ],
   "source": [
    "# WAP to input a string and print individual characters in the string using for loop.\n",
    "a = input(\"Enter a string: \")\n",
    "\n",
    "for i in a:\n",
    "    print(i)"
   ]
  },
  {
   "cell_type": "code",
   "execution_count": 6,
   "id": "11b5832c",
   "metadata": {
    "scrolled": true
   },
   "outputs": [
    {
     "name": "stdout",
     "output_type": "stream",
     "text": [
      "Enter a string: Hari Rajendran\n",
      "72\n",
      "97\n",
      "114\n",
      "105\n",
      "32\n",
      "82\n",
      "97\n",
      "106\n",
      "101\n",
      "110\n",
      "100\n",
      "114\n",
      "97\n",
      "110\n"
     ]
    }
   ],
   "source": [
    "# WAP to input a string and print the ASCII value of each character in the string\n",
    "\n",
    "a = input(\"Enter a string: \")\n",
    "\n",
    "for i in a:\n",
    "    print(ord(i))"
   ]
  },
  {
   "cell_type": "code",
   "execution_count": 16,
   "id": "1eebca66",
   "metadata": {},
   "outputs": [
    {
     "name": "stdout",
     "output_type": "stream",
     "text": [
      "Enter numbers: 1,2,3,4\n",
      "4\n"
     ]
    }
   ],
   "source": [
    "#. Write a function that takes a list of numbers from user as argument and returns the sum of only odd numbers (Use only for loop. No need to use if statement). \n",
    "\n",
    "def even_sum():\n",
    "    b=0\n",
    "    for i in a:\n",
    "        c=int(i)\n",
    "        if c%2!=0:\n",
    "            b+=c\n",
    "            continue\n",
    "    return b\n",
    "\n",
    "num1 = input(\"Enter numbers: \")\n",
    "a=num1.split(\",\")\n",
    "print(even_sum())    "
   ]
  },
  {
   "cell_type": "code",
   "execution_count": 28,
   "id": "3cbfe818",
   "metadata": {},
   "outputs": [
    {
     "name": "stdout",
     "output_type": "stream",
     "text": [
      "Enter list of numbers: 1 2 3\n",
      "Enter a number: 3\n",
      "2\n"
     ]
    }
   ],
   "source": [
    "# WAP to input a list of numbers and store in a tuple. Now input another number and print the index of this number in the tuple. [Use index function]\n",
    "a= input(\"Enter list of numbers: \")\n",
    "c=input(\"Enter a number: \")\n",
    "b=tuple(a.split())\n",
    "print(b.index(c))"
   ]
  },
  {
   "cell_type": "code",
   "execution_count": 44,
   "id": "ffee5cb1",
   "metadata": {},
   "outputs": [
    {
     "name": "stdout",
     "output_type": "stream",
     "text": [
      "List [9, 63, 69, 11, 28, 60, 14, 90, 25, 19] Sum: 388 Mean: 38.8\n",
      "9\n",
      "69\n",
      "28\n",
      "14\n",
      "25\n"
     ]
    }
   ],
   "source": [
    "# Create a list of 10 random numbers and then print the list, sum of all numbers and average. Use a for loop. Also print elements at only even indexes in the list. \n",
    "\n",
    "from random import sample\n",
    "from statistics import mean\n",
    "a=sample(range(0,100),10)\n",
    "print(\"List\",a,\"Sum:\", sum(a),\"Mean:\",mean(a))\n",
    "\n",
    "for i in range(len(a)):\n",
    "    if i%2==0:\n",
    "        print(a[i])"
   ]
  },
  {
   "cell_type": "code",
   "execution_count": 45,
   "id": "1b1d59c7",
   "metadata": {},
   "outputs": [
    {
     "name": "stdout",
     "output_type": "stream",
     "text": [
      "Enter a number:1\n",
      "Enter a number:2\n",
      "Enter a number:3\n",
      "Enter a number:4\n",
      "Enter a number:5\n",
      "Enter a number:6\n",
      "Enter a number:7\n",
      "Enter a number:8\n",
      "Enter a number:9\n",
      "Enter a number:10\n",
      "[1, 2, 3, 4, 5, 6, 7, 8, 9, 10] 55\n"
     ]
    }
   ],
   "source": [
    "# WAP to input 10 numbers repeatedly (using range based for loop) and store them in a list. Print the list and sum of numbers in the list. \n",
    "a=[]\n",
    "for i in range(10):\n",
    "    b=int(input(\"Enter a number:\"))\n",
    "    a.append(b)\n",
    "print(a,sum(a))"
   ]
  },
  {
   "cell_type": "code",
   "execution_count": 46,
   "id": "9d247a56",
   "metadata": {},
   "outputs": [
    {
     "name": "stdout",
     "output_type": "stream",
     "text": [
      "Enter a number:3\n",
      "3 X 1 = 3\n",
      "3 X 2 = 6\n",
      "3 X 3 = 9\n",
      "3 X 4 = 12\n",
      "3 X 5 = 15\n",
      "3 X 6 = 18\n",
      "3 X 7 = 21\n",
      "3 X 8 = 24\n",
      "3 X 9 = 27\n",
      "3 X 10 = 30\n"
     ]
    }
   ],
   "source": [
    "# WAP to input a number and print its table. Ex: if user enters the number as 7, output should be \n",
    "a = int(input(\"Enter a number:\"))\n",
    "for i in range(1,11):\n",
    "    b=a*i\n",
    "    print(a,\"X\",i,\"=\",b)\n",
    "    "
   ]
  },
  {
   "cell_type": "code",
   "execution_count": 49,
   "id": "36db50da",
   "metadata": {},
   "outputs": [
    {
     "name": "stdout",
     "output_type": "stream",
     "text": [
      "Enter a string: h a r\n",
      "2\n"
     ]
    }
   ],
   "source": [
    "# AP to print total number of spaces in a string (Use for loop to iterate over the string. Don’t use count function). \n",
    "\n",
    "a = input(\"Enter a string: \")\n",
    "b=0\n",
    "for i in a:\n",
    "    if i.isspace():\n",
    "        b+=1\n",
    "print(b)  "
   ]
  },
  {
   "cell_type": "code",
   "execution_count": 54,
   "id": "a5192c2c",
   "metadata": {},
   "outputs": [
    {
     "name": "stdout",
     "output_type": "stream",
     "text": [
      "Enter a string: hari\n",
      "2\n"
     ]
    }
   ],
   "source": [
    "#WAP to input a string and count number of vowels in the string. [Note: it should work for both capital and small alphabets] \n",
    "a = input(\"Enter a string: \")\n",
    "a.lower()\n",
    "b=['a','e','i','o','u']\n",
    "c=0\n",
    "for i in a:\n",
    "    if i in b:\n",
    "        c+=1\n",
    "print(c)"
   ]
  },
  {
   "cell_type": "code",
   "execution_count": 1,
   "id": "ab929450",
   "metadata": {},
   "outputs": [
    {
     "name": "stdout",
     "output_type": "stream",
     "text": [
      "Enter a string: hari\n",
      "h _ r _"
     ]
    }
   ],
   "source": [
    "# WAP to input a string and replace all vowels with ‘_’. [Hint: Convert string to list. Remember!! Strings are immutable. Replace in the list and then join] \n",
    "\n",
    "a = input(\"Enter a string: \")\n",
    "a.lower()\n",
    "b=['a','e','i','o','u']\n",
    "c=list(a)\n",
    "for i in c:\n",
    "    if i in b:\n",
    "        d=c.index(i)\n",
    "        c[d]=\"_\"\n",
    "e=\" \"\n",
    "f=e.join(c)\n",
    "print(f)"
   ]
  },
  {
   "cell_type": "code",
   "execution_count": 2,
   "id": "c41dd43f",
   "metadata": {},
   "outputs": [
    {
     "name": "stdout",
     "output_type": "stream",
     "text": [
      "Num:  0\n",
      "Loop Ends\n"
     ]
    }
   ],
   "source": [
    "# Find output\n",
    "for num in range(10):\n",
    "    print(\"Num: \",num)\n",
    "    if num %4==0:\n",
    "        break\n",
    "print(\"Loop Ends\") # Output Num: 0 \\n Loop Ends"
   ]
  },
  {
   "cell_type": "code",
   "execution_count": 3,
   "id": "ff42a7c6",
   "metadata": {},
   "outputs": [
    {
     "name": "stdout",
     "output_type": "stream",
     "text": [
      "Num:  0\n"
     ]
    },
    {
     "ename": "SystemExit",
     "evalue": "",
     "output_type": "error",
     "traceback": [
      "An exception has occurred, use %tb to see the full traceback.\n",
      "\u001b[1;31mSystemExit\u001b[0m\n"
     ]
    },
    {
     "name": "stderr",
     "output_type": "stream",
     "text": [
      "C:\\ProgramData\\Anaconda3\\lib\\site-packages\\IPython\\core\\interactiveshell.py:3445: UserWarning: To exit: use 'exit', 'quit', or Ctrl-D.\n",
      "  warn(\"To exit: use 'exit', 'quit', or Ctrl-D.\", stacklevel=1)\n"
     ]
    }
   ],
   "source": [
    "import sys\n",
    "for num in range(10):\n",
    "    print(\"Num: \",num)\n",
    "    if num %4==0:\n",
    "        sys.exit()\n",
    "print(\"Loop Ends\") # Output Num: 0 \\n Loop Ends"
   ]
  },
  {
   "cell_type": "code",
   "execution_count": 5,
   "id": "360926a5",
   "metadata": {},
   "outputs": [
    {
     "name": "stdout",
     "output_type": "stream",
     "text": [
      "*****\n",
      "*****\n",
      "*****\n",
      "*****\n",
      "*****\n",
      "1\n",
      "22\n",
      "333\n",
      "4444\n",
      "55555\n"
     ]
    }
   ],
   "source": [
    "#  Find the output of the following code snippets.\n",
    "for i1 in range(1,6):\n",
    "    for i2 in range(5):\n",
    "        print('*', end='')\n",
    "    print()\n",
    "for i1 in range(1,6):\n",
    "    print(str(i1)*i1)"
   ]
  },
  {
   "cell_type": "code",
   "execution_count": 6,
   "id": "f7a2a2d3",
   "metadata": {},
   "outputs": [
    {
     "name": "stdout",
     "output_type": "stream",
     "text": [
      "1\n",
      "22\n",
      "333\n",
      "4444\n",
      "55555\n",
      "**\n",
      "***\n",
      "****\n",
      "*****\n",
      "******\n"
     ]
    }
   ],
   "source": [
    "#  Find the output of the following code snippets.\n",
    "for i1 in range(1,6):\n",
    "    for i2 in range(i1):\n",
    "        print(i1, end='')\n",
    "    print()\n",
    "for i1 in range(1,6):\n",
    "    for i2 in range(i1+1):\n",
    "        print('*', end='')\n",
    "    print()\n",
    "#Output \n",
    "#1\n",
    "#22\n",
    "#333\n",
    "#4444\n",
    "#55555\n",
    "#**\n",
    "#***\n",
    "#****\n",
    "#*****\n",
    "#******"
   ]
  },
  {
   "cell_type": "code",
   "execution_count": 14,
   "id": "3792a308",
   "metadata": {},
   "outputs": [
    {
     "name": "stdout",
     "output_type": "stream",
     "text": [
      "[17, 38, 15, 22, 44, 34, 26, 14, 36, 19] 265\n",
      "[17, 15, 22, 14, 19] 87\n"
     ]
    }
   ],
   "source": [
    "#Generate a list of 10 random number(between 10-50) and print the list and sum of all elements. Now take the list and remove the five largest elements from the list and print the list and its sum again. \n",
    "#Ex: Consider a list l = [10, 50, 18, 19, 30, 45, 49, 45, 44, 23] \n",
    "#After deleting, the list will contain [10, 18, 19, 30, 23]\n",
    "from random import sample\n",
    "a=sample(range(10,50),10)\n",
    "print(a,sum(a))\n",
    "b=a\n",
    "\n",
    "for i in range(5):\n",
    "    c=b.index(max(b))\n",
    "    del b[c]\n",
    "print(b,sum(b))"
   ]
  }
 ],
 "metadata": {
  "kernelspec": {
   "display_name": "Python 3",
   "language": "python",
   "name": "python3"
  },
  "language_info": {
   "codemirror_mode": {
    "name": "ipython",
    "version": 3
   },
   "file_extension": ".py",
   "mimetype": "text/x-python",
   "name": "python",
   "nbconvert_exporter": "python",
   "pygments_lexer": "ipython3",
   "version": "3.8.8"
  }
 },
 "nbformat": 4,
 "nbformat_minor": 5
}
