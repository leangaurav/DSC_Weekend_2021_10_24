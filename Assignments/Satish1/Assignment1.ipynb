{
 "cells": [
  {
   "cell_type": "code",
   "execution_count": 5,
   "id": "1245cde8",
   "metadata": {},
   "outputs": [
    {
     "name": "stdout",
     "output_type": "stream",
     "text": [
      "enter Fahrenheit temperature25\n",
      "-3.888888888888889\n"
     ]
    }
   ],
   "source": [
    "#conversion from Fahrenheit to Celsius.\n",
    "Fahrenheit = int(input(\"enter Fahrenheit temperature\"))\n",
    "Celsius=(Fahrenheit-32)*5/9\n",
    "print(Celsius)"
   ]
  },
  {
   "cell_type": "code",
   "execution_count": 11,
   "id": "1dda7361",
   "metadata": {},
   "outputs": [
    {
     "name": "stdout",
     "output_type": "stream",
     "text": [
      "enter number12\n",
      "square roort of 12 is 144\n",
      "cube roort of 12 is 1728\n"
     ]
    }
   ],
   "source": [
    "#input a number and print its square and cube.\n",
    "number=int(input(\"enter number\"))\n",
    "numsqr=number**2\n",
    "numcbe=number**3\n",
    "print(\"square roort of\", number,\"is\",numsqr)\n",
    "print(\"cube roort of\", number,\"is\",numcbe)"
   ]
  },
  {
   "cell_type": "code",
   "execution_count": 12,
   "id": "aea862f6",
   "metadata": {},
   "outputs": [
    {
     "name": "stdout",
     "output_type": "stream",
     "text": [
      "1\n",
      "2\n",
      "5\n"
     ]
    }
   ],
   "source": [
    "n=int(input())\n",
    "m=int(input())\n",
    "c=(n**2)+ (m**2)\n",
    "print(c)"
   ]
  },
  {
   "cell_type": "code",
   "execution_count": 14,
   "id": "c9a15eff",
   "metadata": {},
   "outputs": [
    {
     "name": "stdout",
     "output_type": "stream",
     "text": [
      "2\n",
      "3\n",
      "8\n",
      "8\n"
     ]
    }
   ],
   "source": [
    "M=int(input())\n",
    "N=int(input())\n",
    "C=M**N\n",
    "d=pow(M,N)\n",
    "print(C)\n",
    "print(d)\n"
   ]
  },
  {
   "cell_type": "code",
   "execution_count": null,
   "id": "891c16d3",
   "metadata": {},
   "outputs": [],
   "source": [
    "#simple intrest formula\n",
    "Prinicipal=int(input(\"Enter prinicipal\"))\n",
    "ri=int(input(\"Enter Annual interest rate\"))\n",
    "t=int(input(\"Enter time in years\"))\n",
    "A=Prinicipal*(1+(i*t))\n",
    "print(\"simple intrest\",si)"
   ]
  },
  {
   "cell_type": "code",
   "execution_count": null,
   "id": "1debe189",
   "metadata": {},
   "outputs": [],
   "source": [
    "#simple intrest formula\n",
    "Prinicipal=int(input(\"Enter prinicipal\"))\n",
    "ri=int(input(\"Enter Annual interest rate\"))\n",
    "t=int(input(\"Enter time in years\"))\n",
    "i=ri/100\n",
    "A=Prinicipal*(1+(i*t))\n",
    "print(\"simple intrest\",si)"
   ]
  },
  {
   "cell_type": "code",
   "execution_count": null,
   "id": "5c1f4153",
   "metadata": {},
   "outputs": [],
   "source": []
  }
 ],
 "metadata": {
  "kernelspec": {
   "display_name": "Python 3",
   "language": "python",
   "name": "python3"
  },
  "language_info": {
   "codemirror_mode": {
    "name": "ipython",
    "version": 3
   },
   "file_extension": ".py",
   "mimetype": "text/x-python",
   "name": "python",
   "nbconvert_exporter": "python",
   "pygments_lexer": "ipython3",
   "version": "3.8.8"
  }
 },
 "nbformat": 4,
 "nbformat_minor": 5
}
