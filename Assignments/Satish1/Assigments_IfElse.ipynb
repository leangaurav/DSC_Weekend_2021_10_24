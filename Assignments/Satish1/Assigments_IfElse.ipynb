{
 "cells": [
  {
   "cell_type": "code",
   "execution_count": 3,
   "id": "cdf580b2",
   "metadata": {},
   "outputs": [
    {
     "name": "stdout",
     "output_type": "stream",
     "text": [
      "22\n",
      "3\n",
      "false\n"
     ]
    }
   ],
   "source": [
    "#WAP to input 2 numbers and check whether the first is divisible by the second and print true or\n",
    "#false depending on the divisibility.\n",
    "\n",
    "first=int(input())\n",
    "second=int(input())\n",
    "if (first%second==0):\n",
    "    print(\"True\")\n",
    "else :\n",
    "    print(\"False\")"
   ]
  },
  {
   "cell_type": "code",
   "execution_count": 6,
   "id": "7fcf0edc",
   "metadata": {},
   "outputs": [
    {
     "name": "stdout",
     "output_type": "stream",
     "text": [
      "Liril\n",
      "Given String is palindrome\n"
     ]
    }
   ],
   "source": [
    "#In the palindrome example, make the code case insensitive.\n",
    "#i.e. Naman should also be treated as a palindrome (HINT: first convert to either upper or\n",
    "#lower case).\n",
    "s=input()\n",
    "S1=s.upper()\n",
    "if (S1==S1[::-1]):\n",
    "    print(\"Given String is palindrome\")\n",
    "else:\n",
    "    print(\"Given String is not palindrome\")"
   ]
  },
  {
   "cell_type": "code",
   "execution_count": 21,
   "id": "2524a8f7",
   "metadata": {},
   "outputs": [
    {
     "name": "stdout",
     "output_type": "stream",
     "text": [
      "9\n",
      "0\n",
      "1\n",
      "triangle is scalene\n"
     ]
    }
   ],
   "source": [
    "#WAP to input the sides of a triangle and print whether equilateral(all sides equal), isosceles (2\n",
    "#sides equal), or scalene (no sides equal).\n",
    "side1=int(input())\n",
    "side2=int(input())\n",
    "side3=int(input())\n",
    "if side1==side2==side3:\n",
    "    print(\"triangle is equilateral\")\n",
    "elif ((side1==side2) | (side2==side3) | (side1==side3) ):\n",
    "    print(\"triangle is isosceles\")\n",
    "else: print(\"triangle is scalene\")"
   ]
  },
  {
   "cell_type": "code",
   "execution_count": 23,
   "id": "929e0114",
   "metadata": {},
   "outputs": [
    {
     "name": "stdout",
     "output_type": "stream",
     "text": [
      "11\n",
      "given number is odd\n"
     ]
    }
   ],
   "source": [
    "#WAP to input a number and print if it is even or odd.\n",
    "num=int(input())\n",
    "if(num%2==0):\n",
    "    print(\"given number is even\")\n",
    "else: \n",
    "    print(\"given number is odd\")"
   ]
  },
  {
   "cell_type": "code",
   "execution_count": 30,
   "id": "ddc325aa",
   "metadata": {},
   "outputs": [
    {
     "name": "stdout",
     "output_type": "stream",
     "text": [
      "50\n",
      "Adult\n"
     ]
    }
   ],
   "source": [
    "#WAP to input age and print the respective text depending on the age ranges as present in the table.\n",
    "age=int(input())\n",
    "if age>=0 and age <=12 :\n",
    "    print(\"child\")\n",
    "elif age >=13 and age <=17 :\n",
    "    print(\"Teen\")\n",
    "elif age >=18 and age <=50 :\n",
    "    print(\"Adult\")\n",
    "elif age>=51 and age<=100:\n",
    "    print(\"Senior citizen\")\n",
    "else: print(\"Congratulations\")"
   ]
  },
  {
   "cell_type": "code",
   "execution_count": 51,
   "id": "e62d0faf",
   "metadata": {},
   "outputs": [
    {
     "name": "stdout",
     "output_type": "stream",
     "text": [
      "2020\n",
      "year is leap year 2020\n"
     ]
    }
   ],
   "source": [
    "#WAP to input year (check if user enters valid year. Should be 4-digit number and should not be\n",
    "#negative) and print whether leap year or not. (If really interested in why you also have to check\n",
    "#the divisibility by 400 just google the exact time it takes for the earth to revolve around the sub)\n",
    "year=input()\n",
    "if year.isdigit() and len(year) == 4 and int(year) >1000:\n",
    "    if (int(year) % 4 == 0):\n",
    "        print(\"year is leap year\", year)\n",
    "    else: print( year,\"year is not a leap year\")\n",
    "else: print(\"year is invalid\")"
   ]
  },
  {
   "cell_type": "code",
   "execution_count": 32,
   "id": "3c1fe45f",
   "metadata": {},
   "outputs": [
    {
     "name": "stdout",
     "output_type": "stream",
     "text": [
      "['__abs__', '__add__', '__and__', '__bool__', '__ceil__', '__class__', '__delattr__', '__dir__', '__divmod__', '__doc__', '__eq__', '__float__', '__floor__', '__floordiv__', '__format__', '__ge__', '__getattribute__', '__getnewargs__', '__gt__', '__hash__', '__index__', '__init__', '__init_subclass__', '__int__', '__invert__', '__le__', '__lshift__', '__lt__', '__mod__', '__mul__', '__ne__', '__neg__', '__new__', '__or__', '__pos__', '__pow__', '__radd__', '__rand__', '__rdivmod__', '__reduce__', '__reduce_ex__', '__repr__', '__rfloordiv__', '__rlshift__', '__rmod__', '__rmul__', '__ror__', '__round__', '__rpow__', '__rrshift__', '__rshift__', '__rsub__', '__rtruediv__', '__rxor__', '__setattr__', '__sizeof__', '__str__', '__sub__', '__subclasshook__', '__truediv__', '__trunc__', '__xor__', 'as_integer_ratio', 'bit_length', 'conjugate', 'denominator', 'from_bytes', 'imag', 'numerator', 'real', 'to_bytes']\n"
     ]
    }
   ],
   "source": [
    "print(dir(int))"
   ]
  },
  {
   "cell_type": "code",
   "execution_count": 56,
   "id": "b0b9e630",
   "metadata": {},
   "outputs": [
    {
     "name": "stdout",
     "output_type": "stream",
     "text": [
      "lavanya\n",
      "LAVANYA\n"
     ]
    }
   ],
   "source": [
    "#WAP to input a string and convert it to Upper Case if number of characters is odd and convert to lower case otherwise.\n",
    "a=input()\n",
    "if (len(a)%2==0):\n",
    "    print(a.lower())\n",
    "else: print(a.upper())"
   ]
  },
  {
   "cell_type": "code",
   "execution_count": 78,
   "id": "4e7400fd",
   "metadata": {},
   "outputs": [
    {
     "name": "stdout",
     "output_type": "stream",
     "text": [
      "Egg\n",
      "Veg\n"
     ]
    }
   ],
   "source": [
    "#WAP to input a string and print Veg if the string doesn’t contain the word egg. Otherwise print Non-Veg. \n",
    "# As usual eggs can be both big and small.\n",
    "a=input()\n",
    "if(a.find('egg')== -1):\n",
    "   print(\"Veg\")\n",
    "else:\n",
    "    print(\"Non-Veg\")\n"
   ]
  },
  {
   "cell_type": "code",
   "execution_count": 67,
   "id": "3e5820a5",
   "metadata": {},
   "outputs": [
    {
     "name": "stdout",
     "output_type": "stream",
     "text": [
      "['__add__', '__class__', '__contains__', '__delattr__', '__dir__', '__doc__', '__eq__', '__format__', '__ge__', '__getattribute__', '__getitem__', '__getnewargs__', '__gt__', '__hash__', '__init__', '__init_subclass__', '__iter__', '__le__', '__len__', '__lt__', '__mod__', '__mul__', '__ne__', '__new__', '__reduce__', '__reduce_ex__', '__repr__', '__rmod__', '__rmul__', '__setattr__', '__sizeof__', '__str__', '__subclasshook__', 'capitalize', 'casefold', 'center', 'count', 'encode', 'endswith', 'expandtabs', 'find', 'format', 'format_map', 'index', 'isalnum', 'isalpha', 'isascii', 'isdecimal', 'isdigit', 'isidentifier', 'islower', 'isnumeric', 'isprintable', 'isspace', 'istitle', 'isupper', 'join', 'ljust', 'lower', 'lstrip', 'maketrans', 'partition', 'replace', 'rfind', 'rindex', 'rjust', 'rpartition', 'rsplit', 'rstrip', 'split', 'splitlines', 'startswith', 'strip', 'swapcase', 'title', 'translate', 'upper', 'zfill']\n"
     ]
    }
   ],
   "source": [
    "print(dir(str))"
   ]
  },
  {
   "cell_type": "code",
   "execution_count": 79,
   "id": "93c51a24",
   "metadata": {},
   "outputs": [
    {
     "name": "stdout",
     "output_type": "stream",
     "text": [
      "True\n"
     ]
    }
   ],
   "source": [
    "if not 1:\n",
    "    print(\"False\")\n",
    "else: \n",
    "    print(\"True\")"
   ]
  },
  {
   "cell_type": "code",
   "execution_count": 80,
   "id": "d454dd33",
   "metadata": {},
   "outputs": [
    {
     "name": "stdout",
     "output_type": "stream",
     "text": [
      "False\n"
     ]
    }
   ],
   "source": [
    "if  1:\n",
    "    print(\"False\")\n",
    "else: \n",
    "    print(\"True\")"
   ]
  },
  {
   "cell_type": "code",
   "execution_count": 83,
   "id": "8601b47f",
   "metadata": {},
   "outputs": [
    {
     "name": "stdout",
     "output_type": "stream",
     "text": [
      "Weird !!!\n"
     ]
    }
   ],
   "source": [
    "if  'a' > 'A':\n",
    "    print(\"Weird !!!\")\n",
    "else: \n",
    "    print(\"Makes Sense\")"
   ]
  },
  {
   "cell_type": "code",
   "execution_count": 84,
   "id": "d82cb645",
   "metadata": {},
   "outputs": [
    {
     "name": "stdout",
     "output_type": "stream",
     "text": [
      "[4, 3, 2, 1]\n"
     ]
    }
   ],
   "source": [
    "a=[1,2,3,4]\n",
    "if 1 > 1:\n",
    "    a=a[::-1]\n",
    "else:\n",
    "    a=a[-1::-1]\n",
    "print(a)"
   ]
  },
  {
   "cell_type": "code",
   "execution_count": null,
   "id": "b39a0662",
   "metadata": {},
   "outputs": [],
   "source": []
  }
 ],
 "metadata": {
  "kernelspec": {
   "display_name": "Python 3",
   "language": "python",
   "name": "python3"
  },
  "language_info": {
   "codemirror_mode": {
    "name": "ipython",
    "version": 3
   },
   "file_extension": ".py",
   "mimetype": "text/x-python",
   "name": "python",
   "nbconvert_exporter": "python",
   "pygments_lexer": "ipython3",
   "version": "3.8.8"
  }
 },
 "nbformat": 4,
 "nbformat_minor": 5
}
